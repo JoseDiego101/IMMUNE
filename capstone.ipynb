{
  "nbformat": 4,
  "nbformat_minor": 0,
  "metadata": {
    "interpreter": {
      "hash": "0bef968c049063f8e72440ef17aa2e3679c412424dbb5242431920c897840e8f"
    },
    "kernelspec": {
      "display_name": "Python 3",
      "language": "python",
      "name": "python3"
    },
    "language_info": {
      "codemirror_mode": {
        "name": "ipython",
        "version": 3
      },
      "file_extension": ".py",
      "mimetype": "text/x-python",
      "name": "python",
      "nbconvert_exporter": "python",
      "pygments_lexer": "ipython3",
      "version": "3.7.4"
    },
    "varInspector": {
      "cols": {
        "lenName": 16,
        "lenType": 16,
        "lenVar": 40
      },
      "kernels_config": {
        "python": {
          "delete_cmd_postfix": "",
          "delete_cmd_prefix": "del ",
          "library": "var_list.py",
          "varRefreshCmd": "print(var_dic_list())"
        },
        "r": {
          "delete_cmd_postfix": ") ",
          "delete_cmd_prefix": "rm(",
          "library": "var_list.r",
          "varRefreshCmd": "cat(var_dic_list()) "
        }
      },
      "types_to_exclude": [
        "module",
        "function",
        "builtin_function_or_method",
        "instance",
        "_Feature"
      ],
      "window_display": false
    },
    "colab": {
      "name": "Copia de capstone.ipynb",
      "provenance": [],
      "collapsed_sections": [
        "0OQMpVyWjvtT",
        "_3QYqUn2jvtU"
      ],
      "include_colab_link": true
    }
  },
  "cells": [
    {
      "cell_type": "markdown",
      "metadata": {
        "id": "view-in-github",
        "colab_type": "text"
      },
      "source": [
        "<a href=\"https://colab.research.google.com/github/JoseDiego101/IMMUNE/blob/main/capstone.ipynb\" target=\"_parent\"><img src=\"https://colab.research.google.com/assets/colab-badge.svg\" alt=\"Open In Colab\"/></a>"
      ]
    },
    {
      "cell_type": "code",
      "metadata": {
        "id": "irbU58rajvsQ",
        "colab": {
          "base_uri": "https://localhost:8080/"
        },
        "outputId": "79756c33-558a-4e2e-b5fa-269355298307"
      },
      "source": [
        "#David Garro, Samuel Gutierrez, Jose Masache Cevallos "
      ],
      "execution_count": 363,
      "outputs": [
        {
          "output_type": "stream",
          "name": "stdout",
          "text": [
            "time: 859 µs (started: 2021-09-05 18:42:44 +00:00)\n"
          ]
        }
      ]
    },
    {
      "cell_type": "markdown",
      "metadata": {
        "id": "O2JiB6UKjvsX"
      },
      "source": [
        "# Capstone - Máster en Data Science"
      ]
    },
    {
      "cell_type": "markdown",
      "metadata": {
        "id": "ARDK8Yifjvsa"
      },
      "source": [
        "## Descripcion del dataset"
      ]
    },
    {
      "cell_type": "markdown",
      "metadata": {
        "id": "GBpHy25njvsc"
      },
      "source": [
        "Tengo cartera vencida, 50 deudores, los paso por perdida, me deben 500000 dolares, la vendo a un 20%\n",
        "Se negocia a un promedio de un 12% del valor total de las deudas\n",
        "\n",
        "Han cobrado el 22% del historico de las alquimias que ya van en la 145\n",
        "\n",
        "Si se toma el historico, el promedio geenrado en cbro es un 10 por ciento adicional\n",
        "Hya un 78 que se queda por razones de notificacion\n",
        "\n",
        "Lo que se quiere establecer peerfiles de ceintes que se pueda filtrar antes de comprar lascarteras y ver cual me genera mayor rentabilidad\n",
        "\n",
        "Hya bienes muebles e inmuebles \n",
        "\n",
        "Establecer predicciones de los deudores para poder aumentar un porcentaje que permita generar mas ingresos\n",
        "\n",
        "Tarjetas de credito, prestamo sobre carros\n",
        "\n",
        "Establecer perfil de deudor respecto a las caracteristicas, ver si hay prevalencia por provincias\n",
        "\n",
        "Si funciona bien se puede replicar en otro paises\n",
        "\n",
        "\n",
        "\n",
        "·MAO MONTO ORIGINAL: deuda con la que ingresa a la compañía. Luego se calcula los interes del tiempo que no han pagado.\n",
        "1colon 620dolres\n",
        "MAO = Monto Adeudado\n",
        "\n",
        "·EOP Descripcion: Cuando se llega a 22 la alquimia pasa a inactiva. No llego a notificar y la deuda pasa a estado inactivo. Los inactivos son los que se desechan. Nos debemos basar en los activos y los inactivos para crear un perfil (inactivos tipo de deudas ya perdidas). \n",
        "EOP = Estado de operación. Una vez que yo cobre el 22% de la cartera pasao a la siguiente alquimia. Hay datos de contacto que ya no coinciden o clientes que ya están muertos. \n",
        "\n",
        ". PRO DESCRIPCION: descripcion delproducto (Tipo de deuda del cliente)\n",
        "Sucredito = prestamos directo\n",
        "Maxima= tiene los dos\n",
        "\n",
        ".INS DESCRIPCION: a quién le estoy comprado la alquimia\n",
        "\n",
        ".TCT DESCRIPCION: tipo de transacción \n",
        "Propia \n",
        "\n",
        ".REA descripcion: con  quien he contactado (indirecto puede ser con el hermano, tio, etc.). Si contesta o no. \n",
        "Contacto sin promesa (he contactado pero no he podidio hacer que pague). Se puede ver si la gente cumple. Si es que no cumple se vuelve a llamar otro mes.\n",
        "\n",
        ".FECHA REACCION: cuando se ha hecho contacto con el deudor\n",
        "\n",
        ".ULTIMA GESTION: la ultima vez que el cliente ha pagado\n",
        "\n",
        ".PROXIMA GESTION: cuándo se va a volver a contactar\n",
        "\n",
        ".SUPERVISOR:  300 personas llamando. Cad 10 personas tiene un supervior(motivador de cobro)\n",
        "\n",
        ".ULTIMO PAGO: es implicito\n",
        "\n",
        ".FECHA CARGA: \n",
        "\n",
        ".INTERES: los meses de interes que se le agrega a la deuda. La deudano prescrbe si me contacta una vez al mes para que la deuda no prescriba (que la deuda se pueda cancelar, que la deuda se elimine del todo)\n",
        "\n",
        ".CARGO PENDIENTE: deuda inicial más los intereses\n",
        "\n",
        ".LUGAR TRABAJO: si se conoce dónde trabaja el deudor\n",
        "\n",
        ".TIPO TRABAJO: si trabaja para la empresa o en el sector privado.\n",
        "\n",
        ".FECHA DEFUNCION: si vive o muere\n",
        "\n",
        ".PROPIEDADES: si tiene casas, lotes\n",
        "\n",
        ".VEHICULO: si tien vehiculo\n",
        "\n",
        ". EXPEDIENTE: si ya se le hizo un tramite de cobro judicial. Los dos primeros digitos indican el año cuando se inició la deuda. CJ o CI indica que es Cobro Judicial o que está en juzgado. La ley cambió en el año 2000  y ùede tener numeración de le vieja. Puedo ver si hay alguna alquimia generada por otra empresa. Me peleo con alguien mas porobtener la deuda. Debo tratar de comprar alquimias que no tengan cobros judiciales\n",
        "\n",
        ".  RETENCIONES EN PPJ: puedo capturar hasta el 80% de salario. \n",
        "\n",
        ".DERECHO PROPIEDAD:  (se divide la casa para tres)\n",
        "\n",
        ".CANTIDAD GESTION: cuantos meses he contactado con el cliente.\n",
        "\n",
        "\n",
        "+++++++++++++++++++++ PAGOS RETENCIONES: lo que paga pero con cobro judicial\n",
        "\n",
        "APUNTES ··························\n",
        "\n",
        "- Crear columna dicotómica para ver si el salario de un deudor ha aumentado o no\n",
        "- Crear columna dicotómica si es extrajero o no\n",
        " - Crear columna de deuda inicial vs pagos normales y ver igual pagos normales\n",
        " \n",
        " \n",
        " \n",
        " Segmentar en funcion del rango de salario. Si ganan más es porque pagan la deuda\n",
        " \n",
        "Paga el que menos tiene?\n",
        "\n",
        "Disposicion de pago vs Ingreso mensual\n",
        "\n",
        "Prevalencia de pago de hombres vs mujeres\n",
        "\n",
        "\n",
        "\n",
        "\n",
        "\n",
        "\n",
        " \n",
        "\n",
        "\n",
        "\n",
        "\n"
      ]
    },
    {
      "cell_type": "markdown",
      "metadata": {
        "id": "LVyNsSlrjvsf"
      },
      "source": [
        ""
      ]
    },
    {
      "cell_type": "markdown",
      "metadata": {
        "heading_collapsed": true,
        "id": "254w8Gzejvsf"
      },
      "source": [
        "## GESTIONADORA"
      ]
    },
    {
      "cell_type": "markdown",
      "metadata": {
        "heading_collapsed": true,
        "id": "eDMf1Bfsjvsh"
      },
      "source": [
        "## Información de la empresa"
      ]
    },
    {
      "cell_type": "markdown",
      "metadata": {
        "hidden": true,
        "id": "NKFgAht3jvsl"
      },
      "source": [
        "### Nuestro compromiso"
      ]
    },
    {
      "cell_type": "markdown",
      "metadata": {
        "hidden": true,
        "id": "CmXDToNajvsn"
      },
      "source": [
        "Somos líderes en la adquisición y manejo de préstamos comerciales en dificultades con más de 90 días de atraso, enfocándose en aquellos con más de 180 días.\n",
        "Nuestro cobro está basado en procesos administrativos con el apoyo de acciones legales.\n",
        "Agregamos valor a entidades financieras a través de un excelente manejo de sus cuentas morosas, generando de este modo un beneficio (valor y financiamiento).\n",
        "Desarrollamos relaciones a largo plazo basado en las compras revolventes.\n",
        "Misión\n",
        "Nuestra empresa se especializa en el cobro de deudas, con alto sentido estratégico y un equipo altamente calificado, lo que genera un alto rendimiento a nuestros asociados y accionistas."
      ]
    },
    {
      "cell_type": "markdown",
      "metadata": {
        "hidden": true,
        "id": "pwzH8lTCjvsr"
      },
      "source": [
        "### Visión\n"
      ]
    },
    {
      "cell_type": "markdown",
      "metadata": {
        "hidden": true,
        "id": "brtm_ejIjvst"
      },
      "source": [
        "Ser la empresa líder en Latinoamérica en la adquisición de los préstamos comerciales en dificultades, aportando nuestra experiencia, la formalidad y la fuerza como una mejora de los indicadores financieros de nuestros socios comerciales y clientes."
      ]
    },
    {
      "cell_type": "markdown",
      "metadata": {
        "hidden": true,
        "id": "wOMxzrCbjvsu"
      },
      "source": [
        "### NUESTRA POLITICA DE NEGOCIOS\n"
      ]
    },
    {
      "cell_type": "code",
      "metadata": {
        "hidden": true,
        "id": "iPucGBBbjvsw",
        "colab": {
          "base_uri": "https://localhost:8080/",
          "height": 70
        },
        "outputId": "5db6b60b-3ec0-41a5-a01f-a2008f9cadac"
      },
      "source": [
        "\"\"\"Creamos con interés una relación a largo plazo con nuestros clientes.\n",
        "Nuestro cobro está basado en procesos administrativos con el apoyo de acciones legales.\n",
        "Agregamos valor a entidades financieras a través de un excelente manejo de sus cuentas delincuentes, generando de este modo un beneficio (valor y financiamiento).\n",
        "Desarrollamos relaciones a largo plazo basado en las compras revolventes.\"\"\""
      ],
      "execution_count": 364,
      "outputs": [
        {
          "output_type": "execute_result",
          "data": {
            "application/vnd.google.colaboratory.intrinsic+json": {
              "type": "string"
            },
            "text/plain": [
              "'Creamos con interés una relación a largo plazo con nuestros clientes.\\nNuestro cobro está basado en procesos administrativos con el apoyo de acciones legales.\\nAgregamos valor a entidades financieras a través de un excelente manejo de sus cuentas delincuentes, generando de este modo un beneficio (valor y financiamiento).\\nDesarrollamos relaciones a largo plazo basado en las compras revolventes.'"
            ]
          },
          "metadata": {},
          "execution_count": 364
        },
        {
          "output_type": "stream",
          "name": "stdout",
          "text": [
            "time: 6.3 ms (started: 2021-09-05 18:43:03 +00:00)\n"
          ]
        }
      ]
    },
    {
      "cell_type": "markdown",
      "metadata": {
        "hidden": true,
        "id": "Swb6IC25jvsw"
      },
      "source": [
        ""
      ]
    },
    {
      "cell_type": "markdown",
      "metadata": {
        "id": "Oecnk3XWjvsx"
      },
      "source": [
        "## Información del Dataset"
      ]
    },
    {
      "cell_type": "markdown",
      "metadata": {
        "id": "QSXCEz1Vjvsy"
      },
      "source": [
        "A continuación se presenta un pequeño resumen de los datos que se encuentra en el dataset. "
      ]
    },
    {
      "cell_type": "code",
      "metadata": {
        "id": "V_tJyoth3fF_",
        "colab": {
          "base_uri": "https://localhost:8080/"
        },
        "outputId": "bd118393-f40f-468c-fda4-cba34134b659"
      },
      "source": [
        "!pip install ipython-autotime"
      ],
      "execution_count": 365,
      "outputs": [
        {
          "output_type": "stream",
          "name": "stdout",
          "text": [
            "Requirement already satisfied: ipython-autotime in /usr/local/lib/python3.7/dist-packages (0.3.1)\n",
            "Requirement already satisfied: ipython in /usr/local/lib/python3.7/dist-packages (from ipython-autotime) (5.5.0)\n",
            "Requirement already satisfied: simplegeneric>0.8 in /usr/local/lib/python3.7/dist-packages (from ipython->ipython-autotime) (0.8.1)\n",
            "Requirement already satisfied: pygments in /usr/local/lib/python3.7/dist-packages (from ipython->ipython-autotime) (2.6.1)\n",
            "Requirement already satisfied: decorator in /usr/local/lib/python3.7/dist-packages (from ipython->ipython-autotime) (4.4.2)\n",
            "Requirement already satisfied: setuptools>=18.5 in /usr/local/lib/python3.7/dist-packages (from ipython->ipython-autotime) (57.4.0)\n",
            "Requirement already satisfied: pickleshare in /usr/local/lib/python3.7/dist-packages (from ipython->ipython-autotime) (0.7.5)\n",
            "Requirement already satisfied: pexpect in /usr/local/lib/python3.7/dist-packages (from ipython->ipython-autotime) (4.8.0)\n",
            "Requirement already satisfied: prompt-toolkit<2.0.0,>=1.0.4 in /usr/local/lib/python3.7/dist-packages (from ipython->ipython-autotime) (1.0.18)\n",
            "Requirement already satisfied: traitlets>=4.2 in /usr/local/lib/python3.7/dist-packages (from ipython->ipython-autotime) (5.0.5)\n",
            "Requirement already satisfied: wcwidth in /usr/local/lib/python3.7/dist-packages (from prompt-toolkit<2.0.0,>=1.0.4->ipython->ipython-autotime) (0.2.5)\n",
            "Requirement already satisfied: six>=1.9.0 in /usr/local/lib/python3.7/dist-packages (from prompt-toolkit<2.0.0,>=1.0.4->ipython->ipython-autotime) (1.15.0)\n",
            "Requirement already satisfied: ipython-genutils in /usr/local/lib/python3.7/dist-packages (from traitlets>=4.2->ipython->ipython-autotime) (0.2.0)\n",
            "Requirement already satisfied: ptyprocess>=0.5 in /usr/local/lib/python3.7/dist-packages (from pexpect->ipython->ipython-autotime) (0.7.0)\n",
            "time: 3.4 s (started: 2021-09-05 18:43:03 +00:00)\n"
          ]
        }
      ]
    },
    {
      "cell_type": "code",
      "metadata": {
        "id": "eNsdXxLG3ijY",
        "colab": {
          "base_uri": "https://localhost:8080/"
        },
        "outputId": "430e8852-5ba2-4688-bdb2-d35d192665d3"
      },
      "source": [
        "%load_ext autotime"
      ],
      "execution_count": 366,
      "outputs": [
        {
          "output_type": "stream",
          "name": "stdout",
          "text": [
            "The autotime extension is already loaded. To reload it, use:\n",
            "  %reload_ext autotime\n",
            "time: 1.98 ms (started: 2021-09-05 18:43:06 +00:00)\n"
          ]
        }
      ]
    },
    {
      "cell_type": "code",
      "metadata": {
        "ExecuteTime": {
          "end_time": "2021-08-24T07:29:30.313731Z",
          "start_time": "2021-08-24T07:29:19.114204Z"
        },
        "id": "yZXfbzM2jvs1",
        "colab": {
          "base_uri": "https://localhost:8080/"
        },
        "outputId": "ff88c5df-e378-429e-fa26-51ec5caa4e6f"
      },
      "source": [
        "import pandas as pd \n",
        "import matplotlib.pyplot as plt\n",
        "import numpy as np\n",
        "import seaborn as sns\n",
        "import re"
      ],
      "execution_count": 367,
      "outputs": [
        {
          "output_type": "stream",
          "name": "stdout",
          "text": [
            "time: 1.58 ms (started: 2021-09-05 18:43:06 +00:00)\n"
          ]
        }
      ]
    },
    {
      "cell_type": "code",
      "metadata": {
        "ExecuteTime": {
          "end_time": "2021-08-24T07:00:54.010907Z",
          "start_time": "2021-08-24T06:58:08.751455Z"
        },
        "colab": {
          "base_uri": "https://localhost:8080/"
        },
        "id": "-1O514SIjvsy",
        "outputId": "b4dcb480-eea0-455f-ecd6-c9f3aa1455dc"
      },
      "source": [
        "df = pd.read_excel('cartera.xlsx')\n",
        "df.shape"
      ],
      "execution_count": 368,
      "outputs": [
        {
          "output_type": "execute_result",
          "data": {
            "text/plain": [
              "(225256, 23)"
            ]
          },
          "metadata": {},
          "execution_count": 368
        },
        {
          "output_type": "stream",
          "name": "stdout",
          "text": [
            "time: 49.4 s (started: 2021-09-05 18:43:06 +00:00)\n"
          ]
        }
      ]
    },
    {
      "cell_type": "code",
      "metadata": {
        "ExecuteTime": {
          "end_time": "2021-08-24T07:29:16.451027Z",
          "start_time": "2021-08-24T07:29:16.446018Z"
        },
        "id": "gHe2Nb6Rjvs0",
        "colab": {
          "base_uri": "https://localhost:8080/"
        },
        "outputId": "8d42f9f3-e0b6-4211-c2bc-ee58c892c0b5"
      },
      "source": [
        "#creamos una nueva variables para no alterar los datos de inicio\n",
        "df2 = df"
      ],
      "execution_count": 369,
      "outputs": [
        {
          "output_type": "stream",
          "name": "stdout",
          "text": [
            "time: 1.76 ms (started: 2021-09-05 18:43:56 +00:00)\n"
          ]
        }
      ]
    },
    {
      "cell_type": "markdown",
      "metadata": {
        "id": "-Cd3iLQijvs0"
      },
      "source": [
        "El dataset presenta 234759 entradas y 43 columnas. Cada entrada pertenece a la deuda de un cliente. \n",
        "Abajo se muestra la información del tipo de variables que se encuentra en el dataset y la cantidad de valores no nulos."
      ]
    },
    {
      "cell_type": "code",
      "metadata": {
        "colab": {
          "base_uri": "https://localhost:8080/"
        },
        "id": "f9P89yDbi3pO",
        "outputId": "6a2b4e8e-6c4a-460a-88a0-fb454bc25d8a"
      },
      "source": [
        "df2.info()"
      ],
      "execution_count": 370,
      "outputs": [
        {
          "output_type": "stream",
          "name": "stdout",
          "text": [
            "<class 'pandas.core.frame.DataFrame'>\n",
            "RangeIndex: 225256 entries, 0 to 225255\n",
            "Data columns (total 23 columns):\n",
            " #   Column               Non-Null Count   Dtype         \n",
            "---  ------               --------------   -----         \n",
            " 0   Cliente              225256 non-null  int64         \n",
            " 1   Monto Original       225256 non-null  float64       \n",
            " 2   Saldo Capital        225256 non-null  float64       \n",
            " 3   Estado Operación     225201 non-null  object        \n",
            " 4   Producto             225256 non-null  object        \n",
            " 5   Cartera              225256 non-null  object        \n",
            " 6   Alquimia             225256 non-null  object        \n",
            " 7   Tipo Cartera         225256 non-null  object        \n",
            " 8   Reacción             225256 non-null  object        \n",
            " 9   Desc Reacción        225256 non-null  object        \n",
            " 10  fecha reacción       219992 non-null  datetime64[ns]\n",
            " 11  Última gestión       221238 non-null  datetime64[ns]\n",
            " 12  Próxima gestión      220700 non-null  datetime64[ns]\n",
            " 13  Supervisor           225256 non-null  object        \n",
            " 14  Fecha Ultimo Pago    225256 non-null  object        \n",
            " 15  Fecha Carga GC       225256 non-null  datetime64[ns]\n",
            " 16  lugar_trabajo        225255 non-null  object        \n",
            " 17  Salario              225256 non-null  object        \n",
            " 18  Tipo Trabajo         225256 non-null  object        \n",
            " 19  Fecha Nacimiento     225256 non-null  datetime64[ns]\n",
            " 20  Lugar Nacimiento     225256 non-null  object        \n",
            " 21  Género               225256 non-null  object        \n",
            " 22  Ubicación electoral  215880 non-null  object        \n",
            "dtypes: datetime64[ns](5), float64(2), int64(1), object(15)\n",
            "memory usage: 39.5+ MB\n",
            "time: 159 ms (started: 2021-09-05 18:43:56 +00:00)\n"
          ]
        }
      ]
    },
    {
      "cell_type": "code",
      "metadata": {
        "id": "U676gyssa7hk",
        "colab": {
          "base_uri": "https://localhost:8080/",
          "height": 88
        },
        "outputId": "6954551d-4f97-4ca4-9713-5253e41dea3b"
      },
      "source": [
        "\n",
        "\"\"\"\n",
        "FILTRAR SOLO TARJETAS\n",
        "\n",
        "Tarjetas de credito y prestamos personales\n",
        "promedio es 22% \n",
        "en otras el 18%\n",
        "\n",
        "Estado operacion \n",
        "activa me paga mes a mes\n",
        "\n",
        "ekegr solo activas y \n",
        "\n",
        "filtrar solamente Tajetas\n",
        "\n",
        "\n",
        "correlacion entre ultima geston y fecha ultimo pago\n",
        "\n",
        "cuantos que no pagaron se les ha hecho cobro judicial o embargo. \n",
        "Si es perfil de no pagador, ual de los perfiles cual fue la tendencia en meses.\n",
        "\n",
        "\n",
        "Obtener si trabaja o no\"\"\"\n"
      ],
      "execution_count": 371,
      "outputs": [
        {
          "output_type": "execute_result",
          "data": {
            "application/vnd.google.colaboratory.intrinsic+json": {
              "type": "string"
            },
            "text/plain": [
              "'\\nFILTRAR SOLO TARJETAS\\n\\nTarjetas de credito y prestamos personales\\npromedio es 22% \\nen otras el 18%\\n\\nEstado operacion \\nactiva me paga mes a mes\\n\\nekegr solo activas y \\n\\nfiltrar solamente Tajetas\\n\\n\\ncorrelacion entre ultima geston y fecha ultimo pago\\n\\ncuantos que no pagaron se les ha hecho cobro judicial o embargo. \\nSi es perfil de no pagador, ual de los perfiles cual fue la tendencia en meses.\\n\\n\\nObtener si trabaja o no'"
            ]
          },
          "metadata": {},
          "execution_count": 371
        },
        {
          "output_type": "stream",
          "name": "stdout",
          "text": [
            "time: 6.52 ms (started: 2021-09-05 18:43:56 +00:00)\n"
          ]
        }
      ]
    },
    {
      "cell_type": "code",
      "metadata": {
        "ExecuteTime": {
          "end_time": "2021-08-24T07:29:35.216600Z",
          "start_time": "2021-08-24T07:29:35.163584Z"
        },
        "id": "r16prS6vjvs2",
        "colab": {
          "base_uri": "https://localhost:8080/"
        },
        "outputId": "862d8d6f-dfc3-49be-9d7f-5db62d433dce"
      },
      "source": [
        "#Eliminamos columnas irrelevantes para el analisis\n",
        "df2 = df2.drop(['Alquimia', 'Reacción', 'fecha reacción','Próxima gestión','Supervisor','Fecha Carga GC'], axis = 1)\n",
        "#si existe corelacion lineal,  ruido, repettivas (explicar el por que se ha eliminado) \n",
        "#A nivel de razonamiento hay variables que influyen"
      ],
      "execution_count": 372,
      "outputs": [
        {
          "output_type": "stream",
          "name": "stdout",
          "text": [
            "time: 44.3 ms (started: 2021-09-05 18:43:56 +00:00)\n"
          ]
        }
      ]
    },
    {
      "cell_type": "code",
      "metadata": {
        "colab": {
          "base_uri": "https://localhost:8080/"
        },
        "id": "YzASFwtMsj5E",
        "outputId": "7862e972-9dc7-4263-e6ad-c46642dc4254"
      },
      "source": [
        "df2.keys()"
      ],
      "execution_count": 373,
      "outputs": [
        {
          "output_type": "execute_result",
          "data": {
            "text/plain": [
              "Index(['Cliente', 'Monto Original', 'Saldo Capital', 'Estado Operación',\n",
              "       'Producto', 'Cartera', 'Tipo Cartera', 'Desc Reacción',\n",
              "       'Última gestión', 'Fecha Ultimo Pago', 'lugar_trabajo', 'Salario',\n",
              "       'Tipo Trabajo', 'Fecha Nacimiento', 'Lugar Nacimiento', 'Género',\n",
              "       'Ubicación electoral'],\n",
              "      dtype='object')"
            ]
          },
          "metadata": {},
          "execution_count": 373
        },
        {
          "output_type": "stream",
          "name": "stdout",
          "text": [
            "time: 6.09 ms (started: 2021-09-05 18:43:56 +00:00)\n"
          ]
        }
      ]
    },
    {
      "cell_type": "markdown",
      "metadata": {
        "id": "p1Yb0bJj02dR"
      },
      "source": [
        ""
      ]
    },
    {
      "cell_type": "code",
      "metadata": {
        "ExecuteTime": {
          "end_time": "2021-08-24T07:29:39.894556Z",
          "start_time": "2021-08-24T07:29:39.728554Z"
        },
        "id": "lmlOdI8ujvs2",
        "colab": {
          "base_uri": "https://localhost:8080/"
        },
        "outputId": "54864460-6c43-4da1-da89-35e21b2d7f0c"
      },
      "source": [
        "#df2 = df2.rename(columns = str.lower)\n",
        "df2 = df2.rename(columns = {'Monto Original' : 'monto_original', 'Saldo Capital':'saldo_capital', 'Estado Operación':'estado_operacion',\n",
        "       'Producto':'producto', 'Cartera':'cartera', 'Tipo Cartera':'tipo_cartera', 'Desc Reacción':'descripcion_reaccion',\n",
        "       'Última gestión':'ultima_gestion', 'Fecha Ultimo Pago':'fecha_ultima_pago', 'Lugar Trabajo':'lugar_trabajo', 'Salario':'salario',\n",
        "       'Tipo Trabajo':'tipo_trabajo', 'Fecha Nacimiento':'fecha_nacimiento', 'Lugar Nacimiento':'lugar_nacimiento', 'Género':'genero',\n",
        "       'Ubicación electoral':'ubicacion_electoral'})"
      ],
      "execution_count": 374,
      "outputs": [
        {
          "output_type": "stream",
          "name": "stdout",
          "text": [
            "time: 38.6 ms (started: 2021-09-05 18:43:56 +00:00)\n"
          ]
        }
      ]
    },
    {
      "cell_type": "code",
      "metadata": {
        "ExecuteTime": {
          "end_time": "2021-08-23T12:36:56.223148Z",
          "start_time": "2021-08-23T12:36:55.822103Z"
        },
        "colab": {
          "base_uri": "https://localhost:8080/"
        },
        "id": "naSnYSXgjvs3",
        "outputId": "2d6af21f-1529-4d42-a2ee-5546b2cb4ea0"
      },
      "source": [
        "df2.isnull().sum()[df2.isnull().sum() > 0]"
      ],
      "execution_count": 375,
      "outputs": [
        {
          "output_type": "execute_result",
          "data": {
            "text/plain": [
              "estado_operacion         55\n",
              "ultima_gestion         4018\n",
              "lugar_trabajo             1\n",
              "ubicacion_electoral    9376\n",
              "dtype: int64"
            ]
          },
          "metadata": {},
          "execution_count": 375
        },
        {
          "output_type": "stream",
          "name": "stdout",
          "text": [
            "time: 252 ms (started: 2021-09-05 18:43:56 +00:00)\n"
          ]
        }
      ]
    },
    {
      "cell_type": "code",
      "metadata": {
        "colab": {
          "base_uri": "https://localhost:8080/",
          "height": 159
        },
        "id": "GaTZs_mTOxTT",
        "outputId": "0ac83dfe-dd83-4c22-f756-295a2a82b498"
      },
      "source": [
        "df2[['estado_operacion', 'ultima_gestion', 'lugar_trabajo',\n",
        "       'ubicacion_electoral']].head(3)"
      ],
      "execution_count": 376,
      "outputs": [
        {
          "output_type": "execute_result",
          "data": {
            "text/html": [
              "<div>\n",
              "<style scoped>\n",
              "    .dataframe tbody tr th:only-of-type {\n",
              "        vertical-align: middle;\n",
              "    }\n",
              "\n",
              "    .dataframe tbody tr th {\n",
              "        vertical-align: top;\n",
              "    }\n",
              "\n",
              "    .dataframe thead th {\n",
              "        text-align: right;\n",
              "    }\n",
              "</style>\n",
              "<table border=\"1\" class=\"dataframe\">\n",
              "  <thead>\n",
              "    <tr style=\"text-align: right;\">\n",
              "      <th></th>\n",
              "      <th>estado_operacion</th>\n",
              "      <th>ultima_gestion</th>\n",
              "      <th>lugar_trabajo</th>\n",
              "      <th>ubicacion_electoral</th>\n",
              "    </tr>\n",
              "  </thead>\n",
              "  <tbody>\n",
              "    <tr>\n",
              "      <th>0</th>\n",
              "      <td>Inactiva</td>\n",
              "      <td>2020-10-07 14:47:00</td>\n",
              "      <td>COMERCIAL DINANT DE COSTA RICA SOCIEDAD ANONIMA</td>\n",
              "      <td>SAN JOSE DESAMPARADOS LOS GUIDO</td>\n",
              "    </tr>\n",
              "    <tr>\n",
              "      <th>1</th>\n",
              "      <td>Ilocalizable</td>\n",
              "      <td>2020-08-13 10:52:00</td>\n",
              "      <td>Sin trabajo</td>\n",
              "      <td>LIMON MATINA BATAN</td>\n",
              "    </tr>\n",
              "    <tr>\n",
              "      <th>2</th>\n",
              "      <td>Inactiva</td>\n",
              "      <td>2021-07-29 17:32:00</td>\n",
              "      <td>COMPAIA VERANDA DEL ESTE SOCIEDAD ANONIMA</td>\n",
              "      <td>LIMON POCOCI ROXANA</td>\n",
              "    </tr>\n",
              "  </tbody>\n",
              "</table>\n",
              "</div>"
            ],
            "text/plain": [
              "  estado_operacion      ultima_gestion  \\\n",
              "0         Inactiva 2020-10-07 14:47:00   \n",
              "1     Ilocalizable 2020-08-13 10:52:00   \n",
              "2         Inactiva 2021-07-29 17:32:00   \n",
              "\n",
              "                                     lugar_trabajo  \\\n",
              "0  COMERCIAL DINANT DE COSTA RICA SOCIEDAD ANONIMA   \n",
              "1                                      Sin trabajo   \n",
              "2        COMPAIA VERANDA DEL ESTE SOCIEDAD ANONIMA   \n",
              "\n",
              "               ubicacion_electoral  \n",
              "0  SAN JOSE DESAMPARADOS LOS GUIDO  \n",
              "1               LIMON MATINA BATAN  \n",
              "2              LIMON POCOCI ROXANA  "
            ]
          },
          "metadata": {},
          "execution_count": 376
        },
        {
          "output_type": "stream",
          "name": "stdout",
          "text": [
            "time: 29.7 ms (started: 2021-09-05 18:43:56 +00:00)\n"
          ]
        }
      ]
    },
    {
      "cell_type": "code",
      "metadata": {
        "colab": {
          "base_uri": "https://localhost:8080/",
          "height": 330
        },
        "id": "aPj869-mQ6rx",
        "outputId": "e6a7fa7b-6a4e-4cd9-8828-2ec63a44bc6c"
      },
      "source": [
        "df2.head(3)"
      ],
      "execution_count": 377,
      "outputs": [
        {
          "output_type": "execute_result",
          "data": {
            "text/html": [
              "<div>\n",
              "<style scoped>\n",
              "    .dataframe tbody tr th:only-of-type {\n",
              "        vertical-align: middle;\n",
              "    }\n",
              "\n",
              "    .dataframe tbody tr th {\n",
              "        vertical-align: top;\n",
              "    }\n",
              "\n",
              "    .dataframe thead th {\n",
              "        text-align: right;\n",
              "    }\n",
              "</style>\n",
              "<table border=\"1\" class=\"dataframe\">\n",
              "  <thead>\n",
              "    <tr style=\"text-align: right;\">\n",
              "      <th></th>\n",
              "      <th>Cliente</th>\n",
              "      <th>monto_original</th>\n",
              "      <th>saldo_capital</th>\n",
              "      <th>estado_operacion</th>\n",
              "      <th>producto</th>\n",
              "      <th>cartera</th>\n",
              "      <th>tipo_cartera</th>\n",
              "      <th>descripcion_reaccion</th>\n",
              "      <th>ultima_gestion</th>\n",
              "      <th>fecha_ultima_pago</th>\n",
              "      <th>lugar_trabajo</th>\n",
              "      <th>salario</th>\n",
              "      <th>tipo_trabajo</th>\n",
              "      <th>fecha_nacimiento</th>\n",
              "      <th>lugar_nacimiento</th>\n",
              "      <th>genero</th>\n",
              "      <th>ubicacion_electoral</th>\n",
              "    </tr>\n",
              "  </thead>\n",
              "  <tbody>\n",
              "    <tr>\n",
              "      <th>0</th>\n",
              "      <td>3</td>\n",
              "      <td>205269.000</td>\n",
              "      <td>205269.000</td>\n",
              "      <td>Inactiva</td>\n",
              "      <td>Maxima</td>\n",
              "      <td>SERVIVALORES</td>\n",
              "      <td>Propia</td>\n",
              "      <td>Contacto indirecto</td>\n",
              "      <td>2020-10-07 14:47:00</td>\n",
              "      <td>Sin pago registrado</td>\n",
              "      <td>COMERCIAL DINANT DE COSTA RICA SOCIEDAD ANONIMA</td>\n",
              "      <td>Entre ₡ 275000 y ₡ 300000</td>\n",
              "      <td>PRIVADO</td>\n",
              "      <td>1979-11-10</td>\n",
              "      <td>HOSPITAL CENTRAL SAN JOSE</td>\n",
              "      <td>MASC</td>\n",
              "      <td>SAN JOSE DESAMPARADOS LOS GUIDO</td>\n",
              "    </tr>\n",
              "    <tr>\n",
              "      <th>1</th>\n",
              "      <td>4</td>\n",
              "      <td>1686987.610</td>\n",
              "      <td>1686987.610</td>\n",
              "      <td>Ilocalizable</td>\n",
              "      <td>Tarjetas</td>\n",
              "      <td>CITI</td>\n",
              "      <td>Propia</td>\n",
              "      <td>Ilocalizable</td>\n",
              "      <td>2020-08-13 10:52:00</td>\n",
              "      <td>Sin pago registrado</td>\n",
              "      <td>Sin trabajo</td>\n",
              "      <td>Sin trabajo</td>\n",
              "      <td>Sin trabajo</td>\n",
              "      <td>1971-01-10</td>\n",
              "      <td>CENTRO MATINA LIMON</td>\n",
              "      <td>FEM</td>\n",
              "      <td>LIMON MATINA BATAN</td>\n",
              "    </tr>\n",
              "    <tr>\n",
              "      <th>2</th>\n",
              "      <td>5</td>\n",
              "      <td>9556510.022</td>\n",
              "      <td>9556510.022</td>\n",
              "      <td>Inactiva</td>\n",
              "      <td>Tarjetas</td>\n",
              "      <td>DAVIVIENDA</td>\n",
              "      <td>Propia</td>\n",
              "      <td>Contacto sin Promesa</td>\n",
              "      <td>2021-07-29 17:32:00</td>\n",
              "      <td>Sin pago registrado</td>\n",
              "      <td>COMPAIA VERANDA DEL ESTE SOCIEDAD ANONIMA</td>\n",
              "      <td>Entre ₡ 850000 y ₡ 875000</td>\n",
              "      <td>PRIVADO</td>\n",
              "      <td>1961-11-10</td>\n",
              "      <td>JIMENEZ POCOCI LIMON</td>\n",
              "      <td>MASC</td>\n",
              "      <td>LIMON POCOCI ROXANA</td>\n",
              "    </tr>\n",
              "  </tbody>\n",
              "</table>\n",
              "</div>"
            ],
            "text/plain": [
              "   Cliente  monto_original  saldo_capital estado_operacion  producto  \\\n",
              "0        3      205269.000     205269.000         Inactiva    Maxima   \n",
              "1        4     1686987.610    1686987.610     Ilocalizable  Tarjetas   \n",
              "2        5     9556510.022    9556510.022         Inactiva  Tarjetas   \n",
              "\n",
              "        cartera tipo_cartera  descripcion_reaccion      ultima_gestion  \\\n",
              "0  SERVIVALORES       Propia    Contacto indirecto 2020-10-07 14:47:00   \n",
              "1          CITI       Propia          Ilocalizable 2020-08-13 10:52:00   \n",
              "2    DAVIVIENDA       Propia  Contacto sin Promesa 2021-07-29 17:32:00   \n",
              "\n",
              "     fecha_ultima_pago                                    lugar_trabajo  \\\n",
              "0  Sin pago registrado  COMERCIAL DINANT DE COSTA RICA SOCIEDAD ANONIMA   \n",
              "1  Sin pago registrado                                      Sin trabajo   \n",
              "2  Sin pago registrado        COMPAIA VERANDA DEL ESTE SOCIEDAD ANONIMA   \n",
              "\n",
              "                     salario tipo_trabajo fecha_nacimiento  \\\n",
              "0  Entre ₡ 275000 y ₡ 300000      PRIVADO       1979-11-10   \n",
              "1                Sin trabajo  Sin trabajo       1971-01-10   \n",
              "2  Entre ₡ 850000 y ₡ 875000      PRIVADO       1961-11-10   \n",
              "\n",
              "            lugar_nacimiento genero              ubicacion_electoral  \n",
              "0  HOSPITAL CENTRAL SAN JOSE   MASC  SAN JOSE DESAMPARADOS LOS GUIDO  \n",
              "1        CENTRO MATINA LIMON    FEM               LIMON MATINA BATAN  \n",
              "2       JIMENEZ POCOCI LIMON   MASC              LIMON POCOCI ROXANA  "
            ]
          },
          "metadata": {},
          "execution_count": 377
        },
        {
          "output_type": "stream",
          "name": "stdout",
          "text": [
            "time: 26.2 ms (started: 2021-09-05 18:43:56 +00:00)\n"
          ]
        }
      ]
    },
    {
      "cell_type": "code",
      "metadata": {
        "colab": {
          "base_uri": "https://localhost:8080/"
        },
        "id": "UxjFFHRcIpRY",
        "outputId": "96109d89-1d08-4220-b922-019fd0bd9879"
      },
      "source": [
        "df2.keys()"
      ],
      "execution_count": 378,
      "outputs": [
        {
          "output_type": "execute_result",
          "data": {
            "text/plain": [
              "Index(['Cliente', 'monto_original', 'saldo_capital', 'estado_operacion',\n",
              "       'producto', 'cartera', 'tipo_cartera', 'descripcion_reaccion',\n",
              "       'ultima_gestion', 'fecha_ultima_pago', 'lugar_trabajo', 'salario',\n",
              "       'tipo_trabajo', 'fecha_nacimiento', 'lugar_nacimiento', 'genero',\n",
              "       'ubicacion_electoral'],\n",
              "      dtype='object')"
            ]
          },
          "metadata": {},
          "execution_count": 378
        },
        {
          "output_type": "stream",
          "name": "stdout",
          "text": [
            "time: 6.93 ms (started: 2021-09-05 18:43:56 +00:00)\n"
          ]
        }
      ]
    },
    {
      "cell_type": "code",
      "metadata": {
        "ExecuteTime": {
          "end_time": "2021-08-22T12:30:01.158057Z",
          "start_time": "2021-08-22T12:29:59.174110Z"
        },
        "scrolled": true,
        "colab": {
          "base_uri": "https://localhost:8080/",
          "height": 313
        },
        "id": "SIrQ_NJajvs3",
        "outputId": "5f5a2e31-0259-47b7-e7db-5f674915c988"
      },
      "source": [
        "df2.describe()"
      ],
      "execution_count": 379,
      "outputs": [
        {
          "output_type": "execute_result",
          "data": {
            "text/html": [
              "<div>\n",
              "<style scoped>\n",
              "    .dataframe tbody tr th:only-of-type {\n",
              "        vertical-align: middle;\n",
              "    }\n",
              "\n",
              "    .dataframe tbody tr th {\n",
              "        vertical-align: top;\n",
              "    }\n",
              "\n",
              "    .dataframe thead th {\n",
              "        text-align: right;\n",
              "    }\n",
              "</style>\n",
              "<table border=\"1\" class=\"dataframe\">\n",
              "  <thead>\n",
              "    <tr style=\"text-align: right;\">\n",
              "      <th></th>\n",
              "      <th>Cliente</th>\n",
              "      <th>monto_original</th>\n",
              "      <th>saldo_capital</th>\n",
              "    </tr>\n",
              "  </thead>\n",
              "  <tbody>\n",
              "    <tr>\n",
              "      <th>count</th>\n",
              "      <td>225256.000000</td>\n",
              "      <td>2.252560e+05</td>\n",
              "      <td>2.252560e+05</td>\n",
              "    </tr>\n",
              "    <tr>\n",
              "      <th>mean</th>\n",
              "      <td>119678.626469</td>\n",
              "      <td>1.380897e+06</td>\n",
              "      <td>1.368431e+06</td>\n",
              "    </tr>\n",
              "    <tr>\n",
              "      <th>std</th>\n",
              "      <td>68182.822591</td>\n",
              "      <td>2.404658e+06</td>\n",
              "      <td>2.390332e+06</td>\n",
              "    </tr>\n",
              "    <tr>\n",
              "      <th>min</th>\n",
              "      <td>3.000000</td>\n",
              "      <td>0.000000e+00</td>\n",
              "      <td>1.400000e-01</td>\n",
              "    </tr>\n",
              "    <tr>\n",
              "      <th>25%</th>\n",
              "      <td>61556.750000</td>\n",
              "      <td>3.491920e+05</td>\n",
              "      <td>3.434028e+05</td>\n",
              "    </tr>\n",
              "    <tr>\n",
              "      <th>50%</th>\n",
              "      <td>118937.500000</td>\n",
              "      <td>6.521585e+05</td>\n",
              "      <td>6.443379e+05</td>\n",
              "    </tr>\n",
              "    <tr>\n",
              "      <th>75%</th>\n",
              "      <td>179213.250000</td>\n",
              "      <td>1.334294e+06</td>\n",
              "      <td>1.321546e+06</td>\n",
              "    </tr>\n",
              "    <tr>\n",
              "      <th>max</th>\n",
              "      <td>237698.000000</td>\n",
              "      <td>2.603824e+08</td>\n",
              "      <td>2.603824e+08</td>\n",
              "    </tr>\n",
              "  </tbody>\n",
              "</table>\n",
              "</div>"
            ],
            "text/plain": [
              "             Cliente  monto_original  saldo_capital\n",
              "count  225256.000000    2.252560e+05   2.252560e+05\n",
              "mean   119678.626469    1.380897e+06   1.368431e+06\n",
              "std     68182.822591    2.404658e+06   2.390332e+06\n",
              "min         3.000000    0.000000e+00   1.400000e-01\n",
              "25%     61556.750000    3.491920e+05   3.434028e+05\n",
              "50%    118937.500000    6.521585e+05   6.443379e+05\n",
              "75%    179213.250000    1.334294e+06   1.321546e+06\n",
              "max    237698.000000    2.603824e+08   2.603824e+08"
            ]
          },
          "metadata": {},
          "execution_count": 379
        },
        {
          "output_type": "stream",
          "name": "stdout",
          "text": [
            "time: 45.7 ms (started: 2021-09-05 18:43:56 +00:00)\n"
          ]
        }
      ]
    },
    {
      "cell_type": "code",
      "metadata": {
        "ExecuteTime": {
          "end_time": "2021-08-24T07:29:49.717271Z",
          "start_time": "2021-08-24T07:29:48.959322Z"
        },
        "id": "dQ35QmXUjvs4",
        "colab": {
          "base_uri": "https://localhost:8080/"
        },
        "outputId": "0665efcc-313f-4301-8c79-fd2fa19a6a4b"
      },
      "source": [
        "#Excluing the clients that borned in 1800 (2365 values)\n",
        "df2.query(\"fecha_nacimiento != '1800-01-01'\").shape"
      ],
      "execution_count": 380,
      "outputs": [
        {
          "output_type": "execute_result",
          "data": {
            "text/plain": [
              "(225256, 17)"
            ]
          },
          "metadata": {},
          "execution_count": 380
        },
        {
          "output_type": "stream",
          "name": "stdout",
          "text": [
            "time: 59.1 ms (started: 2021-09-05 18:43:56 +00:00)\n"
          ]
        }
      ]
    },
    {
      "cell_type": "code",
      "metadata": {
        "colab": {
          "base_uri": "https://localhost:8080/",
          "height": 436
        },
        "id": "kUeW4A1Ju3JN",
        "outputId": "cf8050af-61e1-47bb-aeed-235e2da481e9"
      },
      "source": [
        "figure = plt.figure(figsize=(8, 6), dpi=80)\n",
        "g = sns.heatmap(df2.corr(), annot=True, fmt = \".2f\", cmap = \"coolwarm\")"
      ],
      "execution_count": 381,
      "outputs": [
        {
          "output_type": "display_data",
          "data": {
            "image/png": "[encoded data removed]",
            "text/plain": [
              "<Figure size 640x480 with 2 Axes>"
            ]
          },
          "metadata": {
            "needs_background": "light"
          }
        },
        {
          "output_type": "stream",
          "name": "stdout",
          "text": [
            "time: 391 ms (started: 2021-09-05 18:43:56 +00:00)\n"
          ]
        }
      ]
    },
    {
      "cell_type": "code",
      "metadata": {
        "ExecuteTime": {
          "end_time": "2021-08-23T12:37:54.286019Z",
          "start_time": "2021-08-23T12:37:54.272023Z"
        },
        "scrolled": true,
        "id": "lrbaJOs5jvs4",
        "colab": {
          "base_uri": "https://localhost:8080/",
          "height": 330
        },
        "outputId": "3a1a7b27-24c9-44e2-dc30-981b24176f8b"
      },
      "source": [
        "pd.set_option('display.max_columns', None)\n",
        "df2.head(3)"
      ],
      "execution_count": 382,
      "outputs": [
        {
          "output_type": "execute_result",
          "data": {
            "text/html": [
              "<div>\n",
              "<style scoped>\n",
              "    .dataframe tbody tr th:only-of-type {\n",
              "        vertical-align: middle;\n",
              "    }\n",
              "\n",
              "    .dataframe tbody tr th {\n",
              "        vertical-align: top;\n",
              "    }\n",
              "\n",
              "    .dataframe thead th {\n",
              "        text-align: right;\n",
              "    }\n",
              "</style>\n",
              "<table border=\"1\" class=\"dataframe\">\n",
              "  <thead>\n",
              "    <tr style=\"text-align: right;\">\n",
              "      <th></th>\n",
              "      <th>Cliente</th>\n",
              "      <th>monto_original</th>\n",
              "      <th>saldo_capital</th>\n",
              "      <th>estado_operacion</th>\n",
              "      <th>producto</th>\n",
              "      <th>cartera</th>\n",
              "      <th>tipo_cartera</th>\n",
              "      <th>descripcion_reaccion</th>\n",
              "      <th>ultima_gestion</th>\n",
              "      <th>fecha_ultima_pago</th>\n",
              "      <th>lugar_trabajo</th>\n",
              "      <th>salario</th>\n",
              "      <th>tipo_trabajo</th>\n",
              "      <th>fecha_nacimiento</th>\n",
              "      <th>lugar_nacimiento</th>\n",
              "      <th>genero</th>\n",
              "      <th>ubicacion_electoral</th>\n",
              "    </tr>\n",
              "  </thead>\n",
              "  <tbody>\n",
              "    <tr>\n",
              "      <th>0</th>\n",
              "      <td>3</td>\n",
              "      <td>205269.000</td>\n",
              "      <td>205269.000</td>\n",
              "      <td>Inactiva</td>\n",
              "      <td>Maxima</td>\n",
              "      <td>SERVIVALORES</td>\n",
              "      <td>Propia</td>\n",
              "      <td>Contacto indirecto</td>\n",
              "      <td>2020-10-07 14:47:00</td>\n",
              "      <td>Sin pago registrado</td>\n",
              "      <td>COMERCIAL DINANT DE COSTA RICA SOCIEDAD ANONIMA</td>\n",
              "      <td>Entre ₡ 275000 y ₡ 300000</td>\n",
              "      <td>PRIVADO</td>\n",
              "      <td>1979-11-10</td>\n",
              "      <td>HOSPITAL CENTRAL SAN JOSE</td>\n",
              "      <td>MASC</td>\n",
              "      <td>SAN JOSE DESAMPARADOS LOS GUIDO</td>\n",
              "    </tr>\n",
              "    <tr>\n",
              "      <th>1</th>\n",
              "      <td>4</td>\n",
              "      <td>1686987.610</td>\n",
              "      <td>1686987.610</td>\n",
              "      <td>Ilocalizable</td>\n",
              "      <td>Tarjetas</td>\n",
              "      <td>CITI</td>\n",
              "      <td>Propia</td>\n",
              "      <td>Ilocalizable</td>\n",
              "      <td>2020-08-13 10:52:00</td>\n",
              "      <td>Sin pago registrado</td>\n",
              "      <td>Sin trabajo</td>\n",
              "      <td>Sin trabajo</td>\n",
              "      <td>Sin trabajo</td>\n",
              "      <td>1971-01-10</td>\n",
              "      <td>CENTRO MATINA LIMON</td>\n",
              "      <td>FEM</td>\n",
              "      <td>LIMON MATINA BATAN</td>\n",
              "    </tr>\n",
              "    <tr>\n",
              "      <th>2</th>\n",
              "      <td>5</td>\n",
              "      <td>9556510.022</td>\n",
              "      <td>9556510.022</td>\n",
              "      <td>Inactiva</td>\n",
              "      <td>Tarjetas</td>\n",
              "      <td>DAVIVIENDA</td>\n",
              "      <td>Propia</td>\n",
              "      <td>Contacto sin Promesa</td>\n",
              "      <td>2021-07-29 17:32:00</td>\n",
              "      <td>Sin pago registrado</td>\n",
              "      <td>COMPAIA VERANDA DEL ESTE SOCIEDAD ANONIMA</td>\n",
              "      <td>Entre ₡ 850000 y ₡ 875000</td>\n",
              "      <td>PRIVADO</td>\n",
              "      <td>1961-11-10</td>\n",
              "      <td>JIMENEZ POCOCI LIMON</td>\n",
              "      <td>MASC</td>\n",
              "      <td>LIMON POCOCI ROXANA</td>\n",
              "    </tr>\n",
              "  </tbody>\n",
              "</table>\n",
              "</div>"
            ],
            "text/plain": [
              "   Cliente  monto_original  saldo_capital estado_operacion  producto  \\\n",
              "0        3      205269.000     205269.000         Inactiva    Maxima   \n",
              "1        4     1686987.610    1686987.610     Ilocalizable  Tarjetas   \n",
              "2        5     9556510.022    9556510.022         Inactiva  Tarjetas   \n",
              "\n",
              "        cartera tipo_cartera  descripcion_reaccion      ultima_gestion  \\\n",
              "0  SERVIVALORES       Propia    Contacto indirecto 2020-10-07 14:47:00   \n",
              "1          CITI       Propia          Ilocalizable 2020-08-13 10:52:00   \n",
              "2    DAVIVIENDA       Propia  Contacto sin Promesa 2021-07-29 17:32:00   \n",
              "\n",
              "     fecha_ultima_pago                                    lugar_trabajo  \\\n",
              "0  Sin pago registrado  COMERCIAL DINANT DE COSTA RICA SOCIEDAD ANONIMA   \n",
              "1  Sin pago registrado                                      Sin trabajo   \n",
              "2  Sin pago registrado        COMPAIA VERANDA DEL ESTE SOCIEDAD ANONIMA   \n",
              "\n",
              "                     salario tipo_trabajo fecha_nacimiento  \\\n",
              "0  Entre ₡ 275000 y ₡ 300000      PRIVADO       1979-11-10   \n",
              "1                Sin trabajo  Sin trabajo       1971-01-10   \n",
              "2  Entre ₡ 850000 y ₡ 875000      PRIVADO       1961-11-10   \n",
              "\n",
              "            lugar_nacimiento genero              ubicacion_electoral  \n",
              "0  HOSPITAL CENTRAL SAN JOSE   MASC  SAN JOSE DESAMPARADOS LOS GUIDO  \n",
              "1        CENTRO MATINA LIMON    FEM               LIMON MATINA BATAN  \n",
              "2       JIMENEZ POCOCI LIMON   MASC              LIMON POCOCI ROXANA  "
            ]
          },
          "metadata": {},
          "execution_count": 382
        },
        {
          "output_type": "stream",
          "name": "stdout",
          "text": [
            "time: 24.9 ms (started: 2021-09-05 18:43:57 +00:00)\n"
          ]
        }
      ]
    },
    {
      "cell_type": "code",
      "metadata": {
        "colab": {
          "base_uri": "https://localhost:8080/"
        },
        "id": "OWc9zbW6RL5l",
        "outputId": "a56fd34c-e29f-4614-8ad5-810be38f2f20"
      },
      "source": [
        "df2.info()"
      ],
      "execution_count": 383,
      "outputs": [
        {
          "output_type": "stream",
          "name": "stdout",
          "text": [
            "<class 'pandas.core.frame.DataFrame'>\n",
            "RangeIndex: 225256 entries, 0 to 225255\n",
            "Data columns (total 17 columns):\n",
            " #   Column                Non-Null Count   Dtype         \n",
            "---  ------                --------------   -----         \n",
            " 0   Cliente               225256 non-null  int64         \n",
            " 1   monto_original        225256 non-null  float64       \n",
            " 2   saldo_capital         225256 non-null  float64       \n",
            " 3   estado_operacion      225201 non-null  object        \n",
            " 4   producto              225256 non-null  object        \n",
            " 5   cartera               225256 non-null  object        \n",
            " 6   tipo_cartera          225256 non-null  object        \n",
            " 7   descripcion_reaccion  225256 non-null  object        \n",
            " 8   ultima_gestion        221238 non-null  datetime64[ns]\n",
            " 9   fecha_ultima_pago     225256 non-null  object        \n",
            " 10  lugar_trabajo         225255 non-null  object        \n",
            " 11  salario               225256 non-null  object        \n",
            " 12  tipo_trabajo          225256 non-null  object        \n",
            " 13  fecha_nacimiento      225256 non-null  datetime64[ns]\n",
            " 14  lugar_nacimiento      225256 non-null  object        \n",
            " 15  genero                225256 non-null  object        \n",
            " 16  ubicacion_electoral   215880 non-null  object        \n",
            "dtypes: datetime64[ns](2), float64(2), int64(1), object(12)\n",
            "memory usage: 29.2+ MB\n",
            "time: 133 ms (started: 2021-09-05 18:43:57 +00:00)\n"
          ]
        }
      ]
    },
    {
      "cell_type": "code",
      "metadata": {
        "ExecuteTime": {
          "end_time": "2021-08-20T17:30:02.105157Z",
          "start_time": "2021-08-20T17:30:02.085157Z"
        },
        "id": "zEk7Q3pjjvs5",
        "colab": {
          "base_uri": "https://localhost:8080/"
        },
        "outputId": "e9e1c2fb-6203-48e3-db82-da21dc5e15a1"
      },
      "source": [
        "#np.int64\n",
        "df2.dtypes[df2.dtypes == object].keys()"
      ],
      "execution_count": 384,
      "outputs": [
        {
          "output_type": "execute_result",
          "data": {
            "text/plain": [
              "Index(['estado_operacion', 'producto', 'cartera', 'tipo_cartera',\n",
              "       'descripcion_reaccion', 'fecha_ultima_pago', 'lugar_trabajo', 'salario',\n",
              "       'tipo_trabajo', 'lugar_nacimiento', 'genero', 'ubicacion_electoral'],\n",
              "      dtype='object')"
            ]
          },
          "metadata": {},
          "execution_count": 384
        },
        {
          "output_type": "stream",
          "name": "stdout",
          "text": [
            "time: 7.22 ms (started: 2021-09-05 18:43:57 +00:00)\n"
          ]
        }
      ]
    },
    {
      "cell_type": "code",
      "metadata": {
        "ExecuteTime": {
          "end_time": "2021-08-20T17:43:20.995559Z",
          "start_time": "2021-08-20T17:43:20.974562Z"
        },
        "id": "RRej0f_ijvs5",
        "colab": {
          "base_uri": "https://localhost:8080/"
        },
        "outputId": "7a28ffac-a7b7-4a29-cbef-b450f5368271"
      },
      "source": [
        "#df2.dtypes[df2.dtypes == 'datetime64[ns]'].keys()"
      ],
      "execution_count": 385,
      "outputs": [
        {
          "output_type": "stream",
          "name": "stdout",
          "text": [
            "time: 1.1 ms (started: 2021-09-05 18:43:57 +00:00)\n"
          ]
        }
      ]
    },
    {
      "cell_type": "code",
      "metadata": {
        "ExecuteTime": {
          "end_time": "2021-08-20T17:24:38.114206Z",
          "start_time": "2021-08-20T17:24:38.099204Z"
        },
        "id": "YwPJeNkRjvs5",
        "colab": {
          "base_uri": "https://localhost:8080/"
        },
        "outputId": "5e1661cf-5722-45d1-daec-72f7f50badc4"
      },
      "source": [
        "#df2.dtypes[df2.dtypes == float]"
      ],
      "execution_count": 386,
      "outputs": [
        {
          "output_type": "stream",
          "name": "stdout",
          "text": [
            "time: 1.32 ms (started: 2021-09-05 18:43:57 +00:00)\n"
          ]
        }
      ]
    },
    {
      "cell_type": "markdown",
      "metadata": {
        "id": "8lfVf7hUjsS3"
      },
      "source": [
        "## Analisis separado por variables"
      ]
    },
    {
      "cell_type": "code",
      "metadata": {
        "ExecuteTime": {
          "end_time": "2021-08-24T07:29:59.109574Z",
          "start_time": "2021-08-24T07:29:58.307919Z"
        },
        "id": "-2zRPtmpjvs7",
        "colab": {
          "base_uri": "https://localhost:8080/"
        },
        "outputId": "7b3f8558-8f1a-4452-c27f-0b82af49409e"
      },
      "source": [
        "## float variables\n",
        "df_float = df2[['monto_original', 'saldo_capital']]\\\n",
        "       .apply(lambda x: round(x/726.09, 2))\n",
        "#\\.replace(np.nan, 0)"
      ],
      "execution_count": 387,
      "outputs": [
        {
          "output_type": "stream",
          "name": "stdout",
          "text": [
            "time: 21.8 ms (started: 2021-09-05 18:43:57 +00:00)\n"
          ]
        }
      ]
    },
    {
      "cell_type": "code",
      "metadata": {
        "ExecuteTime": {
          "end_time": "2021-08-24T07:30:02.673956Z",
          "start_time": "2021-08-24T07:30:02.653938Z"
        },
        "id": "0qmhyvdMjvs8",
        "colab": {
          "base_uri": "https://localhost:8080/"
        },
        "outputId": "43627143-6abd-426a-8495-771ec19bf248"
      },
      "source": [
        "## int64 variables\n",
        "df_int = df2[['Cliente']]"
      ],
      "execution_count": 388,
      "outputs": [
        {
          "output_type": "stream",
          "name": "stdout",
          "text": [
            "time: 5.63 ms (started: 2021-09-05 18:43:57 +00:00)\n"
          ]
        }
      ]
    },
    {
      "cell_type": "code",
      "metadata": {
        "ExecuteTime": {
          "end_time": "2021-08-24T07:30:05.354224Z",
          "start_time": "2021-08-24T07:30:05.328231Z"
        },
        "id": "PSBiDAhdjvs8",
        "colab": {
          "base_uri": "https://localhost:8080/"
        },
        "outputId": "55f33c49-4288-4832-c2b2-c208e5bd478a"
      },
      "source": [
        "#df2['fecha_defuncion'] = df2['fecha_defuncion'].replace(np.nan, 0)"
      ],
      "execution_count": 389,
      "outputs": [
        {
          "output_type": "stream",
          "name": "stdout",
          "text": [
            "time: 982 µs (started: 2021-09-05 18:43:57 +00:00)\n"
          ]
        }
      ]
    },
    {
      "cell_type": "code",
      "metadata": {
        "ExecuteTime": {
          "end_time": "2021-08-24T07:30:07.992948Z",
          "start_time": "2021-08-24T07:30:07.978939Z"
        },
        "id": "yiqa6iWkjvs8",
        "colab": {
          "base_uri": "https://localhost:8080/"
        },
        "outputId": "fec7d7d5-9d8f-42c0-ca26-13abbda6285a"
      },
      "source": [
        "## datetime64 variables\n",
        "df_datetime = df2[['ultima_gestion', 'fecha_nacimiento']]"
      ],
      "execution_count": 390,
      "outputs": [
        {
          "output_type": "stream",
          "name": "stdout",
          "text": [
            "time: 7.36 ms (started: 2021-09-05 18:43:57 +00:00)\n"
          ]
        }
      ]
    },
    {
      "cell_type": "code",
      "metadata": {
        "ExecuteTime": {
          "end_time": "2021-08-24T07:30:26.634662Z",
          "start_time": "2021-08-24T07:30:26.403666Z"
        },
        "id": "_wGQ6-6Mjvs8",
        "colab": {
          "base_uri": "https://localhost:8080/"
        },
        "outputId": "126045c6-de9f-4657-ad30-b91ff4314d6d"
      },
      "source": [
        "df_datetime = df_datetime.apply(lambda x: pd.to_datetime(x, format='%Y%m%d'))\\\n",
        "                         .apply(lambda x: pd.DatetimeIndex(x).year)\\\n",
        "                         .apply(lambda x: x.replace(np.nan, 0))\\\n",
        "                         .apply(lambda x: x.astype('int'))\n",
        "#.query(\"fecha_nacimiento <= 2014 & fecha_nacimiento >= 1940\").fecha_nacimiento.value_counts().sort_index(ascending = False)\n",
        "#.loc[(df_datetime['fecha_nacimiento'] <= 2003) & (df_datetime['fecha_nacimiento'] >= 1940)]\\\n",
        "#df.loc[(df['column_name'] >= A) & (df['column_name'] <= B)]"
      ],
      "execution_count": 391,
      "outputs": [
        {
          "output_type": "stream",
          "name": "stdout",
          "text": [
            "time: 89.1 ms (started: 2021-09-05 18:43:57 +00:00)\n"
          ]
        }
      ]
    },
    {
      "cell_type": "code",
      "metadata": {
        "ExecuteTime": {
          "end_time": "2021-08-23T16:32:38.141151Z",
          "start_time": "2021-08-23T16:32:38.128125Z"
        },
        "id": "y2PNg7F8jvs9",
        "colab": {
          "base_uri": "https://localhost:8080/"
        },
        "outputId": "67a9ff2c-d0cf-4a2a-d218-5e911af9f0af"
      },
      "source": [
        "#pd.set_option('display.max_columns', None)\n",
        "#pd.set_option('display.max_rows', None)\n",
        "#df_datetime['fecha_nacimiento'].value_counts().sort_index(ascending = False, axis = 0)"
      ],
      "execution_count": 392,
      "outputs": [
        {
          "output_type": "stream",
          "name": "stdout",
          "text": [
            "time: 1.55 ms (started: 2021-09-05 18:43:57 +00:00)\n"
          ]
        }
      ]
    },
    {
      "cell_type": "code",
      "metadata": {
        "colab": {
          "base_uri": "https://localhost:8080/"
        },
        "id": "ctj-xOfCyn1H",
        "outputId": "d62a9aab-1483-4a8d-d3d9-91f446c74549"
      },
      "source": [
        "df.keys()"
      ],
      "execution_count": 393,
      "outputs": [
        {
          "output_type": "execute_result",
          "data": {
            "text/plain": [
              "Index(['Cliente', 'Monto Original', 'Saldo Capital', 'Estado Operación',\n",
              "       'Producto', 'Cartera', 'Alquimia', 'Tipo Cartera', 'Reacción',\n",
              "       'Desc Reacción', 'fecha reacción', 'Última gestión', 'Próxima gestión',\n",
              "       'Supervisor', 'Fecha Ultimo Pago', 'Fecha Carga GC', 'lugar_trabajo',\n",
              "       'Salario', 'Tipo Trabajo', 'Fecha Nacimiento', 'Lugar Nacimiento',\n",
              "       'Género', 'Ubicación electoral'],\n",
              "      dtype='object')"
            ]
          },
          "metadata": {},
          "execution_count": 393
        },
        {
          "output_type": "stream",
          "name": "stdout",
          "text": [
            "time: 6.29 ms (started: 2021-09-05 18:43:57 +00:00)\n"
          ]
        }
      ]
    },
    {
      "cell_type": "code",
      "metadata": {
        "ExecuteTime": {
          "end_time": "2021-08-24T07:30:54.048089Z",
          "start_time": "2021-08-24T07:30:54.022092Z"
        },
        "id": "Sgnn2dU7jvs9",
        "colab": {
          "base_uri": "https://localhost:8080/"
        },
        "outputId": "7415cb5d-1eb0-43d4-864d-86b8e8bfee65"
      },
      "source": [
        "## object variable\n",
        "df_object = df2[['estado_operacion', 'producto', 'cartera', 'tipo_cartera',\n",
        "       'descripcion_reaccion', 'fecha_ultima_pago', 'lugar_trabajo', 'salario',\n",
        "       'tipo_trabajo', 'lugar_nacimiento', 'genero', 'ubicacion_electoral']]"
      ],
      "execution_count": 394,
      "outputs": [
        {
          "output_type": "stream",
          "name": "stdout",
          "text": [
            "time: 31.7 ms (started: 2021-09-05 18:43:57 +00:00)\n"
          ]
        }
      ]
    },
    {
      "cell_type": "code",
      "metadata": {
        "colab": {
          "base_uri": "https://localhost:8080/",
          "height": 330
        },
        "id": "6bSgyOsBZbRB",
        "outputId": "8818db4b-8932-440d-ea07-18fe90f6d18c"
      },
      "source": [
        "df_object.head(3)"
      ],
      "execution_count": 395,
      "outputs": [
        {
          "output_type": "execute_result",
          "data": {
            "text/html": [
              "<div>\n",
              "<style scoped>\n",
              "    .dataframe tbody tr th:only-of-type {\n",
              "        vertical-align: middle;\n",
              "    }\n",
              "\n",
              "    .dataframe tbody tr th {\n",
              "        vertical-align: top;\n",
              "    }\n",
              "\n",
              "    .dataframe thead th {\n",
              "        text-align: right;\n",
              "    }\n",
              "</style>\n",
              "<table border=\"1\" class=\"dataframe\">\n",
              "  <thead>\n",
              "    <tr style=\"text-align: right;\">\n",
              "      <th></th>\n",
              "      <th>estado_operacion</th>\n",
              "      <th>producto</th>\n",
              "      <th>cartera</th>\n",
              "      <th>tipo_cartera</th>\n",
              "      <th>descripcion_reaccion</th>\n",
              "      <th>fecha_ultima_pago</th>\n",
              "      <th>lugar_trabajo</th>\n",
              "      <th>salario</th>\n",
              "      <th>tipo_trabajo</th>\n",
              "      <th>lugar_nacimiento</th>\n",
              "      <th>genero</th>\n",
              "      <th>ubicacion_electoral</th>\n",
              "    </tr>\n",
              "  </thead>\n",
              "  <tbody>\n",
              "    <tr>\n",
              "      <th>0</th>\n",
              "      <td>Inactiva</td>\n",
              "      <td>Maxima</td>\n",
              "      <td>SERVIVALORES</td>\n",
              "      <td>Propia</td>\n",
              "      <td>Contacto indirecto</td>\n",
              "      <td>Sin pago registrado</td>\n",
              "      <td>COMERCIAL DINANT DE COSTA RICA SOCIEDAD ANONIMA</td>\n",
              "      <td>Entre ₡ 275000 y ₡ 300000</td>\n",
              "      <td>PRIVADO</td>\n",
              "      <td>HOSPITAL CENTRAL SAN JOSE</td>\n",
              "      <td>MASC</td>\n",
              "      <td>SAN JOSE DESAMPARADOS LOS GUIDO</td>\n",
              "    </tr>\n",
              "    <tr>\n",
              "      <th>1</th>\n",
              "      <td>Ilocalizable</td>\n",
              "      <td>Tarjetas</td>\n",
              "      <td>CITI</td>\n",
              "      <td>Propia</td>\n",
              "      <td>Ilocalizable</td>\n",
              "      <td>Sin pago registrado</td>\n",
              "      <td>Sin trabajo</td>\n",
              "      <td>Sin trabajo</td>\n",
              "      <td>Sin trabajo</td>\n",
              "      <td>CENTRO MATINA LIMON</td>\n",
              "      <td>FEM</td>\n",
              "      <td>LIMON MATINA BATAN</td>\n",
              "    </tr>\n",
              "    <tr>\n",
              "      <th>2</th>\n",
              "      <td>Inactiva</td>\n",
              "      <td>Tarjetas</td>\n",
              "      <td>DAVIVIENDA</td>\n",
              "      <td>Propia</td>\n",
              "      <td>Contacto sin Promesa</td>\n",
              "      <td>Sin pago registrado</td>\n",
              "      <td>COMPAIA VERANDA DEL ESTE SOCIEDAD ANONIMA</td>\n",
              "      <td>Entre ₡ 850000 y ₡ 875000</td>\n",
              "      <td>PRIVADO</td>\n",
              "      <td>JIMENEZ POCOCI LIMON</td>\n",
              "      <td>MASC</td>\n",
              "      <td>LIMON POCOCI ROXANA</td>\n",
              "    </tr>\n",
              "  </tbody>\n",
              "</table>\n",
              "</div>"
            ],
            "text/plain": [
              "  estado_operacion  producto       cartera tipo_cartera  descripcion_reaccion  \\\n",
              "0         Inactiva    Maxima  SERVIVALORES       Propia    Contacto indirecto   \n",
              "1     Ilocalizable  Tarjetas          CITI       Propia          Ilocalizable   \n",
              "2         Inactiva  Tarjetas    DAVIVIENDA       Propia  Contacto sin Promesa   \n",
              "\n",
              "     fecha_ultima_pago                                    lugar_trabajo  \\\n",
              "0  Sin pago registrado  COMERCIAL DINANT DE COSTA RICA SOCIEDAD ANONIMA   \n",
              "1  Sin pago registrado                                      Sin trabajo   \n",
              "2  Sin pago registrado        COMPAIA VERANDA DEL ESTE SOCIEDAD ANONIMA   \n",
              "\n",
              "                     salario tipo_trabajo           lugar_nacimiento genero  \\\n",
              "0  Entre ₡ 275000 y ₡ 300000      PRIVADO  HOSPITAL CENTRAL SAN JOSE   MASC   \n",
              "1                Sin trabajo  Sin trabajo        CENTRO MATINA LIMON    FEM   \n",
              "2  Entre ₡ 850000 y ₡ 875000      PRIVADO       JIMENEZ POCOCI LIMON   MASC   \n",
              "\n",
              "               ubicacion_electoral  \n",
              "0  SAN JOSE DESAMPARADOS LOS GUIDO  \n",
              "1               LIMON MATINA BATAN  \n",
              "2              LIMON POCOCI ROXANA  "
            ]
          },
          "metadata": {},
          "execution_count": 395
        },
        {
          "output_type": "stream",
          "name": "stdout",
          "text": [
            "time: 19.7 ms (started: 2021-09-05 18:43:57 +00:00)\n"
          ]
        }
      ]
    },
    {
      "cell_type": "code",
      "metadata": {
        "colab": {
          "base_uri": "https://localhost:8080/"
        },
        "id": "jGxAzQejnBEV",
        "outputId": "5b8937e9-4a62-4602-bc44-a2f7e43fbad8"
      },
      "source": [
        "df_object['lugar_nacimiento'].value_counts()"
      ],
      "execution_count": 396,
      "outputs": [
        {
          "output_type": "execute_result",
          "data": {
            "text/plain": [
              "HOSPITAL CENTRAL SAN JOSE     57161\n",
              "CARMEN CENTRAL SAN JOSE       22952\n",
              "URUCA CENTRAL SAN JOSE        13313\n",
              "CENTRO CENTRAL ALAJUELA        9052\n",
              "CENTRO CENTRAL HEREDIA         7874\n",
              "                              ...  \n",
              "SAN ISIDRO LEON CORTES SAN        1\n",
              "MARIPOSA CORREDORES               1\n",
              "SAN PABLO OREAMUNO CARTAGO        1\n",
              "BOJAYA CHOCO COLOMBIA             1\n",
              "CUSCATANCINGO EL SALVADOR         1\n",
              "Name: lugar_nacimiento, Length: 4477, dtype: int64"
            ]
          },
          "metadata": {},
          "execution_count": 396
        },
        {
          "output_type": "stream",
          "name": "stdout",
          "text": [
            "time: 40 ms (started: 2021-09-05 18:43:57 +00:00)\n"
          ]
        }
      ]
    },
    {
      "cell_type": "code",
      "metadata": {
        "ExecuteTime": {
          "end_time": "2021-08-24T07:31:32.631434Z",
          "start_time": "2021-08-24T07:31:31.228438Z"
        },
        "colab": {
          "base_uri": "https://localhost:8080/"
        },
        "id": "0OttY76Xjvs9",
        "outputId": "49b3d0a0-27d1-46a7-c1b8-513929e042cb"
      },
      "source": [
        "df_object['salario'] = df_object['salario'].apply(lambda x: re.findall(r'\\d+', str(x)))"
      ],
      "execution_count": 397,
      "outputs": [
        {
          "output_type": "stream",
          "name": "stdout",
          "text": [
            "time: 480 ms (started: 2021-09-05 18:43:57 +00:00)\n"
          ]
        },
        {
          "output_type": "stream",
          "name": "stderr",
          "text": [
            "/usr/local/lib/python3.7/dist-packages/ipykernel_launcher.py:1: SettingWithCopyWarning: \n",
            "A value is trying to be set on a copy of a slice from a DataFrame.\n",
            "Try using .loc[row_indexer,col_indexer] = value instead\n",
            "\n",
            "See the caveats in the documentation: https://pandas.pydata.org/pandas-docs/stable/user_guide/indexing.html#returning-a-view-versus-a-copy\n",
            "  \"\"\"Entry point for launching an IPython kernel.\n"
          ]
        }
      ]
    },
    {
      "cell_type": "code",
      "metadata": {
        "ExecuteTime": {
          "end_time": "2021-08-24T07:32:14.959528Z",
          "start_time": "2021-08-24T07:31:49.309181Z"
        },
        "colab": {
          "base_uri": "https://localhost:8080/"
        },
        "id": "OloVbTB9jvs-",
        "outputId": "1ba11466-96fe-4a68-9082-8c53b7102120"
      },
      "source": [
        "df_object[['salario_inferior','salario_superior']] = pd.DataFrame(df_object['salario'].tolist(), index= df_object.index)"
      ],
      "execution_count": 398,
      "outputs": [
        {
          "output_type": "stream",
          "name": "stdout",
          "text": [
            "time: 82.4 ms (started: 2021-09-05 18:43:58 +00:00)\n"
          ]
        },
        {
          "output_type": "stream",
          "name": "stderr",
          "text": [
            "/usr/local/lib/python3.7/dist-packages/pandas/core/frame.py:3069: SettingWithCopyWarning: \n",
            "A value is trying to be set on a copy of a slice from a DataFrame.\n",
            "Try using .loc[row_indexer,col_indexer] = value instead\n",
            "\n",
            "See the caveats in the documentation: https://pandas.pydata.org/pandas-docs/stable/user_guide/indexing.html#returning-a-view-versus-a-copy\n",
            "  self[k1] = value[k2]\n"
          ]
        }
      ]
    },
    {
      "cell_type": "code",
      "metadata": {
        "colab": {
          "base_uri": "https://localhost:8080/",
          "height": 330
        },
        "id": "2jQv9t7ngIEC",
        "outputId": "dfe18e80-7e75-41c7-b13a-1fbc05223f6e"
      },
      "source": [
        "df_object.head(3)"
      ],
      "execution_count": 399,
      "outputs": [
        {
          "output_type": "execute_result",
          "data": {
            "text/html": [
              "<div>\n",
              "<style scoped>\n",
              "    .dataframe tbody tr th:only-of-type {\n",
              "        vertical-align: middle;\n",
              "    }\n",
              "\n",
              "    .dataframe tbody tr th {\n",
              "        vertical-align: top;\n",
              "    }\n",
              "\n",
              "    .dataframe thead th {\n",
              "        text-align: right;\n",
              "    }\n",
              "</style>\n",
              "<table border=\"1\" class=\"dataframe\">\n",
              "  <thead>\n",
              "    <tr style=\"text-align: right;\">\n",
              "      <th></th>\n",
              "      <th>estado_operacion</th>\n",
              "      <th>producto</th>\n",
              "      <th>cartera</th>\n",
              "      <th>tipo_cartera</th>\n",
              "      <th>descripcion_reaccion</th>\n",
              "      <th>fecha_ultima_pago</th>\n",
              "      <th>lugar_trabajo</th>\n",
              "      <th>salario</th>\n",
              "      <th>tipo_trabajo</th>\n",
              "      <th>lugar_nacimiento</th>\n",
              "      <th>genero</th>\n",
              "      <th>ubicacion_electoral</th>\n",
              "      <th>salario_inferior</th>\n",
              "      <th>salario_superior</th>\n",
              "    </tr>\n",
              "  </thead>\n",
              "  <tbody>\n",
              "    <tr>\n",
              "      <th>0</th>\n",
              "      <td>Inactiva</td>\n",
              "      <td>Maxima</td>\n",
              "      <td>SERVIVALORES</td>\n",
              "      <td>Propia</td>\n",
              "      <td>Contacto indirecto</td>\n",
              "      <td>Sin pago registrado</td>\n",
              "      <td>COMERCIAL DINANT DE COSTA RICA SOCIEDAD ANONIMA</td>\n",
              "      <td>[275000, 300000]</td>\n",
              "      <td>PRIVADO</td>\n",
              "      <td>HOSPITAL CENTRAL SAN JOSE</td>\n",
              "      <td>MASC</td>\n",
              "      <td>SAN JOSE DESAMPARADOS LOS GUIDO</td>\n",
              "      <td>275000</td>\n",
              "      <td>300000</td>\n",
              "    </tr>\n",
              "    <tr>\n",
              "      <th>1</th>\n",
              "      <td>Ilocalizable</td>\n",
              "      <td>Tarjetas</td>\n",
              "      <td>CITI</td>\n",
              "      <td>Propia</td>\n",
              "      <td>Ilocalizable</td>\n",
              "      <td>Sin pago registrado</td>\n",
              "      <td>Sin trabajo</td>\n",
              "      <td>[]</td>\n",
              "      <td>Sin trabajo</td>\n",
              "      <td>CENTRO MATINA LIMON</td>\n",
              "      <td>FEM</td>\n",
              "      <td>LIMON MATINA BATAN</td>\n",
              "      <td>None</td>\n",
              "      <td>None</td>\n",
              "    </tr>\n",
              "    <tr>\n",
              "      <th>2</th>\n",
              "      <td>Inactiva</td>\n",
              "      <td>Tarjetas</td>\n",
              "      <td>DAVIVIENDA</td>\n",
              "      <td>Propia</td>\n",
              "      <td>Contacto sin Promesa</td>\n",
              "      <td>Sin pago registrado</td>\n",
              "      <td>COMPAIA VERANDA DEL ESTE SOCIEDAD ANONIMA</td>\n",
              "      <td>[850000, 875000]</td>\n",
              "      <td>PRIVADO</td>\n",
              "      <td>JIMENEZ POCOCI LIMON</td>\n",
              "      <td>MASC</td>\n",
              "      <td>LIMON POCOCI ROXANA</td>\n",
              "      <td>850000</td>\n",
              "      <td>875000</td>\n",
              "    </tr>\n",
              "  </tbody>\n",
              "</table>\n",
              "</div>"
            ],
            "text/plain": [
              "  estado_operacion  producto       cartera tipo_cartera  descripcion_reaccion  \\\n",
              "0         Inactiva    Maxima  SERVIVALORES       Propia    Contacto indirecto   \n",
              "1     Ilocalizable  Tarjetas          CITI       Propia          Ilocalizable   \n",
              "2         Inactiva  Tarjetas    DAVIVIENDA       Propia  Contacto sin Promesa   \n",
              "\n",
              "     fecha_ultima_pago                                    lugar_trabajo  \\\n",
              "0  Sin pago registrado  COMERCIAL DINANT DE COSTA RICA SOCIEDAD ANONIMA   \n",
              "1  Sin pago registrado                                      Sin trabajo   \n",
              "2  Sin pago registrado        COMPAIA VERANDA DEL ESTE SOCIEDAD ANONIMA   \n",
              "\n",
              "            salario tipo_trabajo           lugar_nacimiento genero  \\\n",
              "0  [275000, 300000]      PRIVADO  HOSPITAL CENTRAL SAN JOSE   MASC   \n",
              "1                []  Sin trabajo        CENTRO MATINA LIMON    FEM   \n",
              "2  [850000, 875000]      PRIVADO       JIMENEZ POCOCI LIMON   MASC   \n",
              "\n",
              "               ubicacion_electoral salario_inferior salario_superior  \n",
              "0  SAN JOSE DESAMPARADOS LOS GUIDO           275000           300000  \n",
              "1               LIMON MATINA BATAN             None             None  \n",
              "2              LIMON POCOCI ROXANA           850000           875000  "
            ]
          },
          "metadata": {},
          "execution_count": 399
        },
        {
          "output_type": "stream",
          "name": "stdout",
          "text": [
            "time: 21.2 ms (started: 2021-09-05 18:43:58 +00:00)\n"
          ]
        }
      ]
    },
    {
      "cell_type": "markdown",
      "metadata": {
        "id": "jnloReUJ2cwl"
      },
      "source": [
        "## JOIN DATASETS"
      ]
    },
    {
      "cell_type": "code",
      "metadata": {
        "colab": {
          "base_uri": "https://localhost:8080/"
        },
        "id": "PQSlWdpg4HwL",
        "outputId": "003f90e6-3f71-44e2-be59-8e3ab0452db2"
      },
      "source": [
        "df_float.shape, df_int.shape, df_datetime.shape, df_object.shape"
      ],
      "execution_count": 400,
      "outputs": [
        {
          "output_type": "execute_result",
          "data": {
            "text/plain": [
              "((225256, 2), (225256, 1), (225256, 2), (225256, 14))"
            ]
          },
          "metadata": {},
          "execution_count": 400
        },
        {
          "output_type": "stream",
          "name": "stdout",
          "text": [
            "time: 5.21 ms (started: 2021-09-05 18:43:58 +00:00)\n"
          ]
        }
      ]
    },
    {
      "cell_type": "code",
      "metadata": {
        "id": "gjArqdmG2b90",
        "colab": {
          "base_uri": "https://localhost:8080/"
        },
        "outputId": "8e8faecd-01cc-4f31-d424-f7f648bb6a10"
      },
      "source": [
        "df_1 = df_float.join(df_int)\n",
        "df_2 = df_datetime.join(df_object)\n",
        "df_3 = df_1.join(df_2)"
      ],
      "execution_count": 401,
      "outputs": [
        {
          "output_type": "stream",
          "name": "stdout",
          "text": [
            "time: 118 ms (started: 2021-09-05 18:43:58 +00:00)\n"
          ]
        }
      ]
    },
    {
      "cell_type": "code",
      "metadata": {
        "colab": {
          "base_uri": "https://localhost:8080/"
        },
        "id": "5jbKVdyml-Xh",
        "outputId": "198f56f3-eb78-4d6c-f188-cdc270227d61"
      },
      "source": [
        "df_3.info()"
      ],
      "execution_count": 402,
      "outputs": [
        {
          "output_type": "stream",
          "name": "stdout",
          "text": [
            "<class 'pandas.core.frame.DataFrame'>\n",
            "RangeIndex: 225256 entries, 0 to 225255\n",
            "Data columns (total 19 columns):\n",
            " #   Column                Non-Null Count   Dtype  \n",
            "---  ------                --------------   -----  \n",
            " 0   monto_original        225256 non-null  float64\n",
            " 1   saldo_capital         225256 non-null  float64\n",
            " 2   Cliente               225256 non-null  int64  \n",
            " 3   ultima_gestion        225256 non-null  int64  \n",
            " 4   fecha_nacimiento      225256 non-null  int64  \n",
            " 5   estado_operacion      225201 non-null  object \n",
            " 6   producto              225256 non-null  object \n",
            " 7   cartera               225256 non-null  object \n",
            " 8   tipo_cartera          225256 non-null  object \n",
            " 9   descripcion_reaccion  225256 non-null  object \n",
            " 10  fecha_ultima_pago     225256 non-null  object \n",
            " 11  lugar_trabajo         225255 non-null  object \n",
            " 12  salario               225256 non-null  object \n",
            " 13  tipo_trabajo          225256 non-null  object \n",
            " 14  lugar_nacimiento      225256 non-null  object \n",
            " 15  genero                225256 non-null  object \n",
            " 16  ubicacion_electoral   215880 non-null  object \n",
            " 17  salario_inferior      200834 non-null  object \n",
            " 18  salario_superior      200834 non-null  object \n",
            "dtypes: float64(2), int64(3), object(14)\n",
            "memory usage: 32.7+ MB\n",
            "time: 241 ms (started: 2021-09-05 18:43:58 +00:00)\n"
          ]
        }
      ]
    },
    {
      "cell_type": "code",
      "metadata": {
        "colab": {
          "base_uri": "https://localhost:8080/"
        },
        "id": "B5woqCTf4QnT",
        "outputId": "5c7b8945-5817-4008-9e4b-fad025ac82c2"
      },
      "source": [
        "df_3.isnull().sum()[df_3.isnull().sum() > 0]"
      ],
      "execution_count": 403,
      "outputs": [
        {
          "output_type": "execute_result",
          "data": {
            "text/plain": [
              "estado_operacion          55\n",
              "lugar_trabajo              1\n",
              "ubicacion_electoral     9376\n",
              "salario_inferior       24422\n",
              "salario_superior       24422\n",
              "dtype: int64"
            ]
          },
          "metadata": {},
          "execution_count": 403
        },
        {
          "output_type": "stream",
          "name": "stdout",
          "text": [
            "time: 275 ms (started: 2021-09-05 18:43:58 +00:00)\n"
          ]
        }
      ]
    },
    {
      "cell_type": "markdown",
      "metadata": {
        "id": "HtneUDe-Fcq3"
      },
      "source": [
        "hacer estudio variable a variable\n",
        "Dos pruebas (obviar los valores nulos)\n",
        "-Segundo analisis reemplazando valores \n",
        "Ver accuracy de modelo de datos rellenando los nan \n"
      ]
    },
    {
      "cell_type": "code",
      "metadata": {
        "id": "829osmJh4uX9",
        "colab": {
          "base_uri": "https://localhost:8080/"
        },
        "outputId": "d8297441-657a-4054-e2ff-5355d07f4542"
      },
      "source": [
        "#df_3.query(\"fecha_nacimiento <= 2003\")\n",
        "#df[df['closing_price'].between(99, 101)]\n",
        "#df[(df['closing_price'] >= 99) & (df['closing_price'] <= 101)]\n",
        "#df_3.loc[(df_datetime['fecha_nacimiento'] <= 2003) & (df_datetime['fecha_nacimiento'] >= 1940)]"
      ],
      "execution_count": 404,
      "outputs": [
        {
          "output_type": "stream",
          "name": "stdout",
          "text": [
            "time: 1.9 ms (started: 2021-09-05 18:43:59 +00:00)\n"
          ]
        }
      ]
    },
    {
      "cell_type": "code",
      "metadata": {
        "id": "kQrkeY5kEzge",
        "colab": {
          "base_uri": "https://localhost:8080/"
        },
        "outputId": "c06bf832-53a8-4f2a-f355-6aa96ae07c08"
      },
      "source": [
        "#Se elimina 11116 clientes\n",
        "#en nuevs datos se eliminan solamente 653 valores\n",
        "df_4 = df_3.query(\"fecha_nacimiento <= 2003 & fecha_nacimiento >= 1941\")\n",
        "#Si sin perfiles pagadores se los puedes dejar "
      ],
      "execution_count": 405,
      "outputs": [
        {
          "output_type": "stream",
          "name": "stdout",
          "text": [
            "time: 71 ms (started: 2021-09-05 18:43:59 +00:00)\n"
          ]
        }
      ]
    },
    {
      "cell_type": "code",
      "metadata": {
        "colab": {
          "base_uri": "https://localhost:8080/"
        },
        "id": "G-GJviKOozBH",
        "outputId": "c09315f9-3e68-4563-8645-fd3e4322218b"
      },
      "source": [
        "df_4['edad'] = 2021 - df_4['fecha_nacimiento']"
      ],
      "execution_count": 406,
      "outputs": [
        {
          "output_type": "stream",
          "name": "stdout",
          "text": [
            "time: 6.46 ms (started: 2021-09-05 18:43:59 +00:00)\n"
          ]
        },
        {
          "output_type": "stream",
          "name": "stderr",
          "text": [
            "/usr/local/lib/python3.7/dist-packages/ipykernel_launcher.py:1: SettingWithCopyWarning: \n",
            "A value is trying to be set on a copy of a slice from a DataFrame.\n",
            "Try using .loc[row_indexer,col_indexer] = value instead\n",
            "\n",
            "See the caveats in the documentation: https://pandas.pydata.org/pandas-docs/stable/user_guide/indexing.html#returning-a-view-versus-a-copy\n",
            "  \"\"\"Entry point for launching an IPython kernel.\n"
          ]
        }
      ]
    },
    {
      "cell_type": "code",
      "metadata": {
        "colab": {
          "base_uri": "https://localhost:8080/"
        },
        "id": "XucrYkD5ImZE",
        "outputId": "327f7d26-21cd-4225-a89a-c91c546835b5"
      },
      "source": [
        "df_3.shape, df_4.shape"
      ],
      "execution_count": 407,
      "outputs": [
        {
          "output_type": "execute_result",
          "data": {
            "text/plain": [
              "((225256, 19), (224603, 20))"
            ]
          },
          "metadata": {},
          "execution_count": 407
        },
        {
          "output_type": "stream",
          "name": "stdout",
          "text": [
            "time: 5.06 ms (started: 2021-09-05 18:43:59 +00:00)\n"
          ]
        }
      ]
    },
    {
      "cell_type": "code",
      "metadata": {
        "colab": {
          "base_uri": "https://localhost:8080/",
          "height": 330
        },
        "id": "tFJd-20lrPjA",
        "outputId": "f2035d3d-a54d-458a-a399-d88b26c9b383"
      },
      "source": [
        "df_4.head(3)"
      ],
      "execution_count": 408,
      "outputs": [
        {
          "output_type": "execute_result",
          "data": {
            "text/html": [
              "<div>\n",
              "<style scoped>\n",
              "    .dataframe tbody tr th:only-of-type {\n",
              "        vertical-align: middle;\n",
              "    }\n",
              "\n",
              "    .dataframe tbody tr th {\n",
              "        vertical-align: top;\n",
              "    }\n",
              "\n",
              "    .dataframe thead th {\n",
              "        text-align: right;\n",
              "    }\n",
              "</style>\n",
              "<table border=\"1\" class=\"dataframe\">\n",
              "  <thead>\n",
              "    <tr style=\"text-align: right;\">\n",
              "      <th></th>\n",
              "      <th>monto_original</th>\n",
              "      <th>saldo_capital</th>\n",
              "      <th>Cliente</th>\n",
              "      <th>ultima_gestion</th>\n",
              "      <th>fecha_nacimiento</th>\n",
              "      <th>estado_operacion</th>\n",
              "      <th>producto</th>\n",
              "      <th>cartera</th>\n",
              "      <th>tipo_cartera</th>\n",
              "      <th>descripcion_reaccion</th>\n",
              "      <th>fecha_ultima_pago</th>\n",
              "      <th>lugar_trabajo</th>\n",
              "      <th>salario</th>\n",
              "      <th>tipo_trabajo</th>\n",
              "      <th>lugar_nacimiento</th>\n",
              "      <th>genero</th>\n",
              "      <th>ubicacion_electoral</th>\n",
              "      <th>salario_inferior</th>\n",
              "      <th>salario_superior</th>\n",
              "      <th>edad</th>\n",
              "    </tr>\n",
              "  </thead>\n",
              "  <tbody>\n",
              "    <tr>\n",
              "      <th>0</th>\n",
              "      <td>282.70</td>\n",
              "      <td>282.70</td>\n",
              "      <td>3</td>\n",
              "      <td>2020</td>\n",
              "      <td>1979</td>\n",
              "      <td>Inactiva</td>\n",
              "      <td>Maxima</td>\n",
              "      <td>SERVIVALORES</td>\n",
              "      <td>Propia</td>\n",
              "      <td>Contacto indirecto</td>\n",
              "      <td>Sin pago registrado</td>\n",
              "      <td>COMERCIAL DINANT DE COSTA RICA SOCIEDAD ANONIMA</td>\n",
              "      <td>[275000, 300000]</td>\n",
              "      <td>PRIVADO</td>\n",
              "      <td>HOSPITAL CENTRAL SAN JOSE</td>\n",
              "      <td>MASC</td>\n",
              "      <td>SAN JOSE DESAMPARADOS LOS GUIDO</td>\n",
              "      <td>275000</td>\n",
              "      <td>300000</td>\n",
              "      <td>42</td>\n",
              "    </tr>\n",
              "    <tr>\n",
              "      <th>1</th>\n",
              "      <td>2323.39</td>\n",
              "      <td>2323.39</td>\n",
              "      <td>4</td>\n",
              "      <td>2020</td>\n",
              "      <td>1971</td>\n",
              "      <td>Ilocalizable</td>\n",
              "      <td>Tarjetas</td>\n",
              "      <td>CITI</td>\n",
              "      <td>Propia</td>\n",
              "      <td>Ilocalizable</td>\n",
              "      <td>Sin pago registrado</td>\n",
              "      <td>Sin trabajo</td>\n",
              "      <td>[]</td>\n",
              "      <td>Sin trabajo</td>\n",
              "      <td>CENTRO MATINA LIMON</td>\n",
              "      <td>FEM</td>\n",
              "      <td>LIMON MATINA BATAN</td>\n",
              "      <td>None</td>\n",
              "      <td>None</td>\n",
              "      <td>50</td>\n",
              "    </tr>\n",
              "    <tr>\n",
              "      <th>2</th>\n",
              "      <td>13161.61</td>\n",
              "      <td>13161.61</td>\n",
              "      <td>5</td>\n",
              "      <td>2021</td>\n",
              "      <td>1961</td>\n",
              "      <td>Inactiva</td>\n",
              "      <td>Tarjetas</td>\n",
              "      <td>DAVIVIENDA</td>\n",
              "      <td>Propia</td>\n",
              "      <td>Contacto sin Promesa</td>\n",
              "      <td>Sin pago registrado</td>\n",
              "      <td>COMPAIA VERANDA DEL ESTE SOCIEDAD ANONIMA</td>\n",
              "      <td>[850000, 875000]</td>\n",
              "      <td>PRIVADO</td>\n",
              "      <td>JIMENEZ POCOCI LIMON</td>\n",
              "      <td>MASC</td>\n",
              "      <td>LIMON POCOCI ROXANA</td>\n",
              "      <td>850000</td>\n",
              "      <td>875000</td>\n",
              "      <td>60</td>\n",
              "    </tr>\n",
              "  </tbody>\n",
              "</table>\n",
              "</div>"
            ],
            "text/plain": [
              "   monto_original  saldo_capital  Cliente  ultima_gestion  fecha_nacimiento  \\\n",
              "0          282.70         282.70        3            2020              1979   \n",
              "1         2323.39        2323.39        4            2020              1971   \n",
              "2        13161.61       13161.61        5            2021              1961   \n",
              "\n",
              "  estado_operacion  producto       cartera tipo_cartera  descripcion_reaccion  \\\n",
              "0         Inactiva    Maxima  SERVIVALORES       Propia    Contacto indirecto   \n",
              "1     Ilocalizable  Tarjetas          CITI       Propia          Ilocalizable   \n",
              "2         Inactiva  Tarjetas    DAVIVIENDA       Propia  Contacto sin Promesa   \n",
              "\n",
              "     fecha_ultima_pago                                    lugar_trabajo  \\\n",
              "0  Sin pago registrado  COMERCIAL DINANT DE COSTA RICA SOCIEDAD ANONIMA   \n",
              "1  Sin pago registrado                                      Sin trabajo   \n",
              "2  Sin pago registrado        COMPAIA VERANDA DEL ESTE SOCIEDAD ANONIMA   \n",
              "\n",
              "            salario tipo_trabajo           lugar_nacimiento genero  \\\n",
              "0  [275000, 300000]      PRIVADO  HOSPITAL CENTRAL SAN JOSE   MASC   \n",
              "1                []  Sin trabajo        CENTRO MATINA LIMON    FEM   \n",
              "2  [850000, 875000]      PRIVADO       JIMENEZ POCOCI LIMON   MASC   \n",
              "\n",
              "               ubicacion_electoral salario_inferior salario_superior  edad  \n",
              "0  SAN JOSE DESAMPARADOS LOS GUIDO           275000           300000    42  \n",
              "1               LIMON MATINA BATAN             None             None    50  \n",
              "2              LIMON POCOCI ROXANA           850000           875000    60  "
            ]
          },
          "metadata": {},
          "execution_count": 408
        },
        {
          "output_type": "stream",
          "name": "stdout",
          "text": [
            "time: 28 ms (started: 2021-09-05 18:43:59 +00:00)\n"
          ]
        }
      ]
    },
    {
      "cell_type": "code",
      "metadata": {
        "colab": {
          "base_uri": "https://localhost:8080/"
        },
        "id": "9WOmXZYjrOuI",
        "outputId": "89460e29-80e4-4395-c301-be7e0f329928"
      },
      "source": [
        "df_4['Recuperable'] = df_4['estado_operacion'].map(lambda x: 'Si' if x == 'Activa' or x == 'Cancelada' else 'No')"
      ],
      "execution_count": 409,
      "outputs": [
        {
          "output_type": "stream",
          "name": "stdout",
          "text": [
            "time: 47.1 ms (started: 2021-09-05 18:43:59 +00:00)\n"
          ]
        },
        {
          "output_type": "stream",
          "name": "stderr",
          "text": [
            "/usr/local/lib/python3.7/dist-packages/ipykernel_launcher.py:1: SettingWithCopyWarning: \n",
            "A value is trying to be set on a copy of a slice from a DataFrame.\n",
            "Try using .loc[row_indexer,col_indexer] = value instead\n",
            "\n",
            "See the caveats in the documentation: https://pandas.pydata.org/pandas-docs/stable/user_guide/indexing.html#returning-a-view-versus-a-copy\n",
            "  \"\"\"Entry point for launching an IPython kernel.\n"
          ]
        }
      ]
    },
    {
      "cell_type": "code",
      "metadata": {
        "colab": {
          "base_uri": "https://localhost:8080/"
        },
        "id": "e0Lmc8virr6Z",
        "outputId": "b180006c-faf4-4297-f7d1-15499e6cb88f"
      },
      "source": [
        "df_4['Recuperable'].value_counts().values[1]"
      ],
      "execution_count": 410,
      "outputs": [
        {
          "output_type": "execute_result",
          "data": {
            "text/plain": [
              "18833"
            ]
          },
          "metadata": {},
          "execution_count": 410
        },
        {
          "output_type": "stream",
          "name": "stdout",
          "text": [
            "time: 24.4 ms (started: 2021-09-05 18:43:59 +00:00)\n"
          ]
        }
      ]
    },
    {
      "cell_type": "code",
      "metadata": {
        "id": "enF1rY9Ar0ed",
        "colab": {
          "base_uri": "https://localhost:8080/"
        },
        "outputId": "76052f3b-706a-4e67-9fbd-f6adaa8e6eb5"
      },
      "source": [
        "df_5 = df_4.query(\"Recuperable == 'Si'\")\n",
        "df_6 = df_4.query(\"Recuperable == 'No'\").sample(df_4['Recuperable'].value_counts().values[1])\n",
        "frames = [df_5, df_6]\n",
        "df_7 = pd.concat(frames)"
      ],
      "execution_count": 411,
      "outputs": [
        {
          "output_type": "stream",
          "name": "stdout",
          "text": [
            "time: 236 ms (started: 2021-09-05 18:43:59 +00:00)\n"
          ]
        }
      ]
    },
    {
      "cell_type": "code",
      "metadata": {
        "colab": {
          "base_uri": "https://localhost:8080/",
          "height": 297
        },
        "id": "1_30qAu-czUO",
        "outputId": "8c675133-b402-4a91-e7c5-59748e27713a"
      },
      "source": [
        "df_7.sample(3)"
      ],
      "execution_count": 412,
      "outputs": [
        {
          "output_type": "execute_result",
          "data": {
            "text/html": [
              "<div>\n",
              "<style scoped>\n",
              "    .dataframe tbody tr th:only-of-type {\n",
              "        vertical-align: middle;\n",
              "    }\n",
              "\n",
              "    .dataframe tbody tr th {\n",
              "        vertical-align: top;\n",
              "    }\n",
              "\n",
              "    .dataframe thead th {\n",
              "        text-align: right;\n",
              "    }\n",
              "</style>\n",
              "<table border=\"1\" class=\"dataframe\">\n",
              "  <thead>\n",
              "    <tr style=\"text-align: right;\">\n",
              "      <th></th>\n",
              "      <th>monto_original</th>\n",
              "      <th>saldo_capital</th>\n",
              "      <th>Cliente</th>\n",
              "      <th>ultima_gestion</th>\n",
              "      <th>fecha_nacimiento</th>\n",
              "      <th>estado_operacion</th>\n",
              "      <th>producto</th>\n",
              "      <th>cartera</th>\n",
              "      <th>tipo_cartera</th>\n",
              "      <th>descripcion_reaccion</th>\n",
              "      <th>fecha_ultima_pago</th>\n",
              "      <th>lugar_trabajo</th>\n",
              "      <th>salario</th>\n",
              "      <th>tipo_trabajo</th>\n",
              "      <th>lugar_nacimiento</th>\n",
              "      <th>genero</th>\n",
              "      <th>ubicacion_electoral</th>\n",
              "      <th>salario_inferior</th>\n",
              "      <th>salario_superior</th>\n",
              "      <th>edad</th>\n",
              "      <th>Recuperable</th>\n",
              "    </tr>\n",
              "  </thead>\n",
              "  <tbody>\n",
              "    <tr>\n",
              "      <th>43154</th>\n",
              "      <td>672.51</td>\n",
              "      <td>672.51</td>\n",
              "      <td>47887</td>\n",
              "      <td>2021</td>\n",
              "      <td>1988</td>\n",
              "      <td>Activa</td>\n",
              "      <td>Tarjetas</td>\n",
              "      <td>CREDIX</td>\n",
              "      <td>Propia</td>\n",
              "      <td>Promesa de Pago Confirmada</td>\n",
              "      <td>2021-07-30 00:00:00</td>\n",
              "      <td>IMPORTADORA INDUSTRIAL A UNO SOCIEDAD ANONIMA</td>\n",
              "      <td>[350000, 375000]</td>\n",
              "      <td>PRIVADO</td>\n",
              "      <td>URUCA CENTRAL SAN JOSE</td>\n",
              "      <td>MASC</td>\n",
              "      <td>SAN JOSE SANTA ANA LAGOS DE LINDORA</td>\n",
              "      <td>350000</td>\n",
              "      <td>375000</td>\n",
              "      <td>33</td>\n",
              "      <td>Si</td>\n",
              "    </tr>\n",
              "    <tr>\n",
              "      <th>214858</th>\n",
              "      <td>258.49</td>\n",
              "      <td>258.49</td>\n",
              "      <td>226803</td>\n",
              "      <td>2021</td>\n",
              "      <td>1981</td>\n",
              "      <td>Inactiva</td>\n",
              "      <td>Tarjetas</td>\n",
              "      <td>A-PROMERICA</td>\n",
              "      <td>Propia</td>\n",
              "      <td>Contacto indirecto</td>\n",
              "      <td>Sin pago registrado</td>\n",
              "      <td>GERARDINA SOLIS ARIAS</td>\n",
              "      <td>[275000, 300000]</td>\n",
              "      <td>PRIVADO</td>\n",
              "      <td>CARMEN CENTRAL SAN JOSE</td>\n",
              "      <td>FEM</td>\n",
              "      <td>SAN JOSE VAZQUEZ DE CORONADO SAN ISIDRO</td>\n",
              "      <td>275000</td>\n",
              "      <td>300000</td>\n",
              "      <td>40</td>\n",
              "      <td>No</td>\n",
              "    </tr>\n",
              "    <tr>\n",
              "      <th>220686</th>\n",
              "      <td>638.08</td>\n",
              "      <td>638.08</td>\n",
              "      <td>232868</td>\n",
              "      <td>2019</td>\n",
              "      <td>1976</td>\n",
              "      <td>Inactiva</td>\n",
              "      <td>Tarjetas</td>\n",
              "      <td>CITI</td>\n",
              "      <td>Propia</td>\n",
              "      <td>Contacto indirecto</td>\n",
              "      <td>Sin pago registrado</td>\n",
              "      <td>Sin trabajo</td>\n",
              "      <td>[]</td>\n",
              "      <td>Sin trabajo</td>\n",
              "      <td>CHACARITA CENTRAL PUNTARENAS</td>\n",
              "      <td>FEM</td>\n",
              "      <td>PUNTARENAS CENTRAL EL PROGRESO</td>\n",
              "      <td>None</td>\n",
              "      <td>None</td>\n",
              "      <td>45</td>\n",
              "      <td>No</td>\n",
              "    </tr>\n",
              "  </tbody>\n",
              "</table>\n",
              "</div>"
            ],
            "text/plain": [
              "        monto_original  saldo_capital  Cliente  ultima_gestion  \\\n",
              "43154           672.51         672.51    47887            2021   \n",
              "214858          258.49         258.49   226803            2021   \n",
              "220686          638.08         638.08   232868            2019   \n",
              "\n",
              "        fecha_nacimiento estado_operacion  producto      cartera tipo_cartera  \\\n",
              "43154               1988           Activa  Tarjetas       CREDIX       Propia   \n",
              "214858              1981         Inactiva  Tarjetas  A-PROMERICA       Propia   \n",
              "220686              1976         Inactiva  Tarjetas         CITI       Propia   \n",
              "\n",
              "              descripcion_reaccion    fecha_ultima_pago  \\\n",
              "43154   Promesa de Pago Confirmada  2021-07-30 00:00:00   \n",
              "214858          Contacto indirecto  Sin pago registrado   \n",
              "220686          Contacto indirecto  Sin pago registrado   \n",
              "\n",
              "                                        lugar_trabajo           salario  \\\n",
              "43154   IMPORTADORA INDUSTRIAL A UNO SOCIEDAD ANONIMA  [350000, 375000]   \n",
              "214858                          GERARDINA SOLIS ARIAS  [275000, 300000]   \n",
              "220686                                    Sin trabajo                []   \n",
              "\n",
              "       tipo_trabajo              lugar_nacimiento genero  \\\n",
              "43154       PRIVADO        URUCA CENTRAL SAN JOSE   MASC   \n",
              "214858      PRIVADO       CARMEN CENTRAL SAN JOSE    FEM   \n",
              "220686  Sin trabajo  CHACARITA CENTRAL PUNTARENAS    FEM   \n",
              "\n",
              "                            ubicacion_electoral salario_inferior  \\\n",
              "43154       SAN JOSE SANTA ANA LAGOS DE LINDORA           350000   \n",
              "214858  SAN JOSE VAZQUEZ DE CORONADO SAN ISIDRO           275000   \n",
              "220686           PUNTARENAS CENTRAL EL PROGRESO             None   \n",
              "\n",
              "       salario_superior  edad Recuperable  \n",
              "43154            375000    33          Si  \n",
              "214858           300000    40          No  \n",
              "220686             None    45          No  "
            ]
          },
          "metadata": {},
          "execution_count": 412
        },
        {
          "output_type": "stream",
          "name": "stdout",
          "text": [
            "time: 52.2 ms (started: 2021-09-05 18:43:59 +00:00)\n"
          ]
        }
      ]
    },
    {
      "cell_type": "code",
      "metadata": {
        "id": "8XfZN8_9seum",
        "colab": {
          "base_uri": "https://localhost:8080/"
        },
        "outputId": "6eebf12b-9487-46ff-b626-afd2ae1ab058"
      },
      "source": [
        "#df_7['ultimo_pago_binario'] = np.where(df_9['ultimo_pago'] > 0, 1, 0)"
      ],
      "execution_count": 413,
      "outputs": [
        {
          "output_type": "stream",
          "name": "stdout",
          "text": [
            "time: 1.07 ms (started: 2021-09-05 18:43:59 +00:00)\n"
          ]
        }
      ]
    },
    {
      "cell_type": "code",
      "metadata": {
        "colab": {
          "base_uri": "https://localhost:8080/",
          "height": 297
        },
        "id": "eWL-puWoIRiX",
        "outputId": "452aca5d-79cc-418a-8451-bc5188f5c36d"
      },
      "source": [
        "df_7.head(3)"
      ],
      "execution_count": 414,
      "outputs": [
        {
          "output_type": "execute_result",
          "data": {
            "text/html": [
              "<div>\n",
              "<style scoped>\n",
              "    .dataframe tbody tr th:only-of-type {\n",
              "        vertical-align: middle;\n",
              "    }\n",
              "\n",
              "    .dataframe tbody tr th {\n",
              "        vertical-align: top;\n",
              "    }\n",
              "\n",
              "    .dataframe thead th {\n",
              "        text-align: right;\n",
              "    }\n",
              "</style>\n",
              "<table border=\"1\" class=\"dataframe\">\n",
              "  <thead>\n",
              "    <tr style=\"text-align: right;\">\n",
              "      <th></th>\n",
              "      <th>monto_original</th>\n",
              "      <th>saldo_capital</th>\n",
              "      <th>Cliente</th>\n",
              "      <th>ultima_gestion</th>\n",
              "      <th>fecha_nacimiento</th>\n",
              "      <th>estado_operacion</th>\n",
              "      <th>producto</th>\n",
              "      <th>cartera</th>\n",
              "      <th>tipo_cartera</th>\n",
              "      <th>descripcion_reaccion</th>\n",
              "      <th>fecha_ultima_pago</th>\n",
              "      <th>lugar_trabajo</th>\n",
              "      <th>salario</th>\n",
              "      <th>tipo_trabajo</th>\n",
              "      <th>lugar_nacimiento</th>\n",
              "      <th>genero</th>\n",
              "      <th>ubicacion_electoral</th>\n",
              "      <th>salario_inferior</th>\n",
              "      <th>salario_superior</th>\n",
              "      <th>edad</th>\n",
              "      <th>Recuperable</th>\n",
              "    </tr>\n",
              "  </thead>\n",
              "  <tbody>\n",
              "    <tr>\n",
              "      <th>76</th>\n",
              "      <td>825.48</td>\n",
              "      <td>825.48</td>\n",
              "      <td>93</td>\n",
              "      <td>2021</td>\n",
              "      <td>1975</td>\n",
              "      <td>Activa</td>\n",
              "      <td>Tarjetas</td>\n",
              "      <td>CITI</td>\n",
              "      <td>Propia</td>\n",
              "      <td>Promesa de Pago</td>\n",
              "      <td>2021-08-25 00:00:00</td>\n",
              "      <td>ALVARADO FORERO JOHNNATAN</td>\n",
              "      <td>[275000, 300000]</td>\n",
              "      <td>PROPIO</td>\n",
              "      <td>CENTRO CENTRAL LIMON</td>\n",
              "      <td>MASC</td>\n",
              "      <td>HEREDIA BARVA PUENTE DE SALAS</td>\n",
              "      <td>275000</td>\n",
              "      <td>300000</td>\n",
              "      <td>46</td>\n",
              "      <td>Si</td>\n",
              "    </tr>\n",
              "    <tr>\n",
              "      <th>276</th>\n",
              "      <td>753.14</td>\n",
              "      <td>753.14</td>\n",
              "      <td>327</td>\n",
              "      <td>2021</td>\n",
              "      <td>1976</td>\n",
              "      <td>Activa</td>\n",
              "      <td>Tarjetas</td>\n",
              "      <td>CITI</td>\n",
              "      <td>Propia</td>\n",
              "      <td>Contacto sin Promesa</td>\n",
              "      <td>Sin pago registrado</td>\n",
              "      <td>ESTADO-MINISTERIO DE EDUCACION PUBLICA</td>\n",
              "      <td>[300000, 325000]</td>\n",
              "      <td>PUBLICO</td>\n",
              "      <td>GUAPILES POCOCI LIMON</td>\n",
              "      <td>FEM</td>\n",
              "      <td>LIMON POCOCI GUAPILES</td>\n",
              "      <td>300000</td>\n",
              "      <td>325000</td>\n",
              "      <td>45</td>\n",
              "      <td>Si</td>\n",
              "    </tr>\n",
              "    <tr>\n",
              "      <th>302</th>\n",
              "      <td>570.19</td>\n",
              "      <td>570.19</td>\n",
              "      <td>357</td>\n",
              "      <td>2021</td>\n",
              "      <td>1972</td>\n",
              "      <td>Activa</td>\n",
              "      <td>Maxima</td>\n",
              "      <td>SERVIVALORES</td>\n",
              "      <td>Propia</td>\n",
              "      <td>Promesa de Pago</td>\n",
              "      <td>2021-08-30 09:58:00</td>\n",
              "      <td>ROSY JEANNETTE DURAN MONGE</td>\n",
              "      <td>[1, 25000]</td>\n",
              "      <td>PRIVADO</td>\n",
              "      <td>HOSPITAL CENTRAL SAN JOSE</td>\n",
              "      <td>FEM</td>\n",
              "      <td>SAN JOSE ASERRI POAS</td>\n",
              "      <td>1</td>\n",
              "      <td>25000</td>\n",
              "      <td>49</td>\n",
              "      <td>Si</td>\n",
              "    </tr>\n",
              "  </tbody>\n",
              "</table>\n",
              "</div>"
            ],
            "text/plain": [
              "     monto_original  saldo_capital  Cliente  ultima_gestion  fecha_nacimiento  \\\n",
              "76           825.48         825.48       93            2021              1975   \n",
              "276          753.14         753.14      327            2021              1976   \n",
              "302          570.19         570.19      357            2021              1972   \n",
              "\n",
              "    estado_operacion  producto       cartera tipo_cartera  \\\n",
              "76            Activa  Tarjetas          CITI       Propia   \n",
              "276           Activa  Tarjetas          CITI       Propia   \n",
              "302           Activa    Maxima  SERVIVALORES       Propia   \n",
              "\n",
              "     descripcion_reaccion    fecha_ultima_pago  \\\n",
              "76        Promesa de Pago  2021-08-25 00:00:00   \n",
              "276  Contacto sin Promesa  Sin pago registrado   \n",
              "302       Promesa de Pago  2021-08-30 09:58:00   \n",
              "\n",
              "                              lugar_trabajo           salario tipo_trabajo  \\\n",
              "76                ALVARADO FORERO JOHNNATAN  [275000, 300000]       PROPIO   \n",
              "276  ESTADO-MINISTERIO DE EDUCACION PUBLICA  [300000, 325000]      PUBLICO   \n",
              "302              ROSY JEANNETTE DURAN MONGE        [1, 25000]      PRIVADO   \n",
              "\n",
              "              lugar_nacimiento genero            ubicacion_electoral  \\\n",
              "76        CENTRO CENTRAL LIMON   MASC  HEREDIA BARVA PUENTE DE SALAS   \n",
              "276      GUAPILES POCOCI LIMON    FEM          LIMON POCOCI GUAPILES   \n",
              "302  HOSPITAL CENTRAL SAN JOSE    FEM           SAN JOSE ASERRI POAS   \n",
              "\n",
              "    salario_inferior salario_superior  edad Recuperable  \n",
              "76            275000           300000    46          Si  \n",
              "276           300000           325000    45          Si  \n",
              "302                1            25000    49          Si  "
            ]
          },
          "metadata": {},
          "execution_count": 414
        },
        {
          "output_type": "stream",
          "name": "stdout",
          "text": [
            "time: 28.7 ms (started: 2021-09-05 18:43:59 +00:00)\n"
          ]
        }
      ]
    },
    {
      "cell_type": "code",
      "metadata": {
        "colab": {
          "base_uri": "https://localhost:8080/"
        },
        "id": "eegt26ke5uNC",
        "outputId": "81059dad-80ba-4629-9684-04d244ac46f2"
      },
      "source": [
        "df_8 = df_7.query(\"producto == 'Tarjetas'\")"
      ],
      "execution_count": 415,
      "outputs": [
        {
          "output_type": "stream",
          "name": "stdout",
          "text": [
            "time: 25.2 ms (started: 2021-09-05 18:43:59 +00:00)\n"
          ]
        }
      ]
    },
    {
      "cell_type": "code",
      "metadata": {
        "id": "KOFeHDAq5Mmy",
        "colab": {
          "base_uri": "https://localhost:8080/"
        },
        "outputId": "a757481f-432c-4a23-ef89-041c6b1921bc"
      },
      "source": [
        "df_9 = df_8.drop(['fecha_nacimiento', 'estado_operacion', 'producto','salario', 'lugar_trabajo'], axis = 1)"
      ],
      "execution_count": 416,
      "outputs": [
        {
          "output_type": "stream",
          "name": "stdout",
          "text": [
            "time: 18.7 ms (started: 2021-09-05 18:43:59 +00:00)\n"
          ]
        }
      ]
    },
    {
      "cell_type": "code",
      "metadata": {
        "colab": {
          "base_uri": "https://localhost:8080/",
          "height": 246
        },
        "id": "37K6xFPE6TWS",
        "outputId": "40b4da15-1784-4b77-fb4e-91311616a9ec"
      },
      "source": [
        "df_9.head(3)"
      ],
      "execution_count": 417,
      "outputs": [
        {
          "output_type": "execute_result",
          "data": {
            "text/html": [
              "<div>\n",
              "<style scoped>\n",
              "    .dataframe tbody tr th:only-of-type {\n",
              "        vertical-align: middle;\n",
              "    }\n",
              "\n",
              "    .dataframe tbody tr th {\n",
              "        vertical-align: top;\n",
              "    }\n",
              "\n",
              "    .dataframe thead th {\n",
              "        text-align: right;\n",
              "    }\n",
              "</style>\n",
              "<table border=\"1\" class=\"dataframe\">\n",
              "  <thead>\n",
              "    <tr style=\"text-align: right;\">\n",
              "      <th></th>\n",
              "      <th>monto_original</th>\n",
              "      <th>saldo_capital</th>\n",
              "      <th>Cliente</th>\n",
              "      <th>ultima_gestion</th>\n",
              "      <th>cartera</th>\n",
              "      <th>tipo_cartera</th>\n",
              "      <th>descripcion_reaccion</th>\n",
              "      <th>fecha_ultima_pago</th>\n",
              "      <th>tipo_trabajo</th>\n",
              "      <th>lugar_nacimiento</th>\n",
              "      <th>genero</th>\n",
              "      <th>ubicacion_electoral</th>\n",
              "      <th>salario_inferior</th>\n",
              "      <th>salario_superior</th>\n",
              "      <th>edad</th>\n",
              "      <th>Recuperable</th>\n",
              "    </tr>\n",
              "  </thead>\n",
              "  <tbody>\n",
              "    <tr>\n",
              "      <th>76</th>\n",
              "      <td>825.48</td>\n",
              "      <td>825.48</td>\n",
              "      <td>93</td>\n",
              "      <td>2021</td>\n",
              "      <td>CITI</td>\n",
              "      <td>Propia</td>\n",
              "      <td>Promesa de Pago</td>\n",
              "      <td>2021-08-25 00:00:00</td>\n",
              "      <td>PROPIO</td>\n",
              "      <td>CENTRO CENTRAL LIMON</td>\n",
              "      <td>MASC</td>\n",
              "      <td>HEREDIA BARVA PUENTE DE SALAS</td>\n",
              "      <td>275000</td>\n",
              "      <td>300000</td>\n",
              "      <td>46</td>\n",
              "      <td>Si</td>\n",
              "    </tr>\n",
              "    <tr>\n",
              "      <th>276</th>\n",
              "      <td>753.14</td>\n",
              "      <td>753.14</td>\n",
              "      <td>327</td>\n",
              "      <td>2021</td>\n",
              "      <td>CITI</td>\n",
              "      <td>Propia</td>\n",
              "      <td>Contacto sin Promesa</td>\n",
              "      <td>Sin pago registrado</td>\n",
              "      <td>PUBLICO</td>\n",
              "      <td>GUAPILES POCOCI LIMON</td>\n",
              "      <td>FEM</td>\n",
              "      <td>LIMON POCOCI GUAPILES</td>\n",
              "      <td>300000</td>\n",
              "      <td>325000</td>\n",
              "      <td>45</td>\n",
              "      <td>Si</td>\n",
              "    </tr>\n",
              "    <tr>\n",
              "      <th>330</th>\n",
              "      <td>20.54</td>\n",
              "      <td>10.31</td>\n",
              "      <td>388</td>\n",
              "      <td>0</td>\n",
              "      <td>CREDIQ</td>\n",
              "      <td>Propia</td>\n",
              "      <td>Traslado de cuenta (Distribución)</td>\n",
              "      <td>2020-07-30 00:00:00</td>\n",
              "      <td>PRIVADO</td>\n",
              "      <td>CENTRO CENTRAL PUNTARENAS</td>\n",
              "      <td>MASC</td>\n",
              "      <td>PUNTARENAS CENTRAL BARRIO EL CARMEN</td>\n",
              "      <td>125000</td>\n",
              "      <td>150000</td>\n",
              "      <td>30</td>\n",
              "      <td>Si</td>\n",
              "    </tr>\n",
              "  </tbody>\n",
              "</table>\n",
              "</div>"
            ],
            "text/plain": [
              "     monto_original  saldo_capital  Cliente  ultima_gestion cartera  \\\n",
              "76           825.48         825.48       93            2021    CITI   \n",
              "276          753.14         753.14      327            2021    CITI   \n",
              "330           20.54          10.31      388               0  CREDIQ   \n",
              "\n",
              "    tipo_cartera               descripcion_reaccion    fecha_ultima_pago  \\\n",
              "76        Propia                    Promesa de Pago  2021-08-25 00:00:00   \n",
              "276       Propia               Contacto sin Promesa  Sin pago registrado   \n",
              "330       Propia  Traslado de cuenta (Distribución)  2020-07-30 00:00:00   \n",
              "\n",
              "    tipo_trabajo           lugar_nacimiento genero  \\\n",
              "76        PROPIO       CENTRO CENTRAL LIMON   MASC   \n",
              "276      PUBLICO      GUAPILES POCOCI LIMON    FEM   \n",
              "330      PRIVADO  CENTRO CENTRAL PUNTARENAS   MASC   \n",
              "\n",
              "                     ubicacion_electoral salario_inferior salario_superior  \\\n",
              "76         HEREDIA BARVA PUENTE DE SALAS           275000           300000   \n",
              "276                LIMON POCOCI GUAPILES           300000           325000   \n",
              "330  PUNTARENAS CENTRAL BARRIO EL CARMEN           125000           150000   \n",
              "\n",
              "     edad Recuperable  \n",
              "76     46          Si  \n",
              "276    45          Si  \n",
              "330    30          Si  "
            ]
          },
          "metadata": {},
          "execution_count": 417
        },
        {
          "output_type": "stream",
          "name": "stdout",
          "text": [
            "time: 24.8 ms (started: 2021-09-05 18:43:59 +00:00)\n"
          ]
        }
      ]
    },
    {
      "cell_type": "code",
      "metadata": {
        "id": "t3zA-c-7e1VV",
        "colab": {
          "base_uri": "https://localhost:8080/"
        },
        "outputId": "f289f521-e8e6-4df1-a7f9-57c61cd5f935"
      },
      "source": [
        "df_10 = df_9"
      ],
      "execution_count": 418,
      "outputs": [
        {
          "output_type": "stream",
          "name": "stdout",
          "text": [
            "time: 1.36 ms (started: 2021-09-05 18:43:59 +00:00)\n"
          ]
        }
      ]
    },
    {
      "cell_type": "code",
      "metadata": {
        "colab": {
          "base_uri": "https://localhost:8080/"
        },
        "id": "QOtbYtSGfQAz",
        "outputId": "b51803b7-a337-43fd-e496-f7aa145870eb"
      },
      "source": [
        "df_10.shape"
      ],
      "execution_count": 419,
      "outputs": [
        {
          "output_type": "execute_result",
          "data": {
            "text/plain": [
              "(34953, 16)"
            ]
          },
          "metadata": {},
          "execution_count": 419
        },
        {
          "output_type": "stream",
          "name": "stdout",
          "text": [
            "time: 4.56 ms (started: 2021-09-05 18:43:59 +00:00)\n"
          ]
        }
      ]
    },
    {
      "cell_type": "code",
      "metadata": {
        "colab": {
          "base_uri": "https://localhost:8080/"
        },
        "id": "2kDEy5JVeucD",
        "outputId": "4d2dcbb4-3ac6-4dc2-9881-efb59203d948"
      },
      "source": [
        "#|SAN|S JOSE|NICARAGUA|COLOMBIA|VENEZUELA|PERU|CUBA|EL SALVADOR|ESTADOS UNIDOS|ECUADOR|REPUBLICA DOMINICANA|HONDURAS|ITALIA|PANAMA|AUSTRALIA|MEJICO|BRASIL|GUATEMALA|CANADA|MEXICO|CHILE|ARGENTINA|URUGUAY|ALEMANIA|CHINA|FILIPINAS|FRANCIA|CORREDORES|ABANGARES|BUENOS AIRES|SN JOSE|GOLFITO|CARRILLO|OSA|LIBERIA|ORO|TILARAN|NICOYA|BAGACES|ZELEDON|LA CRUZ|TURRUBARES|U S A|E E U U|E U A|USA|TAIWAN|BOLIVIA|RUMANIA|HAITI|IRAN|BELICE|MARRUECOS|PORTUGAL|JAPON|RUSIA|BELGICA|HUNGRIA|SUDAFRICA|SUIZA|UCRANIA|FINLANDIA|LIBANO|BULGARIA)'\n",
        "provinces = '(SAN JOSE|HEREDIA|ALAJUELA|GUANACASTE|PUNTARENAS|LIMON|CARTAGO)'\n",
        "df_10['lugar_nacimiento'].str.extract(provinces, expand=True).value_counts().values.sum()\n",
        "#df_10['provincia_nacimiento'] = "
      ],
      "execution_count": 420,
      "outputs": [
        {
          "output_type": "execute_result",
          "data": {
            "text/plain": [
              "31715"
            ]
          },
          "metadata": {},
          "execution_count": 420
        },
        {
          "output_type": "stream",
          "name": "stdout",
          "text": [
            "time: 86.5 ms (started: 2021-09-05 18:43:59 +00:00)\n"
          ]
        }
      ]
    },
    {
      "cell_type": "code",
      "metadata": {
        "id": "LACQX1S_foCM",
        "colab": {
          "base_uri": "https://localhost:8080/"
        },
        "outputId": "d3033415-c4e0-4af8-e3f3-50626cf0269a"
      },
      "source": [
        "#|SAN|S JOSE|NICARAGUA|COLOMBIA|VENEZUELA|PERU|CUBA|EL SALVADOR|ESTADOS UNIDOS|ECUADOR|REPUBLICA DOMINICANA|HONDURAS|ITALIA|PANAMA|AUSTRALIA|MEJICO|BRASIL|GUATEMALA|CANADA|MEXICO|CHILE|ARGENTINA|URUGUAY|ALEMANIA|CHINA|FILIPINAS|FRANCIA|CORREDORES|ABANGARES|BUENOS AIRES|SN JOSE|GOLFITO|CARRILLO|OSA|LIBERIA|ORO|TILARAN|NICOYA|BAGACES|ZELEDON|LA CRUZ|TURRUBARES|U S A|E E U U|E U A|USA|TAIWAN|BOLIVIA|RUMANIA|HAITI|IRAN|BELICE|MARRUECOS|PORTUGAL|JAPON|RUSIA|BELGICA|HUNGRIA|SUDAFRICA|SUIZA|UCRANIA|FINLANDIA|LIBANO|BULGARIA\n",
        "provinces = '(SAN JOSE|HEREDIA|ALAJUELA|GUANACASTE|PUNTARENAS|LIMON|CARTAGO)'\n",
        "df_10['ubicacion_electoral'] = df_10['ubicacion_electoral'].str.extract(provinces, expand=True)\n",
        "#df_10['provincia_nacimiento'] = "
      ],
      "execution_count": 421,
      "outputs": [
        {
          "output_type": "stream",
          "name": "stdout",
          "text": [
            "time: 630 ms (started: 2021-09-05 18:44:00 +00:00)\n"
          ]
        }
      ]
    },
    {
      "cell_type": "code",
      "metadata": {
        "colab": {
          "base_uri": "https://localhost:8080/"
        },
        "id": "lPYJxXx-f9Es",
        "outputId": "d1e284ad-9eb7-4985-c081-f05dbee70abb"
      },
      "source": [
        "df_10.info()"
      ],
      "execution_count": 422,
      "outputs": [
        {
          "output_type": "stream",
          "name": "stdout",
          "text": [
            "<class 'pandas.core.frame.DataFrame'>\n",
            "Int64Index: 34953 entries, 76 to 89660\n",
            "Data columns (total 16 columns):\n",
            " #   Column                Non-Null Count  Dtype  \n",
            "---  ------                --------------  -----  \n",
            " 0   monto_original        34953 non-null  float64\n",
            " 1   saldo_capital         34953 non-null  float64\n",
            " 2   Cliente               34953 non-null  int64  \n",
            " 3   ultima_gestion        34953 non-null  int64  \n",
            " 4   cartera               34953 non-null  object \n",
            " 5   tipo_cartera          34953 non-null  object \n",
            " 6   descripcion_reaccion  34953 non-null  object \n",
            " 7   fecha_ultima_pago     34953 non-null  object \n",
            " 8   tipo_trabajo          34953 non-null  object \n",
            " 9   lugar_nacimiento      34953 non-null  object \n",
            " 10  genero                34953 non-null  object \n",
            " 11  ubicacion_electoral   33740 non-null  object \n",
            " 12  salario_inferior      32093 non-null  object \n",
            " 13  salario_superior      32093 non-null  object \n",
            " 14  edad                  34953 non-null  int64  \n",
            " 15  Recuperable           34953 non-null  object \n",
            "dtypes: float64(2), int64(3), object(11)\n",
            "memory usage: 4.5+ MB\n",
            "time: 41.1 ms (started: 2021-09-05 18:44:00 +00:00)\n"
          ]
        }
      ]
    },
    {
      "cell_type": "code",
      "metadata": {
        "id": "aON7LolIh4Zq",
        "colab": {
          "base_uri": "https://localhost:8080/"
        },
        "outputId": "d0899f43-5cff-4146-b06f-d892affe236a"
      },
      "source": [
        "df_11 = df_10"
      ],
      "execution_count": 423,
      "outputs": [
        {
          "output_type": "stream",
          "name": "stdout",
          "text": [
            "time: 1.21 ms (started: 2021-09-05 18:44:00 +00:00)\n"
          ]
        }
      ]
    },
    {
      "cell_type": "code",
      "metadata": {
        "colab": {
          "base_uri": "https://localhost:8080/"
        },
        "id": "a35Jr3qCh-g1",
        "outputId": "7ce4855e-8499-4fdd-daad-f7dd57a0649d"
      },
      "source": [
        "df_11 = df_11.dropna()\n",
        "df_11.info()"
      ],
      "execution_count": 424,
      "outputs": [
        {
          "output_type": "stream",
          "name": "stdout",
          "text": [
            "<class 'pandas.core.frame.DataFrame'>\n",
            "Int64Index: 31744 entries, 76 to 89660\n",
            "Data columns (total 16 columns):\n",
            " #   Column                Non-Null Count  Dtype  \n",
            "---  ------                --------------  -----  \n",
            " 0   monto_original        31744 non-null  float64\n",
            " 1   saldo_capital         31744 non-null  float64\n",
            " 2   Cliente               31744 non-null  int64  \n",
            " 3   ultima_gestion        31744 non-null  int64  \n",
            " 4   cartera               31744 non-null  object \n",
            " 5   tipo_cartera          31744 non-null  object \n",
            " 6   descripcion_reaccion  31744 non-null  object \n",
            " 7   fecha_ultima_pago     31744 non-null  object \n",
            " 8   tipo_trabajo          31744 non-null  object \n",
            " 9   lugar_nacimiento      31744 non-null  object \n",
            " 10  genero                31744 non-null  object \n",
            " 11  ubicacion_electoral   31744 non-null  object \n",
            " 12  salario_inferior      31744 non-null  object \n",
            " 13  salario_superior      31744 non-null  object \n",
            " 14  edad                  31744 non-null  int64  \n",
            " 15  Recuperable           31744 non-null  object \n",
            "dtypes: float64(2), int64(3), object(11)\n",
            "memory usage: 4.1+ MB\n",
            "time: 77.2 ms (started: 2021-09-05 18:44:00 +00:00)\n"
          ]
        }
      ]
    },
    {
      "cell_type": "code",
      "metadata": {
        "id": "j6qSnDAEhkq0",
        "colab": {
          "base_uri": "https://localhost:8080/"
        },
        "outputId": "c94719e4-b919-471b-c66d-7f7f06a24f06"
      },
      "source": [
        "#delete lugar_nacimiento\n",
        "df_11 = df_11.drop('lugar_nacimiento', axis = 1)"
      ],
      "execution_count": 425,
      "outputs": [
        {
          "output_type": "stream",
          "name": "stdout",
          "text": [
            "time: 25.4 ms (started: 2021-09-05 18:44:00 +00:00)\n"
          ]
        }
      ]
    },
    {
      "cell_type": "code",
      "metadata": {
        "id": "A4sKibLLjx7X",
        "colab": {
          "base_uri": "https://localhost:8080/"
        },
        "outputId": "65ea37f7-2029-4ee3-d99f-483217f3a6e0"
      },
      "source": [
        "df_11 = df_11.replace({'Sin pago registrado': np.nan})"
      ],
      "execution_count": 426,
      "outputs": [
        {
          "output_type": "stream",
          "name": "stdout",
          "text": [
            "time: 100 ms (started: 2021-09-05 18:44:00 +00:00)\n"
          ]
        }
      ]
    },
    {
      "cell_type": "code",
      "metadata": {
        "colab": {
          "base_uri": "https://localhost:8080/",
          "height": 196
        },
        "id": "uA9lhxi-krKt",
        "outputId": "d8a35e41-502d-45e3-985e-d2246f764835"
      },
      "source": [
        "df_11.sample(3)"
      ],
      "execution_count": 427,
      "outputs": [
        {
          "output_type": "execute_result",
          "data": {
            "text/html": [
              "<div>\n",
              "<style scoped>\n",
              "    .dataframe tbody tr th:only-of-type {\n",
              "        vertical-align: middle;\n",
              "    }\n",
              "\n",
              "    .dataframe tbody tr th {\n",
              "        vertical-align: top;\n",
              "    }\n",
              "\n",
              "    .dataframe thead th {\n",
              "        text-align: right;\n",
              "    }\n",
              "</style>\n",
              "<table border=\"1\" class=\"dataframe\">\n",
              "  <thead>\n",
              "    <tr style=\"text-align: right;\">\n",
              "      <th></th>\n",
              "      <th>monto_original</th>\n",
              "      <th>saldo_capital</th>\n",
              "      <th>Cliente</th>\n",
              "      <th>ultima_gestion</th>\n",
              "      <th>cartera</th>\n",
              "      <th>tipo_cartera</th>\n",
              "      <th>descripcion_reaccion</th>\n",
              "      <th>fecha_ultima_pago</th>\n",
              "      <th>tipo_trabajo</th>\n",
              "      <th>genero</th>\n",
              "      <th>ubicacion_electoral</th>\n",
              "      <th>salario_inferior</th>\n",
              "      <th>salario_superior</th>\n",
              "      <th>edad</th>\n",
              "      <th>Recuperable</th>\n",
              "    </tr>\n",
              "  </thead>\n",
              "  <tbody>\n",
              "    <tr>\n",
              "      <th>118960</th>\n",
              "      <td>10998.40</td>\n",
              "      <td>10998.40</td>\n",
              "      <td>125575</td>\n",
              "      <td>2021</td>\n",
              "      <td>SCOTIABANK</td>\n",
              "      <td>Propia</td>\n",
              "      <td>Promesa de Pago Confirmada</td>\n",
              "      <td>2021-08-28 00:00:00</td>\n",
              "      <td>PRIVADO</td>\n",
              "      <td>FEM</td>\n",
              "      <td>SAN JOSE</td>\n",
              "      <td>250000</td>\n",
              "      <td>275000</td>\n",
              "      <td>28</td>\n",
              "      <td>Si</td>\n",
              "    </tr>\n",
              "    <tr>\n",
              "      <th>195137</th>\n",
              "      <td>145.32</td>\n",
              "      <td>145.32</td>\n",
              "      <td>206553</td>\n",
              "      <td>2021</td>\n",
              "      <td>SCOTIABANK</td>\n",
              "      <td>Propia</td>\n",
              "      <td>Contacto indirecto</td>\n",
              "      <td>NaN</td>\n",
              "      <td>PROPIO</td>\n",
              "      <td>FEM</td>\n",
              "      <td>LIMON</td>\n",
              "      <td>300000</td>\n",
              "      <td>325000</td>\n",
              "      <td>39</td>\n",
              "      <td>No</td>\n",
              "    </tr>\n",
              "    <tr>\n",
              "      <th>160988</th>\n",
              "      <td>738.28</td>\n",
              "      <td>727.35</td>\n",
              "      <td>170178</td>\n",
              "      <td>2021</td>\n",
              "      <td>DAVIVIENDA</td>\n",
              "      <td>Propia</td>\n",
              "      <td>Promesa de Pago</td>\n",
              "      <td>2021-08-27 00:00:00</td>\n",
              "      <td>PRIVADO</td>\n",
              "      <td>FEM</td>\n",
              "      <td>HEREDIA</td>\n",
              "      <td>150000</td>\n",
              "      <td>175000</td>\n",
              "      <td>30</td>\n",
              "      <td>Si</td>\n",
              "    </tr>\n",
              "  </tbody>\n",
              "</table>\n",
              "</div>"
            ],
            "text/plain": [
              "        monto_original  saldo_capital  Cliente  ultima_gestion     cartera  \\\n",
              "118960        10998.40       10998.40   125575            2021  SCOTIABANK   \n",
              "195137          145.32         145.32   206553            2021  SCOTIABANK   \n",
              "160988          738.28         727.35   170178            2021  DAVIVIENDA   \n",
              "\n",
              "       tipo_cartera        descripcion_reaccion    fecha_ultima_pago  \\\n",
              "118960       Propia  Promesa de Pago Confirmada  2021-08-28 00:00:00   \n",
              "195137       Propia          Contacto indirecto                  NaN   \n",
              "160988       Propia             Promesa de Pago  2021-08-27 00:00:00   \n",
              "\n",
              "       tipo_trabajo genero ubicacion_electoral salario_inferior  \\\n",
              "118960      PRIVADO    FEM            SAN JOSE           250000   \n",
              "195137       PROPIO    FEM               LIMON           300000   \n",
              "160988      PRIVADO    FEM             HEREDIA           150000   \n",
              "\n",
              "       salario_superior  edad Recuperable  \n",
              "118960           275000    28          Si  \n",
              "195137           325000    39          No  \n",
              "160988           175000    30          Si  "
            ]
          },
          "metadata": {},
          "execution_count": 427
        },
        {
          "output_type": "stream",
          "name": "stdout",
          "text": [
            "time: 19.5 ms (started: 2021-09-05 18:44:00 +00:00)\n"
          ]
        }
      ]
    },
    {
      "cell_type": "code",
      "metadata": {
        "id": "nHmkJnzIjgPm",
        "colab": {
          "base_uri": "https://localhost:8080/"
        },
        "outputId": "be2ae1ba-0642-41e2-c7c0-637c3c73512e"
      },
      "source": [
        "df_11['fecha_ultima_pago'] = df_11['fecha_ultima_pago'].apply(lambda x: pd.to_datetime(x, format='%Y%m%d'))                  \n",
        "                         "
      ],
      "execution_count": 428,
      "outputs": [
        {
          "output_type": "stream",
          "name": "stdout",
          "text": [
            "time: 8.2 s (started: 2021-09-05 18:44:01 +00:00)\n"
          ]
        }
      ]
    },
    {
      "cell_type": "code",
      "metadata": {
        "id": "nUmypSAGmHLS",
        "colab": {
          "base_uri": "https://localhost:8080/"
        },
        "outputId": "3c80921c-4699-435f-a505-473ab1c3c1fb"
      },
      "source": [
        "#df ['Month'] = df ['Col'].dt.year\n",
        "df_11['year_ultimo_pago'] = df_11['fecha_ultima_pago'].dt.year\n",
        "#.apply(lambda x: x.astype('int'))"
      ],
      "execution_count": 429,
      "outputs": [
        {
          "output_type": "stream",
          "name": "stdout",
          "text": [
            "time: 6.68 ms (started: 2021-09-05 18:44:09 +00:00)\n"
          ]
        }
      ]
    },
    {
      "cell_type": "code",
      "metadata": {
        "id": "NPBsAiBGnIpC",
        "colab": {
          "base_uri": "https://localhost:8080/"
        },
        "outputId": "23d7581a-1fd6-4a2c-adef-63aff5936158"
      },
      "source": [
        "#df_11.query(\"year_ultimo_pago > 0\")['year_ultimo_pago'].apply(lambda x: x.astype('int'))\n",
        "#df_11['year_ultimo_pago'].apply(lambda x: x if x == np.nan else int(x))\n",
        "df_11['year_ultimo_pago'] = df_11['year_ultimo_pago'].replace({np.nan: 0}).astype('int')"
      ],
      "execution_count": 430,
      "outputs": [
        {
          "output_type": "stream",
          "name": "stdout",
          "text": [
            "time: 6.1 ms (started: 2021-09-05 18:44:09 +00:00)\n"
          ]
        }
      ]
    },
    {
      "cell_type": "code",
      "metadata": {
        "id": "dMU7DJNtryNO",
        "colab": {
          "base_uri": "https://localhost:8080/"
        },
        "outputId": "8ab50657-4b1e-49ea-d10d-b58277b1b465"
      },
      "source": [
        "df_11 = df_11.drop('fecha_ultima_pago', axis = 1)"
      ],
      "execution_count": 431,
      "outputs": [
        {
          "output_type": "stream",
          "name": "stdout",
          "text": [
            "time: 14.4 ms (started: 2021-09-05 18:44:09 +00:00)\n"
          ]
        }
      ]
    },
    {
      "cell_type": "code",
      "metadata": {
        "colab": {
          "base_uri": "https://localhost:8080/",
          "height": 196
        },
        "id": "qPm-JlPhl6ns",
        "outputId": "2bc6b831-8276-4ca0-c36f-856078105c56"
      },
      "source": [
        "df_11.head(3)"
      ],
      "execution_count": 432,
      "outputs": [
        {
          "output_type": "execute_result",
          "data": {
            "text/html": [
              "<div>\n",
              "<style scoped>\n",
              "    .dataframe tbody tr th:only-of-type {\n",
              "        vertical-align: middle;\n",
              "    }\n",
              "\n",
              "    .dataframe tbody tr th {\n",
              "        vertical-align: top;\n",
              "    }\n",
              "\n",
              "    .dataframe thead th {\n",
              "        text-align: right;\n",
              "    }\n",
              "</style>\n",
              "<table border=\"1\" class=\"dataframe\">\n",
              "  <thead>\n",
              "    <tr style=\"text-align: right;\">\n",
              "      <th></th>\n",
              "      <th>monto_original</th>\n",
              "      <th>saldo_capital</th>\n",
              "      <th>Cliente</th>\n",
              "      <th>ultima_gestion</th>\n",
              "      <th>cartera</th>\n",
              "      <th>tipo_cartera</th>\n",
              "      <th>descripcion_reaccion</th>\n",
              "      <th>tipo_trabajo</th>\n",
              "      <th>genero</th>\n",
              "      <th>ubicacion_electoral</th>\n",
              "      <th>salario_inferior</th>\n",
              "      <th>salario_superior</th>\n",
              "      <th>edad</th>\n",
              "      <th>Recuperable</th>\n",
              "      <th>year_ultimo_pago</th>\n",
              "    </tr>\n",
              "  </thead>\n",
              "  <tbody>\n",
              "    <tr>\n",
              "      <th>76</th>\n",
              "      <td>825.48</td>\n",
              "      <td>825.48</td>\n",
              "      <td>93</td>\n",
              "      <td>2021</td>\n",
              "      <td>CITI</td>\n",
              "      <td>Propia</td>\n",
              "      <td>Promesa de Pago</td>\n",
              "      <td>PROPIO</td>\n",
              "      <td>MASC</td>\n",
              "      <td>HEREDIA</td>\n",
              "      <td>275000</td>\n",
              "      <td>300000</td>\n",
              "      <td>46</td>\n",
              "      <td>Si</td>\n",
              "      <td>2021</td>\n",
              "    </tr>\n",
              "    <tr>\n",
              "      <th>276</th>\n",
              "      <td>753.14</td>\n",
              "      <td>753.14</td>\n",
              "      <td>327</td>\n",
              "      <td>2021</td>\n",
              "      <td>CITI</td>\n",
              "      <td>Propia</td>\n",
              "      <td>Contacto sin Promesa</td>\n",
              "      <td>PUBLICO</td>\n",
              "      <td>FEM</td>\n",
              "      <td>LIMON</td>\n",
              "      <td>300000</td>\n",
              "      <td>325000</td>\n",
              "      <td>45</td>\n",
              "      <td>Si</td>\n",
              "      <td>0</td>\n",
              "    </tr>\n",
              "    <tr>\n",
              "      <th>330</th>\n",
              "      <td>20.54</td>\n",
              "      <td>10.31</td>\n",
              "      <td>388</td>\n",
              "      <td>0</td>\n",
              "      <td>CREDIQ</td>\n",
              "      <td>Propia</td>\n",
              "      <td>Traslado de cuenta (Distribución)</td>\n",
              "      <td>PRIVADO</td>\n",
              "      <td>MASC</td>\n",
              "      <td>PUNTARENAS</td>\n",
              "      <td>125000</td>\n",
              "      <td>150000</td>\n",
              "      <td>30</td>\n",
              "      <td>Si</td>\n",
              "      <td>2020</td>\n",
              "    </tr>\n",
              "  </tbody>\n",
              "</table>\n",
              "</div>"
            ],
            "text/plain": [
              "     monto_original  saldo_capital  Cliente  ultima_gestion cartera  \\\n",
              "76           825.48         825.48       93            2021    CITI   \n",
              "276          753.14         753.14      327            2021    CITI   \n",
              "330           20.54          10.31      388               0  CREDIQ   \n",
              "\n",
              "    tipo_cartera               descripcion_reaccion tipo_trabajo genero  \\\n",
              "76        Propia                    Promesa de Pago       PROPIO   MASC   \n",
              "276       Propia               Contacto sin Promesa      PUBLICO    FEM   \n",
              "330       Propia  Traslado de cuenta (Distribución)      PRIVADO   MASC   \n",
              "\n",
              "    ubicacion_electoral salario_inferior salario_superior  edad Recuperable  \\\n",
              "76              HEREDIA           275000           300000    46          Si   \n",
              "276               LIMON           300000           325000    45          Si   \n",
              "330          PUNTARENAS           125000           150000    30          Si   \n",
              "\n",
              "     year_ultimo_pago  \n",
              "76               2021  \n",
              "276                 0  \n",
              "330              2020  "
            ]
          },
          "metadata": {},
          "execution_count": 432
        },
        {
          "output_type": "stream",
          "name": "stdout",
          "text": [
            "time: 19.9 ms (started: 2021-09-05 18:44:09 +00:00)\n"
          ]
        }
      ]
    },
    {
      "cell_type": "code",
      "metadata": {
        "id": "Mp7KP0cRs60d",
        "colab": {
          "base_uri": "https://localhost:8080/"
        },
        "outputId": "0a0254d5-a020-44f0-b916-5dfe7413f4b2"
      },
      "source": [
        "df_final = df_11"
      ],
      "execution_count": 433,
      "outputs": [
        {
          "output_type": "stream",
          "name": "stdout",
          "text": [
            "time: 2.36 ms (started: 2021-09-05 18:44:09 +00:00)\n"
          ]
        }
      ]
    },
    {
      "cell_type": "code",
      "metadata": {
        "id": "sxA11iXDsKC_",
        "colab": {
          "base_uri": "https://localhost:8080/"
        },
        "outputId": "4cd880fe-a190-458a-ccde-88dfdb3d69da"
      },
      "source": [
        "df_final.to_csv('data_final.csv')"
      ],
      "execution_count": 434,
      "outputs": [
        {
          "output_type": "stream",
          "name": "stdout",
          "text": [
            "time: 259 ms (started: 2021-09-05 18:44:09 +00:00)\n"
          ]
        }
      ]
    },
    {
      "cell_type": "code",
      "metadata": {
        "colab": {
          "base_uri": "https://localhost:8080/"
        },
        "id": "MCJ3ztMuuqlo",
        "outputId": "7e9447e3-79d5-467e-eaf1-049331f2909a"
      },
      "source": [
        "df_final.info()"
      ],
      "execution_count": 435,
      "outputs": [
        {
          "output_type": "stream",
          "name": "stdout",
          "text": [
            "<class 'pandas.core.frame.DataFrame'>\n",
            "Int64Index: 31744 entries, 76 to 89660\n",
            "Data columns (total 15 columns):\n",
            " #   Column                Non-Null Count  Dtype  \n",
            "---  ------                --------------  -----  \n",
            " 0   monto_original        31744 non-null  float64\n",
            " 1   saldo_capital         31744 non-null  float64\n",
            " 2   Cliente               31744 non-null  int64  \n",
            " 3   ultima_gestion        31744 non-null  int64  \n",
            " 4   cartera               31744 non-null  object \n",
            " 5   tipo_cartera          31744 non-null  object \n",
            " 6   descripcion_reaccion  31744 non-null  object \n",
            " 7   tipo_trabajo          31744 non-null  object \n",
            " 8   genero                31744 non-null  object \n",
            " 9   ubicacion_electoral   31744 non-null  object \n",
            " 10  salario_inferior      31744 non-null  object \n",
            " 11  salario_superior      31744 non-null  object \n",
            " 12  edad                  31744 non-null  int64  \n",
            " 13  Recuperable           31744 non-null  object \n",
            " 14  year_ultimo_pago      31744 non-null  int64  \n",
            "dtypes: float64(2), int64(4), object(9)\n",
            "memory usage: 3.9+ MB\n",
            "time: 34.4 ms (started: 2021-09-05 18:44:09 +00:00)\n"
          ]
        }
      ]
    },
    {
      "cell_type": "markdown",
      "metadata": {
        "id": "u2ONRcxCte1o"
      },
      "source": [
        "############################################\n",
        "\n",
        "TERMINA ANALISIS DE DATOS\n",
        "\n",
        "\n",
        "###################################"
      ]
    },
    {
      "cell_type": "markdown",
      "metadata": {
        "id": "4vBpeASUtksb"
      },
      "source": [
        "## PCA"
      ]
    },
    {
      "cell_type": "markdown",
      "metadata": {
        "id": "bGQ_FMwKtoSH"
      },
      "source": [
        "##VISUALIZACIONES"
      ]
    },
    {
      "cell_type": "code",
      "metadata": {
        "id": "VaTxBRjqtds0"
      },
      "source": [
        ""
      ],
      "execution_count": 435,
      "outputs": []
    },
    {
      "cell_type": "code",
      "metadata": {
        "colab": {
          "base_uri": "https://localhost:8080/"
        },
        "id": "Jo197Sk4mAZf",
        "outputId": "96985ee1-e603-44fa-b845-4d5b33bb76e1"
      },
      "source": [
        "df_11.dtypes"
      ],
      "execution_count": 436,
      "outputs": [
        {
          "output_type": "execute_result",
          "data": {
            "text/plain": [
              "monto_original          float64\n",
              "saldo_capital           float64\n",
              "Cliente                   int64\n",
              "ultima_gestion            int64\n",
              "cartera                  object\n",
              "tipo_cartera             object\n",
              "descripcion_reaccion     object\n",
              "tipo_trabajo             object\n",
              "genero                   object\n",
              "ubicacion_electoral      object\n",
              "salario_inferior         object\n",
              "salario_superior         object\n",
              "edad                      int64\n",
              "Recuperable              object\n",
              "year_ultimo_pago          int64\n",
              "dtype: object"
            ]
          },
          "metadata": {},
          "execution_count": 436
        },
        {
          "output_type": "stream",
          "name": "stdout",
          "text": [
            "time: 9.42 ms (started: 2021-09-05 18:44:09 +00:00)\n"
          ]
        }
      ]
    },
    {
      "cell_type": "code",
      "metadata": {
        "colab": {
          "base_uri": "https://localhost:8080/",
          "height": 196
        },
        "id": "oloJeYW1iu14",
        "outputId": "638e9bd9-9ddb-4349-c699-59c0d554630b"
      },
      "source": [
        "df_11.head(3)"
      ],
      "execution_count": 437,
      "outputs": [
        {
          "output_type": "execute_result",
          "data": {
            "text/html": [
              "<div>\n",
              "<style scoped>\n",
              "    .dataframe tbody tr th:only-of-type {\n",
              "        vertical-align: middle;\n",
              "    }\n",
              "\n",
              "    .dataframe tbody tr th {\n",
              "        vertical-align: top;\n",
              "    }\n",
              "\n",
              "    .dataframe thead th {\n",
              "        text-align: right;\n",
              "    }\n",
              "</style>\n",
              "<table border=\"1\" class=\"dataframe\">\n",
              "  <thead>\n",
              "    <tr style=\"text-align: right;\">\n",
              "      <th></th>\n",
              "      <th>monto_original</th>\n",
              "      <th>saldo_capital</th>\n",
              "      <th>Cliente</th>\n",
              "      <th>ultima_gestion</th>\n",
              "      <th>cartera</th>\n",
              "      <th>tipo_cartera</th>\n",
              "      <th>descripcion_reaccion</th>\n",
              "      <th>tipo_trabajo</th>\n",
              "      <th>genero</th>\n",
              "      <th>ubicacion_electoral</th>\n",
              "      <th>salario_inferior</th>\n",
              "      <th>salario_superior</th>\n",
              "      <th>edad</th>\n",
              "      <th>Recuperable</th>\n",
              "      <th>year_ultimo_pago</th>\n",
              "    </tr>\n",
              "  </thead>\n",
              "  <tbody>\n",
              "    <tr>\n",
              "      <th>76</th>\n",
              "      <td>825.48</td>\n",
              "      <td>825.48</td>\n",
              "      <td>93</td>\n",
              "      <td>2021</td>\n",
              "      <td>CITI</td>\n",
              "      <td>Propia</td>\n",
              "      <td>Promesa de Pago</td>\n",
              "      <td>PROPIO</td>\n",
              "      <td>MASC</td>\n",
              "      <td>HEREDIA</td>\n",
              "      <td>275000</td>\n",
              "      <td>300000</td>\n",
              "      <td>46</td>\n",
              "      <td>Si</td>\n",
              "      <td>2021</td>\n",
              "    </tr>\n",
              "    <tr>\n",
              "      <th>276</th>\n",
              "      <td>753.14</td>\n",
              "      <td>753.14</td>\n",
              "      <td>327</td>\n",
              "      <td>2021</td>\n",
              "      <td>CITI</td>\n",
              "      <td>Propia</td>\n",
              "      <td>Contacto sin Promesa</td>\n",
              "      <td>PUBLICO</td>\n",
              "      <td>FEM</td>\n",
              "      <td>LIMON</td>\n",
              "      <td>300000</td>\n",
              "      <td>325000</td>\n",
              "      <td>45</td>\n",
              "      <td>Si</td>\n",
              "      <td>0</td>\n",
              "    </tr>\n",
              "    <tr>\n",
              "      <th>330</th>\n",
              "      <td>20.54</td>\n",
              "      <td>10.31</td>\n",
              "      <td>388</td>\n",
              "      <td>0</td>\n",
              "      <td>CREDIQ</td>\n",
              "      <td>Propia</td>\n",
              "      <td>Traslado de cuenta (Distribución)</td>\n",
              "      <td>PRIVADO</td>\n",
              "      <td>MASC</td>\n",
              "      <td>PUNTARENAS</td>\n",
              "      <td>125000</td>\n",
              "      <td>150000</td>\n",
              "      <td>30</td>\n",
              "      <td>Si</td>\n",
              "      <td>2020</td>\n",
              "    </tr>\n",
              "  </tbody>\n",
              "</table>\n",
              "</div>"
            ],
            "text/plain": [
              "     monto_original  saldo_capital  Cliente  ultima_gestion cartera  \\\n",
              "76           825.48         825.48       93            2021    CITI   \n",
              "276          753.14         753.14      327            2021    CITI   \n",
              "330           20.54          10.31      388               0  CREDIQ   \n",
              "\n",
              "    tipo_cartera               descripcion_reaccion tipo_trabajo genero  \\\n",
              "76        Propia                    Promesa de Pago       PROPIO   MASC   \n",
              "276       Propia               Contacto sin Promesa      PUBLICO    FEM   \n",
              "330       Propia  Traslado de cuenta (Distribución)      PRIVADO   MASC   \n",
              "\n",
              "    ubicacion_electoral salario_inferior salario_superior  edad Recuperable  \\\n",
              "76              HEREDIA           275000           300000    46          Si   \n",
              "276               LIMON           300000           325000    45          Si   \n",
              "330          PUNTARENAS           125000           150000    30          Si   \n",
              "\n",
              "     year_ultimo_pago  \n",
              "76               2021  \n",
              "276                 0  \n",
              "330              2020  "
            ]
          },
          "metadata": {},
          "execution_count": 437
        },
        {
          "output_type": "stream",
          "name": "stdout",
          "text": [
            "time: 18.8 ms (started: 2021-09-05 18:44:09 +00:00)\n"
          ]
        }
      ]
    },
    {
      "cell_type": "code",
      "metadata": {
        "colab": {
          "base_uri": "https://localhost:8080/"
        },
        "id": "61VKwyve7uu6",
        "outputId": "c06e8d96-a395-4b1a-d3ea-ed86c73c1f33"
      },
      "source": [
        "df_9['lugar_nacimiento'].value_counts()"
      ],
      "execution_count": 438,
      "outputs": [
        {
          "output_type": "execute_result",
          "data": {
            "text/plain": [
              "HOSPITAL CENTRAL SAN JOSE        8857\n",
              "CARMEN CENTRAL SAN JOSE          3745\n",
              "URUCA CENTRAL SAN JOSE           2246\n",
              "CENTRO CENTRAL ALAJUELA          1476\n",
              "CENTRO CENTRAL HEREDIA           1341\n",
              "                                 ... \n",
              "CERRO FRESCO CENTRAL                1\n",
              "JESUS MARIA SN MATEO ALAJUELA       1\n",
              "GUANGDONG CHINA                     1\n",
              "EL CHIRRIPO TURRIALBA CARTAGO       1\n",
              "MONTECRISTO UPALA ALAJUELA          1\n",
              "Name: lugar_nacimiento, Length: 1681, dtype: int64"
            ]
          },
          "metadata": {},
          "execution_count": 438
        },
        {
          "output_type": "stream",
          "name": "stdout",
          "text": [
            "time: 14 ms (started: 2021-09-05 18:44:09 +00:00)\n"
          ]
        }
      ]
    },
    {
      "cell_type": "code",
      "metadata": {
        "colab": {
          "base_uri": "https://localhost:8080/"
        },
        "id": "YYbCSoBOuZXE",
        "outputId": "135f714a-e13a-4d9d-c497-95559e2ebc9c"
      },
      "source": [
        "df_7['ubicacion_electoral'].value_counts()"
      ],
      "execution_count": 439,
      "outputs": [
        {
          "output_type": "execute_result",
          "data": {
            "text/plain": [
              "SAN JOSE GOICOECHEA GUADALUPE                       413\n",
              "SAN JOSE MORAVIA SAN VICENTE                        397\n",
              "SAN JOSE CENTRAL HATILLO                            329\n",
              "HEREDIA CENTRAL SAN FRANCISCO                       313\n",
              "SAN JOSE TIBAS SAN JUAN                             312\n",
              "                                                   ... \n",
              "LIMON SIQUIRRES BELLAVISTA                            1\n",
              "SAN JOSE ACOSTA GUAITIL                               1\n",
              "PUNTARENAS CENTRAL C.P. 26 DE JULIO (INDICIADOS)      1\n",
              "LIMON MATINA SAN MIGUEL                               1\n",
              "LIMON POCOCI CRUCE DE ROXANA (CRUCE DE ANABAN)        1\n",
              "Name: ubicacion_electoral, Length: 1544, dtype: int64"
            ]
          },
          "metadata": {},
          "execution_count": 439
        },
        {
          "output_type": "stream",
          "name": "stdout",
          "text": [
            "time: 17.3 ms (started: 2021-09-05 18:44:09 +00:00)\n"
          ]
        }
      ]
    },
    {
      "cell_type": "code",
      "metadata": {
        "id": "pDvswWPGHqae",
        "colab": {
          "base_uri": "https://localhost:8080/"
        },
        "outputId": "0333f3bd-15e2-4a83-a4a1-d85ef677dfc7"
      },
      "source": [
        "#se elimina los de defuncion 3036\n",
        "#df_5 = df_4.query(\"fecha_defuncion == 0\")\n",
        "# ver perfil pagador"
      ],
      "execution_count": 440,
      "outputs": [
        {
          "output_type": "stream",
          "name": "stdout",
          "text": [
            "time: 711 µs (started: 2021-09-05 18:44:09 +00:00)\n"
          ]
        }
      ]
    },
    {
      "cell_type": "code",
      "metadata": {
        "colab": {
          "base_uri": "https://localhost:8080/"
        },
        "id": "XZoABMX0Jki5",
        "outputId": "be53ee42-f863-407c-e552-bdfc5b0915a0"
      },
      "source": [
        "df_5.isnull().sum()[df_5.isnull().sum() > 0]"
      ],
      "execution_count": 441,
      "outputs": [
        {
          "output_type": "execute_result",
          "data": {
            "text/plain": [
              "ubicacion_electoral    367\n",
              "salario_inferior       956\n",
              "salario_superior       956\n",
              "dtype: int64"
            ]
          },
          "metadata": {},
          "execution_count": 441
        },
        {
          "output_type": "stream",
          "name": "stdout",
          "text": [
            "time: 49.7 ms (started: 2021-09-05 18:44:09 +00:00)\n"
          ]
        }
      ]
    },
    {
      "cell_type": "code",
      "metadata": {
        "colab": {
          "base_uri": "https://localhost:8080/"
        },
        "id": "wRvyH5dl0s28",
        "outputId": "9793b98a-8fb5-490c-fcd0-45767bc00dd2"
      },
      "source": [
        "df_6 = df_5.dropna()"
      ],
      "execution_count": 442,
      "outputs": [
        {
          "output_type": "stream",
          "name": "stdout",
          "text": [
            "time: 33.3 ms (started: 2021-09-05 18:44:09 +00:00)\n"
          ]
        }
      ]
    },
    {
      "cell_type": "code",
      "metadata": {
        "colab": {
          "base_uri": "https://localhost:8080/"
        },
        "id": "tf22q6LDzUxN",
        "outputId": "e8b0b2da-3f79-43e2-f2b5-bb0569b06ae4"
      },
      "source": [
        "df_6.dropna().shape, df_5.shape"
      ],
      "execution_count": 443,
      "outputs": [
        {
          "output_type": "execute_result",
          "data": {
            "text/plain": [
              "((17832, 21), (18833, 21))"
            ]
          },
          "metadata": {},
          "execution_count": 443
        },
        {
          "output_type": "stream",
          "name": "stdout",
          "text": [
            "time: 32.2 ms (started: 2021-09-05 18:44:09 +00:00)\n"
          ]
        }
      ]
    },
    {
      "cell_type": "code",
      "metadata": {
        "colab": {
          "base_uri": "https://localhost:8080/"
        },
        "id": "Z02T_duM0xZH",
        "outputId": "83858838-112f-45a3-c9db-fd396850aabd"
      },
      "source": [
        "df_6.info()"
      ],
      "execution_count": 444,
      "outputs": [
        {
          "output_type": "stream",
          "name": "stdout",
          "text": [
            "<class 'pandas.core.frame.DataFrame'>\n",
            "Int64Index: 17832 entries, 76 to 225209\n",
            "Data columns (total 21 columns):\n",
            " #   Column                Non-Null Count  Dtype  \n",
            "---  ------                --------------  -----  \n",
            " 0   monto_original        17832 non-null  float64\n",
            " 1   saldo_capital         17832 non-null  float64\n",
            " 2   Cliente               17832 non-null  int64  \n",
            " 3   ultima_gestion        17832 non-null  int64  \n",
            " 4   fecha_nacimiento      17832 non-null  int64  \n",
            " 5   estado_operacion      17832 non-null  object \n",
            " 6   producto              17832 non-null  object \n",
            " 7   cartera               17832 non-null  object \n",
            " 8   tipo_cartera          17832 non-null  object \n",
            " 9   descripcion_reaccion  17832 non-null  object \n",
            " 10  fecha_ultima_pago     17832 non-null  object \n",
            " 11  lugar_trabajo         17832 non-null  object \n",
            " 12  salario               17832 non-null  object \n",
            " 13  tipo_trabajo          17832 non-null  object \n",
            " 14  lugar_nacimiento      17832 non-null  object \n",
            " 15  genero                17832 non-null  object \n",
            " 16  ubicacion_electoral   17832 non-null  object \n",
            " 17  salario_inferior      17832 non-null  object \n",
            " 18  salario_superior      17832 non-null  object \n",
            " 19  edad                  17832 non-null  int64  \n",
            " 20  Recuperable           17832 non-null  object \n",
            "dtypes: float64(2), int64(4), object(15)\n",
            "memory usage: 3.0+ MB\n",
            "time: 36.9 ms (started: 2021-09-05 18:44:09 +00:00)\n"
          ]
        }
      ]
    },
    {
      "cell_type": "code",
      "metadata": {
        "colab": {
          "base_uri": "https://localhost:8080/"
        },
        "id": "soUynQrBJspP",
        "outputId": "0db88217-c085-4a03-ef2c-f80fa18e0269"
      },
      "source": [
        "#df_5[df_5['salario_inferior'].isna()].head(3)"
      ],
      "execution_count": 445,
      "outputs": [
        {
          "output_type": "stream",
          "name": "stdout",
          "text": [
            "time: 989 µs (started: 2021-09-05 18:44:09 +00:00)\n"
          ]
        }
      ]
    },
    {
      "cell_type": "code",
      "metadata": {
        "ExecuteTime": {
          "end_time": "2021-08-24T08:28:19.487465Z",
          "start_time": "2021-08-24T08:28:18.838487Z"
        },
        "id": "8qO73E2Njvs-",
        "colab": {
          "base_uri": "https://localhost:8080/"
        },
        "outputId": "9e5bdd13-bb2f-49b0-e567-5ebb48c7e23b"
      },
      "source": [
        "#provinces = '(SAN JOSE|HEREDIA|ALAJUELA|GUANACASTE|PUNTARENAS|LIMON|CARTAGO|SAN|S JOSE|NICARAGUA|COLOMBIA|VENEZUELA|PERU|CUBA|EL SALVADOR|ESTADOS UNIDOS|ECUADOR|REPUBLICA DOMINICANA|HONDURAS|ITALIA|PANAMA|AUSTRALIA|MEJICO|BRASIL|GUATEMALA|CANADA|MEXICO|CHILE|ARGENTINA|URUGUAY|ALEMANIA|CHINA|FILIPINAS|FRANCIA|CORREDORES|ABANGARES|BUENOS AIRES|SN JOSE|GOLFITO|CARRILLO|OSA|LIBERIA|ORO|TILARAN|NICOYA|BAGACES|ZELEDON|LA CRUZ|TURRUBARES|U S A|E E U U|E U A|USA|TAIWAN|BOLIVIA|RUMANIA|HAITI|IRAN|BELICE|MARRUECOS|PORTUGAL|JAPON|RUSIA|BELGICA|HUNGRIA|SUDAFRICA|SUIZA|UCRANIA|FINLANDIA|LIBANO|BULGARIA)'\n",
        "#df_object['provincia_nacimiento'] = df_object['lugarnacimiento'].str.extract(provinces, expand=True)"
      ],
      "execution_count": 446,
      "outputs": [
        {
          "output_type": "stream",
          "name": "stdout",
          "text": [
            "time: 806 µs (started: 2021-09-05 18:44:09 +00:00)\n"
          ]
        }
      ]
    },
    {
      "cell_type": "markdown",
      "metadata": {
        "id": "T0gwaLM3HnDg"
      },
      "source": [
        "deuda rural o no, \n",
        "ralizar un diciconario\n",
        "estandarizacion de datos\n",
        "key el pais y zona rural (1 y 0)\n",
        "dict = {'USA': {name: 'USA', zona_rural: 1},\n",
        "          {EEUU: {name: 'USA', zona_rural: 0}}"
      ]
    },
    {
      "cell_type": "markdown",
      "metadata": {
        "id": "5_kQgn-YIfRG"
      },
      "source": [
        "PCA\n",
        "K means clusterizar\n",
        "Elbow, Silouette\n",
        "\n",
        "Alto, medio, bajo\n",
        "\n",
        "get_dummies\n",
        "\n",
        "\n",
        "Clasificacion -Arboles de decision \n",
        "\n",
        "\n",
        "Intro \n",
        "ver dispersion, asociacion, variables relevantes\n",
        "linealidad\n",
        "\n",
        "\n",
        "\n",
        "MAS GRAFICOS (EXPLORACION DE DATOS)\n",
        "\n",
        "JUEVES, 09 SEPTIEMBRE (FALTA ANALISIS DESCRIPTIVO) - 18h\n",
        "PRESENTAR GRAFICOS \n",
        "JUSTIFICAR, conclusiones, patrones, variables que son buenas para predecir varialbe objetivo\n",
        "\n",
        "CREAR PERFIL PAGADOR \n",
        "\n",
        "\n",
        "\n",
        "\n",
        "\n",
        "\n"
      ]
    },
    {
      "cell_type": "code",
      "metadata": {
        "ExecuteTime": {
          "end_time": "2021-08-24T08:22:11.876550Z",
          "start_time": "2021-08-24T08:22:11.616182Z"
        },
        "id": "WLnuhZO_jvs_",
        "colab": {
          "base_uri": "https://localhost:8080/"
        },
        "outputId": "6b6ea8ea-13a3-4c41-c67b-4e3a522e7b2d"
      },
      "source": [
        "#pd.set_option('display.max_rows', None)\n",
        "#df_object['lugarnacimiento'].value_counts()"
      ],
      "execution_count": 447,
      "outputs": [
        {
          "output_type": "stream",
          "name": "stdout",
          "text": [
            "time: 2.72 ms (started: 2021-09-05 18:44:09 +00:00)\n"
          ]
        }
      ]
    },
    {
      "cell_type": "code",
      "metadata": {
        "ExecuteTime": {
          "end_time": "2021-08-24T09:47:00.001681Z",
          "start_time": "2021-08-24T09:46:59.945678Z"
        },
        "id": "V0d-RVDVjvs_",
        "colab": {
          "base_uri": "https://localhost:8080/"
        },
        "outputId": "723ad408-36b7-4a22-e511-1e05ba96b5e9"
      },
      "source": [
        "#df_object.query(\"provincia_nacimiento == np.nan\")\n",
        "#pd.set_option('display.max_rows', None)\n",
        "#df_object[df_object['provincia_nacimiento'].isna()]['lugarnacimiento'].value_counts()"
      ],
      "execution_count": 448,
      "outputs": [
        {
          "output_type": "stream",
          "name": "stdout",
          "text": [
            "time: 1.61 ms (started: 2021-09-05 18:44:09 +00:00)\n"
          ]
        }
      ]
    },
    {
      "cell_type": "code",
      "metadata": {
        "ExecuteTime": {
          "end_time": "2021-08-24T08:35:03.431751Z",
          "start_time": "2021-08-24T08:35:03.330754Z"
        },
        "id": "HMzlilpYjvtA",
        "colab": {
          "base_uri": "https://localhost:8080/"
        },
        "outputId": "9f02ac93-71f6-4e9c-d496-e14f0dbf7239"
      },
      "source": [
        "#df_object['ubicacionelectoral'].value_counts()"
      ],
      "execution_count": 449,
      "outputs": [
        {
          "output_type": "stream",
          "name": "stdout",
          "text": [
            "time: 978 µs (started: 2021-09-05 18:44:09 +00:00)\n"
          ]
        }
      ]
    },
    {
      "cell_type": "code",
      "metadata": {
        "id": "inw0r2F_x3LQ",
        "colab": {
          "base_uri": "https://localhost:8080/"
        },
        "outputId": "4dcbd94f-c229-4a00-a5b4-f747f85a6b9b"
      },
      "source": [
        "#provinces = '(SAN JOSE|HEREDIA|ALAJUELA|GUANACASTE|PUNTARENAS|LIMON|CARTAGO|SAN|S JOSE|NICARAGUA|COLOMBIA|VENEZUELA|PERU|CUBA|EL SALVADOR|ESTADOS UNIDOS|ECUADOR|REPUBLICA DOMINICANA|HONDURAS|ITALIA|PANAMA|AUSTRALIA|MEJICO|BRASIL|GUATEMALA|CANADA|MEXICO|CHILE|ARGENTINA|URUGUAY|ALEMANIA|CHINA|FILIPINAS|FRANCIA|CORREDORES|ABANGARES|BUENOS AIRES|SN JOSE|GOLFITO|CARRILLO|OSA|LIBERIA|ORO|TILARAN|NICOYA|BAGACES|ZELEDON|LA CRUZ|TURRUBARES|U S A|E E U U|E U A|USA|TAIWAN|BOLIVIA|RUMANIA|HAITI|IRAN|BELICE|MARRUECOS|PORTUGAL|JAPON|RUSIA|BELGICA|HUNGRIA|SUDAFRICA|SUIZA|UCRANIA|FINLANDIA|LIBANO|BULGARIA)'\n",
        "#df_object['provincia_residencia'] = df_object['ubicacionelectoral'].str.extract(provinces, expand=True)"
      ],
      "execution_count": 450,
      "outputs": [
        {
          "output_type": "stream",
          "name": "stdout",
          "text": [
            "time: 1.94 ms (started: 2021-09-05 18:44:10 +00:00)\n"
          ]
        }
      ]
    },
    {
      "cell_type": "code",
      "metadata": {
        "id": "Me32RDzgx_q1",
        "colab": {
          "base_uri": "https://localhost:8080/"
        },
        "outputId": "36015d26-dc6c-4dec-f69b-0f8a852d0b1d"
      },
      "source": [
        "#df_object['provincia_residencia'].value_counts()"
      ],
      "execution_count": 451,
      "outputs": [
        {
          "output_type": "stream",
          "name": "stdout",
          "text": [
            "time: 980 µs (started: 2021-09-05 18:44:10 +00:00)\n"
          ]
        }
      ]
    },
    {
      "cell_type": "code",
      "metadata": {
        "ExecuteTime": {
          "end_time": "2021-08-24T07:36:59.480898Z",
          "start_time": "2021-08-24T07:36:59.444924Z"
        },
        "id": "RXRx_KfgjvtB",
        "colab": {
          "base_uri": "https://localhost:8080/"
        },
        "outputId": "8b3856eb-e397-489c-9f82-28fe2ff32e0f"
      },
      "source": [
        "#df_object['ubicacionelectoral'].value_counts()"
      ],
      "execution_count": 452,
      "outputs": [
        {
          "output_type": "stream",
          "name": "stdout",
          "text": [
            "time: 844 µs (started: 2021-09-05 18:44:10 +00:00)\n"
          ]
        }
      ]
    },
    {
      "cell_type": "code",
      "metadata": {
        "colab": {
          "base_uri": "https://localhost:8080/"
        },
        "id": "JGhqOo7e5Ps-",
        "outputId": "4461f69b-608d-42ca-b7e6-4191ec06b4f7"
      },
      "source": [
        "df_6.shape[0]"
      ],
      "execution_count": 453,
      "outputs": [
        {
          "output_type": "execute_result",
          "data": {
            "text/plain": [
              "17832"
            ]
          },
          "metadata": {},
          "execution_count": 453
        },
        {
          "output_type": "stream",
          "name": "stdout",
          "text": [
            "time: 8.17 ms (started: 2021-09-05 18:44:10 +00:00)\n"
          ]
        }
      ]
    },
    {
      "cell_type": "code",
      "metadata": {
        "ExecuteTime": {
          "end_time": "2021-07-27T10:26:18.496764Z",
          "start_time": "2021-07-27T10:26:18.480768Z"
        },
        "id": "n1LolrpQjvtC",
        "colab": {
          "base_uri": "https://localhost:8080/"
        },
        "outputId": "4f7927be-f5e2-4218-a722-cd052f089e35"
      },
      "source": [
        "def count_plot(x_value, hue_, data_, title, x_label, y_label, displacement, size):\n",
        "    ax = sns.countplot(x = x_value, hue = hue_, data = data_)\n",
        "    ax.set_title(title, fontsize = 20)\n",
        "    ax.set_xlabel(x_label)\n",
        "    ax.set_ylabel(y_label)\n",
        "    \n",
        "    for el in ax.patches:\n",
        "        ax.annotate(round((el.get_height() / data_.shape[0]) * 100 , 2) , (el.get_x() + displacement, el.get_height()), color = 'black', size = size)\n",
        "    return plt.show();"
      ],
      "execution_count": 454,
      "outputs": [
        {
          "output_type": "stream",
          "name": "stdout",
          "text": [
            "time: 19 ms (started: 2021-09-05 18:44:10 +00:00)\n"
          ]
        }
      ]
    },
    {
      "cell_type": "code",
      "metadata": {
        "colab": {
          "base_uri": "https://localhost:8080/",
          "height": 297
        },
        "id": "xfVvDiFC3e0d",
        "outputId": "cca0971c-5f15-4a88-ee4a-3ad14d8fbd85"
      },
      "source": [
        "df_6.head(3)"
      ],
      "execution_count": 455,
      "outputs": [
        {
          "output_type": "execute_result",
          "data": {
            "text/html": [
              "<div>\n",
              "<style scoped>\n",
              "    .dataframe tbody tr th:only-of-type {\n",
              "        vertical-align: middle;\n",
              "    }\n",
              "\n",
              "    .dataframe tbody tr th {\n",
              "        vertical-align: top;\n",
              "    }\n",
              "\n",
              "    .dataframe thead th {\n",
              "        text-align: right;\n",
              "    }\n",
              "</style>\n",
              "<table border=\"1\" class=\"dataframe\">\n",
              "  <thead>\n",
              "    <tr style=\"text-align: right;\">\n",
              "      <th></th>\n",
              "      <th>monto_original</th>\n",
              "      <th>saldo_capital</th>\n",
              "      <th>Cliente</th>\n",
              "      <th>ultima_gestion</th>\n",
              "      <th>fecha_nacimiento</th>\n",
              "      <th>estado_operacion</th>\n",
              "      <th>producto</th>\n",
              "      <th>cartera</th>\n",
              "      <th>tipo_cartera</th>\n",
              "      <th>descripcion_reaccion</th>\n",
              "      <th>fecha_ultima_pago</th>\n",
              "      <th>lugar_trabajo</th>\n",
              "      <th>salario</th>\n",
              "      <th>tipo_trabajo</th>\n",
              "      <th>lugar_nacimiento</th>\n",
              "      <th>genero</th>\n",
              "      <th>ubicacion_electoral</th>\n",
              "      <th>salario_inferior</th>\n",
              "      <th>salario_superior</th>\n",
              "      <th>edad</th>\n",
              "      <th>Recuperable</th>\n",
              "    </tr>\n",
              "  </thead>\n",
              "  <tbody>\n",
              "    <tr>\n",
              "      <th>76</th>\n",
              "      <td>825.48</td>\n",
              "      <td>825.48</td>\n",
              "      <td>93</td>\n",
              "      <td>2021</td>\n",
              "      <td>1975</td>\n",
              "      <td>Activa</td>\n",
              "      <td>Tarjetas</td>\n",
              "      <td>CITI</td>\n",
              "      <td>Propia</td>\n",
              "      <td>Promesa de Pago</td>\n",
              "      <td>2021-08-25 00:00:00</td>\n",
              "      <td>ALVARADO FORERO JOHNNATAN</td>\n",
              "      <td>[275000, 300000]</td>\n",
              "      <td>PROPIO</td>\n",
              "      <td>CENTRO CENTRAL LIMON</td>\n",
              "      <td>MASC</td>\n",
              "      <td>HEREDIA BARVA PUENTE DE SALAS</td>\n",
              "      <td>275000</td>\n",
              "      <td>300000</td>\n",
              "      <td>46</td>\n",
              "      <td>Si</td>\n",
              "    </tr>\n",
              "    <tr>\n",
              "      <th>276</th>\n",
              "      <td>753.14</td>\n",
              "      <td>753.14</td>\n",
              "      <td>327</td>\n",
              "      <td>2021</td>\n",
              "      <td>1976</td>\n",
              "      <td>Activa</td>\n",
              "      <td>Tarjetas</td>\n",
              "      <td>CITI</td>\n",
              "      <td>Propia</td>\n",
              "      <td>Contacto sin Promesa</td>\n",
              "      <td>Sin pago registrado</td>\n",
              "      <td>ESTADO-MINISTERIO DE EDUCACION PUBLICA</td>\n",
              "      <td>[300000, 325000]</td>\n",
              "      <td>PUBLICO</td>\n",
              "      <td>GUAPILES POCOCI LIMON</td>\n",
              "      <td>FEM</td>\n",
              "      <td>LIMON POCOCI GUAPILES</td>\n",
              "      <td>300000</td>\n",
              "      <td>325000</td>\n",
              "      <td>45</td>\n",
              "      <td>Si</td>\n",
              "    </tr>\n",
              "    <tr>\n",
              "      <th>302</th>\n",
              "      <td>570.19</td>\n",
              "      <td>570.19</td>\n",
              "      <td>357</td>\n",
              "      <td>2021</td>\n",
              "      <td>1972</td>\n",
              "      <td>Activa</td>\n",
              "      <td>Maxima</td>\n",
              "      <td>SERVIVALORES</td>\n",
              "      <td>Propia</td>\n",
              "      <td>Promesa de Pago</td>\n",
              "      <td>2021-08-30 09:58:00</td>\n",
              "      <td>ROSY JEANNETTE DURAN MONGE</td>\n",
              "      <td>[1, 25000]</td>\n",
              "      <td>PRIVADO</td>\n",
              "      <td>HOSPITAL CENTRAL SAN JOSE</td>\n",
              "      <td>FEM</td>\n",
              "      <td>SAN JOSE ASERRI POAS</td>\n",
              "      <td>1</td>\n",
              "      <td>25000</td>\n",
              "      <td>49</td>\n",
              "      <td>Si</td>\n",
              "    </tr>\n",
              "  </tbody>\n",
              "</table>\n",
              "</div>"
            ],
            "text/plain": [
              "     monto_original  saldo_capital  Cliente  ultima_gestion  fecha_nacimiento  \\\n",
              "76           825.48         825.48       93            2021              1975   \n",
              "276          753.14         753.14      327            2021              1976   \n",
              "302          570.19         570.19      357            2021              1972   \n",
              "\n",
              "    estado_operacion  producto       cartera tipo_cartera  \\\n",
              "76            Activa  Tarjetas          CITI       Propia   \n",
              "276           Activa  Tarjetas          CITI       Propia   \n",
              "302           Activa    Maxima  SERVIVALORES       Propia   \n",
              "\n",
              "     descripcion_reaccion    fecha_ultima_pago  \\\n",
              "76        Promesa de Pago  2021-08-25 00:00:00   \n",
              "276  Contacto sin Promesa  Sin pago registrado   \n",
              "302       Promesa de Pago  2021-08-30 09:58:00   \n",
              "\n",
              "                              lugar_trabajo           salario tipo_trabajo  \\\n",
              "76                ALVARADO FORERO JOHNNATAN  [275000, 300000]       PROPIO   \n",
              "276  ESTADO-MINISTERIO DE EDUCACION PUBLICA  [300000, 325000]      PUBLICO   \n",
              "302              ROSY JEANNETTE DURAN MONGE        [1, 25000]      PRIVADO   \n",
              "\n",
              "              lugar_nacimiento genero            ubicacion_electoral  \\\n",
              "76        CENTRO CENTRAL LIMON   MASC  HEREDIA BARVA PUENTE DE SALAS   \n",
              "276      GUAPILES POCOCI LIMON    FEM          LIMON POCOCI GUAPILES   \n",
              "302  HOSPITAL CENTRAL SAN JOSE    FEM           SAN JOSE ASERRI POAS   \n",
              "\n",
              "    salario_inferior salario_superior  edad Recuperable  \n",
              "76            275000           300000    46          Si  \n",
              "276           300000           325000    45          Si  \n",
              "302                1            25000    49          Si  "
            ]
          },
          "metadata": {},
          "execution_count": 455
        },
        {
          "output_type": "stream",
          "name": "stdout",
          "text": [
            "time: 53 ms (started: 2021-09-05 18:44:10 +00:00)\n"
          ]
        }
      ]
    },
    {
      "cell_type": "code",
      "metadata": {
        "colab": {
          "base_uri": "https://localhost:8080/"
        },
        "id": "2VVCbeZO2VT8",
        "outputId": "564fe301-ca4c-43b5-b924-2afb4c6105a3"
      },
      "source": [
        "df_6.keys()"
      ],
      "execution_count": 456,
      "outputs": [
        {
          "output_type": "execute_result",
          "data": {
            "text/plain": [
              "Index(['monto_original', 'saldo_capital', 'Cliente', 'ultima_gestion',\n",
              "       'fecha_nacimiento', 'estado_operacion', 'producto', 'cartera',\n",
              "       'tipo_cartera', 'descripcion_reaccion', 'fecha_ultima_pago',\n",
              "       'lugar_trabajo', 'salario', 'tipo_trabajo', 'lugar_nacimiento',\n",
              "       'genero', 'ubicacion_electoral', 'salario_inferior', 'salario_superior',\n",
              "       'edad', 'Recuperable'],\n",
              "      dtype='object')"
            ]
          },
          "metadata": {},
          "execution_count": 456
        },
        {
          "output_type": "stream",
          "name": "stdout",
          "text": [
            "time: 5.94 ms (started: 2021-09-05 18:44:10 +00:00)\n"
          ]
        }
      ]
    },
    {
      "cell_type": "code",
      "metadata": {
        "colab": {
          "base_uri": "https://localhost:8080/"
        },
        "id": "r7BYJIME3XpX",
        "outputId": "af30dba8-9212-40a0-d55b-8028c4e5a3df"
      },
      "source": [
        "df_6.dtypes"
      ],
      "execution_count": 457,
      "outputs": [
        {
          "output_type": "execute_result",
          "data": {
            "text/plain": [
              "monto_original          float64\n",
              "saldo_capital           float64\n",
              "Cliente                   int64\n",
              "ultima_gestion            int64\n",
              "fecha_nacimiento          int64\n",
              "estado_operacion         object\n",
              "producto                 object\n",
              "cartera                  object\n",
              "tipo_cartera             object\n",
              "descripcion_reaccion     object\n",
              "fecha_ultima_pago        object\n",
              "lugar_trabajo            object\n",
              "salario                  object\n",
              "tipo_trabajo             object\n",
              "lugar_nacimiento         object\n",
              "genero                   object\n",
              "ubicacion_electoral      object\n",
              "salario_inferior         object\n",
              "salario_superior         object\n",
              "edad                      int64\n",
              "Recuperable              object\n",
              "dtype: object"
            ]
          },
          "metadata": {},
          "execution_count": 457
        },
        {
          "output_type": "stream",
          "name": "stdout",
          "text": [
            "time: 8.66 ms (started: 2021-09-05 18:44:10 +00:00)\n"
          ]
        }
      ]
    },
    {
      "cell_type": "code",
      "metadata": {
        "scrolled": true,
        "id": "3tcFvu-fjvtD",
        "colab": {
          "base_uri": "https://localhost:8080/",
          "height": 318
        },
        "outputId": "dbc96e6f-21ff-4ff4-c282-7fab14e931ab"
      },
      "source": [
        "count_plot(df_6.estado_operacion, None, df_6, 'Tipo de deudas', 'Estado de Opeacion', 'Count', 0.15, 14)"
      ],
      "execution_count": 458,
      "outputs": [
        {
          "output_type": "display_data",
          "data": {
            "image/png": "[encoded data removed]",
            "text/plain": [
              "<Figure size 432x288 with 1 Axes>"
            ]
          },
          "metadata": {
            "needs_background": "light"
          }
        },
        {
          "output_type": "stream",
          "name": "stdout",
          "text": [
            "time: 169 ms (started: 2021-09-05 18:44:10 +00:00)\n"
          ]
        }
      ]
    },
    {
      "cell_type": "code",
      "metadata": {
        "colab": {
          "base_uri": "https://localhost:8080/"
        },
        "id": "ve2LappBR3VT",
        "outputId": "347e2b3e-05d9-47a7-8225-c4f613b8e4d7"
      },
      "source": [
        "df_8.shape, df_7.shape"
      ],
      "execution_count": 459,
      "outputs": [
        {
          "output_type": "execute_result",
          "data": {
            "text/plain": [
              "((34953, 21), (37666, 21))"
            ]
          },
          "metadata": {},
          "execution_count": 459
        },
        {
          "output_type": "stream",
          "name": "stdout",
          "text": [
            "time: 5.14 ms (started: 2021-09-05 18:44:10 +00:00)\n"
          ]
        }
      ]
    },
    {
      "cell_type": "code",
      "metadata": {
        "colab": {
          "base_uri": "https://localhost:8080/"
        },
        "id": "t7zGDMTURPmV",
        "outputId": "5a0f1705-1b72-4ba5-998a-032700402c4a"
      },
      "source": [
        "frames = [df_7, df_8]\n",
        "df_9 = pd.concat(frames)"
      ],
      "execution_count": 460,
      "outputs": [
        {
          "output_type": "stream",
          "name": "stdout",
          "text": [
            "time: 57.7 ms (started: 2021-09-05 18:44:10 +00:00)\n"
          ]
        }
      ]
    },
    {
      "cell_type": "code",
      "metadata": {
        "id": "akuJqiXCjvtD",
        "colab": {
          "base_uri": "https://localhost:8080/",
          "height": 288
        },
        "outputId": "84158330-dfdc-4772-b475-e2e509f4c7d1"
      },
      "source": [
        "#count_plot(df2.PRO_DESCRIPCION, None, df2, 'Frecuencia de origen de deuda', 'Origen de deuda', 'Count', 0.15, 14)\n",
        "ax = sns.countplot(y = df_9['descripcion_reaccion'], data = df_9)\n",
        "ax.set_xticklabels(ax.get_xticklabels(), rotation = 90);"
      ],
      "execution_count": 461,
      "outputs": [
        {
          "output_type": "display_data",
          "data": {
            "image/png": "[encoded data removed]",
            "text/plain": [
              "<Figure size 432x288 with 1 Axes>"
            ]
          },
          "metadata": {
            "needs_background": "light"
          }
        },
        {
          "output_type": "stream",
          "name": "stdout",
          "text": [
            "time: 490 ms (started: 2021-09-05 18:44:10 +00:00)\n"
          ]
        }
      ]
    },
    {
      "cell_type": "code",
      "metadata": {
        "id": "uIu5A1xKjvtE",
        "colab": {
          "base_uri": "https://localhost:8080/",
          "height": 318
        },
        "outputId": "364821ad-7a33-475e-b978-dd7efeff1d1a"
      },
      "source": [
        "count_plot(df_9['genero'], df_9['Recuperable'], df_9, 'Generos', 'genero', 'Count', 0.04, 14)"
      ],
      "execution_count": 462,
      "outputs": [
        {
          "output_type": "display_data",
          "data": {
            "image/png": "[encoded data removed]",
            "text/plain": [
              "<Figure size 432x288 with 1 Axes>"
            ]
          },
          "metadata": {
            "needs_background": "light"
          }
        },
        {
          "output_type": "stream",
          "name": "stdout",
          "text": [
            "time: 308 ms (started: 2021-09-05 18:44:10 +00:00)\n"
          ]
        }
      ]
    },
    {
      "cell_type": "code",
      "metadata": {
        "id": "VJjskd9AjvtF",
        "colab": {
          "base_uri": "https://localhost:8080/"
        },
        "outputId": "62a19b36-ed10-4c98-bb5e-9588f3c80a98"
      },
      "source": [
        "#sns.displot(df2.monto_original, kind = 'hist',  binwidth = 3)"
      ],
      "execution_count": 463,
      "outputs": [
        {
          "output_type": "stream",
          "name": "stdout",
          "text": [
            "time: 897 µs (started: 2021-09-05 18:44:11 +00:00)\n"
          ]
        }
      ]
    },
    {
      "cell_type": "markdown",
      "metadata": {
        "id": "m2hYlckCjvtG"
      },
      "source": [
        "A continuación se muestra una pequeá muestra de los datos del dataset:"
      ]
    },
    {
      "cell_type": "code",
      "metadata": {
        "scrolled": true,
        "id": "hFrhRI5djvtG",
        "colab": {
          "base_uri": "https://localhost:8080/",
          "height": 318
        },
        "outputId": "f71c96da-9328-478b-f2dc-29ebbd36da45"
      },
      "source": [
        "count_plot(df_9['tipo_cartera'], df_9['Recuperable'], df_9, 'TCT Descripcion', 'TCT', 'Count', 0.15, 14)"
      ],
      "execution_count": 464,
      "outputs": [
        {
          "output_type": "display_data",
          "data": {
            "image/png": "[encoded data removed]",
            "text/plain": [
              "<Figure size 432x288 with 1 Axes>"
            ]
          },
          "metadata": {
            "needs_background": "light"
          }
        },
        {
          "output_type": "stream",
          "name": "stdout",
          "text": [
            "time: 299 ms (started: 2021-09-05 18:44:11 +00:00)\n"
          ]
        }
      ]
    },
    {
      "cell_type": "code",
      "metadata": {
        "id": "AXD5x_637ih_",
        "colab": {
          "base_uri": "https://localhost:8080/",
          "height": 286
        },
        "outputId": "0ddd4356-3551-4feb-fe1e-42a3df89c9e2"
      },
      "source": [
        "ax = sns.countplot(y = df_9['producto'], data = df_9)\n",
        "ax.set_xticklabels(ax.get_xticklabels(), rotation = 90);"
      ],
      "execution_count": 465,
      "outputs": [
        {
          "output_type": "display_data",
          "data": {
            "image/png": "[encoded data removed]",
            "text/plain": [
              "<Figure size 432x288 with 1 Axes>"
            ]
          },
          "metadata": {
            "needs_background": "light"
          }
        },
        {
          "output_type": "stream",
          "name": "stdout",
          "text": [
            "time: 363 ms (started: 2021-09-05 18:44:11 +00:00)\n"
          ]
        }
      ]
    },
    {
      "cell_type": "code",
      "metadata": {
        "id": "Q8Ch4E-X76N9",
        "colab": {
          "base_uri": "https://localhost:8080/",
          "height": 286
        },
        "outputId": "68851fef-a82c-4347-a377-c4f0218f380d"
      },
      "source": [
        "ax = sns.countplot(y = df_9['cartera'], data = df_9)\n",
        "ax.set_xticklabels(ax.get_xticklabels(), rotation = 90);"
      ],
      "execution_count": 466,
      "outputs": [
        {
          "output_type": "display_data",
          "data": {
            "image/png": "[encoded data removed]",
            "text/plain": [
              "<Figure size 432x288 with 1 Axes>"
            ]
          },
          "metadata": {
            "needs_background": "light"
          }
        },
        {
          "output_type": "stream",
          "name": "stdout",
          "text": [
            "time: 454 ms (started: 2021-09-05 18:44:11 +00:00)\n"
          ]
        }
      ]
    },
    {
      "cell_type": "code",
      "metadata": {
        "id": "97hfk9ae8AcR"
      },
      "source": [
        ""
      ],
      "execution_count": 466,
      "outputs": []
    },
    {
      "cell_type": "markdown",
      "metadata": {
        "id": "Htzfxa9FjvtH"
      },
      "source": [
        "El tipo de transaccion mas frecuente en el dataset es de tipo Propia. Esto es relevante?\n",
        "Quiere decir que las personas han generado su propia deuday no es de un tercero. En tarjetas de credito nopiden fiadores.\n",
        "\n",
        "Adminsitrada es con fiador."
      ]
    },
    {
      "cell_type": "code",
      "metadata": {
        "ExecuteTime": {
          "end_time": "2021-07-27T10:52:10.136294Z",
          "start_time": "2021-07-27T10:52:10.088294Z"
        },
        "id": "SjNJniiYjvtH",
        "colab": {
          "base_uri": "https://localhost:8080/"
        },
        "outputId": "89e28ba0-d31b-416d-f908-05704e4788f9"
      },
      "source": [
        "#df2['ultimo_pago'].value_counts()\n",
        "#df2['ultimo_pago'] = pd.to_datetime(df2['ultimo_pago'], format='%Y%m%d')\n",
        "#df_6['year_ultimo_pago'] = pd.DatetimeIndex(df_6['ultimo_pago']).year\n",
        "#df_6['year_ultimo_pago'] = df_6['year_ultimo_pago'].replace(np.nan, 0)\n",
        "#df_6['year_ultimo_pago'] = df_6['year_ultimo_pago'].astype('int')\n",
        "#ser.astype('category')"
      ],
      "execution_count": 467,
      "outputs": [
        {
          "output_type": "stream",
          "name": "stdout",
          "text": [
            "time: 2.06 ms (started: 2021-09-05 18:44:12 +00:00)\n"
          ]
        }
      ]
    },
    {
      "cell_type": "code",
      "metadata": {
        "id": "U6uWrsEautdB",
        "colab": {
          "base_uri": "https://localhost:8080/"
        },
        "outputId": "360aa41c-d2ed-40b1-dc19-e12b687debc3"
      },
      "source": [
        "df_6.keys()"
      ],
      "execution_count": 468,
      "outputs": [
        {
          "output_type": "execute_result",
          "data": {
            "text/plain": [
              "Index(['monto_original', 'saldo_capital', 'Cliente', 'ultima_gestion',\n",
              "       'fecha_nacimiento', 'estado_operacion', 'producto', 'cartera',\n",
              "       'tipo_cartera', 'descripcion_reaccion', 'fecha_ultima_pago',\n",
              "       'lugar_trabajo', 'salario', 'tipo_trabajo', 'lugar_nacimiento',\n",
              "       'genero', 'ubicacion_electoral', 'salario_inferior', 'salario_superior',\n",
              "       'edad', 'Recuperable'],\n",
              "      dtype='object')"
            ]
          },
          "metadata": {},
          "execution_count": 468
        },
        {
          "output_type": "stream",
          "name": "stdout",
          "text": [
            "time: 4.9 ms (started: 2021-09-05 18:44:12 +00:00)\n"
          ]
        }
      ]
    },
    {
      "cell_type": "code",
      "metadata": {
        "ExecuteTime": {
          "end_time": "2021-07-27T10:55:57.989869Z",
          "start_time": "2021-07-27T10:55:57.973872Z"
        },
        "id": "2D8QAdJFjvtH",
        "colab": {
          "base_uri": "https://localhost:8080/"
        },
        "outputId": "a94d43d5-7585-423b-eea7-5e774d8dcc9d"
      },
      "source": [
        "#Creo una neuva columna que me dice si un cliente ha pagado o no\n",
        "df_11['ultimo_pago_binario'] = np.where(df_11['year_ultimo_pago'] > 0, 1, 0)"
      ],
      "execution_count": 469,
      "outputs": [
        {
          "output_type": "stream",
          "name": "stdout",
          "text": [
            "time: 4.06 ms (started: 2021-09-05 18:44:12 +00:00)\n"
          ]
        }
      ]
    },
    {
      "cell_type": "code",
      "metadata": {
        "ExecuteTime": {
          "end_time": "2021-07-27T11:09:35.300303Z",
          "start_time": "2021-07-27T11:09:34.276264Z"
        },
        "id": "KMh2Mj5IjvtH",
        "colab": {
          "base_uri": "https://localhost:8080/",
          "height": 318
        },
        "outputId": "40c9b5b4-c99c-4405-f1a9-4565e90b6efc"
      },
      "source": [
        "#sns.countplot(df_6['ultimo_pago_binario'])\n",
        "count_plot(df_11['ultimo_pago_binario'], df_11['Recuperable'], df_9, 'Ultimo pago binario', 'TCT', 'Count', 0.15, 14)\n",
        "#GRAFICAR POR SEPARADO LO QUE SE RECUPERA Y NO"
      ],
      "execution_count": 470,
      "outputs": [
        {
          "output_type": "display_data",
          "data": {
            "image/png": "[encoded data removed]",
            "text/plain": [
              "<Figure size 432x288 with 1 Axes>"
            ]
          },
          "metadata": {
            "needs_background": "light"
          }
        },
        {
          "output_type": "stream",
          "name": "stdout",
          "text": [
            "time: 219 ms (started: 2021-09-05 18:44:12 +00:00)\n"
          ]
        }
      ]
    },
    {
      "cell_type": "code",
      "metadata": {
        "id": "HWeeMMCqjvtH",
        "colab": {
          "base_uri": "https://localhost:8080/"
        },
        "outputId": "4dee9b79-1727-4543-8a6d-e5554bd94f63"
      },
      "source": [
        "#Perfil de no pagadores (hay dos perfiles)"
      ],
      "execution_count": 471,
      "outputs": [
        {
          "output_type": "stream",
          "name": "stdout",
          "text": [
            "time: 1.27 ms (started: 2021-09-05 18:44:12 +00:00)\n"
          ]
        }
      ]
    },
    {
      "cell_type": "code",
      "metadata": {
        "ExecuteTime": {
          "end_time": "2021-07-28T14:42:12.319208Z",
          "start_time": "2021-07-28T14:42:11.739393Z"
        },
        "scrolled": true,
        "id": "s17SdJFPjvtH",
        "colab": {
          "base_uri": "https://localhost:8080/",
          "height": 479
        },
        "outputId": "5868c928-4878-4567-c402-739ccc896097"
      },
      "source": [
        "plt.figure(figsize = (12,6))\n",
        "#plt.figure(figsize=(1,1))\n",
        "sns.countplot(df_11.query(\"ultima_gestion > 0\")['ultima_gestion'])"
      ],
      "execution_count": 472,
      "outputs": [
        {
          "output_type": "stream",
          "name": "stderr",
          "text": [
            "/usr/local/lib/python3.7/dist-packages/seaborn/_decorators.py:43: FutureWarning: Pass the following variable as a keyword arg: x. From version 0.12, the only valid positional argument will be `data`, and passing other arguments without an explicit keyword will result in an error or misinterpretation.\n",
            "  FutureWarning\n"
          ]
        },
        {
          "output_type": "execute_result",
          "data": {
            "text/plain": [
              "<matplotlib.axes._subplots.AxesSubplot at 0x7fd81f2b0910>"
            ]
          },
          "metadata": {},
          "execution_count": 472
        },
        {
          "output_type": "display_data",
          "data": {
            "image/png": "[encoded data removed]",
            "text/plain": [
              "<Figure size 864x432 with 1 Axes>"
            ]
          },
          "metadata": {
            "needs_background": "light"
          }
        },
        {
          "output_type": "stream",
          "name": "stdout",
          "text": [
            "time: 302 ms (started: 2021-09-05 18:44:12 +00:00)\n"
          ]
        }
      ]
    },
    {
      "cell_type": "code",
      "metadata": {
        "id": "yZbxXrKOjvtI",
        "colab": {
          "base_uri": "https://localhost:8080/"
        },
        "outputId": "f3c8dd53-a440-49cf-9d36-ee7b2cbafe3e"
      },
      "source": [
        "#Si existe relacion almomento de obtener las carteras para poder obtener los pagos\n",
        "#Justificar el 2021\n"
      ],
      "execution_count": 473,
      "outputs": [
        {
          "output_type": "stream",
          "name": "stdout",
          "text": [
            "time: 2 ms (started: 2021-09-05 18:44:13 +00:00)\n"
          ]
        }
      ]
    },
    {
      "cell_type": "markdown",
      "metadata": {
        "id": "-jvg4NOrjvtI"
      },
      "source": [
        "En temas de pandemia viven mas en casa y no hay gastos en transporte\n",
        "\n",
        "Personas mas facil de contactar, crecimiento de dispsitovs tecnologicos\n",
        "\n",
        "Puede ser que haya oportunidades abiertas para los de salario bajo, qué slario tiene los que han pagado\n",
        "\n",
        "Mientas mas reciente es la deuda hay mas probabilidad de que empiece a pagar\n"
      ]
    },
    {
      "cell_type": "code",
      "metadata": {
        "ExecuteTime": {
          "end_time": "2021-07-27T10:26:45.144769Z",
          "start_time": "2021-07-27T10:26:44.168765Z"
        },
        "scrolled": true,
        "id": "VWxSi1XPjvtI",
        "colab": {
          "base_uri": "https://localhost:8080/",
          "height": 318
        },
        "outputId": "3918c87e-511b-4957-c285-9f8d2af747e7"
      },
      "source": [
        "count_plot(df_11['tipo_cartera'], df_11['Recuperable'], df_11, 'Tipo', 'TCT', 'Count', 0.04, 14)"
      ],
      "execution_count": 474,
      "outputs": [
        {
          "output_type": "display_data",
          "data": {
            "image/png": "[encoded data removed]",
            "text/plain": [
              "<Figure size 432x288 with 1 Axes>"
            ]
          },
          "metadata": {
            "needs_background": "light"
          }
        },
        {
          "output_type": "stream",
          "name": "stdout",
          "text": [
            "time: 287 ms (started: 2021-09-05 18:44:13 +00:00)\n"
          ]
        }
      ]
    },
    {
      "cell_type": "code",
      "metadata": {
        "id": "yrFhbpPGWT1N",
        "colab": {
          "base_uri": "https://localhost:8080/",
          "height": 478
        },
        "outputId": "b3c43740-f18e-45e7-bc3a-90983842b2ac"
      },
      "source": [
        "plt.figure(figsize = (16,6))\n",
        "sns.countplot(df_11.edad)"
      ],
      "execution_count": 475,
      "outputs": [
        {
          "output_type": "stream",
          "name": "stderr",
          "text": [
            "/usr/local/lib/python3.7/dist-packages/seaborn/_decorators.py:43: FutureWarning: Pass the following variable as a keyword arg: x. From version 0.12, the only valid positional argument will be `data`, and passing other arguments without an explicit keyword will result in an error or misinterpretation.\n",
            "  FutureWarning\n"
          ]
        },
        {
          "output_type": "execute_result",
          "data": {
            "text/plain": [
              "<matplotlib.axes._subplots.AxesSubplot at 0x7fd8232521d0>"
            ]
          },
          "metadata": {},
          "execution_count": 475
        },
        {
          "output_type": "display_data",
          "data": {
            "image/png": "[encoded data removed]",
            "text/plain": [
              "<Figure size 1152x432 with 1 Axes>"
            ]
          },
          "metadata": {
            "needs_background": "light"
          }
        },
        {
          "output_type": "stream",
          "name": "stdout",
          "text": [
            "time: 967 ms (started: 2021-09-05 18:44:13 +00:00)\n"
          ]
        }
      ]
    },
    {
      "cell_type": "code",
      "metadata": {
        "id": "cGXNQH4lYnJa",
        "colab": {
          "base_uri": "https://localhost:8080/",
          "height": 314
        },
        "outputId": "17a81adc-aeb4-46e8-f338-a9090c14de06"
      },
      "source": [
        "sns.boxplot(x = 'genero', y = 'edad', hue = 'Recuperable', data = df_11 )"
      ],
      "execution_count": 476,
      "outputs": [
        {
          "output_type": "execute_result",
          "data": {
            "text/plain": [
              "<matplotlib.axes._subplots.AxesSubplot at 0x7fd8400b2790>"
            ]
          },
          "metadata": {},
          "execution_count": 476
        },
        {
          "output_type": "display_data",
          "data": {
            "image/png": "[encoded data removed]",
            "text/plain": [
              "<Figure size 432x288 with 1 Axes>"
            ]
          },
          "metadata": {
            "needs_background": "light"
          }
        },
        {
          "output_type": "stream",
          "name": "stdout",
          "text": [
            "time: 385 ms (started: 2021-09-05 18:44:14 +00:00)\n"
          ]
        }
      ]
    },
    {
      "cell_type": "code",
      "metadata": {
        "id": "mO2pyHUVYFJ7",
        "colab": {
          "base_uri": "https://localhost:8080/"
        },
        "outputId": "423b6acd-6220-40c1-941f-97befc972bed"
      },
      "source": [
        "df_11.genero.value_counts()"
      ],
      "execution_count": 477,
      "outputs": [
        {
          "output_type": "execute_result",
          "data": {
            "text/plain": [
              "MASC         20463\n",
              "FEM          11221\n",
              "NO INDICA       60\n",
              "Name: genero, dtype: int64"
            ]
          },
          "metadata": {},
          "execution_count": 477
        },
        {
          "output_type": "stream",
          "name": "stdout",
          "text": [
            "time: 11.5 ms (started: 2021-09-05 18:44:14 +00:00)\n"
          ]
        }
      ]
    },
    {
      "cell_type": "code",
      "metadata": {
        "id": "EFSzJFudjvtI",
        "colab": {
          "base_uri": "https://localhost:8080/"
        },
        "outputId": "2fd43854-c1ce-44f4-89ed-a59512c654eb"
      },
      "source": [
        "#si hay relacion en Monto total adeudado por tipo de trabajo. Un promedio del monto total por tipo (privado, publico, propio)\n",
        "\n",
        "#BoXPLOT"
      ],
      "execution_count": 478,
      "outputs": [
        {
          "output_type": "stream",
          "name": "stdout",
          "text": [
            "time: 1.25 ms (started: 2021-09-05 18:44:14 +00:00)\n"
          ]
        }
      ]
    },
    {
      "cell_type": "markdown",
      "metadata": {
        "id": "OBavOngNjvtI"
      },
      "source": [
        "La mayoria de personas trabajan en el sector privado. Los datos analizados tienen menos presencia de deudores que vienen de parte del sector publico. \n",
        "Propio = emprendedor, tiene su propio negocio."
      ]
    },
    {
      "cell_type": "code",
      "metadata": {
        "id": "qrYB4DOejvtL",
        "colab": {
          "base_uri": "https://localhost:8080/",
          "height": 88
        },
        "outputId": "e56e9555-2340-483e-9f47-9949dbbfc830"
      },
      "source": [
        "\"\"\"Cargos pendientes lo que se ha generado en intereses\n",
        "Saldo capital con el que se compra la deuda\n",
        "Sumo monto original + crgos pendientes para el total de deuda integrado (todo es deuda total)\n",
        "retenciones en ppj = le envargaron salario y retienen el monto\n",
        "pagos normales lo que ha pagado frecuentemente\n",
        "pagos retenciones  es el monto total de retenciones\n",
        "\n",
        "saldo actual = deuda total menos pagos retencones y menos pagos normales\"\"\""
      ],
      "execution_count": 479,
      "outputs": [
        {
          "output_type": "execute_result",
          "data": {
            "application/vnd.google.colaboratory.intrinsic+json": {
              "type": "string"
            },
            "text/plain": [
              "'Cargos pendientes lo que se ha generado en intereses\\nSaldo capital con el que se compra la deuda\\nSumo monto original + crgos pendientes para el total de deuda integrado (todo es deuda total)\\nretenciones en ppj = le envargaron salario y retienen el monto\\npagos normales lo que ha pagado frecuentemente\\npagos retenciones  es el monto total de retenciones\\n\\nsaldo actual = deuda total menos pagos retencones y menos pagos normales'"
            ]
          },
          "metadata": {},
          "execution_count": 479
        },
        {
          "output_type": "stream",
          "name": "stdout",
          "text": [
            "time: 4.39 ms (started: 2021-09-05 18:44:14 +00:00)\n"
          ]
        }
      ]
    },
    {
      "cell_type": "markdown",
      "metadata": {
        "id": "K1iaH50SjvtT"
      },
      "source": [
        "### "
      ]
    },
    {
      "cell_type": "markdown",
      "metadata": {
        "id": "0OQMpVyWjvtT"
      },
      "source": [
        "### Objetivos del Capstone\n"
      ]
    },
    {
      "cell_type": "markdown",
      "metadata": {
        "id": "yN3JX31qjvtT"
      },
      "source": [
        "El dataset corresponde a Credit Manager  la temática se enfoca en Debt collection recovery.\n",
        "\n",
        "Dentro de los objetivos se cuenta con los siguientes:\n",
        "\n",
        "- Establecer un perfil del ciente pagador a través de segmentación (Unsupervised Learning). Esto nos permite equitar a los clientes.\n",
        "- Predecir el monto que un cliente puede llegar a pagar.\n",
        "- Predecir qué carteras con clientes van a tener mayor probabilidad de gestionar su pago.\n",
        "\n",
        "\n",
        "A ello, se ha visto pertinente aplicar normalización de los datos y One hot encoding a algunas variables. De igual manera, se debe hacer limpieza y manipulación previa de los datos. \n",
        "\n",
        "La empresa se encuentra en nueve países por lo que una vez que se pueda obtener un buen modelo, se pretende aplicar dicho modelo a los otros países. De igual manera, se pretende usar herramientas de visualización como Tableu. \n",
        "\n",
        "\n",
        "Finalmente, es importante mencionar que este apartado es un primer borrador del trabajo a realizar.   \n",
        "\n",
        "\n"
      ]
    },
    {
      "cell_type": "code",
      "metadata": {
        "ExecuteTime": {
          "end_time": "2021-07-28T13:32:41.860433Z",
          "start_time": "2021-07-28T13:32:41.566287Z"
        },
        "id": "ogmRFirSjvtT",
        "colab": {
          "base_uri": "https://localhost:8080/",
          "height": 476
        },
        "outputId": "c3e387ff-52c1-49f6-a723-1c2c77195c50"
      },
      "source": [
        "df2.head()"
      ],
      "execution_count": 483,
      "outputs": [
        {
          "output_type": "execute_result",
          "data": {
            "text/html": [
              "<div>\n",
              "<style scoped>\n",
              "    .dataframe tbody tr th:only-of-type {\n",
              "        vertical-align: middle;\n",
              "    }\n",
              "\n",
              "    .dataframe tbody tr th {\n",
              "        vertical-align: top;\n",
              "    }\n",
              "\n",
              "    .dataframe thead th {\n",
              "        text-align: right;\n",
              "    }\n",
              "</style>\n",
              "<table border=\"1\" class=\"dataframe\">\n",
              "  <thead>\n",
              "    <tr style=\"text-align: right;\">\n",
              "      <th></th>\n",
              "      <th>Cliente</th>\n",
              "      <th>monto_original</th>\n",
              "      <th>saldo_capital</th>\n",
              "      <th>estado_operacion</th>\n",
              "      <th>producto</th>\n",
              "      <th>cartera</th>\n",
              "      <th>tipo_cartera</th>\n",
              "      <th>descripcion_reaccion</th>\n",
              "      <th>ultima_gestion</th>\n",
              "      <th>fecha_ultima_pago</th>\n",
              "      <th>lugar_trabajo</th>\n",
              "      <th>salario</th>\n",
              "      <th>tipo_trabajo</th>\n",
              "      <th>fecha_nacimiento</th>\n",
              "      <th>lugar_nacimiento</th>\n",
              "      <th>genero</th>\n",
              "      <th>ubicacion_electoral</th>\n",
              "    </tr>\n",
              "  </thead>\n",
              "  <tbody>\n",
              "    <tr>\n",
              "      <th>0</th>\n",
              "      <td>3</td>\n",
              "      <td>205269.000</td>\n",
              "      <td>205269.000</td>\n",
              "      <td>Inactiva</td>\n",
              "      <td>Maxima</td>\n",
              "      <td>SERVIVALORES</td>\n",
              "      <td>Propia</td>\n",
              "      <td>Contacto indirecto</td>\n",
              "      <td>2020-10-07 14:47:00</td>\n",
              "      <td>Sin pago registrado</td>\n",
              "      <td>COMERCIAL DINANT DE COSTA RICA SOCIEDAD ANONIMA</td>\n",
              "      <td>Entre ₡ 275000 y ₡ 300000</td>\n",
              "      <td>PRIVADO</td>\n",
              "      <td>1979-11-10</td>\n",
              "      <td>HOSPITAL CENTRAL SAN JOSE</td>\n",
              "      <td>MASC</td>\n",
              "      <td>SAN JOSE DESAMPARADOS LOS GUIDO</td>\n",
              "    </tr>\n",
              "    <tr>\n",
              "      <th>1</th>\n",
              "      <td>4</td>\n",
              "      <td>1686987.610</td>\n",
              "      <td>1686987.610</td>\n",
              "      <td>Ilocalizable</td>\n",
              "      <td>Tarjetas</td>\n",
              "      <td>CITI</td>\n",
              "      <td>Propia</td>\n",
              "      <td>Ilocalizable</td>\n",
              "      <td>2020-08-13 10:52:00</td>\n",
              "      <td>Sin pago registrado</td>\n",
              "      <td>Sin trabajo</td>\n",
              "      <td>Sin trabajo</td>\n",
              "      <td>Sin trabajo</td>\n",
              "      <td>1971-01-10</td>\n",
              "      <td>CENTRO MATINA LIMON</td>\n",
              "      <td>FEM</td>\n",
              "      <td>LIMON MATINA BATAN</td>\n",
              "    </tr>\n",
              "    <tr>\n",
              "      <th>2</th>\n",
              "      <td>5</td>\n",
              "      <td>9556510.022</td>\n",
              "      <td>9556510.022</td>\n",
              "      <td>Inactiva</td>\n",
              "      <td>Tarjetas</td>\n",
              "      <td>DAVIVIENDA</td>\n",
              "      <td>Propia</td>\n",
              "      <td>Contacto sin Promesa</td>\n",
              "      <td>2021-07-29 17:32:00</td>\n",
              "      <td>Sin pago registrado</td>\n",
              "      <td>COMPAIA VERANDA DEL ESTE SOCIEDAD ANONIMA</td>\n",
              "      <td>Entre ₡ 850000 y ₡ 875000</td>\n",
              "      <td>PRIVADO</td>\n",
              "      <td>1961-11-10</td>\n",
              "      <td>JIMENEZ POCOCI LIMON</td>\n",
              "      <td>MASC</td>\n",
              "      <td>LIMON POCOCI ROXANA</td>\n",
              "    </tr>\n",
              "    <tr>\n",
              "      <th>3</th>\n",
              "      <td>6</td>\n",
              "      <td>357331.930</td>\n",
              "      <td>357331.930</td>\n",
              "      <td>Inactiva</td>\n",
              "      <td>Tarjetas</td>\n",
              "      <td>CITI</td>\n",
              "      <td>Propia</td>\n",
              "      <td>Contacto indirecto</td>\n",
              "      <td>2020-10-23 13:53:00</td>\n",
              "      <td>Sin pago registrado</td>\n",
              "      <td>Sin trabajo</td>\n",
              "      <td>Sin trabajo</td>\n",
              "      <td>Sin trabajo</td>\n",
              "      <td>1943-12-19</td>\n",
              "      <td>CENTRO POCOCI LIMON</td>\n",
              "      <td>MASC</td>\n",
              "      <td>LIMON SIQUIRRES SAN MARTIN</td>\n",
              "    </tr>\n",
              "    <tr>\n",
              "      <th>4</th>\n",
              "      <td>7</td>\n",
              "      <td>318080.510</td>\n",
              "      <td>318080.510</td>\n",
              "      <td>Inactiva</td>\n",
              "      <td>Tarjetas</td>\n",
              "      <td>CITI</td>\n",
              "      <td>Propia</td>\n",
              "      <td>Contacto indirecto</td>\n",
              "      <td>2021-07-08 10:21:00</td>\n",
              "      <td>Sin pago registrado</td>\n",
              "      <td>COMPAIA VERANDA DEL ESTE SOCIEDAD ANONIMA</td>\n",
              "      <td>Entre ₡ 325000 y ₡ 350000</td>\n",
              "      <td>PRIVADO</td>\n",
              "      <td>1986-01-20</td>\n",
              "      <td>CENTRO CENTRAL LIMON</td>\n",
              "      <td>MASC</td>\n",
              "      <td>LIMON MATINA MATINA</td>\n",
              "    </tr>\n",
              "  </tbody>\n",
              "</table>\n",
              "</div>"
            ],
            "text/plain": [
              "   Cliente  monto_original  saldo_capital estado_operacion  producto  \\\n",
              "0        3      205269.000     205269.000         Inactiva    Maxima   \n",
              "1        4     1686987.610    1686987.610     Ilocalizable  Tarjetas   \n",
              "2        5     9556510.022    9556510.022         Inactiva  Tarjetas   \n",
              "3        6      357331.930     357331.930         Inactiva  Tarjetas   \n",
              "4        7      318080.510     318080.510         Inactiva  Tarjetas   \n",
              "\n",
              "        cartera tipo_cartera  descripcion_reaccion      ultima_gestion  \\\n",
              "0  SERVIVALORES       Propia    Contacto indirecto 2020-10-07 14:47:00   \n",
              "1          CITI       Propia          Ilocalizable 2020-08-13 10:52:00   \n",
              "2    DAVIVIENDA       Propia  Contacto sin Promesa 2021-07-29 17:32:00   \n",
              "3          CITI       Propia    Contacto indirecto 2020-10-23 13:53:00   \n",
              "4          CITI       Propia    Contacto indirecto 2021-07-08 10:21:00   \n",
              "\n",
              "     fecha_ultima_pago                                    lugar_trabajo  \\\n",
              "0  Sin pago registrado  COMERCIAL DINANT DE COSTA RICA SOCIEDAD ANONIMA   \n",
              "1  Sin pago registrado                                      Sin trabajo   \n",
              "2  Sin pago registrado        COMPAIA VERANDA DEL ESTE SOCIEDAD ANONIMA   \n",
              "3  Sin pago registrado                                      Sin trabajo   \n",
              "4  Sin pago registrado        COMPAIA VERANDA DEL ESTE SOCIEDAD ANONIMA   \n",
              "\n",
              "                     salario tipo_trabajo fecha_nacimiento  \\\n",
              "0  Entre ₡ 275000 y ₡ 300000      PRIVADO       1979-11-10   \n",
              "1                Sin trabajo  Sin trabajo       1971-01-10   \n",
              "2  Entre ₡ 850000 y ₡ 875000      PRIVADO       1961-11-10   \n",
              "3                Sin trabajo  Sin trabajo       1943-12-19   \n",
              "4  Entre ₡ 325000 y ₡ 350000      PRIVADO       1986-01-20   \n",
              "\n",
              "            lugar_nacimiento genero              ubicacion_electoral  \n",
              "0  HOSPITAL CENTRAL SAN JOSE   MASC  SAN JOSE DESAMPARADOS LOS GUIDO  \n",
              "1        CENTRO MATINA LIMON    FEM               LIMON MATINA BATAN  \n",
              "2       JIMENEZ POCOCI LIMON   MASC              LIMON POCOCI ROXANA  \n",
              "3        CENTRO POCOCI LIMON   MASC       LIMON SIQUIRRES SAN MARTIN  \n",
              "4       CENTRO CENTRAL LIMON   MASC              LIMON MATINA MATINA  "
            ]
          },
          "metadata": {},
          "execution_count": 483
        },
        {
          "output_type": "stream",
          "name": "stdout",
          "text": [
            "time: 24.1 ms (started: 2021-09-05 18:44:14 +00:00)\n"
          ]
        }
      ]
    },
    {
      "cell_type": "markdown",
      "metadata": {
        "id": "ThuiNQaWTJPa"
      },
      "source": [
        ""
      ]
    },
    {
      "cell_type": "markdown",
      "metadata": {
        "id": "mTUIw8ltjvtT"
      },
      "source": [
        "Escalar\n",
        "PCA\n",
        "\n",
        "#hacer analisis sin PCA, que tan bien lo hace mi modelo\n",
        "\n",
        "PCA al empezar, luego de quitar columnas \n",
        "\n",
        "\n",
        "\n",
        "Modelos:\n",
        "    - probar todos, hacer matriz de confusion\n",
        "    - hacer cross validation\n",
        "    - ver accuracy\n",
        "    - Ver grid search \n",
        "si esta listo antes de reunion enviar correo\n",
        "\n",
        "paquete en python muestra desbalanceada\n",
        "\n",
        "SMOTE\n",
        "ver si ampliar muestra (oversampling o undersampling)\n",
        "\n",
        "red neuronal por amor al arte (muestra )"
      ]
    },
    {
      "cell_type": "markdown",
      "metadata": {
        "id": "_3QYqUn2jvtU"
      },
      "source": [
        "### Miercoles, 25 de agosto / 18h"
      ]
    }
  ]
}