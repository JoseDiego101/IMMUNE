{
  "nbformat": 4,
  "nbformat_minor": 0,
  "metadata": {
    "interpreter": {
      "hash": "0bef968c049063f8e72440ef17aa2e3679c412424dbb5242431920c897840e8f"
    },
    "kernelspec": {
      "display_name": "Python 3",
      "language": "python",
      "name": "python3"
    },
    "language_info": {
      "codemirror_mode": {
        "name": "ipython",
        "version": 3
      },
      "file_extension": ".py",
      "mimetype": "text/x-python",
      "name": "python",
      "nbconvert_exporter": "python",
      "pygments_lexer": "ipython3",
      "version": "3.7.4"
    },
    "varInspector": {
      "cols": {
        "lenName": 16,
        "lenType": 16,
        "lenVar": 40
      },
      "kernels_config": {
        "python": {
          "delete_cmd_postfix": "",
          "delete_cmd_prefix": "del ",
          "library": "var_list.py",
          "varRefreshCmd": "print(var_dic_list())"
        },
        "r": {
          "delete_cmd_postfix": ") ",
          "delete_cmd_prefix": "rm(",
          "library": "var_list.r",
          "varRefreshCmd": "cat(var_dic_list()) "
        }
      },
      "types_to_exclude": [
        "module",
        "function",
        "builtin_function_or_method",
        "instance",
        "_Feature"
      ],
      "window_display": false
    },
    "colab": {
      "name": "capstone.ipynb",
      "provenance": [],
      "collapsed_sections": [
        "0OQMpVyWjvtT",
        "_3QYqUn2jvtU"
      ],
      "include_colab_link": true
    }
  },
  "cells": [
    {
      "cell_type": "markdown",
      "metadata": {
        "id": "view-in-github",
        "colab_type": "text"
      },
      "source": [
        "<a href=\"https://colab.research.google.com/github/JoseDiego101/IMMUNE/blob/main/capstone.ipynb\" target=\"_parent\"><img src=\"https://colab.research.google.com/assets/colab-badge.svg\" alt=\"Open In Colab\"/></a>"
      ]
    },
    {
      "cell_type": "code",
      "metadata": {
        "id": "irbU58rajvsQ"
      },
      "source": [
        "David Garro, Samuel Gutierrez, Jose Masache Cevallos "
      ],
      "execution_count": null,
      "outputs": []
    },
    {
      "cell_type": "markdown",
      "metadata": {
        "id": "O2JiB6UKjvsX"
      },
      "source": [
        "# Capstone - Máster en Data Science"
      ]
    },
    {
      "cell_type": "markdown",
      "metadata": {
        "id": "ARDK8Yifjvsa"
      },
      "source": [
        "## Descripcion del dataset"
      ]
    },
    {
      "cell_type": "markdown",
      "metadata": {
        "id": "GBpHy25njvsc"
      },
      "source": [
        "Tengo cartera vencida, 50 deudores, los paso por perdida, me deben 500000 dolares, la vendo a un 20%\n",
        "Se negocia a un promedio de un 12% del valor total de las deudas\n",
        "\n",
        "Han cobrado el 22% del historico de las alquimias que ya van en la 145\n",
        "\n",
        "Si se toma el historico, el promedio geenrado en cbro es un 10 por ciento adicional\n",
        "Hya un 78 que se queda por razones de notificacion\n",
        "\n",
        "Lo que se quiere establecer peerfiles de ceintes que se pueda filtrar antes de comprar lascarteras y ver cual me genera mayor rentabilidad\n",
        "\n",
        "Hya bienes muebles e inmuebles \n",
        "\n",
        "Establecer predicciones de los deudores para poder aumentar un porcentaje que permita generar mas ingresos\n",
        "\n",
        "Tarjetas de credito, prestamo sobre carros\n",
        "\n",
        "Establecer perfil de deudor respecto a las caracteristicas, ver si hay prevalencia por provincias\n",
        "\n",
        "Si funciona bien se puede replicar en otro paises\n",
        "\n",
        "\n",
        "\n",
        "·MAO MONTO ORIGINAL: deuda con la que ingresa a la compañía. Luego se calcula los interes del tiempo que no han pagado.\n",
        "1colon 620dolres\n",
        "MAO = Monto Adeudado\n",
        "\n",
        "·EOP Descripcion: Cuando se llega a 22 la alquimia pasa a inactiva. No llego a notificar y la deuda pasa a estado inactivo. Los inactivos son los que se desechan. Nos debemos basar en los activos y los inactivos para crear un perfil (inactivos tipo de deudas ya perdidas). \n",
        "EOP = Estado de operación. Una vez que yo cobre el 22% de la cartera pasao a la siguiente alquimia. Hay datos de contacto que ya no coinciden o clientes que ya están muertos. \n",
        "\n",
        ". PRO DESCRIPCION: descripcion delproducto (Tipo de deuda del cliente)\n",
        "Sucredito = prestamos directo\n",
        "Maxima= tiene los dos\n",
        "\n",
        ".INS DESCRIPCION: a quién le estoy comprado la alquimia\n",
        "\n",
        ".TCT DESCRIPCION: tipo de transacción \n",
        "Propia \n",
        "\n",
        ".REA descripcion: con  quien he contactado (indirecto puede ser con el hermano, tio, etc.). Si contesta o no. \n",
        "Contacto sin promesa (he contactado pero no he podidio hacer que pague). Se puede ver si la gente cumple. Si es que no cumple se vuelve a llamar otro mes.\n",
        "\n",
        ".FECHA REACCION: cuando se ha hecho contacto con el deudor\n",
        "\n",
        ".ULTIMA GESTION: la ultima vez que el cliente ha pagado\n",
        "\n",
        ".PROXIMA GESTION: cuándo se va a volver a contactar\n",
        "\n",
        ".SUPERVISOR:  300 personas llamando. Cad 10 personas tiene un supervior(motivador de cobro)\n",
        "\n",
        ".ULTIMO PAGO: es implicito\n",
        "\n",
        ".FECHA CARGA: \n",
        "\n",
        ".INTERES: los meses de interes que se le agrega a la deuda. La deudano prescrbe si me contacta una vez al mes para que la deuda no prescriba (que la deuda se pueda cancelar, que la deuda se elimine del todo)\n",
        "\n",
        ".CARGO PENDIENTE: deuda inicial más los intereses\n",
        "\n",
        ".LUGAR TRABAJO: si se conoce dónde trabaja el deudor\n",
        "\n",
        ".TIPO TRABAJO: si trabaja para la empresa o en el sector privado.\n",
        "\n",
        ".FECHA DEFUNCION: si vive o muere\n",
        "\n",
        ".PROPIEDADES: si tiene casas, lotes\n",
        "\n",
        ".VEHICULO: si tien vehiculo\n",
        "\n",
        ". EXPEDIENTE: si ya se le hizo un tramite de cobro judicial. Los dos primeros digitos indican el año cuando se inició la deuda. CJ o CI indica que es Cobro Judicial o que está en juzgado. La ley cambió en el año 2000  y ùede tener numeración de le vieja. Puedo ver si hay alguna alquimia generada por otra empresa. Me peleo con alguien mas porobtener la deuda. Debo tratar de comprar alquimias que no tengan cobros judiciales\n",
        "\n",
        ".  RETENCIONES EN PPJ: puedo capturar hasta el 80% de salario. \n",
        "\n",
        ".DERECHO PROPIEDAD:  (se divide la casa para tres)\n",
        "\n",
        ".CANTIDAD GESTION: cuantos meses he contactado con el cliente.\n",
        "\n",
        "\n",
        "+++++++++++++++++++++ PAGOS RETENCIONES: lo que paga pero con cobro judicial\n",
        "\n",
        "APUNTES ··························\n",
        "\n",
        "- Crear columna dicotómica para ver si el salario de un deudor ha aumentado o no\n",
        "- Crear columna dicotómica si es extrajero o no\n",
        " - Crear columna de deuda inicial vs pagos normales y ver igual pagos normales\n",
        " \n",
        " \n",
        " \n",
        " Segmentar en funcion del rango de salario. Si ganan más es porque pagan la deuda\n",
        " \n",
        "Paga el que menos tiene?\n",
        "\n",
        "Disposicion de pago vs Ingreso mensual\n",
        "\n",
        "Prevalencia de pago de hombres vs mujeres\n",
        "\n",
        "\n",
        "\n",
        "\n",
        "\n",
        "\n",
        " \n",
        "\n",
        "\n",
        "\n",
        "\n"
      ]
    },
    {
      "cell_type": "markdown",
      "metadata": {
        "id": "LVyNsSlrjvsf"
      },
      "source": [
        ""
      ]
    },
    {
      "cell_type": "markdown",
      "metadata": {
        "heading_collapsed": true,
        "id": "254w8Gzejvsf"
      },
      "source": [
        "## GESTIONADORA"
      ]
    },
    {
      "cell_type": "markdown",
      "metadata": {
        "heading_collapsed": true,
        "id": "eDMf1Bfsjvsh"
      },
      "source": [
        "## Información de la empresa"
      ]
    },
    {
      "cell_type": "markdown",
      "metadata": {
        "hidden": true,
        "id": "NKFgAht3jvsl"
      },
      "source": [
        "### Nuestro compromiso"
      ]
    },
    {
      "cell_type": "markdown",
      "metadata": {
        "hidden": true,
        "id": "CmXDToNajvsn"
      },
      "source": [
        "Somos líderes en la adquisición y manejo de préstamos comerciales en dificultades con más de 90 días de atraso, enfocándose en aquellos con más de 180 días.\n",
        "Nuestro cobro está basado en procesos administrativos con el apoyo de acciones legales.\n",
        "Agregamos valor a entidades financieras a través de un excelente manejo de sus cuentas morosas, generando de este modo un beneficio (valor y financiamiento).\n",
        "Desarrollamos relaciones a largo plazo basado en las compras revolventes.\n",
        "Misión\n",
        "Nuestra empresa se especializa en el cobro de deudas, con alto sentido estratégico y un equipo altamente calificado, lo que genera un alto rendimiento a nuestros asociados y accionistas."
      ]
    },
    {
      "cell_type": "markdown",
      "metadata": {
        "hidden": true,
        "id": "pwzH8lTCjvsr"
      },
      "source": [
        "### Visión\n"
      ]
    },
    {
      "cell_type": "markdown",
      "metadata": {
        "hidden": true,
        "id": "brtm_ejIjvst"
      },
      "source": [
        "Ser la empresa líder en Latinoamérica en la adquisición de los préstamos comerciales en dificultades, aportando nuestra experiencia, la formalidad y la fuerza como una mejora de los indicadores financieros de nuestros socios comerciales y clientes."
      ]
    },
    {
      "cell_type": "markdown",
      "metadata": {
        "hidden": true,
        "id": "wOMxzrCbjvsu"
      },
      "source": [
        "### NUESTRA POLITICA DE NEGOCIOS\n"
      ]
    },
    {
      "cell_type": "code",
      "metadata": {
        "hidden": true,
        "id": "iPucGBBbjvsw"
      },
      "source": [
        "Creamos con interés una relación a largo plazo con nuestros clientes.\n",
        "Nuestro cobro está basado en procesos administrativos con el apoyo de acciones legales.\n",
        "Agregamos valor a entidades financieras a través de un excelente manejo de sus cuentas delincuentes, generando de este modo un beneficio (valor y financiamiento).\n",
        "Desarrollamos relaciones a largo plazo basado en las compras revolventes."
      ],
      "execution_count": null,
      "outputs": []
    },
    {
      "cell_type": "markdown",
      "metadata": {
        "hidden": true,
        "id": "Swb6IC25jvsw"
      },
      "source": [
        ""
      ]
    },
    {
      "cell_type": "markdown",
      "metadata": {
        "id": "Oecnk3XWjvsx"
      },
      "source": [
        "## Información del Dataset"
      ]
    },
    {
      "cell_type": "markdown",
      "metadata": {
        "id": "QSXCEz1Vjvsy"
      },
      "source": [
        "A continuación se presenta un pequeño resumen de los datos que se encuentra en el dataset. "
      ]
    },
    {
      "cell_type": "code",
      "metadata": {
        "id": "V_tJyoth3fF_",
        "colab": {
          "base_uri": "https://localhost:8080/"
        },
        "outputId": "cdd0bd16-60c0-4511-d35e-aca6ae663da2"
      },
      "source": [
        "!pip install ipython-autotime"
      ],
      "execution_count": null,
      "outputs": [
        {
          "output_type": "stream",
          "name": "stdout",
          "text": [
            "Collecting ipython-autotime\n",
            "  Downloading ipython_autotime-0.3.1-py2.py3-none-any.whl (6.8 kB)\n",
            "Requirement already satisfied: ipython in /usr/local/lib/python3.7/dist-packages (from ipython-autotime) (5.5.0)\n",
            "Requirement already satisfied: prompt-toolkit<2.0.0,>=1.0.4 in /usr/local/lib/python3.7/dist-packages (from ipython->ipython-autotime) (1.0.18)\n",
            "Requirement already satisfied: pygments in /usr/local/lib/python3.7/dist-packages (from ipython->ipython-autotime) (2.6.1)\n",
            "Requirement already satisfied: pickleshare in /usr/local/lib/python3.7/dist-packages (from ipython->ipython-autotime) (0.7.5)\n",
            "Requirement already satisfied: setuptools>=18.5 in /usr/local/lib/python3.7/dist-packages (from ipython->ipython-autotime) (57.4.0)\n",
            "Requirement already satisfied: simplegeneric>0.8 in /usr/local/lib/python3.7/dist-packages (from ipython->ipython-autotime) (0.8.1)\n",
            "Requirement already satisfied: pexpect in /usr/local/lib/python3.7/dist-packages (from ipython->ipython-autotime) (4.8.0)\n",
            "Requirement already satisfied: traitlets>=4.2 in /usr/local/lib/python3.7/dist-packages (from ipython->ipython-autotime) (5.0.5)\n",
            "Requirement already satisfied: decorator in /usr/local/lib/python3.7/dist-packages (from ipython->ipython-autotime) (4.4.2)\n",
            "Requirement already satisfied: wcwidth in /usr/local/lib/python3.7/dist-packages (from prompt-toolkit<2.0.0,>=1.0.4->ipython->ipython-autotime) (0.2.5)\n",
            "Requirement already satisfied: six>=1.9.0 in /usr/local/lib/python3.7/dist-packages (from prompt-toolkit<2.0.0,>=1.0.4->ipython->ipython-autotime) (1.15.0)\n",
            "Requirement already satisfied: ipython-genutils in /usr/local/lib/python3.7/dist-packages (from traitlets>=4.2->ipython->ipython-autotime) (0.2.0)\n",
            "Requirement already satisfied: ptyprocess>=0.5 in /usr/local/lib/python3.7/dist-packages (from pexpect->ipython->ipython-autotime) (0.7.0)\n",
            "Installing collected packages: ipython-autotime\n",
            "Successfully installed ipython-autotime-0.3.1\n"
          ]
        }
      ]
    },
    {
      "cell_type": "code",
      "metadata": {
        "id": "eNsdXxLG3ijY",
        "colab": {
          "base_uri": "https://localhost:8080/"
        },
        "outputId": "46955258-9754-4dee-bf3c-29e05e50df3f"
      },
      "source": [
        "%load_ext autotime"
      ],
      "execution_count": null,
      "outputs": [
        {
          "output_type": "stream",
          "name": "stdout",
          "text": [
            "time: 123 µs (started: 2021-09-03 17:17:27 +00:00)\n"
          ]
        }
      ]
    },
    {
      "cell_type": "code",
      "metadata": {
        "ExecuteTime": {
          "end_time": "2021-08-24T07:29:30.313731Z",
          "start_time": "2021-08-24T07:29:19.114204Z"
        },
        "id": "yZXfbzM2jvs1"
      },
      "source": [
        "import pandas as pd \n",
        "import matplotlib.pyplot as plt\n",
        "import numpy as np\n",
        "import seaborn as sns\n",
        "import re"
      ],
      "execution_count": 1,
      "outputs": []
    },
    {
      "cell_type": "code",
      "metadata": {
        "ExecuteTime": {
          "end_time": "2021-08-24T07:00:54.010907Z",
          "start_time": "2021-08-24T06:58:08.751455Z"
        },
        "colab": {
          "base_uri": "https://localhost:8080/"
        },
        "id": "-1O514SIjvsy",
        "outputId": "b60c6f3c-0c1b-41be-f4cf-defeacf7f360"
      },
      "source": [
        "df = pd.read_excel('cartera.xlsx')\n",
        "df.shape"
      ],
      "execution_count": 2,
      "outputs": [
        {
          "output_type": "execute_result",
          "data": {
            "text/plain": [
              "(225256, 23)"
            ]
          },
          "metadata": {},
          "execution_count": 2
        }
      ]
    },
    {
      "cell_type": "code",
      "metadata": {
        "ExecuteTime": {
          "end_time": "2021-08-24T07:29:16.451027Z",
          "start_time": "2021-08-24T07:29:16.446018Z"
        },
        "id": "gHe2Nb6Rjvs0"
      },
      "source": [
        "#creamos una nueva variables para no alterar los datos de inicio\n",
        "df2 = df"
      ],
      "execution_count": 20,
      "outputs": []
    },
    {
      "cell_type": "markdown",
      "metadata": {
        "id": "-Cd3iLQijvs0"
      },
      "source": [
        "El dataset presenta 234759 entradas y 43 columnas. Cada entrada pertenece a la deuda de un cliente. \n",
        "Abajo se muestra la información del tipo de variables que se encuentra en el dataset y la cantidad de valores no nulos."
      ]
    },
    {
      "cell_type": "code",
      "metadata": {
        "colab": {
          "base_uri": "https://localhost:8080/"
        },
        "id": "f9P89yDbi3pO",
        "outputId": "778557bd-1f77-4ccf-dfde-246c344740f7"
      },
      "source": [
        "df2.info()"
      ],
      "execution_count": 4,
      "outputs": [
        {
          "output_type": "stream",
          "name": "stdout",
          "text": [
            "<class 'pandas.core.frame.DataFrame'>\n",
            "RangeIndex: 225256 entries, 0 to 225255\n",
            "Data columns (total 23 columns):\n",
            " #   Column               Non-Null Count   Dtype         \n",
            "---  ------               --------------   -----         \n",
            " 0   Cliente              225256 non-null  int64         \n",
            " 1   Monto Original       225256 non-null  float64       \n",
            " 2   Saldo Capital        225256 non-null  float64       \n",
            " 3   Estado Operación     225201 non-null  object        \n",
            " 4   Producto             225256 non-null  object        \n",
            " 5   Cartera              225256 non-null  object        \n",
            " 6   Alquimia             225256 non-null  object        \n",
            " 7   Tipo Cartera         225256 non-null  object        \n",
            " 8   Reacción             225256 non-null  object        \n",
            " 9   Desc Reacción        225256 non-null  object        \n",
            " 10  fecha reacción       219992 non-null  datetime64[ns]\n",
            " 11  Última gestión       221238 non-null  datetime64[ns]\n",
            " 12  Próxima gestión      220700 non-null  datetime64[ns]\n",
            " 13  Supervisor           225256 non-null  object        \n",
            " 14  Fecha Ultimo Pago    225256 non-null  object        \n",
            " 15  Fecha Carga GC       225256 non-null  datetime64[ns]\n",
            " 16  Lugar Trabajo        225255 non-null  object        \n",
            " 17  Salario              225256 non-null  object        \n",
            " 18  Tipo Trabajo         225256 non-null  object        \n",
            " 19  Fecha Nacimiento     225256 non-null  datetime64[ns]\n",
            " 20  Lugar Nacimiento     225256 non-null  object        \n",
            " 21  Género               225256 non-null  object        \n",
            " 22  Ubicación electoral  215880 non-null  object        \n",
            "dtypes: datetime64[ns](5), float64(2), int64(1), object(15)\n",
            "memory usage: 39.5+ MB\n"
          ]
        }
      ]
    },
    {
      "cell_type": "code",
      "metadata": {
        "id": "U676gyssa7hk"
      },
      "source": [
        "\n",
        "FILTRAR SOLO TARJETAS\n",
        "\n",
        "Tarjetas de credito y prestamos personales\n",
        "promedio es 22% \n",
        "en otras el 18%\n",
        "\n",
        "Estado operacion \n",
        "activa me paga mes a mes\n",
        "\n",
        "ekegr solo activas y \n",
        "\n",
        "filtrar solamente Tajetas\n",
        "\n",
        "\n",
        "correlacion entre ultima geston y fecha ultimo pago\n",
        "\n",
        "cuantos que no pagaron se les ha hecho cobro judicial o embargo. \n",
        "Si es perfil de no pagador, ual de los perfiles cual fue la tendencia en meses.\n",
        "\n",
        "\n",
        "Obtener si trabaja o no\n"
      ],
      "execution_count": null,
      "outputs": []
    },
    {
      "cell_type": "code",
      "metadata": {
        "ExecuteTime": {
          "end_time": "2021-08-24T07:29:35.216600Z",
          "start_time": "2021-08-24T07:29:35.163584Z"
        },
        "id": "r16prS6vjvs2"
      },
      "source": [
        "#Eliminamos columnas irrelevantes para el analisis\n",
        "df2 = df2.drop(['Alquimia', 'Reacción', 'fecha reacción','Próxima gestión','Supervisor','Fecha Carga GC'], axis = 1)\n",
        "#si existe corelacion lineal,  ruido, repettivas (explicar el por que se ha eliminado) \n",
        "#A nivel de razonamiento hay variables que influyen"
      ],
      "execution_count": 21,
      "outputs": []
    },
    {
      "cell_type": "code",
      "metadata": {
        "colab": {
          "base_uri": "https://localhost:8080/"
        },
        "id": "YzASFwtMsj5E",
        "outputId": "dbf2a6e8-9f5e-45f6-c415-986597765d50"
      },
      "source": [
        "df2.keys()"
      ],
      "execution_count": 13,
      "outputs": [
        {
          "output_type": "execute_result",
          "data": {
            "text/plain": [
              "Index(['Cliente', 'Monto Original', 'Saldo Capital', 'Estado Operación',\n",
              "       'Producto', 'Cartera', 'Tipo Cartera', 'Desc Reacción',\n",
              "       'Última gestión', 'Fecha Ultimo Pago', 'Lugar Trabajo', 'Salario',\n",
              "       'Tipo Trabajo', 'Fecha Nacimiento', 'Lugar Nacimiento', 'Género',\n",
              "       'Ubicación electoral'],\n",
              "      dtype='object')"
            ]
          },
          "metadata": {},
          "execution_count": 13
        }
      ]
    },
    {
      "cell_type": "code",
      "metadata": {
        "ExecuteTime": {
          "end_time": "2021-08-24T07:29:39.894556Z",
          "start_time": "2021-08-24T07:29:39.728554Z"
        },
        "id": "lmlOdI8ujvs2"
      },
      "source": [
        "#df2 = df2.rename(columns = str.lower)\n",
        "df2 = df2.rename(columns = {'Monto Original' : 'monto_original', 'Saldo Capital':'saldo_capital', 'Estado Operación':'estado_operacion',\n",
        "       'Producto':'producto', 'Cartera':'cartera', 'Tipo Cartera':'tipo_cartera', 'Desc Reacción':'descripcion_reaccion',\n",
        "       'Última gestión':'ultima_gestion', 'Fecha Ultimo Pago':'fecha_ultima_pago', 'Lugar Trabajo':'lugar_trabajo', 'Salario':'salario',\n",
        "       'Tipo Trabajo':'tipo_trabajo', 'Fecha Nacimiento':'fecha_nacimiento', 'Lugar Nacimiento':'lugar_nacimiento', 'Género':'genero',\n",
        "       'Ubicación electoral':'ubicacion_electoral'})"
      ],
      "execution_count": 22,
      "outputs": []
    },
    {
      "cell_type": "code",
      "metadata": {
        "ExecuteTime": {
          "end_time": "2021-08-23T12:36:56.223148Z",
          "start_time": "2021-08-23T12:36:55.822103Z"
        },
        "colab": {
          "base_uri": "https://localhost:8080/"
        },
        "id": "naSnYSXgjvs3",
        "outputId": "cde9c99c-1449-4c58-ad68-13d753286cc4"
      },
      "source": [
        "df2.isnull().sum()[df2.isnull().sum() > 0]"
      ],
      "execution_count": 27,
      "outputs": [
        {
          "output_type": "execute_result",
          "data": {
            "text/plain": [
              "estado_operacion         55\n",
              "ultima_gestion         4018\n",
              "lugar_trabajo             1\n",
              "ubicacion_electoral    9376\n",
              "dtype: int64"
            ]
          },
          "metadata": {},
          "execution_count": 27
        }
      ]
    },
    {
      "cell_type": "code",
      "metadata": {
        "colab": {
          "base_uri": "https://localhost:8080/",
          "height": 192
        },
        "id": "GaTZs_mTOxTT",
        "outputId": "fe99d170-c18e-41e4-df0a-35c48a49aa93"
      },
      "source": [
        "df2[['estado_operacion', 'ultima_gestion', 'lugar_trabajo',\n",
        "       'ubicacion_electoral']].head(3)"
      ],
      "execution_count": 26,
      "outputs": [
        {
          "output_type": "execute_result",
          "data": {
            "text/html": [
              "<div>\n",
              "<style scoped>\n",
              "    .dataframe tbody tr th:only-of-type {\n",
              "        vertical-align: middle;\n",
              "    }\n",
              "\n",
              "    .dataframe tbody tr th {\n",
              "        vertical-align: top;\n",
              "    }\n",
              "\n",
              "    .dataframe thead th {\n",
              "        text-align: right;\n",
              "    }\n",
              "</style>\n",
              "<table border=\"1\" class=\"dataframe\">\n",
              "  <thead>\n",
              "    <tr style=\"text-align: right;\">\n",
              "      <th></th>\n",
              "      <th>estado_operacion</th>\n",
              "      <th>ultima_gestion</th>\n",
              "      <th>lugar_trabajo</th>\n",
              "      <th>ubicacion_electoral</th>\n",
              "    </tr>\n",
              "  </thead>\n",
              "  <tbody>\n",
              "    <tr>\n",
              "      <th>0</th>\n",
              "      <td>Inactiva</td>\n",
              "      <td>2020-10-07 14:47:00</td>\n",
              "      <td>COMERCIAL DINANT DE COSTA RICA SOCIEDAD ANONIMA</td>\n",
              "      <td>SAN JOSE DESAMPARADOS LOS GUIDO</td>\n",
              "    </tr>\n",
              "    <tr>\n",
              "      <th>1</th>\n",
              "      <td>Ilocalizable</td>\n",
              "      <td>2020-08-13 10:52:00</td>\n",
              "      <td>Sin trabajo</td>\n",
              "      <td>LIMON MATINA BATAN</td>\n",
              "    </tr>\n",
              "    <tr>\n",
              "      <th>2</th>\n",
              "      <td>Inactiva</td>\n",
              "      <td>2021-07-29 17:32:00</td>\n",
              "      <td>COMPAIA VERANDA DEL ESTE SOCIEDAD ANONIMA</td>\n",
              "      <td>LIMON POCOCI ROXANA</td>\n",
              "    </tr>\n",
              "  </tbody>\n",
              "</table>\n",
              "</div>"
            ],
            "text/plain": [
              "  estado_operacion  ...              ubicacion_electoral\n",
              "0         Inactiva  ...  SAN JOSE DESAMPARADOS LOS GUIDO\n",
              "1     Ilocalizable  ...               LIMON MATINA BATAN\n",
              "2         Inactiva  ...              LIMON POCOCI ROXANA\n",
              "\n",
              "[3 rows x 4 columns]"
            ]
          },
          "metadata": {},
          "execution_count": 26
        }
      ]
    },
    {
      "cell_type": "code",
      "metadata": {
        "colab": {
          "base_uri": "https://localhost:8080/",
          "height": 313
        },
        "id": "aPj869-mQ6rx",
        "outputId": "e6d0f1b4-e8b0-4056-a6ed-951e3141d158"
      },
      "source": [
        "df2.head(3)"
      ],
      "execution_count": 30,
      "outputs": [
        {
          "output_type": "execute_result",
          "data": {
            "text/html": [
              "<div>\n",
              "<style scoped>\n",
              "    .dataframe tbody tr th:only-of-type {\n",
              "        vertical-align: middle;\n",
              "    }\n",
              "\n",
              "    .dataframe tbody tr th {\n",
              "        vertical-align: top;\n",
              "    }\n",
              "\n",
              "    .dataframe thead th {\n",
              "        text-align: right;\n",
              "    }\n",
              "</style>\n",
              "<table border=\"1\" class=\"dataframe\">\n",
              "  <thead>\n",
              "    <tr style=\"text-align: right;\">\n",
              "      <th></th>\n",
              "      <th>Cliente</th>\n",
              "      <th>monto_original</th>\n",
              "      <th>saldo_capital</th>\n",
              "      <th>estado_operacion</th>\n",
              "      <th>producto</th>\n",
              "      <th>cartera</th>\n",
              "      <th>tipo_cartera</th>\n",
              "      <th>descripcion_reaccion</th>\n",
              "      <th>ultima_gestion</th>\n",
              "      <th>fecha_ultima_pago</th>\n",
              "      <th>lugar_trabajo</th>\n",
              "      <th>salario</th>\n",
              "      <th>tipo_trabajo</th>\n",
              "      <th>fecha_nacimiento</th>\n",
              "      <th>lugar_nacimiento</th>\n",
              "      <th>genero</th>\n",
              "      <th>ubicacion_electoral</th>\n",
              "    </tr>\n",
              "  </thead>\n",
              "  <tbody>\n",
              "    <tr>\n",
              "      <th>0</th>\n",
              "      <td>3</td>\n",
              "      <td>205269.000</td>\n",
              "      <td>205269.000</td>\n",
              "      <td>Inactiva</td>\n",
              "      <td>Maxima</td>\n",
              "      <td>SERVIVALORES</td>\n",
              "      <td>Propia</td>\n",
              "      <td>Contacto indirecto</td>\n",
              "      <td>2020-10-07 14:47:00</td>\n",
              "      <td>Sin pago registrado</td>\n",
              "      <td>COMERCIAL DINANT DE COSTA RICA SOCIEDAD ANONIMA</td>\n",
              "      <td>Entre ₡ 275000 y ₡ 300000</td>\n",
              "      <td>PRIVADO</td>\n",
              "      <td>1979-11-10</td>\n",
              "      <td>HOSPITAL CENTRAL SAN JOSE</td>\n",
              "      <td>MASC</td>\n",
              "      <td>SAN JOSE DESAMPARADOS LOS GUIDO</td>\n",
              "    </tr>\n",
              "    <tr>\n",
              "      <th>1</th>\n",
              "      <td>4</td>\n",
              "      <td>1686987.610</td>\n",
              "      <td>1686987.610</td>\n",
              "      <td>Ilocalizable</td>\n",
              "      <td>Tarjetas</td>\n",
              "      <td>CITI</td>\n",
              "      <td>Propia</td>\n",
              "      <td>Ilocalizable</td>\n",
              "      <td>2020-08-13 10:52:00</td>\n",
              "      <td>Sin pago registrado</td>\n",
              "      <td>Sin trabajo</td>\n",
              "      <td>Sin trabajo</td>\n",
              "      <td>Sin trabajo</td>\n",
              "      <td>1971-01-10</td>\n",
              "      <td>CENTRO MATINA LIMON</td>\n",
              "      <td>FEM</td>\n",
              "      <td>LIMON MATINA BATAN</td>\n",
              "    </tr>\n",
              "    <tr>\n",
              "      <th>2</th>\n",
              "      <td>5</td>\n",
              "      <td>9556510.022</td>\n",
              "      <td>9556510.022</td>\n",
              "      <td>Inactiva</td>\n",
              "      <td>Tarjetas</td>\n",
              "      <td>DAVIVIENDA</td>\n",
              "      <td>Propia</td>\n",
              "      <td>Contacto sin Promesa</td>\n",
              "      <td>2021-07-29 17:32:00</td>\n",
              "      <td>Sin pago registrado</td>\n",
              "      <td>COMPAIA VERANDA DEL ESTE SOCIEDAD ANONIMA</td>\n",
              "      <td>Entre ₡ 850000 y ₡ 875000</td>\n",
              "      <td>PRIVADO</td>\n",
              "      <td>1961-11-10</td>\n",
              "      <td>JIMENEZ POCOCI LIMON</td>\n",
              "      <td>MASC</td>\n",
              "      <td>LIMON POCOCI ROXANA</td>\n",
              "    </tr>\n",
              "  </tbody>\n",
              "</table>\n",
              "</div>"
            ],
            "text/plain": [
              "   Cliente  monto_original  ...  genero              ubicacion_electoral\n",
              "0        3      205269.000  ...    MASC  SAN JOSE DESAMPARADOS LOS GUIDO\n",
              "1        4     1686987.610  ...     FEM               LIMON MATINA BATAN\n",
              "2        5     9556510.022  ...    MASC              LIMON POCOCI ROXANA\n",
              "\n",
              "[3 rows x 17 columns]"
            ]
          },
          "metadata": {},
          "execution_count": 30
        }
      ]
    },
    {
      "cell_type": "code",
      "metadata": {
        "colab": {
          "base_uri": "https://localhost:8080/"
        },
        "id": "UxjFFHRcIpRY",
        "outputId": "6864e9f7-db2b-455c-8150-2d0455de60ae"
      },
      "source": [
        "df2.keys()"
      ],
      "execution_count": 16,
      "outputs": [
        {
          "output_type": "execute_result",
          "data": {
            "text/plain": [
              "Index(['cliente', 'monto original', 'saldo capital', 'estado operación',\n",
              "       'producto', 'cartera', 'tipo cartera', 'desc reacción',\n",
              "       'última gestión', 'fecha ultimo pago', 'lugar trabajo', 'salario',\n",
              "       'tipo trabajo', 'fecha nacimiento', 'lugar nacimiento', 'género',\n",
              "       'ubicación electoral'],\n",
              "      dtype='object')"
            ]
          },
          "metadata": {},
          "execution_count": 16
        }
      ]
    },
    {
      "cell_type": "code",
      "metadata": {
        "ExecuteTime": {
          "end_time": "2021-08-22T12:30:01.158057Z",
          "start_time": "2021-08-22T12:29:59.174110Z"
        },
        "scrolled": true,
        "colab": {
          "base_uri": "https://localhost:8080/",
          "height": 295
        },
        "id": "SIrQ_NJajvs3",
        "outputId": "1ad029b7-60fc-4dd1-c431-d40784cd2ec4"
      },
      "source": [
        "df2.describe()"
      ],
      "execution_count": 10,
      "outputs": [
        {
          "output_type": "execute_result",
          "data": {
            "text/html": [
              "<div>\n",
              "<style scoped>\n",
              "    .dataframe tbody tr th:only-of-type {\n",
              "        vertical-align: middle;\n",
              "    }\n",
              "\n",
              "    .dataframe tbody tr th {\n",
              "        vertical-align: top;\n",
              "    }\n",
              "\n",
              "    .dataframe thead th {\n",
              "        text-align: right;\n",
              "    }\n",
              "</style>\n",
              "<table border=\"1\" class=\"dataframe\">\n",
              "  <thead>\n",
              "    <tr style=\"text-align: right;\">\n",
              "      <th></th>\n",
              "      <th>cliente</th>\n",
              "      <th>monto original</th>\n",
              "      <th>saldo capital</th>\n",
              "    </tr>\n",
              "  </thead>\n",
              "  <tbody>\n",
              "    <tr>\n",
              "      <th>count</th>\n",
              "      <td>225256.000000</td>\n",
              "      <td>2.252560e+05</td>\n",
              "      <td>2.252560e+05</td>\n",
              "    </tr>\n",
              "    <tr>\n",
              "      <th>mean</th>\n",
              "      <td>119678.626469</td>\n",
              "      <td>1.380897e+06</td>\n",
              "      <td>1.368431e+06</td>\n",
              "    </tr>\n",
              "    <tr>\n",
              "      <th>std</th>\n",
              "      <td>68182.822591</td>\n",
              "      <td>2.404658e+06</td>\n",
              "      <td>2.390332e+06</td>\n",
              "    </tr>\n",
              "    <tr>\n",
              "      <th>min</th>\n",
              "      <td>3.000000</td>\n",
              "      <td>0.000000e+00</td>\n",
              "      <td>1.400000e-01</td>\n",
              "    </tr>\n",
              "    <tr>\n",
              "      <th>25%</th>\n",
              "      <td>61556.750000</td>\n",
              "      <td>3.491920e+05</td>\n",
              "      <td>3.434028e+05</td>\n",
              "    </tr>\n",
              "    <tr>\n",
              "      <th>50%</th>\n",
              "      <td>118937.500000</td>\n",
              "      <td>6.521585e+05</td>\n",
              "      <td>6.443379e+05</td>\n",
              "    </tr>\n",
              "    <tr>\n",
              "      <th>75%</th>\n",
              "      <td>179213.250000</td>\n",
              "      <td>1.334294e+06</td>\n",
              "      <td>1.321546e+06</td>\n",
              "    </tr>\n",
              "    <tr>\n",
              "      <th>max</th>\n",
              "      <td>237698.000000</td>\n",
              "      <td>2.603824e+08</td>\n",
              "      <td>2.603824e+08</td>\n",
              "    </tr>\n",
              "  </tbody>\n",
              "</table>\n",
              "</div>"
            ],
            "text/plain": [
              "             cliente  monto original  saldo capital\n",
              "count  225256.000000    2.252560e+05   2.252560e+05\n",
              "mean   119678.626469    1.380897e+06   1.368431e+06\n",
              "std     68182.822591    2.404658e+06   2.390332e+06\n",
              "min         3.000000    0.000000e+00   1.400000e-01\n",
              "25%     61556.750000    3.491920e+05   3.434028e+05\n",
              "50%    118937.500000    6.521585e+05   6.443379e+05\n",
              "75%    179213.250000    1.334294e+06   1.321546e+06\n",
              "max    237698.000000    2.603824e+08   2.603824e+08"
            ]
          },
          "metadata": {},
          "execution_count": 10
        }
      ]
    },
    {
      "cell_type": "code",
      "metadata": {
        "ExecuteTime": {
          "end_time": "2021-08-24T07:29:49.717271Z",
          "start_time": "2021-08-24T07:29:48.959322Z"
        },
        "id": "dQ35QmXUjvs4",
        "colab": {
          "base_uri": "https://localhost:8080/"
        },
        "outputId": "7abf3363-9856-4c3b-816d-5e0f4b347701"
      },
      "source": [
        "#Excluing the clients that borned in 1800 (2365 values)\n",
        "df2.query(\"fecha_nacimiento != '1800-01-01'\").shape"
      ],
      "execution_count": 29,
      "outputs": [
        {
          "output_type": "execute_result",
          "data": {
            "text/plain": [
              "(225256, 17)"
            ]
          },
          "metadata": {},
          "execution_count": 29
        }
      ]
    },
    {
      "cell_type": "code",
      "metadata": {
        "colab": {
          "base_uri": "https://localhost:8080/",
          "height": 577
        },
        "id": "kUeW4A1Ju3JN",
        "outputId": "61be3a04-3cd9-41e0-b7be-7179f169ff04"
      },
      "source": [
        "figure = plt.figure(figsize=(8, 6), dpi=80)\n",
        "g = sns.heatmap(df2.corr(), annot=True, fmt = \".2f\", cmap = \"coolwarm\")"
      ],
      "execution_count": null,
      "outputs": [
        {
          "output_type": "display_data",
          "data": {
            "image/png": "[encoded data removed]",
            "text/plain": [
              "<Figure size 640x480 with 2 Axes>"
            ]
          },
          "metadata": {
            "needs_background": "light"
          }
        },
        {
          "output_type": "stream",
          "name": "stdout",
          "text": [
            "time: 1.33 s (started: 2021-09-03 17:51:54 +00:00)\n"
          ]
        }
      ]
    },
    {
      "cell_type": "code",
      "metadata": {
        "ExecuteTime": {
          "end_time": "2021-08-23T12:37:54.286019Z",
          "start_time": "2021-08-23T12:37:54.272023Z"
        },
        "scrolled": true,
        "id": "lrbaJOs5jvs4",
        "colab": {
          "base_uri": "https://localhost:8080/",
          "height": 313
        },
        "outputId": "57fa2f57-9fff-4c57-8f4b-7fcdbcc55e99"
      },
      "source": [
        "pd.set_option('display.max_columns', None)\n",
        "df2.head(3)"
      ],
      "execution_count": 31,
      "outputs": [
        {
          "output_type": "execute_result",
          "data": {
            "text/html": [
              "<div>\n",
              "<style scoped>\n",
              "    .dataframe tbody tr th:only-of-type {\n",
              "        vertical-align: middle;\n",
              "    }\n",
              "\n",
              "    .dataframe tbody tr th {\n",
              "        vertical-align: top;\n",
              "    }\n",
              "\n",
              "    .dataframe thead th {\n",
              "        text-align: right;\n",
              "    }\n",
              "</style>\n",
              "<table border=\"1\" class=\"dataframe\">\n",
              "  <thead>\n",
              "    <tr style=\"text-align: right;\">\n",
              "      <th></th>\n",
              "      <th>Cliente</th>\n",
              "      <th>monto_original</th>\n",
              "      <th>saldo_capital</th>\n",
              "      <th>estado_operacion</th>\n",
              "      <th>producto</th>\n",
              "      <th>cartera</th>\n",
              "      <th>tipo_cartera</th>\n",
              "      <th>descripcion_reaccion</th>\n",
              "      <th>ultima_gestion</th>\n",
              "      <th>fecha_ultima_pago</th>\n",
              "      <th>lugar_trabajo</th>\n",
              "      <th>salario</th>\n",
              "      <th>tipo_trabajo</th>\n",
              "      <th>fecha_nacimiento</th>\n",
              "      <th>lugar_nacimiento</th>\n",
              "      <th>genero</th>\n",
              "      <th>ubicacion_electoral</th>\n",
              "    </tr>\n",
              "  </thead>\n",
              "  <tbody>\n",
              "    <tr>\n",
              "      <th>0</th>\n",
              "      <td>3</td>\n",
              "      <td>205269.000</td>\n",
              "      <td>205269.000</td>\n",
              "      <td>Inactiva</td>\n",
              "      <td>Maxima</td>\n",
              "      <td>SERVIVALORES</td>\n",
              "      <td>Propia</td>\n",
              "      <td>Contacto indirecto</td>\n",
              "      <td>2020-10-07 14:47:00</td>\n",
              "      <td>Sin pago registrado</td>\n",
              "      <td>COMERCIAL DINANT DE COSTA RICA SOCIEDAD ANONIMA</td>\n",
              "      <td>Entre ₡ 275000 y ₡ 300000</td>\n",
              "      <td>PRIVADO</td>\n",
              "      <td>1979-11-10</td>\n",
              "      <td>HOSPITAL CENTRAL SAN JOSE</td>\n",
              "      <td>MASC</td>\n",
              "      <td>SAN JOSE DESAMPARADOS LOS GUIDO</td>\n",
              "    </tr>\n",
              "    <tr>\n",
              "      <th>1</th>\n",
              "      <td>4</td>\n",
              "      <td>1686987.610</td>\n",
              "      <td>1686987.610</td>\n",
              "      <td>Ilocalizable</td>\n",
              "      <td>Tarjetas</td>\n",
              "      <td>CITI</td>\n",
              "      <td>Propia</td>\n",
              "      <td>Ilocalizable</td>\n",
              "      <td>2020-08-13 10:52:00</td>\n",
              "      <td>Sin pago registrado</td>\n",
              "      <td>Sin trabajo</td>\n",
              "      <td>Sin trabajo</td>\n",
              "      <td>Sin trabajo</td>\n",
              "      <td>1971-01-10</td>\n",
              "      <td>CENTRO MATINA LIMON</td>\n",
              "      <td>FEM</td>\n",
              "      <td>LIMON MATINA BATAN</td>\n",
              "    </tr>\n",
              "    <tr>\n",
              "      <th>2</th>\n",
              "      <td>5</td>\n",
              "      <td>9556510.022</td>\n",
              "      <td>9556510.022</td>\n",
              "      <td>Inactiva</td>\n",
              "      <td>Tarjetas</td>\n",
              "      <td>DAVIVIENDA</td>\n",
              "      <td>Propia</td>\n",
              "      <td>Contacto sin Promesa</td>\n",
              "      <td>2021-07-29 17:32:00</td>\n",
              "      <td>Sin pago registrado</td>\n",
              "      <td>COMPAIA VERANDA DEL ESTE SOCIEDAD ANONIMA</td>\n",
              "      <td>Entre ₡ 850000 y ₡ 875000</td>\n",
              "      <td>PRIVADO</td>\n",
              "      <td>1961-11-10</td>\n",
              "      <td>JIMENEZ POCOCI LIMON</td>\n",
              "      <td>MASC</td>\n",
              "      <td>LIMON POCOCI ROXANA</td>\n",
              "    </tr>\n",
              "  </tbody>\n",
              "</table>\n",
              "</div>"
            ],
            "text/plain": [
              "   Cliente  monto_original  saldo_capital estado_operacion  producto  \\\n",
              "0        3      205269.000     205269.000         Inactiva    Maxima   \n",
              "1        4     1686987.610    1686987.610     Ilocalizable  Tarjetas   \n",
              "2        5     9556510.022    9556510.022         Inactiva  Tarjetas   \n",
              "\n",
              "        cartera tipo_cartera  descripcion_reaccion      ultima_gestion  \\\n",
              "0  SERVIVALORES       Propia    Contacto indirecto 2020-10-07 14:47:00   \n",
              "1          CITI       Propia          Ilocalizable 2020-08-13 10:52:00   \n",
              "2    DAVIVIENDA       Propia  Contacto sin Promesa 2021-07-29 17:32:00   \n",
              "\n",
              "     fecha_ultima_pago                                    lugar_trabajo  \\\n",
              "0  Sin pago registrado  COMERCIAL DINANT DE COSTA RICA SOCIEDAD ANONIMA   \n",
              "1  Sin pago registrado                                      Sin trabajo   \n",
              "2  Sin pago registrado        COMPAIA VERANDA DEL ESTE SOCIEDAD ANONIMA   \n",
              "\n",
              "                     salario tipo_trabajo fecha_nacimiento  \\\n",
              "0  Entre ₡ 275000 y ₡ 300000      PRIVADO       1979-11-10   \n",
              "1                Sin trabajo  Sin trabajo       1971-01-10   \n",
              "2  Entre ₡ 850000 y ₡ 875000      PRIVADO       1961-11-10   \n",
              "\n",
              "            lugar_nacimiento genero              ubicacion_electoral  \n",
              "0  HOSPITAL CENTRAL SAN JOSE   MASC  SAN JOSE DESAMPARADOS LOS GUIDO  \n",
              "1        CENTRO MATINA LIMON    FEM               LIMON MATINA BATAN  \n",
              "2       JIMENEZ POCOCI LIMON   MASC              LIMON POCOCI ROXANA  "
            ]
          },
          "metadata": {},
          "execution_count": 31
        }
      ]
    },
    {
      "cell_type": "code",
      "metadata": {
        "colab": {
          "base_uri": "https://localhost:8080/"
        },
        "id": "OWc9zbW6RL5l",
        "outputId": "287ea368-bb0a-4a90-a28a-05b1855ad2d2"
      },
      "source": [
        "df2.info()"
      ],
      "execution_count": 32,
      "outputs": [
        {
          "output_type": "stream",
          "name": "stdout",
          "text": [
            "<class 'pandas.core.frame.DataFrame'>\n",
            "RangeIndex: 225256 entries, 0 to 225255\n",
            "Data columns (total 17 columns):\n",
            " #   Column                Non-Null Count   Dtype         \n",
            "---  ------                --------------   -----         \n",
            " 0   Cliente               225256 non-null  int64         \n",
            " 1   monto_original        225256 non-null  float64       \n",
            " 2   saldo_capital         225256 non-null  float64       \n",
            " 3   estado_operacion      225201 non-null  object        \n",
            " 4   producto              225256 non-null  object        \n",
            " 5   cartera               225256 non-null  object        \n",
            " 6   tipo_cartera          225256 non-null  object        \n",
            " 7   descripcion_reaccion  225256 non-null  object        \n",
            " 8   ultima_gestion        221238 non-null  datetime64[ns]\n",
            " 9   fecha_ultima_pago     225256 non-null  object        \n",
            " 10  lugar_trabajo         225255 non-null  object        \n",
            " 11  salario               225256 non-null  object        \n",
            " 12  tipo_trabajo          225256 non-null  object        \n",
            " 13  fecha_nacimiento      225256 non-null  datetime64[ns]\n",
            " 14  lugar_nacimiento      225256 non-null  object        \n",
            " 15  genero                225256 non-null  object        \n",
            " 16  ubicacion_electoral   215880 non-null  object        \n",
            "dtypes: datetime64[ns](2), float64(2), int64(1), object(12)\n",
            "memory usage: 29.2+ MB\n"
          ]
        }
      ]
    },
    {
      "cell_type": "code",
      "metadata": {
        "ExecuteTime": {
          "end_time": "2021-08-20T17:30:02.105157Z",
          "start_time": "2021-08-20T17:30:02.085157Z"
        },
        "id": "zEk7Q3pjjvs5",
        "colab": {
          "base_uri": "https://localhost:8080/"
        },
        "outputId": "2826e1af-902b-4e5f-d96d-ef99663d9721"
      },
      "source": [
        "#np.int64\n",
        "df2.dtypes[df2.dtypes == object].keys()"
      ],
      "execution_count": 52,
      "outputs": [
        {
          "output_type": "execute_result",
          "data": {
            "text/plain": [
              "Index(['estado_operacion', 'producto', 'cartera', 'tipo_cartera',\n",
              "       'descripcion_reaccion', 'fecha_ultima_pago', 'lugar_trabajo', 'salario',\n",
              "       'tipo_trabajo', 'lugar_nacimiento', 'genero', 'ubicacion_electoral'],\n",
              "      dtype='object')"
            ]
          },
          "metadata": {},
          "execution_count": 52
        }
      ]
    },
    {
      "cell_type": "code",
      "metadata": {
        "ExecuteTime": {
          "end_time": "2021-08-20T17:43:20.995559Z",
          "start_time": "2021-08-20T17:43:20.974562Z"
        },
        "id": "RRej0f_ijvs5"
      },
      "source": [
        "#df2.dtypes[df2.dtypes == 'datetime64[ns]'].keys()"
      ],
      "execution_count": 51,
      "outputs": []
    },
    {
      "cell_type": "code",
      "metadata": {
        "ExecuteTime": {
          "end_time": "2021-08-20T17:24:38.114206Z",
          "start_time": "2021-08-20T17:24:38.099204Z"
        },
        "id": "YwPJeNkRjvs5"
      },
      "source": [
        "#df2.dtypes[df2.dtypes == float]"
      ],
      "execution_count": 45,
      "outputs": []
    },
    {
      "cell_type": "markdown",
      "metadata": {
        "id": "8lfVf7hUjsS3"
      },
      "source": [
        "## Analisis separado por variables"
      ]
    },
    {
      "cell_type": "code",
      "metadata": {
        "ExecuteTime": {
          "end_time": "2021-08-24T07:29:59.109574Z",
          "start_time": "2021-08-24T07:29:58.307919Z"
        },
        "id": "-2zRPtmpjvs7"
      },
      "source": [
        "## float variables\n",
        "df_float = df2[['monto_original', 'saldo_capital']]\\\n",
        "       .apply(lambda x: round(x/726.09, 2))\n",
        "#\\.replace(np.nan, 0)"
      ],
      "execution_count": 39,
      "outputs": []
    },
    {
      "cell_type": "code",
      "metadata": {
        "ExecuteTime": {
          "end_time": "2021-08-24T07:30:02.673956Z",
          "start_time": "2021-08-24T07:30:02.653938Z"
        },
        "id": "0qmhyvdMjvs8"
      },
      "source": [
        "## int64 variables\n",
        "df_int = df2[['Cliente']]"
      ],
      "execution_count": 42,
      "outputs": []
    },
    {
      "cell_type": "code",
      "metadata": {
        "ExecuteTime": {
          "end_time": "2021-08-24T07:30:05.354224Z",
          "start_time": "2021-08-24T07:30:05.328231Z"
        },
        "id": "PSBiDAhdjvs8"
      },
      "source": [
        "#df2['fecha_defuncion'] = df2['fecha_defuncion'].replace(np.nan, 0)"
      ],
      "execution_count": 43,
      "outputs": []
    },
    {
      "cell_type": "code",
      "metadata": {
        "ExecuteTime": {
          "end_time": "2021-08-24T07:30:07.992948Z",
          "start_time": "2021-08-24T07:30:07.978939Z"
        },
        "id": "yiqa6iWkjvs8"
      },
      "source": [
        "## datetime64 variables\n",
        "df_datetime = df2[['ultima_gestion', 'fecha_nacimiento']]"
      ],
      "execution_count": 47,
      "outputs": []
    },
    {
      "cell_type": "code",
      "metadata": {
        "ExecuteTime": {
          "end_time": "2021-08-24T07:30:26.634662Z",
          "start_time": "2021-08-24T07:30:26.403666Z"
        },
        "id": "_wGQ6-6Mjvs8"
      },
      "source": [
        "df_datetime = df_datetime.apply(lambda x: pd.to_datetime(x, format='%Y%m%d'))\\\n",
        "                         .apply(lambda x: pd.DatetimeIndex(x).year)\\\n",
        "                         .apply(lambda x: x.replace(np.nan, 0))\\\n",
        "                         .apply(lambda x: x.astype('int'))\n",
        "#.query(\"fecha_nacimiento <= 2014 & fecha_nacimiento >= 1940\").fecha_nacimiento.value_counts().sort_index(ascending = False)\n",
        "#.loc[(df_datetime['fecha_nacimiento'] <= 2003) & (df_datetime['fecha_nacimiento'] >= 1940)]\\\n",
        "#df.loc[(df['column_name'] >= A) & (df['column_name'] <= B)]"
      ],
      "execution_count": 49,
      "outputs": []
    },
    {
      "cell_type": "code",
      "metadata": {
        "ExecuteTime": {
          "end_time": "2021-08-23T16:32:38.141151Z",
          "start_time": "2021-08-23T16:32:38.128125Z"
        },
        "id": "y2PNg7F8jvs9"
      },
      "source": [
        "#pd.set_option('display.max_columns', None)\n",
        "#pd.set_option('display.max_rows', None)\n",
        "#df_datetime['fecha_nacimiento'].value_counts().sort_index(ascending = False, axis = 0)"
      ],
      "execution_count": null,
      "outputs": []
    },
    {
      "cell_type": "code",
      "metadata": {
        "ExecuteTime": {
          "end_time": "2021-08-24T07:30:54.048089Z",
          "start_time": "2021-08-24T07:30:54.022092Z"
        },
        "id": "Sgnn2dU7jvs9"
      },
      "source": [
        "## object variable\n",
        "df_object = df2[['estado_operacion', 'producto', 'cartera', 'tipo_cartera',\n",
        "       'descripcion_reaccion', 'fecha_ultima_pago', 'lugar_trabajo', 'salario',\n",
        "       'tipo_trabajo', 'lugar_nacimiento', 'genero', 'ubicacion_electoral']]"
      ],
      "execution_count": 53,
      "outputs": []
    },
    {
      "cell_type": "code",
      "metadata": {
        "colab": {
          "base_uri": "https://localhost:8080/",
          "height": 313
        },
        "id": "6bSgyOsBZbRB",
        "outputId": "1439dc37-94aa-4972-fc8f-b9b0e10eb92b"
      },
      "source": [
        "df_object.head(3)"
      ],
      "execution_count": 55,
      "outputs": [
        {
          "output_type": "execute_result",
          "data": {
            "text/html": [
              "<div>\n",
              "<style scoped>\n",
              "    .dataframe tbody tr th:only-of-type {\n",
              "        vertical-align: middle;\n",
              "    }\n",
              "\n",
              "    .dataframe tbody tr th {\n",
              "        vertical-align: top;\n",
              "    }\n",
              "\n",
              "    .dataframe thead th {\n",
              "        text-align: right;\n",
              "    }\n",
              "</style>\n",
              "<table border=\"1\" class=\"dataframe\">\n",
              "  <thead>\n",
              "    <tr style=\"text-align: right;\">\n",
              "      <th></th>\n",
              "      <th>estado_operacion</th>\n",
              "      <th>producto</th>\n",
              "      <th>cartera</th>\n",
              "      <th>tipo_cartera</th>\n",
              "      <th>descripcion_reaccion</th>\n",
              "      <th>fecha_ultima_pago</th>\n",
              "      <th>lugar_trabajo</th>\n",
              "      <th>salario</th>\n",
              "      <th>tipo_trabajo</th>\n",
              "      <th>lugar_nacimiento</th>\n",
              "      <th>genero</th>\n",
              "      <th>ubicacion_electoral</th>\n",
              "    </tr>\n",
              "  </thead>\n",
              "  <tbody>\n",
              "    <tr>\n",
              "      <th>0</th>\n",
              "      <td>Inactiva</td>\n",
              "      <td>Maxima</td>\n",
              "      <td>SERVIVALORES</td>\n",
              "      <td>Propia</td>\n",
              "      <td>Contacto indirecto</td>\n",
              "      <td>Sin pago registrado</td>\n",
              "      <td>COMERCIAL DINANT DE COSTA RICA SOCIEDAD ANONIMA</td>\n",
              "      <td>Entre ₡ 275000 y ₡ 300000</td>\n",
              "      <td>PRIVADO</td>\n",
              "      <td>HOSPITAL CENTRAL SAN JOSE</td>\n",
              "      <td>MASC</td>\n",
              "      <td>SAN JOSE DESAMPARADOS LOS GUIDO</td>\n",
              "    </tr>\n",
              "    <tr>\n",
              "      <th>1</th>\n",
              "      <td>Ilocalizable</td>\n",
              "      <td>Tarjetas</td>\n",
              "      <td>CITI</td>\n",
              "      <td>Propia</td>\n",
              "      <td>Ilocalizable</td>\n",
              "      <td>Sin pago registrado</td>\n",
              "      <td>Sin trabajo</td>\n",
              "      <td>Sin trabajo</td>\n",
              "      <td>Sin trabajo</td>\n",
              "      <td>CENTRO MATINA LIMON</td>\n",
              "      <td>FEM</td>\n",
              "      <td>LIMON MATINA BATAN</td>\n",
              "    </tr>\n",
              "    <tr>\n",
              "      <th>2</th>\n",
              "      <td>Inactiva</td>\n",
              "      <td>Tarjetas</td>\n",
              "      <td>DAVIVIENDA</td>\n",
              "      <td>Propia</td>\n",
              "      <td>Contacto sin Promesa</td>\n",
              "      <td>Sin pago registrado</td>\n",
              "      <td>COMPAIA VERANDA DEL ESTE SOCIEDAD ANONIMA</td>\n",
              "      <td>Entre ₡ 850000 y ₡ 875000</td>\n",
              "      <td>PRIVADO</td>\n",
              "      <td>JIMENEZ POCOCI LIMON</td>\n",
              "      <td>MASC</td>\n",
              "      <td>LIMON POCOCI ROXANA</td>\n",
              "    </tr>\n",
              "  </tbody>\n",
              "</table>\n",
              "</div>"
            ],
            "text/plain": [
              "  estado_operacion  producto       cartera tipo_cartera  descripcion_reaccion  \\\n",
              "0         Inactiva    Maxima  SERVIVALORES       Propia    Contacto indirecto   \n",
              "1     Ilocalizable  Tarjetas          CITI       Propia          Ilocalizable   \n",
              "2         Inactiva  Tarjetas    DAVIVIENDA       Propia  Contacto sin Promesa   \n",
              "\n",
              "     fecha_ultima_pago                                    lugar_trabajo  \\\n",
              "0  Sin pago registrado  COMERCIAL DINANT DE COSTA RICA SOCIEDAD ANONIMA   \n",
              "1  Sin pago registrado                                      Sin trabajo   \n",
              "2  Sin pago registrado        COMPAIA VERANDA DEL ESTE SOCIEDAD ANONIMA   \n",
              "\n",
              "                     salario tipo_trabajo           lugar_nacimiento genero  \\\n",
              "0  Entre ₡ 275000 y ₡ 300000      PRIVADO  HOSPITAL CENTRAL SAN JOSE   MASC   \n",
              "1                Sin trabajo  Sin trabajo        CENTRO MATINA LIMON    FEM   \n",
              "2  Entre ₡ 850000 y ₡ 875000      PRIVADO       JIMENEZ POCOCI LIMON   MASC   \n",
              "\n",
              "               ubicacion_electoral  \n",
              "0  SAN JOSE DESAMPARADOS LOS GUIDO  \n",
              "1               LIMON MATINA BATAN  \n",
              "2              LIMON POCOCI ROXANA  "
            ]
          },
          "metadata": {},
          "execution_count": 55
        }
      ]
    },
    {
      "cell_type": "code",
      "metadata": {
        "colab": {
          "base_uri": "https://localhost:8080/"
        },
        "id": "jGxAzQejnBEV",
        "outputId": "6864daff-a1a0-4918-efd5-dec79a8861dc"
      },
      "source": [
        "df_object['lugar_nacimiento'].value_counts()"
      ],
      "execution_count": 63,
      "outputs": [
        {
          "output_type": "execute_result",
          "data": {
            "text/plain": [
              "HOSPITAL CENTRAL SAN JOSE       57161\n",
              "CARMEN CENTRAL SAN JOSE         22952\n",
              "URUCA CENTRAL SAN JOSE          13313\n",
              "CENTRO CENTRAL ALAJUELA          9052\n",
              "CENTRO CENTRAL HEREDIA           7874\n",
              "                                ...  \n",
              "ESPARTA CENTRAL PUNTARENAS          1\n",
              "LA ARGENTINA GRECIA ALAJUELA        1\n",
              "NICARAGUA CHONTALES ACOYAPA         1\n",
              "ZAPATON PURISCAL SAN JOSE           1\n",
              "LOS ANG CALIFORNIA E U A            1\n",
              "Name: lugar_nacimiento, Length: 4477, dtype: int64"
            ]
          },
          "metadata": {},
          "execution_count": 63
        }
      ]
    },
    {
      "cell_type": "code",
      "metadata": {
        "id": "1VP-iLc0Y-Is"
      },
      "source": [
        "estado_operacion         55\n",
        "ultima_gestion         4018\n",
        "lugar_trabajo             1\n",
        "ubicacion_electoral    9376"
      ],
      "execution_count": null,
      "outputs": []
    },
    {
      "cell_type": "code",
      "metadata": {
        "ExecuteTime": {
          "end_time": "2021-08-24T07:31:32.631434Z",
          "start_time": "2021-08-24T07:31:31.228438Z"
        },
        "colab": {
          "base_uri": "https://localhost:8080/"
        },
        "id": "0OttY76Xjvs9",
        "outputId": "a617c9ac-f437-4df2-f7e7-579651c52c5c"
      },
      "source": [
        "df_object['salario'] = df_object['salario'].apply(lambda x: re.findall(r'\\d+', str(x)))"
      ],
      "execution_count": 57,
      "outputs": [
        {
          "output_type": "stream",
          "name": "stderr",
          "text": [
            "/usr/local/lib/python3.7/dist-packages/ipykernel_launcher.py:1: SettingWithCopyWarning: \n",
            "A value is trying to be set on a copy of a slice from a DataFrame.\n",
            "Try using .loc[row_indexer,col_indexer] = value instead\n",
            "\n",
            "See the caveats in the documentation: https://pandas.pydata.org/pandas-docs/stable/user_guide/indexing.html#returning-a-view-versus-a-copy\n",
            "  \"\"\"Entry point for launching an IPython kernel.\n"
          ]
        }
      ]
    },
    {
      "cell_type": "code",
      "metadata": {
        "ExecuteTime": {
          "end_time": "2021-08-24T07:32:14.959528Z",
          "start_time": "2021-08-24T07:31:49.309181Z"
        },
        "colab": {
          "base_uri": "https://localhost:8080/"
        },
        "id": "OloVbTB9jvs-",
        "outputId": "6cfc6820-e503-4968-85ec-26a7680c4c2b"
      },
      "source": [
        "df_object[['salario_inferior','salario_superior']] = pd.DataFrame(df_object['salario'].tolist(), index= df_object.index)"
      ],
      "execution_count": 58,
      "outputs": [
        {
          "output_type": "stream",
          "name": "stderr",
          "text": [
            "/usr/local/lib/python3.7/dist-packages/pandas/core/frame.py:3069: SettingWithCopyWarning: \n",
            "A value is trying to be set on a copy of a slice from a DataFrame.\n",
            "Try using .loc[row_indexer,col_indexer] = value instead\n",
            "\n",
            "See the caveats in the documentation: https://pandas.pydata.org/pandas-docs/stable/user_guide/indexing.html#returning-a-view-versus-a-copy\n",
            "  self[k1] = value[k2]\n"
          ]
        }
      ]
    },
    {
      "cell_type": "code",
      "metadata": {
        "colab": {
          "base_uri": "https://localhost:8080/",
          "height": 313
        },
        "id": "2jQv9t7ngIEC",
        "outputId": "418217d3-4a23-4e16-ffa9-b69274b41364"
      },
      "source": [
        "df_object.head(3)"
      ],
      "execution_count": 59,
      "outputs": [
        {
          "output_type": "execute_result",
          "data": {
            "text/html": [
              "<div>\n",
              "<style scoped>\n",
              "    .dataframe tbody tr th:only-of-type {\n",
              "        vertical-align: middle;\n",
              "    }\n",
              "\n",
              "    .dataframe tbody tr th {\n",
              "        vertical-align: top;\n",
              "    }\n",
              "\n",
              "    .dataframe thead th {\n",
              "        text-align: right;\n",
              "    }\n",
              "</style>\n",
              "<table border=\"1\" class=\"dataframe\">\n",
              "  <thead>\n",
              "    <tr style=\"text-align: right;\">\n",
              "      <th></th>\n",
              "      <th>estado_operacion</th>\n",
              "      <th>producto</th>\n",
              "      <th>cartera</th>\n",
              "      <th>tipo_cartera</th>\n",
              "      <th>descripcion_reaccion</th>\n",
              "      <th>fecha_ultima_pago</th>\n",
              "      <th>lugar_trabajo</th>\n",
              "      <th>salario</th>\n",
              "      <th>tipo_trabajo</th>\n",
              "      <th>lugar_nacimiento</th>\n",
              "      <th>genero</th>\n",
              "      <th>ubicacion_electoral</th>\n",
              "      <th>salario_inferior</th>\n",
              "      <th>salario_superior</th>\n",
              "    </tr>\n",
              "  </thead>\n",
              "  <tbody>\n",
              "    <tr>\n",
              "      <th>0</th>\n",
              "      <td>Inactiva</td>\n",
              "      <td>Maxima</td>\n",
              "      <td>SERVIVALORES</td>\n",
              "      <td>Propia</td>\n",
              "      <td>Contacto indirecto</td>\n",
              "      <td>Sin pago registrado</td>\n",
              "      <td>COMERCIAL DINANT DE COSTA RICA SOCIEDAD ANONIMA</td>\n",
              "      <td>[275000, 300000]</td>\n",
              "      <td>PRIVADO</td>\n",
              "      <td>HOSPITAL CENTRAL SAN JOSE</td>\n",
              "      <td>MASC</td>\n",
              "      <td>SAN JOSE DESAMPARADOS LOS GUIDO</td>\n",
              "      <td>275000</td>\n",
              "      <td>300000</td>\n",
              "    </tr>\n",
              "    <tr>\n",
              "      <th>1</th>\n",
              "      <td>Ilocalizable</td>\n",
              "      <td>Tarjetas</td>\n",
              "      <td>CITI</td>\n",
              "      <td>Propia</td>\n",
              "      <td>Ilocalizable</td>\n",
              "      <td>Sin pago registrado</td>\n",
              "      <td>Sin trabajo</td>\n",
              "      <td>[]</td>\n",
              "      <td>Sin trabajo</td>\n",
              "      <td>CENTRO MATINA LIMON</td>\n",
              "      <td>FEM</td>\n",
              "      <td>LIMON MATINA BATAN</td>\n",
              "      <td>None</td>\n",
              "      <td>None</td>\n",
              "    </tr>\n",
              "    <tr>\n",
              "      <th>2</th>\n",
              "      <td>Inactiva</td>\n",
              "      <td>Tarjetas</td>\n",
              "      <td>DAVIVIENDA</td>\n",
              "      <td>Propia</td>\n",
              "      <td>Contacto sin Promesa</td>\n",
              "      <td>Sin pago registrado</td>\n",
              "      <td>COMPAIA VERANDA DEL ESTE SOCIEDAD ANONIMA</td>\n",
              "      <td>[850000, 875000]</td>\n",
              "      <td>PRIVADO</td>\n",
              "      <td>JIMENEZ POCOCI LIMON</td>\n",
              "      <td>MASC</td>\n",
              "      <td>LIMON POCOCI ROXANA</td>\n",
              "      <td>850000</td>\n",
              "      <td>875000</td>\n",
              "    </tr>\n",
              "  </tbody>\n",
              "</table>\n",
              "</div>"
            ],
            "text/plain": [
              "  estado_operacion  producto       cartera tipo_cartera  descripcion_reaccion  \\\n",
              "0         Inactiva    Maxima  SERVIVALORES       Propia    Contacto indirecto   \n",
              "1     Ilocalizable  Tarjetas          CITI       Propia          Ilocalizable   \n",
              "2         Inactiva  Tarjetas    DAVIVIENDA       Propia  Contacto sin Promesa   \n",
              "\n",
              "     fecha_ultima_pago                                    lugar_trabajo  \\\n",
              "0  Sin pago registrado  COMERCIAL DINANT DE COSTA RICA SOCIEDAD ANONIMA   \n",
              "1  Sin pago registrado                                      Sin trabajo   \n",
              "2  Sin pago registrado        COMPAIA VERANDA DEL ESTE SOCIEDAD ANONIMA   \n",
              "\n",
              "            salario tipo_trabajo           lugar_nacimiento genero  \\\n",
              "0  [275000, 300000]      PRIVADO  HOSPITAL CENTRAL SAN JOSE   MASC   \n",
              "1                []  Sin trabajo        CENTRO MATINA LIMON    FEM   \n",
              "2  [850000, 875000]      PRIVADO       JIMENEZ POCOCI LIMON   MASC   \n",
              "\n",
              "               ubicacion_electoral salario_inferior salario_superior  \n",
              "0  SAN JOSE DESAMPARADOS LOS GUIDO           275000           300000  \n",
              "1               LIMON MATINA BATAN             None             None  \n",
              "2              LIMON POCOCI ROXANA           850000           875000  "
            ]
          },
          "metadata": {},
          "execution_count": 59
        }
      ]
    },
    {
      "cell_type": "markdown",
      "metadata": {
        "id": "jnloReUJ2cwl"
      },
      "source": [
        "## JOIN DATASETS"
      ]
    },
    {
      "cell_type": "code",
      "metadata": {
        "colab": {
          "base_uri": "https://localhost:8080/"
        },
        "id": "PQSlWdpg4HwL",
        "outputId": "d197e9b8-eb1f-4846-ee23-5c62be0aef34"
      },
      "source": [
        "df_float.shape, df_int.shape, df_datetime.shape, df_object.shape"
      ],
      "execution_count": 64,
      "outputs": [
        {
          "output_type": "execute_result",
          "data": {
            "text/plain": [
              "((225256, 2), (225256, 1), (225256, 2), (225256, 14))"
            ]
          },
          "metadata": {},
          "execution_count": 64
        }
      ]
    },
    {
      "cell_type": "code",
      "metadata": {
        "id": "gjArqdmG2b90"
      },
      "source": [
        "df_1 = df_float.join(df_int)\n",
        "df_2 = df_datetime.join(df_object)\n",
        "df_3 = df_1.join(df_2)"
      ],
      "execution_count": 65,
      "outputs": []
    },
    {
      "cell_type": "code",
      "metadata": {
        "colab": {
          "base_uri": "https://localhost:8080/"
        },
        "id": "5jbKVdyml-Xh",
        "outputId": "3ebd6ba3-999b-44be-b46f-d22be043228a"
      },
      "source": [
        "df_3.info()"
      ],
      "execution_count": 66,
      "outputs": [
        {
          "output_type": "stream",
          "name": "stdout",
          "text": [
            "<class 'pandas.core.frame.DataFrame'>\n",
            "RangeIndex: 225256 entries, 0 to 225255\n",
            "Data columns (total 19 columns):\n",
            " #   Column                Non-Null Count   Dtype  \n",
            "---  ------                --------------   -----  \n",
            " 0   monto_original        225256 non-null  float64\n",
            " 1   saldo_capital         225256 non-null  float64\n",
            " 2   Cliente               225256 non-null  int64  \n",
            " 3   ultima_gestion        225256 non-null  int64  \n",
            " 4   fecha_nacimiento      225256 non-null  int64  \n",
            " 5   estado_operacion      225201 non-null  object \n",
            " 6   producto              225256 non-null  object \n",
            " 7   cartera               225256 non-null  object \n",
            " 8   tipo_cartera          225256 non-null  object \n",
            " 9   descripcion_reaccion  225256 non-null  object \n",
            " 10  fecha_ultima_pago     225256 non-null  object \n",
            " 11  lugar_trabajo         225255 non-null  object \n",
            " 12  salario               225256 non-null  object \n",
            " 13  tipo_trabajo          225256 non-null  object \n",
            " 14  lugar_nacimiento      225256 non-null  object \n",
            " 15  genero                225256 non-null  object \n",
            " 16  ubicacion_electoral   215880 non-null  object \n",
            " 17  salario_inferior      200834 non-null  object \n",
            " 18  salario_superior      200834 non-null  object \n",
            "dtypes: float64(2), int64(3), object(14)\n",
            "memory usage: 32.7+ MB\n"
          ]
        }
      ]
    },
    {
      "cell_type": "code",
      "metadata": {
        "colab": {
          "base_uri": "https://localhost:8080/"
        },
        "id": "B5woqCTf4QnT",
        "outputId": "3fb35ca7-459f-4621-d313-6cc2dae03caf"
      },
      "source": [
        "df_3.isnull().sum()[df_3.isnull().sum() > 0]"
      ],
      "execution_count": 67,
      "outputs": [
        {
          "output_type": "execute_result",
          "data": {
            "text/plain": [
              "estado_operacion          55\n",
              "lugar_trabajo              1\n",
              "ubicacion_electoral     9376\n",
              "salario_inferior       24422\n",
              "salario_superior       24422\n",
              "dtype: int64"
            ]
          },
          "metadata": {},
          "execution_count": 67
        }
      ]
    },
    {
      "cell_type": "markdown",
      "metadata": {
        "id": "HtneUDe-Fcq3"
      },
      "source": [
        "hacer estudio variable a variable\n",
        "Dos pruebas (obviar los valores nulos)\n",
        "-Segundo analisis reemplazando valores \n",
        "Ver accuracy de modelo de datos rellenando los nan \n"
      ]
    },
    {
      "cell_type": "code",
      "metadata": {
        "colab": {
          "base_uri": "https://localhost:8080/",
          "height": 304
        },
        "id": "GBWtD47VsqrZ",
        "outputId": "a089171a-a0c5-42ed-f2fd-9db6aea9c329"
      },
      "source": [
        "df_3[['estado_actual', 'tipo', 'lugarnacimiento', 'sexo',\n",
        "       'ubicacionelectoral', 'salario_inferior', 'salario_superior']].sample(5)"
      ],
      "execution_count": null,
      "outputs": [
        {
          "output_type": "execute_result",
          "data": {
            "text/html": [
              "<div>\n",
              "<style scoped>\n",
              "    .dataframe tbody tr th:only-of-type {\n",
              "        vertical-align: middle;\n",
              "    }\n",
              "\n",
              "    .dataframe tbody tr th {\n",
              "        vertical-align: top;\n",
              "    }\n",
              "\n",
              "    .dataframe thead th {\n",
              "        text-align: right;\n",
              "    }\n",
              "</style>\n",
              "<table border=\"1\" class=\"dataframe\">\n",
              "  <thead>\n",
              "    <tr style=\"text-align: right;\">\n",
              "      <th></th>\n",
              "      <th>estado_actual</th>\n",
              "      <th>tipo</th>\n",
              "      <th>lugarnacimiento</th>\n",
              "      <th>sexo</th>\n",
              "      <th>ubicacionelectoral</th>\n",
              "      <th>salario_inferior</th>\n",
              "      <th>salario_superior</th>\n",
              "    </tr>\n",
              "  </thead>\n",
              "  <tbody>\n",
              "    <tr>\n",
              "      <th>79812</th>\n",
              "      <td>Inactiva</td>\n",
              "      <td>PRIVADO</td>\n",
              "      <td>HOSPITAL CENTRAL SAN JOSE</td>\n",
              "      <td>MASC</td>\n",
              "      <td>SAN JOSE CENTRAL CRISTO REY</td>\n",
              "      <td>175000</td>\n",
              "      <td>200000</td>\n",
              "    </tr>\n",
              "    <tr>\n",
              "      <th>150945</th>\n",
              "      <td>Inactiva</td>\n",
              "      <td>PRIVADO</td>\n",
              "      <td>HOSPITAL CENTRAL SAN JOSE</td>\n",
              "      <td>FEM</td>\n",
              "      <td>SAN JOSE DESAMPARADOS CALLE FALLAS</td>\n",
              "      <td>275000</td>\n",
              "      <td>300000</td>\n",
              "    </tr>\n",
              "    <tr>\n",
              "      <th>155434</th>\n",
              "      <td>Inactiva</td>\n",
              "      <td>PRIVADO</td>\n",
              "      <td>HOSPITAL CENTRAL SAN JOSE</td>\n",
              "      <td>MASC</td>\n",
              "      <td>SAN JOSE DESAMPARADOS SAN JERONIMO</td>\n",
              "      <td>650000</td>\n",
              "      <td>675000</td>\n",
              "    </tr>\n",
              "    <tr>\n",
              "      <th>211785</th>\n",
              "      <td>Inactiva</td>\n",
              "      <td>PUBLICO</td>\n",
              "      <td>CENTRO GRECIA ALAJUELA</td>\n",
              "      <td>FEM</td>\n",
              "      <td>ALAJUELA GRECIA SANTA GERTRUDIS SUR</td>\n",
              "      <td>375000</td>\n",
              "      <td>400000</td>\n",
              "    </tr>\n",
              "    <tr>\n",
              "      <th>67289</th>\n",
              "      <td>Inactiva</td>\n",
              "      <td>PRIVADO</td>\n",
              "      <td>INDIANA ESTADOS UNIDOS</td>\n",
              "      <td>MASC</td>\n",
              "      <td>HEREDIA CENTRAL SAN FRANCISCO</td>\n",
              "      <td>1</td>\n",
              "      <td>25000</td>\n",
              "    </tr>\n",
              "  </tbody>\n",
              "</table>\n",
              "</div>"
            ],
            "text/plain": [
              "       estado_actual     tipo  ... salario_inferior salario_superior\n",
              "79812       Inactiva  PRIVADO  ...           175000           200000\n",
              "150945      Inactiva  PRIVADO  ...           275000           300000\n",
              "155434      Inactiva  PRIVADO  ...           650000           675000\n",
              "211785      Inactiva  PUBLICO  ...           375000           400000\n",
              "67289       Inactiva  PRIVADO  ...                1            25000\n",
              "\n",
              "[5 rows x 7 columns]"
            ]
          },
          "metadata": {},
          "execution_count": 29
        },
        {
          "output_type": "stream",
          "name": "stdout",
          "text": [
            "time: 54.4 ms (started: 2021-09-03 17:39:52 +00:00)\n"
          ]
        }
      ]
    },
    {
      "cell_type": "code",
      "metadata": {
        "colab": {
          "base_uri": "https://localhost:8080/",
          "height": 246
        },
        "id": "VGfoBs0R8T7p",
        "outputId": "ddee2e6a-ac0a-4759-bfcb-7925c9ca27a3"
      },
      "source": [
        "df_3.sample(3)"
      ],
      "execution_count": 69,
      "outputs": [
        {
          "output_type": "execute_result",
          "data": {
            "text/html": [
              "<div>\n",
              "<style scoped>\n",
              "    .dataframe tbody tr th:only-of-type {\n",
              "        vertical-align: middle;\n",
              "    }\n",
              "\n",
              "    .dataframe tbody tr th {\n",
              "        vertical-align: top;\n",
              "    }\n",
              "\n",
              "    .dataframe thead th {\n",
              "        text-align: right;\n",
              "    }\n",
              "</style>\n",
              "<table border=\"1\" class=\"dataframe\">\n",
              "  <thead>\n",
              "    <tr style=\"text-align: right;\">\n",
              "      <th></th>\n",
              "      <th>monto_original</th>\n",
              "      <th>saldo_capital</th>\n",
              "      <th>Cliente</th>\n",
              "      <th>ultima_gestion</th>\n",
              "      <th>fecha_nacimiento</th>\n",
              "      <th>estado_operacion</th>\n",
              "      <th>producto</th>\n",
              "      <th>cartera</th>\n",
              "      <th>tipo_cartera</th>\n",
              "      <th>descripcion_reaccion</th>\n",
              "      <th>fecha_ultima_pago</th>\n",
              "      <th>lugar_trabajo</th>\n",
              "      <th>salario</th>\n",
              "      <th>tipo_trabajo</th>\n",
              "      <th>lugar_nacimiento</th>\n",
              "      <th>genero</th>\n",
              "      <th>ubicacion_electoral</th>\n",
              "      <th>salario_inferior</th>\n",
              "      <th>salario_superior</th>\n",
              "    </tr>\n",
              "  </thead>\n",
              "  <tbody>\n",
              "    <tr>\n",
              "      <th>137015</th>\n",
              "      <td>11575.98</td>\n",
              "      <td>11575.98</td>\n",
              "      <td>144706</td>\n",
              "      <td>2021</td>\n",
              "      <td>1967</td>\n",
              "      <td>Inactiva</td>\n",
              "      <td>Tarjetas</td>\n",
              "      <td>DAVIVIENDA</td>\n",
              "      <td>Propia</td>\n",
              "      <td>Contacto indirecto</td>\n",
              "      <td>Sin pago registrado</td>\n",
              "      <td>Sin trabajo</td>\n",
              "      <td>[]</td>\n",
              "      <td>Sin trabajo</td>\n",
              "      <td>NICARAGUA</td>\n",
              "      <td>MASC</td>\n",
              "      <td>NaN</td>\n",
              "      <td>None</td>\n",
              "      <td>None</td>\n",
              "    </tr>\n",
              "    <tr>\n",
              "      <th>201112</th>\n",
              "      <td>503.93</td>\n",
              "      <td>503.93</td>\n",
              "      <td>212641</td>\n",
              "      <td>2021</td>\n",
              "      <td>1982</td>\n",
              "      <td>Inactiva</td>\n",
              "      <td>Tarjetas</td>\n",
              "      <td>CITI</td>\n",
              "      <td>Propia</td>\n",
              "      <td>Contacto sin Promesa</td>\n",
              "      <td>Sin pago registrado</td>\n",
              "      <td>K STUDIO REIYEL SOCIEDAD DE RESPONSABILIDAD LI...</td>\n",
              "      <td>[100000, 125000]</td>\n",
              "      <td>PRIVADO</td>\n",
              "      <td>CENTRO LIBERIA GUANACASTE</td>\n",
              "      <td>FEM</td>\n",
              "      <td>GUANACASTE CARRILLO COMUNIDAD</td>\n",
              "      <td>100000</td>\n",
              "      <td>125000</td>\n",
              "    </tr>\n",
              "    <tr>\n",
              "      <th>32369</th>\n",
              "      <td>8713.87</td>\n",
              "      <td>8713.87</td>\n",
              "      <td>36194</td>\n",
              "      <td>2021</td>\n",
              "      <td>1945</td>\n",
              "      <td>Inactiva</td>\n",
              "      <td>Tarjetas</td>\n",
              "      <td>A-PROMERICA</td>\n",
              "      <td>Propia</td>\n",
              "      <td>Contacto indirecto</td>\n",
              "      <td>Sin pago registrado</td>\n",
              "      <td>JIMENEZ MORA GERARDO</td>\n",
              "      <td>[250000, 275000]</td>\n",
              "      <td>PROPIO</td>\n",
              "      <td>MERCEDES S PURISCAL SAN JOSE</td>\n",
              "      <td>MASC</td>\n",
              "      <td>SAN JOSE DESAMPARADOS SAN MIGUEL</td>\n",
              "      <td>250000</td>\n",
              "      <td>275000</td>\n",
              "    </tr>\n",
              "  </tbody>\n",
              "</table>\n",
              "</div>"
            ],
            "text/plain": [
              "        monto_original  saldo_capital  Cliente  ultima_gestion  \\\n",
              "137015        11575.98       11575.98   144706            2021   \n",
              "201112          503.93         503.93   212641            2021   \n",
              "32369          8713.87        8713.87    36194            2021   \n",
              "\n",
              "        fecha_nacimiento estado_operacion  producto      cartera tipo_cartera  \\\n",
              "137015              1967         Inactiva  Tarjetas   DAVIVIENDA       Propia   \n",
              "201112              1982         Inactiva  Tarjetas         CITI       Propia   \n",
              "32369               1945         Inactiva  Tarjetas  A-PROMERICA       Propia   \n",
              "\n",
              "        descripcion_reaccion    fecha_ultima_pago  \\\n",
              "137015    Contacto indirecto  Sin pago registrado   \n",
              "201112  Contacto sin Promesa  Sin pago registrado   \n",
              "32369     Contacto indirecto  Sin pago registrado   \n",
              "\n",
              "                                            lugar_trabajo           salario  \\\n",
              "137015                                        Sin trabajo                []   \n",
              "201112  K STUDIO REIYEL SOCIEDAD DE RESPONSABILIDAD LI...  [100000, 125000]   \n",
              "32369                                JIMENEZ MORA GERARDO  [250000, 275000]   \n",
              "\n",
              "       tipo_trabajo              lugar_nacimiento genero  \\\n",
              "137015  Sin trabajo                     NICARAGUA   MASC   \n",
              "201112      PRIVADO     CENTRO LIBERIA GUANACASTE    FEM   \n",
              "32369        PROPIO  MERCEDES S PURISCAL SAN JOSE   MASC   \n",
              "\n",
              "                     ubicacion_electoral salario_inferior salario_superior  \n",
              "137015                               NaN             None             None  \n",
              "201112     GUANACASTE CARRILLO COMUNIDAD           100000           125000  \n",
              "32369   SAN JOSE DESAMPARADOS SAN MIGUEL           250000           275000  "
            ]
          },
          "metadata": {},
          "execution_count": 69
        }
      ]
    },
    {
      "cell_type": "code",
      "metadata": {
        "id": "829osmJh4uX9"
      },
      "source": [
        "#df_3.query(\"fecha_nacimiento <= 2003\")\n",
        "#df[df['closing_price'].between(99, 101)]\n",
        "#df[(df['closing_price'] >= 99) & (df['closing_price'] <= 101)]\n",
        "#df_3.loc[(df_datetime['fecha_nacimiento'] <= 2003) & (df_datetime['fecha_nacimiento'] >= 1940)]"
      ],
      "execution_count": null,
      "outputs": []
    },
    {
      "cell_type": "code",
      "metadata": {
        "id": "kQrkeY5kEzge"
      },
      "source": [
        "#Se elimina 11116 clientes\n",
        "#en nuevs datos se eliminan solamente 653 valores\n",
        "df_4 = df_3.query(\"fecha_nacimiento <= 2003 & fecha_nacimiento >= 1941\")\n",
        "#Si sin perfiles pagadores se los puedes dejar "
      ],
      "execution_count": 72,
      "outputs": []
    },
    {
      "cell_type": "code",
      "metadata": {
        "colab": {
          "base_uri": "https://localhost:8080/"
        },
        "id": "G-GJviKOozBH",
        "outputId": "8da2dfba-d386-440c-9daa-c3f8cecd9158"
      },
      "source": [
        "df_4['edad'] = 2021 - df_4['fecha_nacimiento']"
      ],
      "execution_count": 76,
      "outputs": [
        {
          "output_type": "stream",
          "name": "stderr",
          "text": [
            "/usr/local/lib/python3.7/dist-packages/ipykernel_launcher.py:1: SettingWithCopyWarning: \n",
            "A value is trying to be set on a copy of a slice from a DataFrame.\n",
            "Try using .loc[row_indexer,col_indexer] = value instead\n",
            "\n",
            "See the caveats in the documentation: https://pandas.pydata.org/pandas-docs/stable/user_guide/indexing.html#returning-a-view-versus-a-copy\n",
            "  \"\"\"Entry point for launching an IPython kernel.\n"
          ]
        }
      ]
    },
    {
      "cell_type": "code",
      "metadata": {
        "colab": {
          "base_uri": "https://localhost:8080/"
        },
        "id": "XucrYkD5ImZE",
        "outputId": "6f088d63-9cbb-4192-ec0a-90bf408a70fa"
      },
      "source": [
        "df_3.shape, df_4.shape"
      ],
      "execution_count": 73,
      "outputs": [
        {
          "output_type": "execute_result",
          "data": {
            "text/plain": [
              "((225256, 19), (224603, 19))"
            ]
          },
          "metadata": {},
          "execution_count": 73
        }
      ]
    },
    {
      "cell_type": "code",
      "metadata": {
        "colab": {
          "base_uri": "https://localhost:8080/",
          "height": 313
        },
        "id": "tFJd-20lrPjA",
        "outputId": "058150ec-d835-469f-8aee-e4d38e23fbb4"
      },
      "source": [
        "df_4.head(3)"
      ],
      "execution_count": 80,
      "outputs": [
        {
          "output_type": "execute_result",
          "data": {
            "text/html": [
              "<div>\n",
              "<style scoped>\n",
              "    .dataframe tbody tr th:only-of-type {\n",
              "        vertical-align: middle;\n",
              "    }\n",
              "\n",
              "    .dataframe tbody tr th {\n",
              "        vertical-align: top;\n",
              "    }\n",
              "\n",
              "    .dataframe thead th {\n",
              "        text-align: right;\n",
              "    }\n",
              "</style>\n",
              "<table border=\"1\" class=\"dataframe\">\n",
              "  <thead>\n",
              "    <tr style=\"text-align: right;\">\n",
              "      <th></th>\n",
              "      <th>monto_original</th>\n",
              "      <th>saldo_capital</th>\n",
              "      <th>Cliente</th>\n",
              "      <th>ultima_gestion</th>\n",
              "      <th>fecha_nacimiento</th>\n",
              "      <th>estado_operacion</th>\n",
              "      <th>producto</th>\n",
              "      <th>cartera</th>\n",
              "      <th>tipo_cartera</th>\n",
              "      <th>descripcion_reaccion</th>\n",
              "      <th>fecha_ultima_pago</th>\n",
              "      <th>lugar_trabajo</th>\n",
              "      <th>salario</th>\n",
              "      <th>tipo_trabajo</th>\n",
              "      <th>lugar_nacimiento</th>\n",
              "      <th>genero</th>\n",
              "      <th>ubicacion_electoral</th>\n",
              "      <th>salario_inferior</th>\n",
              "      <th>salario_superior</th>\n",
              "      <th>edad</th>\n",
              "    </tr>\n",
              "  </thead>\n",
              "  <tbody>\n",
              "    <tr>\n",
              "      <th>0</th>\n",
              "      <td>282.70</td>\n",
              "      <td>282.70</td>\n",
              "      <td>3</td>\n",
              "      <td>2020</td>\n",
              "      <td>1979</td>\n",
              "      <td>Inactiva</td>\n",
              "      <td>Maxima</td>\n",
              "      <td>SERVIVALORES</td>\n",
              "      <td>Propia</td>\n",
              "      <td>Contacto indirecto</td>\n",
              "      <td>Sin pago registrado</td>\n",
              "      <td>COMERCIAL DINANT DE COSTA RICA SOCIEDAD ANONIMA</td>\n",
              "      <td>[275000, 300000]</td>\n",
              "      <td>PRIVADO</td>\n",
              "      <td>HOSPITAL CENTRAL SAN JOSE</td>\n",
              "      <td>MASC</td>\n",
              "      <td>SAN JOSE DESAMPARADOS LOS GUIDO</td>\n",
              "      <td>275000</td>\n",
              "      <td>300000</td>\n",
              "      <td>42</td>\n",
              "    </tr>\n",
              "    <tr>\n",
              "      <th>1</th>\n",
              "      <td>2323.39</td>\n",
              "      <td>2323.39</td>\n",
              "      <td>4</td>\n",
              "      <td>2020</td>\n",
              "      <td>1971</td>\n",
              "      <td>Ilocalizable</td>\n",
              "      <td>Tarjetas</td>\n",
              "      <td>CITI</td>\n",
              "      <td>Propia</td>\n",
              "      <td>Ilocalizable</td>\n",
              "      <td>Sin pago registrado</td>\n",
              "      <td>Sin trabajo</td>\n",
              "      <td>[]</td>\n",
              "      <td>Sin trabajo</td>\n",
              "      <td>CENTRO MATINA LIMON</td>\n",
              "      <td>FEM</td>\n",
              "      <td>LIMON MATINA BATAN</td>\n",
              "      <td>None</td>\n",
              "      <td>None</td>\n",
              "      <td>50</td>\n",
              "    </tr>\n",
              "    <tr>\n",
              "      <th>2</th>\n",
              "      <td>13161.61</td>\n",
              "      <td>13161.61</td>\n",
              "      <td>5</td>\n",
              "      <td>2021</td>\n",
              "      <td>1961</td>\n",
              "      <td>Inactiva</td>\n",
              "      <td>Tarjetas</td>\n",
              "      <td>DAVIVIENDA</td>\n",
              "      <td>Propia</td>\n",
              "      <td>Contacto sin Promesa</td>\n",
              "      <td>Sin pago registrado</td>\n",
              "      <td>COMPAIA VERANDA DEL ESTE SOCIEDAD ANONIMA</td>\n",
              "      <td>[850000, 875000]</td>\n",
              "      <td>PRIVADO</td>\n",
              "      <td>JIMENEZ POCOCI LIMON</td>\n",
              "      <td>MASC</td>\n",
              "      <td>LIMON POCOCI ROXANA</td>\n",
              "      <td>850000</td>\n",
              "      <td>875000</td>\n",
              "      <td>60</td>\n",
              "    </tr>\n",
              "  </tbody>\n",
              "</table>\n",
              "</div>"
            ],
            "text/plain": [
              "   monto_original  saldo_capital  Cliente  ultima_gestion  fecha_nacimiento  \\\n",
              "0          282.70         282.70        3            2020              1979   \n",
              "1         2323.39        2323.39        4            2020              1971   \n",
              "2        13161.61       13161.61        5            2021              1961   \n",
              "\n",
              "  estado_operacion  producto       cartera tipo_cartera  descripcion_reaccion  \\\n",
              "0         Inactiva    Maxima  SERVIVALORES       Propia    Contacto indirecto   \n",
              "1     Ilocalizable  Tarjetas          CITI       Propia          Ilocalizable   \n",
              "2         Inactiva  Tarjetas    DAVIVIENDA       Propia  Contacto sin Promesa   \n",
              "\n",
              "     fecha_ultima_pago                                    lugar_trabajo  \\\n",
              "0  Sin pago registrado  COMERCIAL DINANT DE COSTA RICA SOCIEDAD ANONIMA   \n",
              "1  Sin pago registrado                                      Sin trabajo   \n",
              "2  Sin pago registrado        COMPAIA VERANDA DEL ESTE SOCIEDAD ANONIMA   \n",
              "\n",
              "            salario tipo_trabajo           lugar_nacimiento genero  \\\n",
              "0  [275000, 300000]      PRIVADO  HOSPITAL CENTRAL SAN JOSE   MASC   \n",
              "1                []  Sin trabajo        CENTRO MATINA LIMON    FEM   \n",
              "2  [850000, 875000]      PRIVADO       JIMENEZ POCOCI LIMON   MASC   \n",
              "\n",
              "               ubicacion_electoral salario_inferior salario_superior  edad  \n",
              "0  SAN JOSE DESAMPARADOS LOS GUIDO           275000           300000    42  \n",
              "1               LIMON MATINA BATAN             None             None    50  \n",
              "2              LIMON POCOCI ROXANA           850000           875000    60  "
            ]
          },
          "metadata": {},
          "execution_count": 80
        }
      ]
    },
    {
      "cell_type": "code",
      "metadata": {
        "colab": {
          "base_uri": "https://localhost:8080/"
        },
        "id": "9WOmXZYjrOuI",
        "outputId": "601b90a9-b144-4220-820a-58ccfca50595"
      },
      "source": [
        "df_4['Recuperable'] = df_4['estado_operacion'].map(lambda x: 'Si' if x == 'Activa' or x == 'Cancelada' else 'No')"
      ],
      "execution_count": 81,
      "outputs": [
        {
          "output_type": "stream",
          "name": "stderr",
          "text": [
            "/usr/local/lib/python3.7/dist-packages/ipykernel_launcher.py:1: SettingWithCopyWarning: \n",
            "A value is trying to be set on a copy of a slice from a DataFrame.\n",
            "Try using .loc[row_indexer,col_indexer] = value instead\n",
            "\n",
            "See the caveats in the documentation: https://pandas.pydata.org/pandas-docs/stable/user_guide/indexing.html#returning-a-view-versus-a-copy\n",
            "  \"\"\"Entry point for launching an IPython kernel.\n"
          ]
        }
      ]
    },
    {
      "cell_type": "code",
      "metadata": {
        "colab": {
          "base_uri": "https://localhost:8080/"
        },
        "id": "e0Lmc8virr6Z",
        "outputId": "dc2477ac-3bf8-4afb-8608-476ac6a1de07"
      },
      "source": [
        "df_4['Recuperable'].value_counts().values[1]"
      ],
      "execution_count": 87,
      "outputs": [
        {
          "output_type": "execute_result",
          "data": {
            "text/plain": [
              "18833"
            ]
          },
          "metadata": {},
          "execution_count": 87
        }
      ]
    },
    {
      "cell_type": "code",
      "metadata": {
        "id": "enF1rY9Ar0ed"
      },
      "source": [
        "df_5 = df_4.query(\"Recuperable == 'Si'\")\n",
        "df_6 = df_4.query(\"Recuperable == 'No'\").sample(df_4['Recuperable'].value_counts().values[1])\n",
        "frames = [df_5, df_6]\n",
        "df_7 = pd.concat(frames)"
      ],
      "execution_count": 89,
      "outputs": []
    },
    {
      "cell_type": "code",
      "metadata": {
        "id": "8XfZN8_9seum"
      },
      "source": [
        "df_7['ultimo_pago_binario'] = np.where(df_9['ultimo_pago'] > 0, 1, 0)"
      ],
      "execution_count": null,
      "outputs": []
    },
    {
      "cell_type": "code",
      "metadata": {
        "colab": {
          "base_uri": "https://localhost:8080/",
          "height": 313
        },
        "id": "eWL-puWoIRiX",
        "outputId": "e947d380-7f17-4494-f823-a8a8c4c7a22c"
      },
      "source": [
        "df_7.head(3)"
      ],
      "execution_count": 90,
      "outputs": [
        {
          "output_type": "execute_result",
          "data": {
            "text/html": [
              "<div>\n",
              "<style scoped>\n",
              "    .dataframe tbody tr th:only-of-type {\n",
              "        vertical-align: middle;\n",
              "    }\n",
              "\n",
              "    .dataframe tbody tr th {\n",
              "        vertical-align: top;\n",
              "    }\n",
              "\n",
              "    .dataframe thead th {\n",
              "        text-align: right;\n",
              "    }\n",
              "</style>\n",
              "<table border=\"1\" class=\"dataframe\">\n",
              "  <thead>\n",
              "    <tr style=\"text-align: right;\">\n",
              "      <th></th>\n",
              "      <th>monto_original</th>\n",
              "      <th>saldo_capital</th>\n",
              "      <th>Cliente</th>\n",
              "      <th>ultima_gestion</th>\n",
              "      <th>fecha_nacimiento</th>\n",
              "      <th>estado_operacion</th>\n",
              "      <th>producto</th>\n",
              "      <th>cartera</th>\n",
              "      <th>tipo_cartera</th>\n",
              "      <th>descripcion_reaccion</th>\n",
              "      <th>fecha_ultima_pago</th>\n",
              "      <th>lugar_trabajo</th>\n",
              "      <th>salario</th>\n",
              "      <th>tipo_trabajo</th>\n",
              "      <th>lugar_nacimiento</th>\n",
              "      <th>genero</th>\n",
              "      <th>ubicacion_electoral</th>\n",
              "      <th>salario_inferior</th>\n",
              "      <th>salario_superior</th>\n",
              "      <th>edad</th>\n",
              "      <th>Recuperable</th>\n",
              "    </tr>\n",
              "  </thead>\n",
              "  <tbody>\n",
              "    <tr>\n",
              "      <th>76</th>\n",
              "      <td>825.48</td>\n",
              "      <td>825.48</td>\n",
              "      <td>93</td>\n",
              "      <td>2021</td>\n",
              "      <td>1975</td>\n",
              "      <td>Activa</td>\n",
              "      <td>Tarjetas</td>\n",
              "      <td>CITI</td>\n",
              "      <td>Propia</td>\n",
              "      <td>Promesa de Pago</td>\n",
              "      <td>2021-08-25 00:00:00</td>\n",
              "      <td>ALVARADO FORERO JOHNNATAN</td>\n",
              "      <td>[275000, 300000]</td>\n",
              "      <td>PROPIO</td>\n",
              "      <td>CENTRO CENTRAL LIMON</td>\n",
              "      <td>MASC</td>\n",
              "      <td>HEREDIA BARVA PUENTE DE SALAS</td>\n",
              "      <td>275000</td>\n",
              "      <td>300000</td>\n",
              "      <td>46</td>\n",
              "      <td>Si</td>\n",
              "    </tr>\n",
              "    <tr>\n",
              "      <th>276</th>\n",
              "      <td>753.14</td>\n",
              "      <td>753.14</td>\n",
              "      <td>327</td>\n",
              "      <td>2021</td>\n",
              "      <td>1976</td>\n",
              "      <td>Activa</td>\n",
              "      <td>Tarjetas</td>\n",
              "      <td>CITI</td>\n",
              "      <td>Propia</td>\n",
              "      <td>Contacto sin Promesa</td>\n",
              "      <td>Sin pago registrado</td>\n",
              "      <td>ESTADO-MINISTERIO DE EDUCACION PUBLICA</td>\n",
              "      <td>[300000, 325000]</td>\n",
              "      <td>PUBLICO</td>\n",
              "      <td>GUAPILES POCOCI LIMON</td>\n",
              "      <td>FEM</td>\n",
              "      <td>LIMON POCOCI GUAPILES</td>\n",
              "      <td>300000</td>\n",
              "      <td>325000</td>\n",
              "      <td>45</td>\n",
              "      <td>Si</td>\n",
              "    </tr>\n",
              "    <tr>\n",
              "      <th>302</th>\n",
              "      <td>570.19</td>\n",
              "      <td>570.19</td>\n",
              "      <td>357</td>\n",
              "      <td>2021</td>\n",
              "      <td>1972</td>\n",
              "      <td>Activa</td>\n",
              "      <td>Maxima</td>\n",
              "      <td>SERVIVALORES</td>\n",
              "      <td>Propia</td>\n",
              "      <td>Promesa de Pago</td>\n",
              "      <td>2021-08-30 09:58:00</td>\n",
              "      <td>ROSY JEANNETTE DURAN MONGE</td>\n",
              "      <td>[1, 25000]</td>\n",
              "      <td>PRIVADO</td>\n",
              "      <td>HOSPITAL CENTRAL SAN JOSE</td>\n",
              "      <td>FEM</td>\n",
              "      <td>SAN JOSE ASERRI POAS</td>\n",
              "      <td>1</td>\n",
              "      <td>25000</td>\n",
              "      <td>49</td>\n",
              "      <td>Si</td>\n",
              "    </tr>\n",
              "  </tbody>\n",
              "</table>\n",
              "</div>"
            ],
            "text/plain": [
              "     monto_original  saldo_capital  Cliente  ultima_gestion  fecha_nacimiento  \\\n",
              "76           825.48         825.48       93            2021              1975   \n",
              "276          753.14         753.14      327            2021              1976   \n",
              "302          570.19         570.19      357            2021              1972   \n",
              "\n",
              "    estado_operacion  producto       cartera tipo_cartera  \\\n",
              "76            Activa  Tarjetas          CITI       Propia   \n",
              "276           Activa  Tarjetas          CITI       Propia   \n",
              "302           Activa    Maxima  SERVIVALORES       Propia   \n",
              "\n",
              "     descripcion_reaccion    fecha_ultima_pago  \\\n",
              "76        Promesa de Pago  2021-08-25 00:00:00   \n",
              "276  Contacto sin Promesa  Sin pago registrado   \n",
              "302       Promesa de Pago  2021-08-30 09:58:00   \n",
              "\n",
              "                              lugar_trabajo           salario tipo_trabajo  \\\n",
              "76                ALVARADO FORERO JOHNNATAN  [275000, 300000]       PROPIO   \n",
              "276  ESTADO-MINISTERIO DE EDUCACION PUBLICA  [300000, 325000]      PUBLICO   \n",
              "302              ROSY JEANNETTE DURAN MONGE        [1, 25000]      PRIVADO   \n",
              "\n",
              "              lugar_nacimiento genero            ubicacion_electoral  \\\n",
              "76        CENTRO CENTRAL LIMON   MASC  HEREDIA BARVA PUENTE DE SALAS   \n",
              "276      GUAPILES POCOCI LIMON    FEM          LIMON POCOCI GUAPILES   \n",
              "302  HOSPITAL CENTRAL SAN JOSE    FEM           SAN JOSE ASERRI POAS   \n",
              "\n",
              "    salario_inferior salario_superior  edad Recuperable  \n",
              "76            275000           300000    46          Si  \n",
              "276           300000           325000    45          Si  \n",
              "302                1            25000    49          Si  "
            ]
          },
          "metadata": {},
          "execution_count": 90
        }
      ]
    },
    {
      "cell_type": "code",
      "metadata": {
        "id": "u1sNXcj-36MJ"
      },
      "source": [
        "df_8 = df_7.query(\"producto == 'Tarjetas'\")"
      ],
      "execution_count": 97,
      "outputs": []
    },
    {
      "cell_type": "code",
      "metadata": {
        "id": "KOFeHDAq5Mmy"
      },
      "source": [
        "df_9 = df_8.drop(['fecha_nacimiento', 'estado_operacion', 'producto','salario'], axis = 1)"
      ],
      "execution_count": 102,
      "outputs": []
    },
    {
      "cell_type": "code",
      "metadata": {
        "colab": {
          "base_uri": "https://localhost:8080/",
          "height": 313
        },
        "id": "37K6xFPE6TWS",
        "outputId": "e2abae95-dfc8-430f-c02b-fb39c992671c"
      },
      "source": [
        "df_9.head(3)"
      ],
      "execution_count": 103,
      "outputs": [
        {
          "output_type": "execute_result",
          "data": {
            "text/html": [
              "<div>\n",
              "<style scoped>\n",
              "    .dataframe tbody tr th:only-of-type {\n",
              "        vertical-align: middle;\n",
              "    }\n",
              "\n",
              "    .dataframe tbody tr th {\n",
              "        vertical-align: top;\n",
              "    }\n",
              "\n",
              "    .dataframe thead th {\n",
              "        text-align: right;\n",
              "    }\n",
              "</style>\n",
              "<table border=\"1\" class=\"dataframe\">\n",
              "  <thead>\n",
              "    <tr style=\"text-align: right;\">\n",
              "      <th></th>\n",
              "      <th>monto_original</th>\n",
              "      <th>saldo_capital</th>\n",
              "      <th>Cliente</th>\n",
              "      <th>ultima_gestion</th>\n",
              "      <th>cartera</th>\n",
              "      <th>tipo_cartera</th>\n",
              "      <th>descripcion_reaccion</th>\n",
              "      <th>fecha_ultima_pago</th>\n",
              "      <th>lugar_trabajo</th>\n",
              "      <th>tipo_trabajo</th>\n",
              "      <th>lugar_nacimiento</th>\n",
              "      <th>genero</th>\n",
              "      <th>ubicacion_electoral</th>\n",
              "      <th>salario_inferior</th>\n",
              "      <th>salario_superior</th>\n",
              "      <th>edad</th>\n",
              "      <th>Recuperable</th>\n",
              "    </tr>\n",
              "  </thead>\n",
              "  <tbody>\n",
              "    <tr>\n",
              "      <th>76</th>\n",
              "      <td>825.48</td>\n",
              "      <td>825.48</td>\n",
              "      <td>93</td>\n",
              "      <td>2021</td>\n",
              "      <td>CITI</td>\n",
              "      <td>Propia</td>\n",
              "      <td>Promesa de Pago</td>\n",
              "      <td>2021-08-25 00:00:00</td>\n",
              "      <td>ALVARADO FORERO JOHNNATAN</td>\n",
              "      <td>PROPIO</td>\n",
              "      <td>CENTRO CENTRAL LIMON</td>\n",
              "      <td>MASC</td>\n",
              "      <td>HEREDIA BARVA PUENTE DE SALAS</td>\n",
              "      <td>275000</td>\n",
              "      <td>300000</td>\n",
              "      <td>46</td>\n",
              "      <td>Si</td>\n",
              "    </tr>\n",
              "    <tr>\n",
              "      <th>276</th>\n",
              "      <td>753.14</td>\n",
              "      <td>753.14</td>\n",
              "      <td>327</td>\n",
              "      <td>2021</td>\n",
              "      <td>CITI</td>\n",
              "      <td>Propia</td>\n",
              "      <td>Contacto sin Promesa</td>\n",
              "      <td>Sin pago registrado</td>\n",
              "      <td>ESTADO-MINISTERIO DE EDUCACION PUBLICA</td>\n",
              "      <td>PUBLICO</td>\n",
              "      <td>GUAPILES POCOCI LIMON</td>\n",
              "      <td>FEM</td>\n",
              "      <td>LIMON POCOCI GUAPILES</td>\n",
              "      <td>300000</td>\n",
              "      <td>325000</td>\n",
              "      <td>45</td>\n",
              "      <td>Si</td>\n",
              "    </tr>\n",
              "    <tr>\n",
              "      <th>330</th>\n",
              "      <td>20.54</td>\n",
              "      <td>10.31</td>\n",
              "      <td>388</td>\n",
              "      <td>0</td>\n",
              "      <td>CREDIQ</td>\n",
              "      <td>Propia</td>\n",
              "      <td>Traslado de cuenta (Distribución)</td>\n",
              "      <td>2020-07-30 00:00:00</td>\n",
              "      <td>KEVIN ANDREY CASCANTE LARA</td>\n",
              "      <td>PRIVADO</td>\n",
              "      <td>CENTRO CENTRAL PUNTARENAS</td>\n",
              "      <td>MASC</td>\n",
              "      <td>PUNTARENAS CENTRAL BARRIO EL CARMEN</td>\n",
              "      <td>125000</td>\n",
              "      <td>150000</td>\n",
              "      <td>30</td>\n",
              "      <td>Si</td>\n",
              "    </tr>\n",
              "  </tbody>\n",
              "</table>\n",
              "</div>"
            ],
            "text/plain": [
              "     monto_original  saldo_capital  Cliente  ultima_gestion cartera  \\\n",
              "76           825.48         825.48       93            2021    CITI   \n",
              "276          753.14         753.14      327            2021    CITI   \n",
              "330           20.54          10.31      388               0  CREDIQ   \n",
              "\n",
              "    tipo_cartera               descripcion_reaccion    fecha_ultima_pago  \\\n",
              "76        Propia                    Promesa de Pago  2021-08-25 00:00:00   \n",
              "276       Propia               Contacto sin Promesa  Sin pago registrado   \n",
              "330       Propia  Traslado de cuenta (Distribución)  2020-07-30 00:00:00   \n",
              "\n",
              "                              lugar_trabajo tipo_trabajo  \\\n",
              "76                ALVARADO FORERO JOHNNATAN       PROPIO   \n",
              "276  ESTADO-MINISTERIO DE EDUCACION PUBLICA      PUBLICO   \n",
              "330              KEVIN ANDREY CASCANTE LARA      PRIVADO   \n",
              "\n",
              "              lugar_nacimiento genero                  ubicacion_electoral  \\\n",
              "76        CENTRO CENTRAL LIMON   MASC        HEREDIA BARVA PUENTE DE SALAS   \n",
              "276      GUAPILES POCOCI LIMON    FEM                LIMON POCOCI GUAPILES   \n",
              "330  CENTRO CENTRAL PUNTARENAS   MASC  PUNTARENAS CENTRAL BARRIO EL CARMEN   \n",
              "\n",
              "    salario_inferior salario_superior  edad Recuperable  \n",
              "76            275000           300000    46          Si  \n",
              "276           300000           325000    45          Si  \n",
              "330           125000           150000    30          Si  "
            ]
          },
          "metadata": {},
          "execution_count": 103
        }
      ]
    },
    {
      "cell_type": "code",
      "metadata": {
        "colab": {
          "base_uri": "https://localhost:8080/"
        },
        "id": "61VKwyve7uu6",
        "outputId": "9229ab6d-db65-469d-babd-ced700a7221c"
      },
      "source": [
        "df_9['tipo_trabajo'].value_counts()"
      ],
      "execution_count": 105,
      "outputs": [
        {
          "output_type": "execute_result",
          "data": {
            "text/plain": [
              "PRIVADO        22676\n",
              "PROPIO          5073\n",
              "PUBLICO         4379\n",
              "Sin trabajo     2757\n",
              "Name: tipo_trabajo, dtype: int64"
            ]
          },
          "metadata": {},
          "execution_count": 105
        }
      ]
    },
    {
      "cell_type": "code",
      "metadata": {
        "colab": {
          "base_uri": "https://localhost:8080/"
        },
        "id": "YYbCSoBOuZXE",
        "outputId": "86351274-e2a4-4703-e1f2-762d39c25d74"
      },
      "source": [
        "df_7['producto'].value_counts()"
      ],
      "execution_count": 93,
      "outputs": [
        {
          "output_type": "execute_result",
          "data": {
            "text/plain": [
              "Tarjetas              34885\n",
              "Préstamo Personal       944\n",
              "Sucredito               916\n",
              "Sucredito 6             133\n",
              "Chip                    130\n",
              "Maxima                  111\n",
              "Hiper Banda              94\n",
              "Sucredito 7              89\n",
              "Sucredito 9              81\n",
              "MasyMas                  72\n",
              "Sucredito 8              70\n",
              "Sucredito 10             63\n",
              "Sucredito 4              24\n",
              "Compra Facil 4           20\n",
              "Sucredito 3              15\n",
              "Sucredito 2               9\n",
              "Sucredito 1               5\n",
              "Préstamo Prendario        5\n",
              "Name: producto, dtype: int64"
            ]
          },
          "metadata": {},
          "execution_count": 93
        }
      ]
    },
    {
      "cell_type": "code",
      "metadata": {
        "id": "pDvswWPGHqae"
      },
      "source": [
        "#se elimina los de defuncion 3036\n",
        "#df_5 = df_4.query(\"fecha_defuncion == 0\")\n",
        "# ver perfil pagador"
      ],
      "execution_count": 79,
      "outputs": []
    },
    {
      "cell_type": "code",
      "metadata": {
        "colab": {
          "base_uri": "https://localhost:8080/"
        },
        "id": "XZoABMX0Jki5",
        "outputId": "0b46271d-d835-48cb-fc43-f7a5331e4f50"
      },
      "source": [
        "df_5.isnull().sum()[df_5.isnull().sum() > 0]"
      ],
      "execution_count": null,
      "outputs": [
        {
          "output_type": "execute_result",
          "data": {
            "text/plain": [
              "estado_actual             6\n",
              "tipo                  23000\n",
              "ubicacionelectoral     5716\n",
              "salario_inferior      23000\n",
              "salario_superior      23000\n",
              "dtype: int64"
            ]
          },
          "metadata": {},
          "execution_count": 36
        },
        {
          "output_type": "stream",
          "name": "stdout",
          "text": [
            "time: 267 ms (started: 2021-09-03 17:59:45 +00:00)\n"
          ]
        }
      ]
    },
    {
      "cell_type": "code",
      "metadata": {
        "colab": {
          "base_uri": "https://localhost:8080/"
        },
        "id": "wRvyH5dl0s28",
        "outputId": "f76a7412-59bf-4915-fddd-c66f74d9c162"
      },
      "source": [
        "df_6 = df_5.dropna()"
      ],
      "execution_count": null,
      "outputs": [
        {
          "output_type": "stream",
          "name": "stdout",
          "text": [
            "time: 193 ms (started: 2021-09-03 19:30:46 +00:00)\n"
          ]
        }
      ]
    },
    {
      "cell_type": "code",
      "metadata": {
        "colab": {
          "base_uri": "https://localhost:8080/"
        },
        "id": "tf22q6LDzUxN",
        "outputId": "2722b34d-3a75-49e6-c02f-64dcee6d24de"
      },
      "source": [
        "df_6.dropna().shape, df_5.shape"
      ],
      "execution_count": null,
      "outputs": [
        {
          "output_type": "execute_result",
          "data": {
            "text/plain": [
              "((194836, 31), (218242, 31))"
            ]
          },
          "metadata": {},
          "execution_count": 43
        },
        {
          "output_type": "stream",
          "name": "stdout",
          "text": [
            "time: 197 ms (started: 2021-09-03 18:04:33 +00:00)\n"
          ]
        }
      ]
    },
    {
      "cell_type": "code",
      "metadata": {
        "colab": {
          "base_uri": "https://localhost:8080/"
        },
        "id": "Z02T_duM0xZH",
        "outputId": "d90d8c1c-8b46-4181-e510-83dad757987c"
      },
      "source": [
        "df_6.info()"
      ],
      "execution_count": null,
      "outputs": [
        {
          "output_type": "stream",
          "name": "stdout",
          "text": [
            "<class 'pandas.core.frame.DataFrame'>\n",
            "Int64Index: 194836 entries, 0 to 234577\n",
            "Data columns (total 31 columns):\n",
            " #   Column                     Non-Null Count   Dtype  \n",
            "---  ------                     --------------   -----  \n",
            " 0   monto_original             194836 non-null  float64\n",
            " 1   retenciones_en_ppj         194836 non-null  float64\n",
            " 2   pagos_normales             194836 non-null  float64\n",
            " 3   pagos_retenciones          194836 non-null  float64\n",
            " 4   saldo_capital              194836 non-null  float64\n",
            " 5   cargos_pendientes          194836 non-null  float64\n",
            " 6   puntero                    194836 non-null  int64  \n",
            " 7   interes                    194836 non-null  int64  \n",
            " 8   propiedades                194836 non-null  int64  \n",
            " 9   vehiculos                  194836 non-null  int64  \n",
            " 10  derecho_propiedades        194836 non-null  int64  \n",
            " 11  q_pagos_normales_ult_anio  194836 non-null  int64  \n",
            " 12  q_pagos_reten_ult_anio     194836 non-null  int64  \n",
            " 13  cantidad_gestiones         194836 non-null  int64  \n",
            " 14  ultima_gestion             194836 non-null  int64  \n",
            " 15  ultimo_pago                194836 non-null  int64  \n",
            " 16  fecha_nacimiento           194836 non-null  int64  \n",
            " 17  ultima_retencion_en_ppj    194836 non-null  int64  \n",
            " 18  estado_actual              194836 non-null  object \n",
            " 19  fuente_deuda               194836 non-null  object \n",
            " 20  ins_descripcion            194836 non-null  object \n",
            " 21  tct_descripcion            194836 non-null  object \n",
            " 22  rea_descripcion            194836 non-null  object \n",
            " 23  segundo_periodo_salario    194836 non-null  object \n",
            " 24  tipo                       194836 non-null  object \n",
            " 25  lugarnacimiento            194836 non-null  object \n",
            " 26  sexo                       194836 non-null  object \n",
            " 27  ubicacionelectoral         194836 non-null  object \n",
            " 28  fecha_defuncion            194836 non-null  object \n",
            " 29  salario_inferior           194836 non-null  object \n",
            " 30  salario_superior           194836 non-null  object \n",
            "dtypes: float64(6), int64(12), object(13)\n",
            "memory usage: 47.6+ MB\n",
            "time: 132 ms (started: 2021-09-03 18:04:42 +00:00)\n"
          ]
        }
      ]
    },
    {
      "cell_type": "code",
      "metadata": {
        "colab": {
          "base_uri": "https://localhost:8080/"
        },
        "id": "soUynQrBJspP",
        "outputId": "ef7d6696-b92b-4cca-9863-b9eba2911e3d"
      },
      "source": [
        "#df_5[df_5['salario_inferior'].isna()].head(3)"
      ],
      "execution_count": null,
      "outputs": [
        {
          "output_type": "stream",
          "name": "stdout",
          "text": [
            "time: 1 ms (started: 2021-09-03 18:05:43 +00:00)\n"
          ]
        }
      ]
    },
    {
      "cell_type": "code",
      "metadata": {
        "ExecuteTime": {
          "end_time": "2021-08-24T08:28:19.487465Z",
          "start_time": "2021-08-24T08:28:18.838487Z"
        },
        "id": "8qO73E2Njvs-"
      },
      "source": [
        "#provinces = '(SAN JOSE|HEREDIA|ALAJUELA|GUANACASTE|PUNTARENAS|LIMON|CARTAGO|SAN|S JOSE|NICARAGUA|COLOMBIA|VENEZUELA|PERU|CUBA|EL SALVADOR|ESTADOS UNIDOS|ECUADOR|REPUBLICA DOMINICANA|HONDURAS|ITALIA|PANAMA|AUSTRALIA|MEJICO|BRASIL|GUATEMALA|CANADA|MEXICO|CHILE|ARGENTINA|URUGUAY|ALEMANIA|CHINA|FILIPINAS|FRANCIA|CORREDORES|ABANGARES|BUENOS AIRES|SN JOSE|GOLFITO|CARRILLO|OSA|LIBERIA|ORO|TILARAN|NICOYA|BAGACES|ZELEDON|LA CRUZ|TURRUBARES|U S A|E E U U|E U A|USA|TAIWAN|BOLIVIA|RUMANIA|HAITI|IRAN|BELICE|MARRUECOS|PORTUGAL|JAPON|RUSIA|BELGICA|HUNGRIA|SUDAFRICA|SUIZA|UCRANIA|FINLANDIA|LIBANO|BULGARIA)'\n",
        "#df_object['provincia_nacimiento'] = df_object['lugarnacimiento'].str.extract(provinces, expand=True)"
      ],
      "execution_count": null,
      "outputs": []
    },
    {
      "cell_type": "markdown",
      "metadata": {
        "id": "T0gwaLM3HnDg"
      },
      "source": [
        "deuda rural o no, \n",
        "ralizar un diciconario\n",
        "estandarizacion de datos\n",
        "key el pais y zona rural (1 y 0)\n",
        "dict = {'USA': {name: 'USA', zona_rural: 1},\n",
        "          {EEUU: {name: 'USA', zona_rural: 0}}"
      ]
    },
    {
      "cell_type": "markdown",
      "metadata": {
        "id": "5_kQgn-YIfRG"
      },
      "source": [
        "PCA\n",
        "K means clusterizar\n",
        "Elbow, Silouette\n",
        "\n",
        "Alto, medio, bajo\n",
        "\n",
        "get_dummies\n",
        "\n",
        "\n",
        "Clasificacion -Arboles de decision \n",
        "\n",
        "\n",
        "Intro \n",
        "ver dispersion, asociacion, variables relevantes\n",
        "linealidad\n",
        "\n",
        "\n",
        "\n",
        "MAS GRAFICOS (EXPLORACION DE DATOS)\n",
        "\n",
        "JUEVES, 09 SEPTIEMBRE (FALTA ANALISIS DESCRIPTIVO) - 18h\n",
        "PRESENTAR GRAFICOS \n",
        "JUSTIFICAR, conclusiones, patrones, variables que son buenas para predecir varialbe objetivo\n",
        "\n",
        "CREAR PERFIL PAGADOR \n",
        "\n",
        "\n",
        "\n",
        "\n",
        "\n",
        "\n"
      ]
    },
    {
      "cell_type": "code",
      "metadata": {
        "ExecuteTime": {
          "end_time": "2021-08-24T08:22:11.876550Z",
          "start_time": "2021-08-24T08:22:11.616182Z"
        },
        "id": "WLnuhZO_jvs_"
      },
      "source": [
        "#pd.set_option('display.max_rows', None)\n",
        "#df_object['lugarnacimiento'].value_counts()"
      ],
      "execution_count": null,
      "outputs": []
    },
    {
      "cell_type": "code",
      "metadata": {
        "ExecuteTime": {
          "end_time": "2021-08-24T09:47:00.001681Z",
          "start_time": "2021-08-24T09:46:59.945678Z"
        },
        "id": "V0d-RVDVjvs_"
      },
      "source": [
        "#df_object.query(\"provincia_nacimiento == np.nan\")\n",
        "#pd.set_option('display.max_rows', None)\n",
        "#df_object[df_object['provincia_nacimiento'].isna()]['lugarnacimiento'].value_counts()"
      ],
      "execution_count": null,
      "outputs": []
    },
    {
      "cell_type": "code",
      "metadata": {
        "ExecuteTime": {
          "end_time": "2021-08-24T08:35:03.431751Z",
          "start_time": "2021-08-24T08:35:03.330754Z"
        },
        "id": "HMzlilpYjvtA"
      },
      "source": [
        "#df_object['ubicacionelectoral'].value_counts()"
      ],
      "execution_count": null,
      "outputs": []
    },
    {
      "cell_type": "code",
      "metadata": {
        "id": "inw0r2F_x3LQ"
      },
      "source": [
        "#provinces = '(SAN JOSE|HEREDIA|ALAJUELA|GUANACASTE|PUNTARENAS|LIMON|CARTAGO|SAN|S JOSE|NICARAGUA|COLOMBIA|VENEZUELA|PERU|CUBA|EL SALVADOR|ESTADOS UNIDOS|ECUADOR|REPUBLICA DOMINICANA|HONDURAS|ITALIA|PANAMA|AUSTRALIA|MEJICO|BRASIL|GUATEMALA|CANADA|MEXICO|CHILE|ARGENTINA|URUGUAY|ALEMANIA|CHINA|FILIPINAS|FRANCIA|CORREDORES|ABANGARES|BUENOS AIRES|SN JOSE|GOLFITO|CARRILLO|OSA|LIBERIA|ORO|TILARAN|NICOYA|BAGACES|ZELEDON|LA CRUZ|TURRUBARES|U S A|E E U U|E U A|USA|TAIWAN|BOLIVIA|RUMANIA|HAITI|IRAN|BELICE|MARRUECOS|PORTUGAL|JAPON|RUSIA|BELGICA|HUNGRIA|SUDAFRICA|SUIZA|UCRANIA|FINLANDIA|LIBANO|BULGARIA)'\n",
        "#df_object['provincia_residencia'] = df_object['ubicacionelectoral'].str.extract(provinces, expand=True)"
      ],
      "execution_count": null,
      "outputs": []
    },
    {
      "cell_type": "code",
      "metadata": {
        "id": "Me32RDzgx_q1"
      },
      "source": [
        "#df_object['provincia_residencia'].value_counts()"
      ],
      "execution_count": null,
      "outputs": []
    },
    {
      "cell_type": "code",
      "metadata": {
        "ExecuteTime": {
          "end_time": "2021-08-24T07:36:59.480898Z",
          "start_time": "2021-08-24T07:36:59.444924Z"
        },
        "id": "RXRx_KfgjvtB"
      },
      "source": [
        "#df_object['ubicacionelectoral'].value_counts()"
      ],
      "execution_count": null,
      "outputs": []
    },
    {
      "cell_type": "code",
      "metadata": {
        "ExecuteTime": {
          "end_time": "2021-08-20T16:53:38.730352Z",
          "start_time": "2021-08-20T16:53:38.294336Z"
        },
        "id": "bgmPTIodjvtC",
        "outputId": "dea85932-43f6-4bc6-a3b8-001ae045b4f3"
      },
      "source": [
        "objects = ['estado_actual', 'fuente_deuda', 'ins_descripcion', 'tct_descripcion',\n",
        "       'rea_descripcion', 'segundo_periodo_salario', 'tipo', 'fecha_defuncion',\n",
        "       'lugarnacimiento', 'sexo', 'ubicacionelectoral']\n",
        "for object in objects:\n",
        "    print(object)\n",
        "    print(df2[object].value_counts())\n",
        "    print('\\n')\n",
        "    "
      ],
      "execution_count": null,
      "outputs": [
        {
          "name": "stdout",
          "output_type": "stream",
          "text": [
            "estado_actual\n",
            "Inactiva        204727\n",
            "Activa           18780\n",
            "Ilocalizable     11169\n",
            "Cancelada            4\n",
            "Name: estado_actual, dtype: int64\n",
            "\n",
            "\n",
            "fuente_deuda\n",
            "Tarjetas              208869\n",
            "Sucredito               9226\n",
            "Préstamo Personal       7697\n",
            "Sucredito 6             1562\n",
            "Chip                    1324\n",
            "Sucredito 7             1042\n",
            "Sucredito 9              846\n",
            "Hiper Banda              831\n",
            "Maxima                   689\n",
            "Sucredito 8              580\n",
            "MasyMas                  527\n",
            "Sucredito 10             494\n",
            "Sucredito 4              451\n",
            "Compra Facil 4           230\n",
            "Sucredito 3              185\n",
            "Sucredito 2               95\n",
            "Préstamo Prendario        76\n",
            "Sucredito 1               30\n",
            "Facil migrado 1            5\n",
            "Name: fuente_deuda, dtype: int64\n",
            "\n",
            "\n",
            "ins_descripcion\n",
            "A-PROMERICA                65081\n",
            "CITI                       59630\n",
            "SERVIVALORES               39290\n",
            "SCOTIABANK                 32797\n",
            "CREDIX                     11860\n",
            "B-HSBC                      7699\n",
            "DAVIVIENDA                  7056\n",
            "Legal                       3853\n",
            "CORPORATIVO                 1931\n",
            "CAPICREDIT                  1869\n",
            "CREDIQ                       853\n",
            "Financiera Multivalores      703\n",
            "CATHAY                       460\n",
            "LAFISE                       456\n",
            "DESYFIN                      385\n",
            "CUSCATLAN                    262\n",
            "MB CREDITOS                  259\n",
            "DANISSA                       73\n",
            "SERVICOOP                     71\n",
            "CREDIMOVIL                    54\n",
            "CAFSA                         36\n",
            "R&Z                           33\n",
            "BCT                           30\n",
            "3-101-707533 S.A.             17\n",
            "Pagos sin identificar          1\n",
            "Name: ins_descripcion, dtype: int64\n",
            "\n",
            "\n",
            "tct_descripcion\n",
            "Propia               230880\n",
            "Administrada           3878\n",
            "A Sin Identificar         1\n",
            "Name: tct_descripcion, dtype: int64\n",
            "\n",
            "\n",
            "rea_descripcion\n",
            "Contacto sin Promesa                        100336\n",
            "Contacto indirecto                           91846\n",
            "Ilocalizable                                 11170\n",
            "Promesa de Pago                               9179\n",
            "Traslado de cuenta (Distribución)             6217\n",
            "Incumplimiento de Pago Sin Confirmar          3129\n",
            "Contacto Indirecto (Corporativo)              2753\n",
            "Promesa de Pago Confirmada                    2498\n",
            "Embargo aplicado                              2361\n",
            "Fallecido                                     1622\n",
            "Incumplimiento de Pago Confirmado             1050\n",
            "Embargo enviado                                830\n",
            "Firma finiquito                                392\n",
            "Mensaje con tercero                            330\n",
            "Vehículo Capturado                             293\n",
            "Posible AP                                     182\n",
            "No cumple promesa (PPI)                        132\n",
            "INICIACION NEGOCIANDO                           98\n",
            "CASO DEVUELTO                                   79\n",
            "Incumplimiento de Pago Cumplido                 66\n",
            "Vehículo Entregado                              55\n",
            "Indirecto del deudor                            52\n",
            "Cumple promesa (AP)                             41\n",
            "Abono al compromiso                             20\n",
            "Fuera del país                                  15\n",
            "No contesta                                      7\n",
            "Negociando                                       2\n",
            "Solicitud de Reclamo deudor CITI Propia          2\n",
            "Contacto Directo. Clientes con embargos.         1\n",
            "Traslado equipo Localización                     1\n",
            "Name: rea_descripcion, dtype: int64\n",
            "\n",
            "\n",
            "segundo_periodo_salario\n",
            "Entre ₡ 275000 y ₡ 300000        17175\n",
            "Entre ₡ 300000 y ₡ 325000        11250\n",
            "Entre ₡ 325000 y ₡ 350000         9763\n",
            "Entre ₡ 350000 y ₡ 375000         9524\n",
            "Entre ₡ 400000 y ₡ 425000         7811\n",
            "                                 ...  \n",
            "Entre ₡ 72250000 y ₡ 72275000        1\n",
            "Entre ₡ 5825000 y ₡ 5850000          1\n",
            "Entre ₡ 7025000 y ₡ 7050000          1\n",
            "Entre ₡ 6000000 y ₡ 6025000          1\n",
            "Entre ₡ 39275000 y ₡ 39300000        1\n",
            "Name: segundo_periodo_salario, Length: 296, dtype: int64\n",
            "\n",
            "\n",
            "tipo\n",
            "PRIVADO    140315\n",
            "PROPIO      34927\n",
            "PUBLICO     23570\n",
            "Name: tipo, dtype: int64\n",
            "\n",
            "\n",
            "fecha_defuncion\n",
            "2021-04-14    9\n",
            "2021-01-19    8\n",
            "2020-08-07    8\n",
            "2019-12-26    8\n",
            "2019-10-02    8\n",
            "             ..\n",
            "2010-10-23    1\n",
            "2020-06-15    1\n",
            "2016-09-24    1\n",
            "2019-07-01    1\n",
            "2017-02-10    1\n",
            "Name: fecha_defuncion, Length: 1503, dtype: int64\n",
            "\n",
            "\n",
            "lugarnacimiento\n",
            "HOSPITAL CENTRAL SAN JOSE        56418\n",
            "CARMEN CENTRAL SAN JOSE          22659\n",
            "URUCA CENTRAL SAN JOSE           13155\n",
            "CENTRO CENTRAL ALAJUELA           8891\n",
            "CENTRO CENTRAL HEREDIA            7735\n",
            "                                 ...  \n",
            "CAO BRAVO POCOCI LIMON               1\n",
            "PAEZ PORTUGUESA REP VENEZUELA        1\n",
            "SANTIAGO DE CUBA                     1\n",
            "LA PERLA SIQUIRRES LIMON             1\n",
            "DOMINICAS CENTRAL PUNTARENAS         1\n",
            "Name: lugarnacimiento, Length: 4448, dtype: int64\n",
            "\n",
            "\n",
            "sexo\n",
            "MASC         146076\n",
            "FEM           77602\n",
            "NO INDICA       603\n",
            "Name: sexo, dtype: int64\n",
            "\n",
            "\n",
            "ubicacionelectoral\n",
            "SAN JOSE GOICOECHEA GUADALUPE                         2439\n",
            "SAN JOSE MORAVIA SAN VICENTE                          2314\n",
            "SAN JOSE CENTRAL HATILLO 8                            1932\n",
            "SAN JOSE CENTRAL HATILLO                              1930\n",
            "SAN JOSE CENTRAL RINCON GRANDE                        1912\n",
            "                                                      ... \n",
            "GUANACASTE NANDAYURE CERRO AZUL                          1\n",
            "PUNTARENAS CENTRAL FLORIDA(ISLA VENADO PARTE)            1\n",
            "SAN JOSE LEON CORTES CASTRO LA LUCHA (SUR DEL RIO)       1\n",
            "GUANACASTE LIBERIA H.A. LIBERIA                          1\n",
            "PUNTARENAS BUENOS AIRES PUENTE DE SALITRE                1\n",
            "Name: ubicacionelectoral, Length: 1943, dtype: int64\n",
            "\n",
            "\n"
          ]
        }
      ]
    },
    {
      "cell_type": "code",
      "metadata": {
        "colab": {
          "base_uri": "https://localhost:8080/"
        },
        "id": "JGhqOo7e5Ps-",
        "outputId": "5180b906-c355-470b-8f62-1b73a4c35380"
      },
      "source": [
        "df_6.shape[0]"
      ],
      "execution_count": null,
      "outputs": [
        {
          "output_type": "execute_result",
          "data": {
            "text/plain": [
              "194836"
            ]
          },
          "metadata": {},
          "execution_count": 58
        },
        {
          "output_type": "stream",
          "name": "stdout",
          "text": [
            "time: 5.23 ms (started: 2021-09-03 18:21:52 +00:00)\n"
          ]
        }
      ]
    },
    {
      "cell_type": "code",
      "metadata": {
        "ExecuteTime": {
          "end_time": "2021-07-27T10:26:18.496764Z",
          "start_time": "2021-07-27T10:26:18.480768Z"
        },
        "id": "n1LolrpQjvtC",
        "colab": {
          "base_uri": "https://localhost:8080/"
        },
        "outputId": "41e7f015-e757-4244-90c8-8b242badb307"
      },
      "source": [
        "def count_plot(x_value, hue_, data_, title, x_label, y_label, displacement, size):\n",
        "    ax = sns.countplot(x = x_value, hue = hue_, data = data_)\n",
        "    ax.set_title(title, fontsize = 20)\n",
        "    ax.set_xlabel(x_label)\n",
        "    ax.set_ylabel(y_label)\n",
        "    \n",
        "    for el in ax.patches:\n",
        "        ax.annotate(round((el.get_height() / data_.shape[0]) * 100 , 2) , (el.get_x() + displacement, el.get_height()), color = 'black', size = size)\n",
        "    return plt.show();"
      ],
      "execution_count": null,
      "outputs": [
        {
          "output_type": "stream",
          "name": "stdout",
          "text": [
            "time: 6.89 ms (started: 2021-09-03 18:23:36 +00:00)\n"
          ]
        }
      ]
    },
    {
      "cell_type": "code",
      "metadata": {
        "colab": {
          "base_uri": "https://localhost:8080/",
          "height": 279
        },
        "id": "xfVvDiFC3e0d",
        "outputId": "f057ce27-da2c-4e54-b7a0-6268fd16a864"
      },
      "source": [
        "df_6.head(3)"
      ],
      "execution_count": null,
      "outputs": [
        {
          "output_type": "execute_result",
          "data": {
            "text/html": [
              "<div>\n",
              "<style scoped>\n",
              "    .dataframe tbody tr th:only-of-type {\n",
              "        vertical-align: middle;\n",
              "    }\n",
              "\n",
              "    .dataframe tbody tr th {\n",
              "        vertical-align: top;\n",
              "    }\n",
              "\n",
              "    .dataframe thead th {\n",
              "        text-align: right;\n",
              "    }\n",
              "</style>\n",
              "<table border=\"1\" class=\"dataframe\">\n",
              "  <thead>\n",
              "    <tr style=\"text-align: right;\">\n",
              "      <th></th>\n",
              "      <th>monto_original</th>\n",
              "      <th>retenciones_en_ppj</th>\n",
              "      <th>pagos_normales</th>\n",
              "      <th>pagos_retenciones</th>\n",
              "      <th>saldo_capital</th>\n",
              "      <th>cargos_pendientes</th>\n",
              "      <th>puntero</th>\n",
              "      <th>interes</th>\n",
              "      <th>propiedades</th>\n",
              "      <th>vehiculos</th>\n",
              "      <th>derecho_propiedades</th>\n",
              "      <th>q_pagos_normales_ult_anio</th>\n",
              "      <th>q_pagos_reten_ult_anio</th>\n",
              "      <th>cantidad_gestiones</th>\n",
              "      <th>ultima_gestion</th>\n",
              "      <th>ultimo_pago</th>\n",
              "      <th>fecha_nacimiento</th>\n",
              "      <th>ultima_retencion_en_ppj</th>\n",
              "      <th>estado_actual</th>\n",
              "      <th>fuente_deuda</th>\n",
              "      <th>ins_descripcion</th>\n",
              "      <th>tct_descripcion</th>\n",
              "      <th>rea_descripcion</th>\n",
              "      <th>segundo_periodo_salario</th>\n",
              "      <th>tipo</th>\n",
              "      <th>lugarnacimiento</th>\n",
              "      <th>sexo</th>\n",
              "      <th>ubicacionelectoral</th>\n",
              "      <th>fecha_defuncion</th>\n",
              "      <th>salario_inferior</th>\n",
              "      <th>salario_superior</th>\n",
              "    </tr>\n",
              "  </thead>\n",
              "  <tbody>\n",
              "    <tr>\n",
              "      <th>0</th>\n",
              "      <td>976.16</td>\n",
              "      <td>0.0</td>\n",
              "      <td>0.0</td>\n",
              "      <td>0.0</td>\n",
              "      <td>976.16</td>\n",
              "      <td>2616.27</td>\n",
              "      <td>1</td>\n",
              "      <td>19</td>\n",
              "      <td>0</td>\n",
              "      <td>0</td>\n",
              "      <td>0</td>\n",
              "      <td>0</td>\n",
              "      <td>0</td>\n",
              "      <td>33</td>\n",
              "      <td>2021</td>\n",
              "      <td>0</td>\n",
              "      <td>1974</td>\n",
              "      <td>0</td>\n",
              "      <td>Inactiva</td>\n",
              "      <td>Tarjetas</td>\n",
              "      <td>CITI</td>\n",
              "      <td>Propia</td>\n",
              "      <td>Contacto indirecto</td>\n",
              "      <td>[325000, 350000]</td>\n",
              "      <td>PRIVADO</td>\n",
              "      <td>HOSPITAL CENTRAL SAN JOSE</td>\n",
              "      <td>MASC</td>\n",
              "      <td>SAN JOSE GOICOECHEA CUADROS</td>\n",
              "      <td>0</td>\n",
              "      <td>325000</td>\n",
              "      <td>350000</td>\n",
              "    </tr>\n",
              "    <tr>\n",
              "      <th>1</th>\n",
              "      <td>367.27</td>\n",
              "      <td>0.0</td>\n",
              "      <td>0.0</td>\n",
              "      <td>0.0</td>\n",
              "      <td>367.27</td>\n",
              "      <td>1702.30</td>\n",
              "      <td>2</td>\n",
              "      <td>0</td>\n",
              "      <td>0</td>\n",
              "      <td>0</td>\n",
              "      <td>0</td>\n",
              "      <td>0</td>\n",
              "      <td>0</td>\n",
              "      <td>29</td>\n",
              "      <td>2021</td>\n",
              "      <td>0</td>\n",
              "      <td>1989</td>\n",
              "      <td>0</td>\n",
              "      <td>Inactiva</td>\n",
              "      <td>Sucredito</td>\n",
              "      <td>SERVIVALORES</td>\n",
              "      <td>Propia</td>\n",
              "      <td>Contacto sin Promesa</td>\n",
              "      <td>[475000, 500000]</td>\n",
              "      <td>PRIVADO</td>\n",
              "      <td>SAN ISIDRO PEREZ ZELEDON SAN</td>\n",
              "      <td>MASC</td>\n",
              "      <td>PUNTARENAS BUENOS AIRES BUENOS AIRES</td>\n",
              "      <td>0</td>\n",
              "      <td>475000</td>\n",
              "      <td>500000</td>\n",
              "    </tr>\n",
              "    <tr>\n",
              "      <th>2</th>\n",
              "      <td>693.63</td>\n",
              "      <td>0.0</td>\n",
              "      <td>0.0</td>\n",
              "      <td>0.0</td>\n",
              "      <td>693.63</td>\n",
              "      <td>1859.05</td>\n",
              "      <td>3</td>\n",
              "      <td>82</td>\n",
              "      <td>1</td>\n",
              "      <td>0</td>\n",
              "      <td>1</td>\n",
              "      <td>0</td>\n",
              "      <td>0</td>\n",
              "      <td>16</td>\n",
              "      <td>2021</td>\n",
              "      <td>0</td>\n",
              "      <td>1980</td>\n",
              "      <td>0</td>\n",
              "      <td>Inactiva</td>\n",
              "      <td>Tarjetas</td>\n",
              "      <td>CITI</td>\n",
              "      <td>Propia</td>\n",
              "      <td>Contacto indirecto</td>\n",
              "      <td>[475000, 500000]</td>\n",
              "      <td>PRIVADO</td>\n",
              "      <td>HOSPITAL CENTRAL SAN JOSE</td>\n",
              "      <td>FEM</td>\n",
              "      <td>SAN JOSE DESAMPARADOS SAN JERONIMO</td>\n",
              "      <td>0</td>\n",
              "      <td>475000</td>\n",
              "      <td>500000</td>\n",
              "    </tr>\n",
              "  </tbody>\n",
              "</table>\n",
              "</div>"
            ],
            "text/plain": [
              "   monto_original  retenciones_en_ppj  ...  salario_inferior  salario_superior\n",
              "0          976.16                 0.0  ...            325000            350000\n",
              "1          367.27                 0.0  ...            475000            500000\n",
              "2          693.63                 0.0  ...            475000            500000\n",
              "\n",
              "[3 rows x 31 columns]"
            ]
          },
          "metadata": {},
          "execution_count": 52
        },
        {
          "output_type": "stream",
          "name": "stdout",
          "text": [
            "time: 71.5 ms (started: 2021-09-03 18:13:59 +00:00)\n"
          ]
        }
      ]
    },
    {
      "cell_type": "code",
      "metadata": {
        "colab": {
          "base_uri": "https://localhost:8080/"
        },
        "id": "2VVCbeZO2VT8",
        "outputId": "9da7c983-8fdb-4903-ea78-4252f1a42de5"
      },
      "source": [
        "df_6.keys()"
      ],
      "execution_count": null,
      "outputs": [
        {
          "output_type": "execute_result",
          "data": {
            "text/plain": [
              "Index(['monto_original', 'retenciones_en_ppj', 'pagos_normales',\n",
              "       'pagos_retenciones', 'saldo_capital', 'cargos_pendientes', 'puntero',\n",
              "       'interes', 'propiedades', 'vehiculos', 'derecho_propiedades',\n",
              "       'q_pagos_normales_ult_anio', 'q_pagos_reten_ult_anio',\n",
              "       'cantidad_gestiones', 'ultima_gestion', 'ultimo_pago',\n",
              "       'fecha_nacimiento', 'ultima_retencion_en_ppj', 'estado_actual',\n",
              "       'fuente_deuda', 'ins_descripcion', 'tct_descripcion', 'rea_descripcion',\n",
              "       'segundo_periodo_salario', 'tipo', 'lugarnacimiento', 'sexo',\n",
              "       'ubicacionelectoral', 'fecha_defuncion', 'salario_inferior',\n",
              "       'salario_superior'],\n",
              "      dtype='object')"
            ]
          },
          "metadata": {},
          "execution_count": 50
        },
        {
          "output_type": "stream",
          "name": "stdout",
          "text": [
            "time: 7.48 ms (started: 2021-09-03 18:13:10 +00:00)\n"
          ]
        }
      ]
    },
    {
      "cell_type": "code",
      "metadata": {
        "colab": {
          "base_uri": "https://localhost:8080/"
        },
        "id": "r7BYJIME3XpX",
        "outputId": "334af2d7-7457-4e52-bdbb-a4eff25489d7"
      },
      "source": [
        "df_6.dtypes"
      ],
      "execution_count": null,
      "outputs": [
        {
          "output_type": "execute_result",
          "data": {
            "text/plain": [
              "monto_original               float64\n",
              "retenciones_en_ppj           float64\n",
              "pagos_normales               float64\n",
              "pagos_retenciones            float64\n",
              "saldo_capital                float64\n",
              "cargos_pendientes            float64\n",
              "puntero                        int64\n",
              "interes                        int64\n",
              "propiedades                    int64\n",
              "vehiculos                      int64\n",
              "derecho_propiedades            int64\n",
              "q_pagos_normales_ult_anio      int64\n",
              "q_pagos_reten_ult_anio         int64\n",
              "cantidad_gestiones             int64\n",
              "ultima_gestion                 int64\n",
              "ultimo_pago                    int64\n",
              "fecha_nacimiento               int64\n",
              "ultima_retencion_en_ppj        int64\n",
              "estado_actual                 object\n",
              "fuente_deuda                  object\n",
              "ins_descripcion               object\n",
              "tct_descripcion               object\n",
              "rea_descripcion               object\n",
              "segundo_periodo_salario       object\n",
              "tipo                          object\n",
              "lugarnacimiento               object\n",
              "sexo                          object\n",
              "ubicacionelectoral            object\n",
              "fecha_defuncion               object\n",
              "salario_inferior              object\n",
              "salario_superior              object\n",
              "dtype: object"
            ]
          },
          "metadata": {},
          "execution_count": 51
        },
        {
          "output_type": "stream",
          "name": "stdout",
          "text": [
            "time: 11.1 ms (started: 2021-09-03 18:13:29 +00:00)\n"
          ]
        }
      ]
    },
    {
      "cell_type": "code",
      "metadata": {
        "id": "5YxLq62G4Us4"
      },
      "source": [
        "\n",
        "\n",
        "\n",
        "\n",
        "\n",
        "segundo_periodo_salario       object\n",
        "tipo                          object\n",
        "lugarnacimiento               object\n",
        "\n",
        "ubicacionelectoral            object\n",
        "fecha_defuncion               object\n",
        "salario_inferior              object\n",
        "salario_superior"
      ],
      "execution_count": null,
      "outputs": []
    },
    {
      "cell_type": "code",
      "metadata": {
        "id": "WXncnPoLOPiu"
      },
      "source": [
        "df_6['Recuperable'] = df_6['estado_actual'].map(lambda x: 'Si' if x == 'Activa' or x == 'Cancelada' else 'No')"
      ],
      "execution_count": null,
      "outputs": []
    },
    {
      "cell_type": "code",
      "metadata": {
        "scrolled": true,
        "id": "3tcFvu-fjvtD",
        "colab": {
          "base_uri": "https://localhost:8080/",
          "height": 317
        },
        "outputId": "2422b07e-2e81-48db-b152-ff421da8781f"
      },
      "source": [
        "count_plot(df_6.estado_actual, None, df_6, 'Tipo de deudas', 'Estado de Opeacion', 'Count', 0.15, 14)"
      ],
      "execution_count": null,
      "outputs": [
        {
          "output_type": "display_data",
          "data": {
            "image/png": "[encoded data removed]",
            "text/plain": [
              "<Figure size 432x288 with 1 Axes>"
            ]
          },
          "metadata": {
            "needs_background": "light"
          }
        },
        {
          "output_type": "stream",
          "name": "stdout",
          "text": [
            "time: 342 ms (started: 2021-09-03 18:24:26 +00:00)\n"
          ]
        }
      ]
    },
    {
      "cell_type": "code",
      "metadata": {
        "colab": {
          "base_uri": "https://localhost:8080/"
        },
        "id": "Upr8VREZOX0C",
        "outputId": "5ae2abe3-944d-47ff-9269-2d19432b0057"
      },
      "source": [
        "df_7 = df_6.query(\"Recuperable == 'Si'\")"
      ],
      "execution_count": null,
      "outputs": [
        {
          "output_type": "stream",
          "name": "stdout",
          "text": [
            "time: 26.2 ms (started: 2021-09-03 19:54:41 +00:00)\n"
          ]
        }
      ]
    },
    {
      "cell_type": "code",
      "metadata": {
        "colab": {
          "base_uri": "https://localhost:8080/"
        },
        "id": "7490joWtRIwG",
        "outputId": "ba62f139-29af-40d1-8968-de2e4cfbba28"
      },
      "source": [
        "df_8 = df_6.query(\"Recuperable == 'No'\").sample(17467)"
      ],
      "execution_count": null,
      "outputs": [
        {
          "output_type": "stream",
          "name": "stdout",
          "text": [
            "time: 90 ms (started: 2021-09-03 20:13:31 +00:00)\n"
          ]
        }
      ]
    },
    {
      "cell_type": "code",
      "metadata": {
        "colab": {
          "base_uri": "https://localhost:8080/"
        },
        "id": "ve2LappBR3VT",
        "outputId": "1980449d-f37e-4380-dbdc-b4a5ffce4014"
      },
      "source": [
        "df_8.shape, df_7.shape"
      ],
      "execution_count": null,
      "outputs": [
        {
          "output_type": "execute_result",
          "data": {
            "text/plain": [
              "((17467, 33), (17467, 33))"
            ]
          },
          "metadata": {},
          "execution_count": 123
        },
        {
          "output_type": "stream",
          "name": "stdout",
          "text": [
            "time: 5.34 ms (started: 2021-09-03 20:13:45 +00:00)\n"
          ]
        }
      ]
    },
    {
      "cell_type": "code",
      "metadata": {
        "colab": {
          "base_uri": "https://localhost:8080/"
        },
        "id": "t7zGDMTURPmV",
        "outputId": "5d4930bd-5a29-4bf6-e7f9-c01f146435f5"
      },
      "source": [
        "frames = [df_7, df_8]\n",
        "df_9 = pd.concat(frames)"
      ],
      "execution_count": null,
      "outputs": [
        {
          "output_type": "stream",
          "name": "stdout",
          "text": [
            "time: 32.4 ms (started: 2021-09-03 20:14:49 +00:00)\n"
          ]
        }
      ]
    },
    {
      "cell_type": "code",
      "metadata": {
        "id": "akuJqiXCjvtD",
        "colab": {
          "base_uri": "https://localhost:8080/",
          "height": 286
        },
        "outputId": "13aecfae-bd1a-4940-bfc4-c5f7503c1c33"
      },
      "source": [
        "#count_plot(df2.PRO_DESCRIPCION, None, df2, 'Frecuencia de origen de deuda', 'Origen de deuda', 'Count', 0.15, 14)\n",
        "ax = sns.countplot(y = df_9['rea_descripcion'], data = df_9)\n",
        "ax.set_xticklabels(ax.get_xticklabels(), rotation = 90);"
      ],
      "execution_count": null,
      "outputs": [
        {
          "output_type": "display_data",
          "data": {
            "image/png": "[encoded data removed]",
            "text/plain": [
              "<Figure size 432x288 with 1 Axes>"
            ]
          },
          "metadata": {
            "needs_background": "light"
          }
        },
        {
          "output_type": "stream",
          "name": "stdout",
          "text": [
            "time: 393 ms (started: 2021-09-03 20:14:54 +00:00)\n"
          ]
        }
      ]
    },
    {
      "cell_type": "code",
      "metadata": {
        "id": "uIu5A1xKjvtE",
        "colab": {
          "base_uri": "https://localhost:8080/",
          "height": 317
        },
        "outputId": "8b2cf8f7-d929-4f05-95b4-4628c14fc056"
      },
      "source": [
        "count_plot(df_9['sexo'], df_9['Recuperable'], df_9, 'Generos', 'Sexo', 'Count', 0.04, 14)"
      ],
      "execution_count": null,
      "outputs": [
        {
          "output_type": "display_data",
          "data": {
            "image/png": "[encoded data removed]",
            "text/plain": [
              "<Figure size 432x288 with 1 Axes>"
            ]
          },
          "metadata": {
            "needs_background": "light"
          }
        },
        {
          "output_type": "stream",
          "name": "stdout",
          "text": [
            "time: 242 ms (started: 2021-09-03 20:16:34 +00:00)\n"
          ]
        }
      ]
    },
    {
      "cell_type": "code",
      "metadata": {
        "id": "VJjskd9AjvtF"
      },
      "source": [
        "sns.displot(df2.MAO_MONTO_ORIGINAL, kind = 'hist',  binwidth = 3, binsdf)"
      ],
      "execution_count": null,
      "outputs": []
    },
    {
      "cell_type": "markdown",
      "metadata": {
        "id": "m2hYlckCjvtG"
      },
      "source": [
        "A continuación se muestra una pequeá muestra de los datos del dataset:"
      ]
    },
    {
      "cell_type": "code",
      "metadata": {
        "scrolled": true,
        "id": "hFrhRI5djvtG",
        "colab": {
          "base_uri": "https://localhost:8080/",
          "height": 317
        },
        "outputId": "8bf3a9e2-c398-40da-93b7-40516c213395"
      },
      "source": [
        "count_plot(df_9['tct_descripcion'], df_9['Recuperable'], df_9, 'TCT Descripcion', 'TCT', 'Count', 0.15, 14)"
      ],
      "execution_count": null,
      "outputs": [
        {
          "output_type": "display_data",
          "data": {
            "image/png": "[encoded data removed]",
            "text/plain": [
              "<Figure size 432x288 with 1 Axes>"
            ]
          },
          "metadata": {
            "needs_background": "light"
          }
        },
        {
          "output_type": "stream",
          "name": "stdout",
          "text": [
            "time: 217 ms (started: 2021-09-03 20:16:59 +00:00)\n"
          ]
        }
      ]
    },
    {
      "cell_type": "code",
      "metadata": {
        "colab": {
          "base_uri": "https://localhost:8080/",
          "height": 286
        },
        "id": "AXD5x_637ih_",
        "outputId": "44a12a95-e094-4bf4-e5d0-aebf83a8b3ea"
      },
      "source": [
        "ax = sns.countplot(y = df_9['fuente_deuda'], data = df_9)\n",
        "ax.set_xticklabels(ax.get_xticklabels(), rotation = 90);"
      ],
      "execution_count": null,
      "outputs": [
        {
          "output_type": "display_data",
          "data": {
            "image/png": "[encoded data removed]",
            "text/plain": [
              "<Figure size 432x288 with 1 Axes>"
            ]
          },
          "metadata": {
            "needs_background": "light"
          }
        },
        {
          "output_type": "stream",
          "name": "stdout",
          "text": [
            "time: 281 ms (started: 2021-09-03 20:17:22 +00:00)\n"
          ]
        }
      ]
    },
    {
      "cell_type": "code",
      "metadata": {
        "colab": {
          "base_uri": "https://localhost:8080/",
          "height": 286
        },
        "id": "Q8Ch4E-X76N9",
        "outputId": "ca43d973-bd89-4896-baf8-5ccc6a4f1f4d"
      },
      "source": [
        "ax = sns.countplot(y = df_9['ins_descripcion'], data = df_9)\n",
        "ax.set_xticklabels(ax.get_xticklabels(), rotation = 90);"
      ],
      "execution_count": null,
      "outputs": [
        {
          "output_type": "display_data",
          "data": {
            "image/png": "[encoded data removed]",
            "text/plain": [
              "<Figure size 432x288 with 1 Axes>"
            ]
          },
          "metadata": {
            "needs_background": "light"
          }
        },
        {
          "output_type": "stream",
          "name": "stdout",
          "text": [
            "time: 315 ms (started: 2021-09-03 20:17:33 +00:00)\n"
          ]
        }
      ]
    },
    {
      "cell_type": "code",
      "metadata": {
        "id": "97hfk9ae8AcR"
      },
      "source": [
        ""
      ],
      "execution_count": null,
      "outputs": []
    },
    {
      "cell_type": "markdown",
      "metadata": {
        "id": "Htzfxa9FjvtH"
      },
      "source": [
        "El tipo de transaccion mas frecuente en el dataset es de tipo Propia. Esto es relevante?\n",
        "Quiere decir que las personas han generado su propia deuday no es de un tercero. En tarjetas de credito nopiden fiadores.\n",
        "\n",
        "Adminsitrada es con fiador."
      ]
    },
    {
      "cell_type": "code",
      "metadata": {
        "ExecuteTime": {
          "end_time": "2021-07-27T10:52:10.136294Z",
          "start_time": "2021-07-27T10:52:10.088294Z"
        },
        "id": "SjNJniiYjvtH",
        "colab": {
          "base_uri": "https://localhost:8080/"
        },
        "outputId": "3ead63fe-582b-4fe2-f8ad-0ad2ca928d29"
      },
      "source": [
        "#df2['ultimo_pago'].value_counts()\n",
        "#df2['ultimo_pago'] = pd.to_datetime(df2['ultimo_pago'], format='%Y%m%d')\n",
        "#df_6['year_ultimo_pago'] = pd.DatetimeIndex(df_6['ultimo_pago']).year\n",
        "#df_6['year_ultimo_pago'] = df_6['year_ultimo_pago'].replace(np.nan, 0)\n",
        "#df_6['year_ultimo_pago'] = df_6['year_ultimo_pago'].astype('int')\n",
        "#ser.astype('category')"
      ],
      "execution_count": null,
      "outputs": [
        {
          "output_type": "stream",
          "name": "stdout",
          "text": [
            "time: 2 ms (started: 2021-09-03 19:33:13 +00:00)\n"
          ]
        }
      ]
    },
    {
      "cell_type": "code",
      "metadata": {
        "colab": {
          "base_uri": "https://localhost:8080/"
        },
        "id": "U6uWrsEautdB",
        "outputId": "d7d0228b-b92c-4ee1-c3bd-178e1690d811"
      },
      "source": [
        "df_6.keys()"
      ],
      "execution_count": null,
      "outputs": [
        {
          "output_type": "execute_result",
          "data": {
            "text/plain": [
              "Index(['monto_original', 'retenciones_en_ppj', 'pagos_normales',\n",
              "       'pagos_retenciones', 'saldo_capital', 'cargos_pendientes', 'puntero',\n",
              "       'interes', 'propiedades', 'vehiculos', 'derecho_propiedades',\n",
              "       'q_pagos_normales_ult_anio', 'q_pagos_reten_ult_anio',\n",
              "       'cantidad_gestiones', 'ultima_gestion', 'ultimo_pago',\n",
              "       'fecha_nacimiento', 'ultima_retencion_en_ppj', 'estado_actual',\n",
              "       'fuente_deuda', 'ins_descripcion', 'tct_descripcion', 'rea_descripcion',\n",
              "       'segundo_periodo_salario', 'tipo', 'lugarnacimiento', 'sexo',\n",
              "       'ubicacionelectoral', 'fecha_defuncion', 'salario_inferior',\n",
              "       'salario_superior', 'year_ultimo_pago'],\n",
              "      dtype='object')"
            ]
          },
          "metadata": {},
          "execution_count": 78
        },
        {
          "output_type": "stream",
          "name": "stdout",
          "text": [
            "time: 7.81 ms (started: 2021-09-03 19:27:46 +00:00)\n"
          ]
        }
      ]
    },
    {
      "cell_type": "code",
      "metadata": {
        "ExecuteTime": {
          "end_time": "2021-07-27T10:55:57.989869Z",
          "start_time": "2021-07-27T10:55:57.973872Z"
        },
        "id": "2D8QAdJFjvtH",
        "colab": {
          "base_uri": "https://localhost:8080/"
        },
        "outputId": "ce9715ac-5994-4b1f-8927-348bb74103ec"
      },
      "source": [
        "#Creo una neuva columna que me dice si un cliente ha pagado o no\n",
        "df_9['ultimo_pago_binario'] = np.where(df_9['ultimo_pago'] > 0, 1, 0)"
      ],
      "execution_count": null,
      "outputs": [
        {
          "output_type": "stream",
          "name": "stdout",
          "text": [
            "time: 6 ms (started: 2021-09-03 20:17:46 +00:00)\n"
          ]
        }
      ]
    },
    {
      "cell_type": "code",
      "metadata": {
        "ExecuteTime": {
          "end_time": "2021-07-27T11:09:35.300303Z",
          "start_time": "2021-07-27T11:09:34.276264Z"
        },
        "id": "KMh2Mj5IjvtH",
        "colab": {
          "base_uri": "https://localhost:8080/",
          "height": 317
        },
        "outputId": "f39e6609-6a43-449c-a290-2fa0760bbba1"
      },
      "source": [
        "#sns.countplot(df_6['ultimo_pago_binario'])\n",
        "count_plot(df_9['ultimo_pago_binario'], df_9['Recuperable'], df_9, 'Ultimo pago binario', 'TCT', 'Count', 0.15, 14)\n",
        "#GRAFICAR POR SEPARADO LO QUE SE RECUPERA Y NO"
      ],
      "execution_count": null,
      "outputs": [
        {
          "output_type": "display_data",
          "data": {
            "image/png": "[encoded data removed]",
            "text/plain": [
              "<Figure size 432x288 with 1 Axes>"
            ]
          },
          "metadata": {
            "needs_background": "light"
          }
        },
        {
          "output_type": "stream",
          "name": "stdout",
          "text": [
            "time: 203 ms (started: 2021-09-03 20:17:59 +00:00)\n"
          ]
        }
      ]
    },
    {
      "cell_type": "code",
      "metadata": {
        "id": "HWeeMMCqjvtH"
      },
      "source": [
        "Perfil de no pagadores (hay dos perfiles)"
      ],
      "execution_count": null,
      "outputs": []
    },
    {
      "cell_type": "code",
      "metadata": {
        "ExecuteTime": {
          "end_time": "2021-07-28T14:42:12.319208Z",
          "start_time": "2021-07-28T14:42:11.739393Z"
        },
        "scrolled": true,
        "colab": {
          "base_uri": "https://localhost:8080/",
          "height": 476
        },
        "id": "s17SdJFPjvtH",
        "outputId": "3e801f8d-feb7-4d4e-e3b4-3cc673587586"
      },
      "source": [
        "plt.figure(figsize = (12,6))\n",
        "#plt.figure(figsize=(1,1))\n",
        "sns.countplot(df_9.query(\"ultima_gestion > 0\")['ultima_gestion'])"
      ],
      "execution_count": null,
      "outputs": [
        {
          "output_type": "stream",
          "name": "stderr",
          "text": [
            "/usr/local/lib/python3.7/dist-packages/seaborn/_decorators.py:43: FutureWarning: Pass the following variable as a keyword arg: x. From version 0.12, the only valid positional argument will be `data`, and passing other arguments without an explicit keyword will result in an error or misinterpretation.\n",
            "  FutureWarning\n"
          ]
        },
        {
          "output_type": "execute_result",
          "data": {
            "text/plain": [
              "<matplotlib.axes._subplots.AxesSubplot at 0x7fa7f0481690>"
            ]
          },
          "metadata": {},
          "execution_count": 144
        },
        {
          "output_type": "display_data",
          "data": {
            "image/png": "[encoded data removed]",
            "text/plain": [
              "<Figure size 864x432 with 1 Axes>"
            ]
          },
          "metadata": {
            "needs_background": "light"
          }
        },
        {
          "output_type": "stream",
          "name": "stdout",
          "text": [
            "time: 294 ms (started: 2021-09-03 20:18:36 +00:00)\n"
          ]
        }
      ]
    },
    {
      "cell_type": "code",
      "metadata": {
        "id": "yZbxXrKOjvtI"
      },
      "source": [
        "Si existe relacion almomento de obtener las carteras para poder obtener los pagos\n",
        "Justificar el 2021\n"
      ],
      "execution_count": null,
      "outputs": []
    },
    {
      "cell_type": "markdown",
      "metadata": {
        "id": "-jvg4NOrjvtI"
      },
      "source": [
        "En temas de pandemia viven mas en casa y no hay gastos en transporte\n",
        "\n",
        "Personas mas facil de contactar, crecimiento de dispsitovs tecnologicos\n",
        "\n",
        "Puede ser que haya oportunidades abiertas para los de salario bajo, qué slario tiene los que han pagado\n",
        "\n",
        "Mientas mas reciente es la deuda hay mas probabilidad de que empiece a pagar\n"
      ]
    },
    {
      "cell_type": "code",
      "metadata": {
        "ExecuteTime": {
          "end_time": "2021-07-27T10:26:45.144769Z",
          "start_time": "2021-07-27T10:26:44.168765Z"
        },
        "scrolled": true,
        "id": "VWxSi1XPjvtI",
        "colab": {
          "base_uri": "https://localhost:8080/",
          "height": 317
        },
        "outputId": "b8881e89-d5fc-48e9-e336-fab84fb4a488"
      },
      "source": [
        "count_plot(df_9['tipo'], df_9['Recuperable'], df_9, 'Tipo', 'TCT', 'Count', 0.04, 14)"
      ],
      "execution_count": null,
      "outputs": [
        {
          "output_type": "display_data",
          "data": {
            "image/png": "[encoded data removed]",
            "text/plain": [
              "<Figure size 432x288 with 1 Axes>"
            ]
          },
          "metadata": {
            "needs_background": "light"
          }
        },
        {
          "output_type": "stream",
          "name": "stdout",
          "text": [
            "time: 231 ms (started: 2021-09-03 20:19:58 +00:00)\n"
          ]
        }
      ]
    },
    {
      "cell_type": "code",
      "metadata": {
        "colab": {
          "base_uri": "https://localhost:8080/",
          "height": 475
        },
        "id": "yrFhbpPGWT1N",
        "outputId": "607b5539-4082-40a1-bebf-77e10a8c04d6"
      },
      "source": [
        "plt.figure(figsize = (16,6))\n",
        "sns.countplot(df_9.edad)"
      ],
      "execution_count": null,
      "outputs": [
        {
          "output_type": "stream",
          "name": "stderr",
          "text": [
            "/usr/local/lib/python3.7/dist-packages/seaborn/_decorators.py:43: FutureWarning: Pass the following variable as a keyword arg: x. From version 0.12, the only valid positional argument will be `data`, and passing other arguments without an explicit keyword will result in an error or misinterpretation.\n",
            "  FutureWarning\n"
          ]
        },
        {
          "output_type": "execute_result",
          "data": {
            "text/plain": [
              "<matplotlib.axes._subplots.AxesSubplot at 0x7fa7ed1bbcd0>"
            ]
          },
          "metadata": {},
          "execution_count": 154
        },
        {
          "output_type": "display_data",
          "data": {
            "image/png": "[encoded data removed]",
            "text/plain": [
              "<Figure size 1152x432 with 1 Axes>"
            ]
          },
          "metadata": {
            "needs_background": "light"
          }
        },
        {
          "output_type": "stream",
          "name": "stdout",
          "text": [
            "time: 826 ms (started: 2021-09-03 20:30:48 +00:00)\n"
          ]
        }
      ]
    },
    {
      "cell_type": "code",
      "metadata": {
        "colab": {
          "base_uri": "https://localhost:8080/",
          "height": 313
        },
        "id": "cGXNQH4lYnJa",
        "outputId": "72200daf-69b1-4a15-b302-a52fcdb2ba69"
      },
      "source": [
        "sns.boxplot(x = 'sexo', y = 'edad', hue = 'Recuperable', data = df_9 )"
      ],
      "execution_count": null,
      "outputs": [
        {
          "output_type": "execute_result",
          "data": {
            "text/plain": [
              "<matplotlib.axes._subplots.AxesSubplot at 0x7fa7f81eeb10>"
            ]
          },
          "metadata": {},
          "execution_count": 162
        },
        {
          "output_type": "display_data",
          "data": {
            "image/png": "[encoded data removed]",
            "text/plain": [
              "<Figure size 432x288 with 1 Axes>"
            ]
          },
          "metadata": {
            "needs_background": "light"
          }
        },
        {
          "output_type": "stream",
          "name": "stdout",
          "text": [
            "time: 311 ms (started: 2021-09-03 20:39:35 +00:00)\n"
          ]
        }
      ]
    },
    {
      "cell_type": "code",
      "metadata": {
        "colab": {
          "base_uri": "https://localhost:8080/"
        },
        "id": "mO2pyHUVYFJ7",
        "outputId": "ec696cd9-d6be-4285-ad26-1c912b555a54"
      },
      "source": [
        "df_9.sexo.value_counts()"
      ],
      "execution_count": null,
      "outputs": [
        {
          "output_type": "execute_result",
          "data": {
            "text/plain": [
              "MASC         22564\n",
              "FEM          12293\n",
              "NO INDICA       77\n",
              "Name: sexo, dtype: int64"
            ]
          },
          "metadata": {},
          "execution_count": 158
        },
        {
          "output_type": "stream",
          "name": "stdout",
          "text": [
            "time: 11.4 ms (started: 2021-09-03 20:36:25 +00:00)\n"
          ]
        }
      ]
    },
    {
      "cell_type": "code",
      "metadata": {
        "id": "EFSzJFudjvtI"
      },
      "source": [
        "si hay relacion en Monto total adeudado por tipo de trabajo. Un promedio del monto total por tipo (privado, publico, propio)\n",
        "\n",
        "BoXPLOT"
      ],
      "execution_count": null,
      "outputs": []
    },
    {
      "cell_type": "markdown",
      "metadata": {
        "id": "OBavOngNjvtI"
      },
      "source": [
        "La mayoria de personas trabajan en el sector privado. Los datos analizados tienen menos presencia de deudores que vienen de parte del sector publico. \n",
        "Propio = emprendedor, tiene su propio negocio."
      ]
    },
    {
      "cell_type": "code",
      "metadata": {
        "ExecuteTime": {
          "end_time": "2021-07-27T12:04:11.774699Z",
          "start_time": "2021-07-27T12:04:11.749698Z"
        },
        "id": "b4qksoyljvtL"
      },
      "source": [
        "df2['retenciones_binario'] = np.where(df2['retenciones_en_ppj'] > 0, 1, 0)\n",
        "df2['pagos_normales_binario'] = np.where(df2['pagos_normales'] > 0, 1, 0)"
      ],
      "execution_count": null,
      "outputs": []
    },
    {
      "cell_type": "code",
      "metadata": {
        "ExecuteTime": {
          "end_time": "2021-07-28T16:32:46.994009Z",
          "start_time": "2021-07-28T16:32:46.946008Z"
        },
        "id": "h3jkfj6bjvtL",
        "colab": {
          "base_uri": "https://localhost:8080/",
          "height": 279
        },
        "outputId": "21960acd-bc66-4fb2-8676-de46317f22bd"
      },
      "source": [
        "df_9.head(3)"
      ],
      "execution_count": null,
      "outputs": [
        {
          "output_type": "execute_result",
          "data": {
            "text/html": [
              "<div>\n",
              "<style scoped>\n",
              "    .dataframe tbody tr th:only-of-type {\n",
              "        vertical-align: middle;\n",
              "    }\n",
              "\n",
              "    .dataframe tbody tr th {\n",
              "        vertical-align: top;\n",
              "    }\n",
              "\n",
              "    .dataframe thead th {\n",
              "        text-align: right;\n",
              "    }\n",
              "</style>\n",
              "<table border=\"1\" class=\"dataframe\">\n",
              "  <thead>\n",
              "    <tr style=\"text-align: right;\">\n",
              "      <th></th>\n",
              "      <th>monto_original</th>\n",
              "      <th>retenciones_en_ppj</th>\n",
              "      <th>pagos_normales</th>\n",
              "      <th>pagos_retenciones</th>\n",
              "      <th>saldo_capital</th>\n",
              "      <th>cargos_pendientes</th>\n",
              "      <th>puntero</th>\n",
              "      <th>interes</th>\n",
              "      <th>propiedades</th>\n",
              "      <th>vehiculos</th>\n",
              "      <th>derecho_propiedades</th>\n",
              "      <th>q_pagos_normales_ult_anio</th>\n",
              "      <th>q_pagos_reten_ult_anio</th>\n",
              "      <th>cantidad_gestiones</th>\n",
              "      <th>ultima_gestion</th>\n",
              "      <th>ultimo_pago</th>\n",
              "      <th>fecha_nacimiento</th>\n",
              "      <th>ultima_retencion_en_ppj</th>\n",
              "      <th>estado_actual</th>\n",
              "      <th>fuente_deuda</th>\n",
              "      <th>ins_descripcion</th>\n",
              "      <th>tct_descripcion</th>\n",
              "      <th>rea_descripcion</th>\n",
              "      <th>segundo_periodo_salario</th>\n",
              "      <th>tipo</th>\n",
              "      <th>lugarnacimiento</th>\n",
              "      <th>sexo</th>\n",
              "      <th>ubicacionelectoral</th>\n",
              "      <th>fecha_defuncion</th>\n",
              "      <th>salario_inferior</th>\n",
              "      <th>salario_superior</th>\n",
              "      <th>ultimo_pago_binario</th>\n",
              "      <th>Recuperable</th>\n",
              "      <th>edad</th>\n",
              "      <th>deuda_total</th>\n",
              "      <th>saldo_actual</th>\n",
              "    </tr>\n",
              "  </thead>\n",
              "  <tbody>\n",
              "    <tr>\n",
              "      <th>105</th>\n",
              "      <td>4128.33</td>\n",
              "      <td>0.0</td>\n",
              "      <td>482.03</td>\n",
              "      <td>0.00</td>\n",
              "      <td>4128.33</td>\n",
              "      <td>14805.63</td>\n",
              "      <td>106</td>\n",
              "      <td>0</td>\n",
              "      <td>0</td>\n",
              "      <td>1</td>\n",
              "      <td>0</td>\n",
              "      <td>9</td>\n",
              "      <td>0</td>\n",
              "      <td>243</td>\n",
              "      <td>2021</td>\n",
              "      <td>2021</td>\n",
              "      <td>1961</td>\n",
              "      <td>0</td>\n",
              "      <td>Activa</td>\n",
              "      <td>Tarjetas</td>\n",
              "      <td>CITI</td>\n",
              "      <td>Propia</td>\n",
              "      <td>Promesa de Pago</td>\n",
              "      <td>[350000, 375000]</td>\n",
              "      <td>PRIVADO</td>\n",
              "      <td>SAN MARCOS TARRAZU SAN JOSE</td>\n",
              "      <td>MASC</td>\n",
              "      <td>SAN JOSE TARRAZU SAN MARCOS</td>\n",
              "      <td>0</td>\n",
              "      <td>350000</td>\n",
              "      <td>375000</td>\n",
              "      <td>1</td>\n",
              "      <td>Si</td>\n",
              "      <td>60</td>\n",
              "      <td>18933.96</td>\n",
              "      <td>18451.93</td>\n",
              "    </tr>\n",
              "    <tr>\n",
              "      <th>107</th>\n",
              "      <td>468.64</td>\n",
              "      <td>0.0</td>\n",
              "      <td>36.63</td>\n",
              "      <td>852.94</td>\n",
              "      <td>468.64</td>\n",
              "      <td>1379.83</td>\n",
              "      <td>108</td>\n",
              "      <td>0</td>\n",
              "      <td>1</td>\n",
              "      <td>0</td>\n",
              "      <td>1</td>\n",
              "      <td>0</td>\n",
              "      <td>10</td>\n",
              "      <td>111</td>\n",
              "      <td>2021</td>\n",
              "      <td>2008</td>\n",
              "      <td>1973</td>\n",
              "      <td>0</td>\n",
              "      <td>Activa</td>\n",
              "      <td>Sucredito</td>\n",
              "      <td>SERVIVALORES</td>\n",
              "      <td>Propia</td>\n",
              "      <td>Embargo aplicado</td>\n",
              "      <td>[450000, 475000]</td>\n",
              "      <td>PRIVADO</td>\n",
              "      <td>CENTRO SIQUIRRES LIMON</td>\n",
              "      <td>MASC</td>\n",
              "      <td>LIMON CENTRAL PUEBLO NUEVO O JAMAICA</td>\n",
              "      <td>0</td>\n",
              "      <td>450000</td>\n",
              "      <td>475000</td>\n",
              "      <td>1</td>\n",
              "      <td>Si</td>\n",
              "      <td>48</td>\n",
              "      <td>1848.47</td>\n",
              "      <td>958.90</td>\n",
              "    </tr>\n",
              "    <tr>\n",
              "      <th>246</th>\n",
              "      <td>427.82</td>\n",
              "      <td>0.0</td>\n",
              "      <td>0.00</td>\n",
              "      <td>0.00</td>\n",
              "      <td>427.82</td>\n",
              "      <td>2132.66</td>\n",
              "      <td>247</td>\n",
              "      <td>0</td>\n",
              "      <td>0</td>\n",
              "      <td>0</td>\n",
              "      <td>0</td>\n",
              "      <td>0</td>\n",
              "      <td>0</td>\n",
              "      <td>111</td>\n",
              "      <td>2021</td>\n",
              "      <td>0</td>\n",
              "      <td>1957</td>\n",
              "      <td>0</td>\n",
              "      <td>Activa</td>\n",
              "      <td>Sucredito 6</td>\n",
              "      <td>SERVIVALORES</td>\n",
              "      <td>Propia</td>\n",
              "      <td>Incumplimiento de Pago Confirmado</td>\n",
              "      <td>[175000, 200000]</td>\n",
              "      <td>PRIVADO</td>\n",
              "      <td>CARMEN CENTRAL SAN JOSE</td>\n",
              "      <td>FEM</td>\n",
              "      <td>HEREDIA CENTRAL LA AURORA (PARTE SUR)</td>\n",
              "      <td>0</td>\n",
              "      <td>175000</td>\n",
              "      <td>200000</td>\n",
              "      <td>0</td>\n",
              "      <td>Si</td>\n",
              "      <td>64</td>\n",
              "      <td>2560.48</td>\n",
              "      <td>2560.48</td>\n",
              "    </tr>\n",
              "  </tbody>\n",
              "</table>\n",
              "</div>"
            ],
            "text/plain": [
              "     monto_original  retenciones_en_ppj  ...  deuda_total  saldo_actual\n",
              "105         4128.33                 0.0  ...     18933.96      18451.93\n",
              "107          468.64                 0.0  ...      1848.47        958.90\n",
              "246          427.82                 0.0  ...      2560.48       2560.48\n",
              "\n",
              "[3 rows x 36 columns]"
            ]
          },
          "metadata": {},
          "execution_count": 168
        },
        {
          "output_type": "stream",
          "name": "stdout",
          "text": [
            "time: 67.4 ms (started: 2021-09-03 21:14:54 +00:00)\n"
          ]
        }
      ]
    },
    {
      "cell_type": "code",
      "metadata": {
        "id": "qrYB4DOejvtL"
      },
      "source": [
        "Cargos pendientes lo que se ha generado en intereses\n",
        "Saldo capital con el que se compra la deuda\n",
        "Sumo monto original + crgos pendientes para el total de deuda integrado (todo es deuda total)\n",
        "retenciones en ppj = le envargaron salario y retienen el monto\n",
        "pagos normales lo que ha pagado frecuentemente\n",
        "pagos retenciones  es el monto total de retenciones\n",
        "\n",
        "saldo actual = deuda total menos pagos retencones y menos pagos normales"
      ],
      "execution_count": null,
      "outputs": []
    },
    {
      "cell_type": "code",
      "metadata": {
        "colab": {
          "base_uri": "https://localhost:8080/"
        },
        "id": "ErEaO6D0aZNv",
        "outputId": "6c8d6adf-f9b6-42b1-b2c0-41d8cf0cb3cf"
      },
      "source": [
        "df_9.keys()"
      ],
      "execution_count": null,
      "outputs": [
        {
          "output_type": "execute_result",
          "data": {
            "text/plain": [
              "Index(['monto_original', 'retenciones_en_ppj', 'pagos_normales',\n",
              "       'pagos_retenciones', 'saldo_capital', 'cargos_pendientes', 'puntero',\n",
              "       'interes', 'propiedades', 'vehiculos', 'derecho_propiedades',\n",
              "       'q_pagos_normales_ult_anio', 'q_pagos_reten_ult_anio',\n",
              "       'cantidad_gestiones', 'ultima_gestion', 'ultimo_pago',\n",
              "       'fecha_nacimiento', 'ultima_retencion_en_ppj', 'estado_actual',\n",
              "       'fuente_deuda', 'ins_descripcion', 'tct_descripcion', 'rea_descripcion',\n",
              "       'segundo_periodo_salario', 'tipo', 'lugarnacimiento', 'sexo',\n",
              "       'ubicacionelectoral', 'fecha_defuncion', 'salario_inferior',\n",
              "       'salario_superior', 'ultimo_pago_binario', 'Recuperable', 'edad'],\n",
              "      dtype='object')"
            ]
          },
          "metadata": {},
          "execution_count": 163
        },
        {
          "output_type": "stream",
          "name": "stdout",
          "text": [
            "time: 7.23 ms (started: 2021-09-03 20:46:27 +00:00)\n"
          ]
        }
      ]
    },
    {
      "cell_type": "code",
      "metadata": {
        "ExecuteTime": {
          "end_time": "2021-07-28T15:00:00.448666Z",
          "start_time": "2021-07-28T15:00:00.378984Z"
        },
        "id": "gWzIyXsKjvtL",
        "colab": {
          "base_uri": "https://localhost:8080/"
        },
        "outputId": "6e8596b6-d84f-4a81-b2d1-d425d64e40df"
      },
      "source": [
        "df_9['deuda_total'] = df_9['monto_original'] + df_9['cargos_pendientes']\n",
        "df_9['saldo_actual'] = df_9['deuda_total'] - df_9['pagos_retenciones'] - df_9['pagos_normales']"
      ],
      "execution_count": null,
      "outputs": [
        {
          "output_type": "stream",
          "name": "stdout",
          "text": [
            "time: 10.5 ms (started: 2021-09-03 20:47:53 +00:00)\n"
          ]
        }
      ]
    },
    {
      "cell_type": "code",
      "metadata": {
        "colab": {
          "base_uri": "https://localhost:8080/"
        },
        "id": "YlM_PDbolrjl",
        "outputId": "ae30c5d5-0e08-496b-d96c-d0b31321e834"
      },
      "source": [
        "df_9['valor_recuperado'] = df_9['deuda_total'] - df_9['saldo_actual']"
      ],
      "execution_count": null,
      "outputs": [
        {
          "output_type": "stream",
          "name": "stdout",
          "text": [
            "time: 10.9 ms (started: 2021-09-03 21:36:22 +00:00)\n"
          ]
        }
      ]
    },
    {
      "cell_type": "code",
      "metadata": {
        "colab": {
          "base_uri": "https://localhost:8080/",
          "height": 279
        },
        "id": "FrnXHvKrjuwB",
        "outputId": "6ccb905f-c3e6-4bcb-9b21-b97fec696688"
      },
      "source": [
        "df_9.head(3)"
      ],
      "execution_count": null,
      "outputs": [
        {
          "output_type": "execute_result",
          "data": {
            "text/html": [
              "<div>\n",
              "<style scoped>\n",
              "    .dataframe tbody tr th:only-of-type {\n",
              "        vertical-align: middle;\n",
              "    }\n",
              "\n",
              "    .dataframe tbody tr th {\n",
              "        vertical-align: top;\n",
              "    }\n",
              "\n",
              "    .dataframe thead th {\n",
              "        text-align: right;\n",
              "    }\n",
              "</style>\n",
              "<table border=\"1\" class=\"dataframe\">\n",
              "  <thead>\n",
              "    <tr style=\"text-align: right;\">\n",
              "      <th></th>\n",
              "      <th>monto_original</th>\n",
              "      <th>retenciones_en_ppj</th>\n",
              "      <th>pagos_normales</th>\n",
              "      <th>pagos_retenciones</th>\n",
              "      <th>saldo_capital</th>\n",
              "      <th>cargos_pendientes</th>\n",
              "      <th>puntero</th>\n",
              "      <th>interes</th>\n",
              "      <th>propiedades</th>\n",
              "      <th>vehiculos</th>\n",
              "      <th>derecho_propiedades</th>\n",
              "      <th>q_pagos_normales_ult_anio</th>\n",
              "      <th>q_pagos_reten_ult_anio</th>\n",
              "      <th>cantidad_gestiones</th>\n",
              "      <th>ultima_gestion</th>\n",
              "      <th>ultimo_pago</th>\n",
              "      <th>fecha_nacimiento</th>\n",
              "      <th>ultima_retencion_en_ppj</th>\n",
              "      <th>estado_actual</th>\n",
              "      <th>fuente_deuda</th>\n",
              "      <th>ins_descripcion</th>\n",
              "      <th>tct_descripcion</th>\n",
              "      <th>rea_descripcion</th>\n",
              "      <th>segundo_periodo_salario</th>\n",
              "      <th>tipo</th>\n",
              "      <th>lugarnacimiento</th>\n",
              "      <th>sexo</th>\n",
              "      <th>ubicacionelectoral</th>\n",
              "      <th>fecha_defuncion</th>\n",
              "      <th>salario_inferior</th>\n",
              "      <th>salario_superior</th>\n",
              "      <th>ultimo_pago_binario</th>\n",
              "      <th>Recuperable</th>\n",
              "      <th>edad</th>\n",
              "      <th>deuda_total</th>\n",
              "      <th>saldo_actual</th>\n",
              "    </tr>\n",
              "  </thead>\n",
              "  <tbody>\n",
              "    <tr>\n",
              "      <th>105</th>\n",
              "      <td>4128.33</td>\n",
              "      <td>0.0</td>\n",
              "      <td>482.03</td>\n",
              "      <td>0.00</td>\n",
              "      <td>4128.33</td>\n",
              "      <td>14805.63</td>\n",
              "      <td>106</td>\n",
              "      <td>0</td>\n",
              "      <td>0</td>\n",
              "      <td>1</td>\n",
              "      <td>0</td>\n",
              "      <td>9</td>\n",
              "      <td>0</td>\n",
              "      <td>243</td>\n",
              "      <td>2021</td>\n",
              "      <td>2021</td>\n",
              "      <td>1961</td>\n",
              "      <td>0</td>\n",
              "      <td>Activa</td>\n",
              "      <td>Tarjetas</td>\n",
              "      <td>CITI</td>\n",
              "      <td>Propia</td>\n",
              "      <td>Promesa de Pago</td>\n",
              "      <td>[350000, 375000]</td>\n",
              "      <td>PRIVADO</td>\n",
              "      <td>SAN MARCOS TARRAZU SAN JOSE</td>\n",
              "      <td>MASC</td>\n",
              "      <td>SAN JOSE TARRAZU SAN MARCOS</td>\n",
              "      <td>0</td>\n",
              "      <td>350000</td>\n",
              "      <td>375000</td>\n",
              "      <td>1</td>\n",
              "      <td>Si</td>\n",
              "      <td>60</td>\n",
              "      <td>18933.96</td>\n",
              "      <td>18451.93</td>\n",
              "    </tr>\n",
              "    <tr>\n",
              "      <th>107</th>\n",
              "      <td>468.64</td>\n",
              "      <td>0.0</td>\n",
              "      <td>36.63</td>\n",
              "      <td>852.94</td>\n",
              "      <td>468.64</td>\n",
              "      <td>1379.83</td>\n",
              "      <td>108</td>\n",
              "      <td>0</td>\n",
              "      <td>1</td>\n",
              "      <td>0</td>\n",
              "      <td>1</td>\n",
              "      <td>0</td>\n",
              "      <td>10</td>\n",
              "      <td>111</td>\n",
              "      <td>2021</td>\n",
              "      <td>2008</td>\n",
              "      <td>1973</td>\n",
              "      <td>0</td>\n",
              "      <td>Activa</td>\n",
              "      <td>Sucredito</td>\n",
              "      <td>SERVIVALORES</td>\n",
              "      <td>Propia</td>\n",
              "      <td>Embargo aplicado</td>\n",
              "      <td>[450000, 475000]</td>\n",
              "      <td>PRIVADO</td>\n",
              "      <td>CENTRO SIQUIRRES LIMON</td>\n",
              "      <td>MASC</td>\n",
              "      <td>LIMON CENTRAL PUEBLO NUEVO O JAMAICA</td>\n",
              "      <td>0</td>\n",
              "      <td>450000</td>\n",
              "      <td>475000</td>\n",
              "      <td>1</td>\n",
              "      <td>Si</td>\n",
              "      <td>48</td>\n",
              "      <td>1848.47</td>\n",
              "      <td>958.90</td>\n",
              "    </tr>\n",
              "    <tr>\n",
              "      <th>246</th>\n",
              "      <td>427.82</td>\n",
              "      <td>0.0</td>\n",
              "      <td>0.00</td>\n",
              "      <td>0.00</td>\n",
              "      <td>427.82</td>\n",
              "      <td>2132.66</td>\n",
              "      <td>247</td>\n",
              "      <td>0</td>\n",
              "      <td>0</td>\n",
              "      <td>0</td>\n",
              "      <td>0</td>\n",
              "      <td>0</td>\n",
              "      <td>0</td>\n",
              "      <td>111</td>\n",
              "      <td>2021</td>\n",
              "      <td>0</td>\n",
              "      <td>1957</td>\n",
              "      <td>0</td>\n",
              "      <td>Activa</td>\n",
              "      <td>Sucredito 6</td>\n",
              "      <td>SERVIVALORES</td>\n",
              "      <td>Propia</td>\n",
              "      <td>Incumplimiento de Pago Confirmado</td>\n",
              "      <td>[175000, 200000]</td>\n",
              "      <td>PRIVADO</td>\n",
              "      <td>CARMEN CENTRAL SAN JOSE</td>\n",
              "      <td>FEM</td>\n",
              "      <td>HEREDIA CENTRAL LA AURORA (PARTE SUR)</td>\n",
              "      <td>0</td>\n",
              "      <td>175000</td>\n",
              "      <td>200000</td>\n",
              "      <td>0</td>\n",
              "      <td>Si</td>\n",
              "      <td>64</td>\n",
              "      <td>2560.48</td>\n",
              "      <td>2560.48</td>\n",
              "    </tr>\n",
              "  </tbody>\n",
              "</table>\n",
              "</div>"
            ],
            "text/plain": [
              "     monto_original  retenciones_en_ppj  ...  deuda_total  saldo_actual\n",
              "105         4128.33                 0.0  ...     18933.96      18451.93\n",
              "107          468.64                 0.0  ...      1848.47        958.90\n",
              "246          427.82                 0.0  ...      2560.48       2560.48\n",
              "\n",
              "[3 rows x 36 columns]"
            ]
          },
          "metadata": {},
          "execution_count": 172
        },
        {
          "output_type": "stream",
          "name": "stdout",
          "text": [
            "time: 61 ms (started: 2021-09-03 21:27:20 +00:00)\n"
          ]
        }
      ]
    },
    {
      "cell_type": "code",
      "metadata": {
        "colab": {
          "base_uri": "https://localhost:8080/"
        },
        "id": "OTN45TYij9Gd",
        "outputId": "8384f629-da54-4f90-9447-7c01f6548f21"
      },
      "source": [
        "df_10 = df_9[['fuente_deuda', 'Recuperable', 'deuda_total', 'saldo_actual','valor_recuperado']]"
      ],
      "execution_count": null,
      "outputs": [
        {
          "output_type": "stream",
          "name": "stdout",
          "text": [
            "time: 14.2 ms (started: 2021-09-03 21:37:06 +00:00)\n"
          ]
        }
      ]
    },
    {
      "cell_type": "code",
      "metadata": {
        "colab": {
          "base_uri": "https://localhost:8080/",
          "height": 158
        },
        "id": "S5LMewVqkI_4",
        "outputId": "5a6cd707-7498-46b3-a6c8-0ed18ed4b6e2"
      },
      "source": [
        "df_10.head(3)"
      ],
      "execution_count": null,
      "outputs": [
        {
          "output_type": "execute_result",
          "data": {
            "text/html": [
              "<div>\n",
              "<style scoped>\n",
              "    .dataframe tbody tr th:only-of-type {\n",
              "        vertical-align: middle;\n",
              "    }\n",
              "\n",
              "    .dataframe tbody tr th {\n",
              "        vertical-align: top;\n",
              "    }\n",
              "\n",
              "    .dataframe thead th {\n",
              "        text-align: right;\n",
              "    }\n",
              "</style>\n",
              "<table border=\"1\" class=\"dataframe\">\n",
              "  <thead>\n",
              "    <tr style=\"text-align: right;\">\n",
              "      <th></th>\n",
              "      <th>fuente_deuda</th>\n",
              "      <th>Recuperable</th>\n",
              "      <th>deuda_total</th>\n",
              "      <th>saldo_actual</th>\n",
              "      <th>valor_recuperado</th>\n",
              "    </tr>\n",
              "  </thead>\n",
              "  <tbody>\n",
              "    <tr>\n",
              "      <th>105</th>\n",
              "      <td>Tarjetas</td>\n",
              "      <td>Si</td>\n",
              "      <td>18933.96</td>\n",
              "      <td>18451.93</td>\n",
              "      <td>482.03</td>\n",
              "    </tr>\n",
              "    <tr>\n",
              "      <th>107</th>\n",
              "      <td>Sucredito</td>\n",
              "      <td>Si</td>\n",
              "      <td>1848.47</td>\n",
              "      <td>958.90</td>\n",
              "      <td>889.57</td>\n",
              "    </tr>\n",
              "    <tr>\n",
              "      <th>246</th>\n",
              "      <td>Sucredito 6</td>\n",
              "      <td>Si</td>\n",
              "      <td>2560.48</td>\n",
              "      <td>2560.48</td>\n",
              "      <td>0.00</td>\n",
              "    </tr>\n",
              "  </tbody>\n",
              "</table>\n",
              "</div>"
            ],
            "text/plain": [
              "    fuente_deuda Recuperable  deuda_total  saldo_actual  valor_recuperado\n",
              "105     Tarjetas          Si     18933.96      18451.93            482.03\n",
              "107    Sucredito          Si      1848.47        958.90            889.57\n",
              "246  Sucredito 6          Si      2560.48       2560.48              0.00"
            ]
          },
          "metadata": {},
          "execution_count": 181
        },
        {
          "output_type": "stream",
          "name": "stdout",
          "text": [
            "time: 20.4 ms (started: 2021-09-03 21:37:10 +00:00)\n"
          ]
        }
      ]
    },
    {
      "cell_type": "code",
      "metadata": {
        "colab": {
          "base_uri": "https://localhost:8080/"
        },
        "id": "x5plsuXvgkkB",
        "outputId": "168ed651-c330-4b26-eddd-bf6bcca9be8a"
      },
      "source": [
        "#df_10[['fuente_deuda', 'Recuperable']].value_counts()"
      ],
      "execution_count": null,
      "outputs": [
        {
          "output_type": "stream",
          "name": "stdout",
          "text": [
            "time: 1.11 ms (started: 2021-09-03 21:31:30 +00:00)\n"
          ]
        }
      ]
    },
    {
      "cell_type": "code",
      "metadata": {
        "colab": {
          "base_uri": "https://localhost:8080/"
        },
        "id": "LdYtaUTdgclM",
        "outputId": "ac380b97-e36f-4cda-9e15-206cf58b9637"
      },
      "source": [
        "df_11 = df_10.groupby(['fuente_deuda', 'Recuperable'], as_index=False)[['deuda_total', 'valor_recuperado']]\\\n",
        "     .sum().sort_values('deuda_total', ascending=False)"
      ],
      "execution_count": null,
      "outputs": [
        {
          "output_type": "stream",
          "name": "stdout",
          "text": [
            "time: 18.2 ms (started: 2021-09-03 21:55:27 +00:00)\n"
          ]
        }
      ]
    },
    {
      "cell_type": "code",
      "metadata": {
        "colab": {
          "base_uri": "https://localhost:8080/",
          "height": 422
        },
        "id": "mYnLAvislcAO",
        "outputId": "6fb4e26f-4ab7-405b-8c2e-9165870e1723"
      },
      "source": [
        "plt.figure(figsize = (12,6))\n",
        "sns.set_color_codes(\"pastel\")\n",
        "sns.barplot(x=\"deuda_total\", y=\"fuente_deuda\", data = df_11.iloc[2:,],\n",
        "            label=\"Total\", color=\"b\")\n",
        "\n",
        "sns.set_color_codes(\"muted\")\n",
        "sns.barplot(x=\"valor_recuperado\", y=\"fuente_deuda\", data=df_11.iloc[2:,],\n",
        "            label=\"Recuperado\", color=\"b\")"
      ],
      "execution_count": null,
      "outputs": [
        {
          "output_type": "execute_result",
          "data": {
            "text/plain": [
              "<matplotlib.axes._subplots.AxesSubplot at 0x7fa7f5e3d1d0>"
            ]
          },
          "metadata": {},
          "execution_count": 197
        },
        {
          "output_type": "display_data",
          "data": {
            "image/png": "[encoded data removed]",
            "text/plain": [
              "<Figure size 864x432 with 1 Axes>"
            ]
          },
          "metadata": {
            "needs_background": "light"
          }
        },
        {
          "output_type": "stream",
          "name": "stdout",
          "text": [
            "time: 1.23 s (started: 2021-09-03 21:57:12 +00:00)\n"
          ]
        }
      ]
    },
    {
      "cell_type": "code",
      "metadata": {
        "colab": {
          "base_uri": "https://localhost:8080/",
          "height": 158
        },
        "id": "fgHNPJiwnKdS",
        "outputId": "9d0737a4-62e1-455f-a353-3da82941def4"
      },
      "source": [
        "crashes.head(3)"
      ],
      "execution_count": null,
      "outputs": [
        {
          "output_type": "execute_result",
          "data": {
            "text/html": [
              "<div>\n",
              "<style scoped>\n",
              "    .dataframe tbody tr th:only-of-type {\n",
              "        vertical-align: middle;\n",
              "    }\n",
              "\n",
              "    .dataframe tbody tr th {\n",
              "        vertical-align: top;\n",
              "    }\n",
              "\n",
              "    .dataframe thead th {\n",
              "        text-align: right;\n",
              "    }\n",
              "</style>\n",
              "<table border=\"1\" class=\"dataframe\">\n",
              "  <thead>\n",
              "    <tr style=\"text-align: right;\">\n",
              "      <th></th>\n",
              "      <th>total</th>\n",
              "      <th>speeding</th>\n",
              "      <th>alcohol</th>\n",
              "      <th>not_distracted</th>\n",
              "      <th>no_previous</th>\n",
              "      <th>ins_premium</th>\n",
              "      <th>ins_losses</th>\n",
              "      <th>abbrev</th>\n",
              "    </tr>\n",
              "  </thead>\n",
              "  <tbody>\n",
              "    <tr>\n",
              "      <th>40</th>\n",
              "      <td>23.9</td>\n",
              "      <td>9.082</td>\n",
              "      <td>9.799</td>\n",
              "      <td>22.944</td>\n",
              "      <td>19.359</td>\n",
              "      <td>858.97</td>\n",
              "      <td>116.29</td>\n",
              "      <td>SC</td>\n",
              "    </tr>\n",
              "    <tr>\n",
              "      <th>34</th>\n",
              "      <td>23.9</td>\n",
              "      <td>5.497</td>\n",
              "      <td>10.038</td>\n",
              "      <td>23.661</td>\n",
              "      <td>20.554</td>\n",
              "      <td>688.75</td>\n",
              "      <td>109.72</td>\n",
              "      <td>ND</td>\n",
              "    </tr>\n",
              "    <tr>\n",
              "      <th>48</th>\n",
              "      <td>23.8</td>\n",
              "      <td>8.092</td>\n",
              "      <td>6.664</td>\n",
              "      <td>23.086</td>\n",
              "      <td>20.706</td>\n",
              "      <td>992.61</td>\n",
              "      <td>152.56</td>\n",
              "      <td>WV</td>\n",
              "    </tr>\n",
              "  </tbody>\n",
              "</table>\n",
              "</div>"
            ],
            "text/plain": [
              "    total  speeding  alcohol  ...  ins_premium  ins_losses  abbrev\n",
              "40   23.9     9.082    9.799  ...       858.97      116.29      SC\n",
              "34   23.9     5.497   10.038  ...       688.75      109.72      ND\n",
              "48   23.8     8.092    6.664  ...       992.61      152.56      WV\n",
              "\n",
              "[3 rows x 8 columns]"
            ]
          },
          "metadata": {},
          "execution_count": 185
        },
        {
          "output_type": "stream",
          "name": "stdout",
          "text": [
            "time: 25.9 ms (started: 2021-09-03 21:42:16 +00:00)\n"
          ]
        }
      ]
    },
    {
      "cell_type": "code",
      "metadata": {
        "id": "aw1_i8itjvtN"
      },
      "source": [
        "'''df['bins'] = pd.cut(x=df['number'], bins=[1, 20, 40, 60,\n",
        "                                          80, 100])\n",
        "print(df)\n",
        " \n",
        "# We can check the frequency of each bin\n",
        "print(df['bins'].unique())'''\n",
        "\n",
        "asdf"
      ],
      "execution_count": null,
      "outputs": []
    },
    {
      "cell_type": "code",
      "metadata": {
        "ExecuteTime": {
          "end_time": "2021-07-28T14:50:07.473123Z",
          "start_time": "2021-07-28T14:50:07.203397Z"
        },
        "id": "FUPa3FegjvtO",
        "outputId": "78841f57-1af5-4e20-dcf7-392712e16dbd"
      },
      "source": [
        "sns.countplot(df2.retenciones_binario, hue = df2.ultimo_pago_binario)"
      ],
      "execution_count": null,
      "outputs": [
        {
          "data": {
            "text/plain": [
              "<matplotlib.axes._subplots.AxesSubplot at 0x28fd39efd88>"
            ]
          },
          "execution_count": 136,
          "metadata": {},
          "output_type": "execute_result"
        },
        {
          "data": {
            "image/png": "[encoded data removed]",
            "text/plain": [
              "<Figure size 432x288 with 1 Axes>"
            ]
          },
          "metadata": {
            "needs_background": "light"
          },
          "output_type": "display_data"
        }
      ]
    },
    {
      "cell_type": "code",
      "metadata": {
        "ExecuteTime": {
          "end_time": "2021-07-28T14:50:27.063448Z",
          "start_time": "2021-07-28T14:50:26.723673Z"
        },
        "scrolled": false,
        "id": "WkWvvpTBjvtO",
        "outputId": "43f6334e-d06c-4d40-c2e0-fc40533ecc35"
      },
      "source": [
        "sns.countplot(df2.pagos_normales_binario, hue = df2.ultimo_pago_binario)"
      ],
      "execution_count": null,
      "outputs": [
        {
          "data": {
            "text/plain": [
              "<matplotlib.axes._subplots.AxesSubplot at 0x28fd39c4e88>"
            ]
          },
          "execution_count": 137,
          "metadata": {},
          "output_type": "execute_result"
        },
        {
          "data": {
            "image/png": "[encoded data removed]",
            "text/plain": [
              "<Figure size 432x288 with 1 Axes>"
            ]
          },
          "metadata": {
            "needs_background": "light"
          },
          "output_type": "display_data"
        }
      ]
    },
    {
      "cell_type": "code",
      "metadata": {
        "ExecuteTime": {
          "end_time": "2021-07-28T13:33:11.068723Z",
          "start_time": "2021-07-28T13:33:10.487123Z"
        },
        "id": "NYDK_aXojvtP"
      },
      "source": [
        "df_g = df2.filter(['estado_actual', 'derecho_propiedades', 'vehiculos', 'propiedades'])"
      ],
      "execution_count": null,
      "outputs": []
    },
    {
      "cell_type": "code",
      "metadata": {
        "ExecuteTime": {
          "end_time": "2021-07-28T13:37:52.858101Z",
          "start_time": "2021-07-28T13:37:50.923378Z"
        },
        "id": "qwWFsOWRjvtP"
      },
      "source": [
        "df_g2 = df_g.assign(derecho_propiedades_2 = df_g.derecho_propiedades.map(lambda dp:  'Si' if dp > 0 else 'No'  ),\n",
        "                    vehiculos_2 = df_g.vehiculos.map(lambda vh:  'Si' if vh > 0 else 'No'  ),\n",
        "                    propiedades_2 = df_g.propiedades.map(lambda pr:  'Si' if pr > 0 else 'No'  )  )"
      ],
      "execution_count": null,
      "outputs": []
    },
    {
      "cell_type": "code",
      "metadata": {
        "ExecuteTime": {
          "end_time": "2021-07-28T13:38:53.545132Z",
          "start_time": "2021-07-28T13:38:53.489129Z"
        },
        "id": "wlgQfDmljvtP"
      },
      "source": [
        "df_g3 = df_g2.filter(['estado_actual', 'derecho_propiedades_2', 'vehiculos_2', 'propiedades_2'])"
      ],
      "execution_count": null,
      "outputs": []
    },
    {
      "cell_type": "code",
      "metadata": {
        "ExecuteTime": {
          "end_time": "2021-07-28T13:42:05.638148Z",
          "start_time": "2021-07-28T13:42:05.476627Z"
        },
        "id": "ys7ZoY5mjvtP"
      },
      "source": [
        "df_g4 = df_g3.groupby(['estado_actual']).count()"
      ],
      "execution_count": null,
      "outputs": []
    },
    {
      "cell_type": "code",
      "metadata": {
        "ExecuteTime": {
          "end_time": "2021-07-28T13:48:23.483267Z",
          "start_time": "2021-07-28T13:48:23.446266Z"
        },
        "id": "vj4E-iR7jvtP",
        "outputId": "cc5fbc2e-d53a-4c9d-f5c5-33b1e56b0445"
      },
      "source": [
        "df_g2['vehiculos_2'].value_counts().sort_index()"
      ],
      "execution_count": null,
      "outputs": [
        {
          "data": {
            "text/plain": [
              "No    217510\n",
              "Si     17249\n",
              "Name: vehiculos_2, dtype: int64"
            ]
          },
          "execution_count": 111,
          "metadata": {},
          "output_type": "execute_result"
        }
      ]
    },
    {
      "cell_type": "code",
      "metadata": {
        "ExecuteTime": {
          "end_time": "2021-07-28T13:48:30.950510Z",
          "start_time": "2021-07-28T13:48:30.901516Z"
        },
        "id": "YFapEq11jvtQ",
        "outputId": "c3913d66-e3db-429e-b77d-f27515029c9b"
      },
      "source": [
        "df_g2['derecho_propiedades_2'].value_counts().sort_index()"
      ],
      "execution_count": null,
      "outputs": [
        {
          "data": {
            "text/plain": [
              "No    187750\n",
              "Si     47009\n",
              "Name: derecho_propiedades_2, dtype: int64"
            ]
          },
          "execution_count": 112,
          "metadata": {},
          "output_type": "execute_result"
        }
      ]
    },
    {
      "cell_type": "code",
      "metadata": {
        "ExecuteTime": {
          "end_time": "2021-07-28T13:42:07.608814Z",
          "start_time": "2021-07-28T13:42:07.568814Z"
        },
        "id": "OyMHRI-wjvtQ",
        "outputId": "a39ec868-43d5-477e-de09-5842c4e52044"
      },
      "source": [
        "df_g4.head()"
      ],
      "execution_count": null,
      "outputs": [
        {
          "data": {
            "text/html": [
              "<div>\n",
              "<style scoped>\n",
              "    .dataframe tbody tr th:only-of-type {\n",
              "        vertical-align: middle;\n",
              "    }\n",
              "\n",
              "    .dataframe tbody tr th {\n",
              "        vertical-align: top;\n",
              "    }\n",
              "\n",
              "    .dataframe thead th {\n",
              "        text-align: right;\n",
              "    }\n",
              "</style>\n",
              "<table border=\"1\" class=\"dataframe\">\n",
              "  <thead>\n",
              "    <tr style=\"text-align: right;\">\n",
              "      <th></th>\n",
              "      <th>derecho_propiedades_2</th>\n",
              "      <th>vehiculos_2</th>\n",
              "      <th>propiedades_2</th>\n",
              "    </tr>\n",
              "    <tr>\n",
              "      <th>estado_actual</th>\n",
              "      <th></th>\n",
              "      <th></th>\n",
              "      <th></th>\n",
              "    </tr>\n",
              "  </thead>\n",
              "  <tbody>\n",
              "    <tr>\n",
              "      <td>Activa</td>\n",
              "      <td>18780</td>\n",
              "      <td>18780</td>\n",
              "      <td>18780</td>\n",
              "    </tr>\n",
              "    <tr>\n",
              "      <td>Cancelada</td>\n",
              "      <td>4</td>\n",
              "      <td>4</td>\n",
              "      <td>4</td>\n",
              "    </tr>\n",
              "    <tr>\n",
              "      <td>Ilocalizable</td>\n",
              "      <td>11169</td>\n",
              "      <td>11169</td>\n",
              "      <td>11169</td>\n",
              "    </tr>\n",
              "    <tr>\n",
              "      <td>Inactiva</td>\n",
              "      <td>204727</td>\n",
              "      <td>204727</td>\n",
              "      <td>204727</td>\n",
              "    </tr>\n",
              "  </tbody>\n",
              "</table>\n",
              "</div>"
            ],
            "text/plain": [
              "               derecho_propiedades_2  vehiculos_2  propiedades_2\n",
              "estado_actual                                                   \n",
              "Activa                         18780        18780          18780\n",
              "Cancelada                          4            4              4\n",
              "Ilocalizable                   11169        11169          11169\n",
              "Inactiva                      204727       204727         204727"
            ]
          },
          "execution_count": 100,
          "metadata": {},
          "output_type": "execute_result"
        }
      ]
    },
    {
      "cell_type": "code",
      "metadata": {
        "ExecuteTime": {
          "end_time": "2021-07-28T14:51:42.774213Z",
          "start_time": "2021-07-28T14:51:42.458962Z"
        },
        "id": "AvmVUlf2jvtQ",
        "outputId": "2e106ac0-d80b-44c3-be73-b2e27a050b5b"
      },
      "source": [
        "#sns.set_theme(style=\"darkgrid\")\n",
        "ax = sns.countplot(x=\"estado_actual\", hue=\"vehiculos_2\", data=df_g2)\n",
        "# Analisis por estado y derecho a propiedad"
      ],
      "execution_count": null,
      "outputs": [
        {
          "data": {
            "image/png": "[encoded data removed]",
            "text/plain": [
              "<Figure size 432x288 with 1 Axes>"
            ]
          },
          "metadata": {
            "needs_background": "light"
          },
          "output_type": "display_data"
        }
      ]
    },
    {
      "cell_type": "code",
      "metadata": {
        "ExecuteTime": {
          "end_time": "2021-07-28T13:56:45.410477Z",
          "start_time": "2021-07-28T13:56:44.926851Z"
        },
        "scrolled": true,
        "id": "NkEzgQrIjvtQ",
        "outputId": "772cd73b-1f99-4486-a519-e64b3d776871"
      },
      "source": [
        "ax = sns.countplot(x=\"estado_actual\", hue=\"derecho_propiedades_2\", data=df_g2)"
      ],
      "execution_count": null,
      "outputs": [
        {
          "data": {
            "image/png": "[encoded data removed]",
            "text/plain": [
              "<Figure size 432x288 with 1 Axes>"
            ]
          },
          "metadata": {
            "needs_background": "light"
          },
          "output_type": "display_data"
        }
      ]
    },
    {
      "cell_type": "code",
      "metadata": {
        "id": "7DxBwg_xjvtQ"
      },
      "source": [
        "#evisar columna derecho propiedades y relizar un subplot, mismo eje 'y'"
      ],
      "execution_count": null,
      "outputs": []
    },
    {
      "cell_type": "code",
      "metadata": {
        "ExecuteTime": {
          "end_time": "2021-07-28T13:59:38.042583Z",
          "start_time": "2021-07-28T13:59:36.968582Z"
        },
        "id": "cl8j2vrTjvtR",
        "outputId": "2e511d98-a506-4710-dced-8798529cd995"
      },
      "source": [
        "plt.figure(figsize = (30,10))\n",
        "sns.catplot(x=\"estado_actual\", hue=\"derecho_propiedades_2\", col=\"vehiculos_2\",\n",
        "                data=df_g2, kind=\"count\",\n",
        "                height=4);"
      ],
      "execution_count": null,
      "outputs": [
        {
          "data": {
            "text/plain": [
              "<Figure size 2160x720 with 0 Axes>"
            ]
          },
          "metadata": {},
          "output_type": "display_data"
        },
        {
          "data": {
            "image/png": "[encoded data removed]",
            "text/plain": [
              "<Figure size 702.875x288 with 2 Axes>"
            ]
          },
          "metadata": {
            "needs_background": "light"
          },
          "output_type": "display_data"
        }
      ]
    },
    {
      "cell_type": "code",
      "metadata": {
        "ExecuteTime": {
          "end_time": "2021-07-28T13:51:19.960482Z",
          "start_time": "2021-07-28T13:51:19.891958Z"
        },
        "id": "2zxf9-mAjvtR",
        "outputId": "4c41b099-158e-47c0-e500-10de338d1795"
      },
      "source": [
        "(df_g2['derecho_propiedades_2'] == df_g2['propiedades_2']).sum()"
      ],
      "execution_count": null,
      "outputs": [
        {
          "data": {
            "text/plain": [
              "234759"
            ]
          },
          "execution_count": 118,
          "metadata": {},
          "output_type": "execute_result"
        }
      ]
    },
    {
      "cell_type": "code",
      "metadata": {
        "ExecuteTime": {
          "end_time": "2021-07-28T13:51:36.665514Z",
          "start_time": "2021-07-28T13:51:36.626510Z"
        },
        "id": "lVnX_GubjvtR",
        "outputId": "21de4e9c-f905-485a-92ed-77577dd12cbc"
      },
      "source": [
        "len(df_g2['derecho_propiedades_2'])"
      ],
      "execution_count": null,
      "outputs": [
        {
          "data": {
            "text/plain": [
              "234759"
            ]
          },
          "execution_count": 119,
          "metadata": {},
          "output_type": "execute_result"
        }
      ]
    },
    {
      "cell_type": "code",
      "metadata": {
        "id": "OEbCbnjljvtR"
      },
      "source": [
        ""
      ],
      "execution_count": null,
      "outputs": []
    },
    {
      "cell_type": "code",
      "metadata": {
        "id": "FDdGavobjvtR"
      },
      "source": [
        ""
      ],
      "execution_count": null,
      "outputs": []
    },
    {
      "cell_type": "code",
      "metadata": {
        "ExecuteTime": {
          "end_time": "2021-07-27T19:19:34.959530Z",
          "start_time": "2021-07-27T19:19:34.193663Z"
        },
        "scrolled": true,
        "id": "elmyqhlcjvtS",
        "outputId": "e7909dff-3761-4720-e6b6-d40d6533564e"
      },
      "source": [
        "1694.06 / 719.32"
      ],
      "execution_count": null,
      "outputs": [
        {
          "data": {
            "text/plain": [
              "2.3550853583940388"
            ]
          },
          "execution_count": 82,
          "metadata": {},
          "output_type": "execute_result"
        }
      ]
    },
    {
      "cell_type": "code",
      "metadata": {
        "ExecuteTime": {
          "end_time": "2021-07-28T10:43:17.396211Z",
          "start_time": "2021-07-28T10:43:17.199283Z"
        },
        "id": "uEZAhO3bjvtS",
        "outputId": "d8e5efc8-f44b-4d88-aa14-03992e1bc72c"
      },
      "source": [
        "df2.keys()\n"
      ],
      "execution_count": null,
      "outputs": [
        {
          "data": {
            "text/plain": [
              "Index(['puntero', 'monto_original', 'estado_actual', 'fuente_deuda',\n",
              "       'ins_descripcion', 'tct_descripcion', 'rea_descripcion',\n",
              "       'ultima_gestion', 'ultimo_pago', 'saldo_capital', 'interes',\n",
              "       'cargos_pendientes', 'segundo_periodo_salario', 'tipo',\n",
              "       'fecha_nacimiento', 'fecha_defuncion', 'lugarnacimiento', 'sexo',\n",
              "       'ubicacionelectoral', 'propiedades', 'vehiculos', 'retenciones_en_ppj',\n",
              "       'ultima_retencion_en_ppj', 'derecho_propiedades', 'pagos_normales',\n",
              "       'q_pagos_normales_ult_anio', 'pagos_retenciones',\n",
              "       'q_pagos_reten_ult_anio', 'cantidad_gestiones', 'year',\n",
              "       'ultimo_pago_binario', 'retenciones_binario', 'pagos_normales_binario'],\n",
              "      dtype='object')"
            ]
          },
          "execution_count": 87,
          "metadata": {},
          "output_type": "execute_result"
        }
      ]
    },
    {
      "cell_type": "code",
      "metadata": {
        "ExecuteTime": {
          "end_time": "2021-07-28T13:23:36.165962Z",
          "start_time": "2021-07-28T13:23:35.293435Z"
        },
        "scrolled": true,
        "id": "-NvY8dcujvtS",
        "outputId": "4a7eeb27-a8c1-4238-f431-dce7de3b33eb"
      },
      "source": [
        "pd.set_option('display.max_columns', None)\n",
        "df2.query(\"derecho_propiedades == 19\")"
      ],
      "execution_count": null,
      "outputs": [
        {
          "data": {
            "text/html": [
              "<div>\n",
              "<style scoped>\n",
              "    .dataframe tbody tr th:only-of-type {\n",
              "        vertical-align: middle;\n",
              "    }\n",
              "\n",
              "    .dataframe tbody tr th {\n",
              "        vertical-align: top;\n",
              "    }\n",
              "\n",
              "    .dataframe thead th {\n",
              "        text-align: right;\n",
              "    }\n",
              "</style>\n",
              "<table border=\"1\" class=\"dataframe\">\n",
              "  <thead>\n",
              "    <tr style=\"text-align: right;\">\n",
              "      <th></th>\n",
              "      <th>puntero</th>\n",
              "      <th>monto_original</th>\n",
              "      <th>estado_actual</th>\n",
              "      <th>fuente_deuda</th>\n",
              "      <th>ins_descripcion</th>\n",
              "      <th>tct_descripcion</th>\n",
              "      <th>rea_descripcion</th>\n",
              "      <th>ultima_gestion</th>\n",
              "      <th>ultimo_pago</th>\n",
              "      <th>saldo_capital</th>\n",
              "      <th>interes</th>\n",
              "      <th>cargos_pendientes</th>\n",
              "      <th>segundo_periodo_salario</th>\n",
              "      <th>tipo</th>\n",
              "      <th>fecha_nacimiento</th>\n",
              "      <th>fecha_defuncion</th>\n",
              "      <th>lugarnacimiento</th>\n",
              "      <th>sexo</th>\n",
              "      <th>ubicacionelectoral</th>\n",
              "      <th>propiedades</th>\n",
              "      <th>vehiculos</th>\n",
              "      <th>retenciones_en_ppj</th>\n",
              "      <th>ultima_retencion_en_ppj</th>\n",
              "      <th>derecho_propiedades</th>\n",
              "      <th>pagos_normales</th>\n",
              "      <th>q_pagos_normales_ult_anio</th>\n",
              "      <th>pagos_retenciones</th>\n",
              "      <th>q_pagos_reten_ult_anio</th>\n",
              "      <th>cantidad_gestiones</th>\n",
              "      <th>year</th>\n",
              "      <th>ultimo_pago_binario</th>\n",
              "      <th>retenciones_binario</th>\n",
              "      <th>pagos_normales_binario</th>\n",
              "    </tr>\n",
              "  </thead>\n",
              "  <tbody>\n",
              "    <tr>\n",
              "      <td>131155</td>\n",
              "      <td>131157</td>\n",
              "      <td>257.78</td>\n",
              "      <td>Inactiva</td>\n",
              "      <td>Tarjetas</td>\n",
              "      <td>CITI</td>\n",
              "      <td>Propia</td>\n",
              "      <td>Contacto sin Promesa</td>\n",
              "      <td>2021-04-06 16:17:00</td>\n",
              "      <td>NaT</td>\n",
              "      <td>257.78</td>\n",
              "      <td>46</td>\n",
              "      <td>690.89</td>\n",
              "      <td>Entre ₡ 275000 y ₡ 300000</td>\n",
              "      <td>PROPIO</td>\n",
              "      <td>1961-07-02</td>\n",
              "      <td>NaN</td>\n",
              "      <td>HOSPITAL CENTRAL CARTAGO</td>\n",
              "      <td>MASC</td>\n",
              "      <td>CARTAGO CENTRAL QUEBRADILLA</td>\n",
              "      <td>19</td>\n",
              "      <td>0</td>\n",
              "      <td>0.0</td>\n",
              "      <td>NaT</td>\n",
              "      <td>19</td>\n",
              "      <td>0.0</td>\n",
              "      <td>0</td>\n",
              "      <td>0.0</td>\n",
              "      <td>0</td>\n",
              "      <td>25</td>\n",
              "      <td>0</td>\n",
              "      <td>0</td>\n",
              "      <td>0</td>\n",
              "      <td>0</td>\n",
              "    </tr>\n",
              "  </tbody>\n",
              "</table>\n",
              "</div>"
            ],
            "text/plain": [
              "        puntero  monto_original estado_actual fuente_deuda ins_descripcion  \\\n",
              "131155   131157          257.78      Inactiva     Tarjetas            CITI   \n",
              "\n",
              "       tct_descripcion       rea_descripcion      ultima_gestion ultimo_pago  \\\n",
              "131155          Propia  Contacto sin Promesa 2021-04-06 16:17:00         NaT   \n",
              "\n",
              "        saldo_capital  interes  cargos_pendientes    segundo_periodo_salario  \\\n",
              "131155         257.78       46             690.89  Entre ₡ 275000 y ₡ 300000   \n",
              "\n",
              "          tipo fecha_nacimiento fecha_defuncion           lugarnacimiento  \\\n",
              "131155  PROPIO       1961-07-02             NaN  HOSPITAL CENTRAL CARTAGO   \n",
              "\n",
              "        sexo           ubicacionelectoral  propiedades  vehiculos  \\\n",
              "131155  MASC  CARTAGO CENTRAL QUEBRADILLA           19          0   \n",
              "\n",
              "        retenciones_en_ppj ultima_retencion_en_ppj  derecho_propiedades  \\\n",
              "131155                 0.0                     NaT                   19   \n",
              "\n",
              "        pagos_normales  q_pagos_normales_ult_anio  pagos_retenciones  \\\n",
              "131155             0.0                          0                0.0   \n",
              "\n",
              "        q_pagos_reten_ult_anio  cantidad_gestiones  year  ultimo_pago_binario  \\\n",
              "131155                       0                  25     0                    0   \n",
              "\n",
              "        retenciones_binario  pagos_normales_binario  \n",
              "131155                    0                       0  "
            ]
          },
          "execution_count": 91,
          "metadata": {},
          "output_type": "execute_result"
        }
      ]
    },
    {
      "cell_type": "code",
      "metadata": {
        "ExecuteTime": {
          "end_time": "2021-07-28T16:38:05.411743Z",
          "start_time": "2021-07-28T16:38:05.391736Z"
        },
        "id": "b6-FWbR7jvtS",
        "outputId": "cf379f80-59e1-415d-df1f-7092795711ea"
      },
      "source": [
        "df2.derecho_propiedades.value_counts()"
      ],
      "execution_count": null,
      "outputs": [
        {
          "data": {
            "text/plain": [
              "0     187750\n",
              "1      39551\n",
              "2       5552\n",
              "3       1286\n",
              "4        362\n",
              "5        108\n",
              "6         66\n",
              "7         31\n",
              "8         15\n",
              "9         11\n",
              "11         7\n",
              "10         6\n",
              "12         3\n",
              "25         3\n",
              "22         2\n",
              "13         2\n",
              "14         1\n",
              "15         1\n",
              "16         1\n",
              "19         1\n",
              "Name: derecho_propiedades, dtype: int64"
            ]
          },
          "execution_count": 157,
          "metadata": {},
          "output_type": "execute_result"
        }
      ]
    },
    {
      "cell_type": "code",
      "metadata": {
        "id": "x0Yw-VuEjvtT"
      },
      "source": [
        ""
      ],
      "execution_count": null,
      "outputs": []
    },
    {
      "cell_type": "markdown",
      "metadata": {
        "id": "K1iaH50SjvtT"
      },
      "source": [
        "### "
      ]
    },
    {
      "cell_type": "markdown",
      "metadata": {
        "id": "0OQMpVyWjvtT"
      },
      "source": [
        "### Objetivos del Capstone\n"
      ]
    },
    {
      "cell_type": "markdown",
      "metadata": {
        "id": "yN3JX31qjvtT"
      },
      "source": [
        "El dataset corresponde a Credit Manager  la temática se enfoca en Debt collection recovery.\n",
        "\n",
        "Dentro de los objetivos se cuenta con los siguientes:\n",
        "\n",
        "- Establecer un perfil del ciente pagador a través de segmentación (Unsupervised Learning). Esto nos permite equitar a los clientes.\n",
        "- Predecir el monto que un cliente puede llegar a pagar.\n",
        "- Predecir qué carteras con clientes van a tener mayor probabilidad de gestionar su pago.\n",
        "\n",
        "\n",
        "A ello, se ha visto pertinente aplicar normalización de los datos y One hot encoding a algunas variables. De igual manera, se debe hacer limpieza y manipulación previa de los datos. \n",
        "\n",
        "La empresa se encuentra en nueve países por lo que una vez que se pueda obtener un buen modelo, se pretende aplicar dicho modelo a los otros países. De igual manera, se pretende usar herramientas de visualización como Tableu. \n",
        "\n",
        "\n",
        "Finalmente, es importante mencionar que este apartado es un primer borrador del trabajo a realizar.   \n",
        "\n",
        "\n"
      ]
    },
    {
      "cell_type": "code",
      "metadata": {
        "ExecuteTime": {
          "end_time": "2021-07-28T13:32:41.860433Z",
          "start_time": "2021-07-28T13:32:41.566287Z"
        },
        "id": "ogmRFirSjvtT",
        "outputId": "76f3c81c-ca32-4614-b4d7-b64347821000"
      },
      "source": [
        "df2.head()"
      ],
      "execution_count": null,
      "outputs": [
        {
          "data": {
            "text/html": [
              "<div>\n",
              "<style scoped>\n",
              "    .dataframe tbody tr th:only-of-type {\n",
              "        vertical-align: middle;\n",
              "    }\n",
              "\n",
              "    .dataframe tbody tr th {\n",
              "        vertical-align: top;\n",
              "    }\n",
              "\n",
              "    .dataframe thead th {\n",
              "        text-align: right;\n",
              "    }\n",
              "</style>\n",
              "<table border=\"1\" class=\"dataframe\">\n",
              "  <thead>\n",
              "    <tr style=\"text-align: right;\">\n",
              "      <th></th>\n",
              "      <th>puntero</th>\n",
              "      <th>monto_original</th>\n",
              "      <th>estado_actual</th>\n",
              "      <th>fuente_deuda</th>\n",
              "      <th>ins_descripcion</th>\n",
              "      <th>tct_descripcion</th>\n",
              "      <th>rea_descripcion</th>\n",
              "      <th>ultima_gestion</th>\n",
              "      <th>ultimo_pago</th>\n",
              "      <th>saldo_capital</th>\n",
              "      <th>interes</th>\n",
              "      <th>cargos_pendientes</th>\n",
              "      <th>segundo_periodo_salario</th>\n",
              "      <th>tipo</th>\n",
              "      <th>fecha_nacimiento</th>\n",
              "      <th>fecha_defuncion</th>\n",
              "      <th>lugarnacimiento</th>\n",
              "      <th>sexo</th>\n",
              "      <th>ubicacionelectoral</th>\n",
              "      <th>propiedades</th>\n",
              "      <th>vehiculos</th>\n",
              "      <th>retenciones_en_ppj</th>\n",
              "      <th>ultima_retencion_en_ppj</th>\n",
              "      <th>derecho_propiedades</th>\n",
              "      <th>pagos_normales</th>\n",
              "      <th>q_pagos_normales_ult_anio</th>\n",
              "      <th>pagos_retenciones</th>\n",
              "      <th>q_pagos_reten_ult_anio</th>\n",
              "      <th>cantidad_gestiones</th>\n",
              "      <th>year</th>\n",
              "      <th>ultimo_pago_binario</th>\n",
              "      <th>retenciones_binario</th>\n",
              "      <th>pagos_normales_binario</th>\n",
              "    </tr>\n",
              "  </thead>\n",
              "  <tbody>\n",
              "    <tr>\n",
              "      <td>0</td>\n",
              "      <td>1</td>\n",
              "      <td>968.91</td>\n",
              "      <td>Inactiva</td>\n",
              "      <td>Tarjetas</td>\n",
              "      <td>CITI</td>\n",
              "      <td>Propia</td>\n",
              "      <td>Contacto indirecto</td>\n",
              "      <td>2021-06-03 12:53:00</td>\n",
              "      <td>NaT</td>\n",
              "      <td>968.91</td>\n",
              "      <td>19</td>\n",
              "      <td>2596.85</td>\n",
              "      <td>Entre ₡ 325000 y ₡ 350000</td>\n",
              "      <td>PRIVADO</td>\n",
              "      <td>1974-10-14</td>\n",
              "      <td>NaN</td>\n",
              "      <td>HOSPITAL CENTRAL SAN JOSE</td>\n",
              "      <td>MASC</td>\n",
              "      <td>SAN JOSE GOICOECHEA CUADROS</td>\n",
              "      <td>0</td>\n",
              "      <td>0</td>\n",
              "      <td>0.0</td>\n",
              "      <td>NaT</td>\n",
              "      <td>0</td>\n",
              "      <td>0.0</td>\n",
              "      <td>0</td>\n",
              "      <td>0.0</td>\n",
              "      <td>0</td>\n",
              "      <td>33</td>\n",
              "      <td>0</td>\n",
              "      <td>0</td>\n",
              "      <td>0</td>\n",
              "      <td>0</td>\n",
              "    </tr>\n",
              "    <tr>\n",
              "      <td>1</td>\n",
              "      <td>2</td>\n",
              "      <td>364.54</td>\n",
              "      <td>Inactiva</td>\n",
              "      <td>Sucredito</td>\n",
              "      <td>SERVIVALORES</td>\n",
              "      <td>Propia</td>\n",
              "      <td>Contacto sin Promesa</td>\n",
              "      <td>2021-05-18 15:26:00</td>\n",
              "      <td>NaT</td>\n",
              "      <td>364.54</td>\n",
              "      <td>0</td>\n",
              "      <td>1689.66</td>\n",
              "      <td>Entre ₡ 475000 y ₡ 500000</td>\n",
              "      <td>PRIVADO</td>\n",
              "      <td>1989-04-11</td>\n",
              "      <td>NaN</td>\n",
              "      <td>SAN ISIDRO PEREZ ZELEDON SAN</td>\n",
              "      <td>MASC</td>\n",
              "      <td>PUNTARENAS BUENOS AIRES BUENOS AIRES</td>\n",
              "      <td>0</td>\n",
              "      <td>0</td>\n",
              "      <td>0.0</td>\n",
              "      <td>NaT</td>\n",
              "      <td>0</td>\n",
              "      <td>0.0</td>\n",
              "      <td>0</td>\n",
              "      <td>0.0</td>\n",
              "      <td>0</td>\n",
              "      <td>29</td>\n",
              "      <td>0</td>\n",
              "      <td>0</td>\n",
              "      <td>0</td>\n",
              "      <td>0</td>\n",
              "    </tr>\n",
              "    <tr>\n",
              "      <td>2</td>\n",
              "      <td>3</td>\n",
              "      <td>688.49</td>\n",
              "      <td>Inactiva</td>\n",
              "      <td>Tarjetas</td>\n",
              "      <td>CITI</td>\n",
              "      <td>Propia</td>\n",
              "      <td>Contacto indirecto</td>\n",
              "      <td>2021-05-24 16:30:00</td>\n",
              "      <td>NaT</td>\n",
              "      <td>688.48</td>\n",
              "      <td>82</td>\n",
              "      <td>1845.26</td>\n",
              "      <td>Entre ₡ 475000 y ₡ 500000</td>\n",
              "      <td>PRIVADO</td>\n",
              "      <td>1980-09-15</td>\n",
              "      <td>NaN</td>\n",
              "      <td>HOSPITAL CENTRAL SAN JOSE</td>\n",
              "      <td>FEM</td>\n",
              "      <td>SAN JOSE DESAMPARADOS SAN JERONIMO</td>\n",
              "      <td>1</td>\n",
              "      <td>0</td>\n",
              "      <td>0.0</td>\n",
              "      <td>NaT</td>\n",
              "      <td>1</td>\n",
              "      <td>0.0</td>\n",
              "      <td>0</td>\n",
              "      <td>0.0</td>\n",
              "      <td>0</td>\n",
              "      <td>16</td>\n",
              "      <td>0</td>\n",
              "      <td>0</td>\n",
              "      <td>0</td>\n",
              "      <td>0</td>\n",
              "    </tr>\n",
              "    <tr>\n",
              "      <td>3</td>\n",
              "      <td>4</td>\n",
              "      <td>830.69</td>\n",
              "      <td>Inactiva</td>\n",
              "      <td>Tarjetas</td>\n",
              "      <td>CITI</td>\n",
              "      <td>Propia</td>\n",
              "      <td>Contacto indirecto</td>\n",
              "      <td>2020-10-22 10:38:00</td>\n",
              "      <td>NaT</td>\n",
              "      <td>830.69</td>\n",
              "      <td>27</td>\n",
              "      <td>2226.38</td>\n",
              "      <td>Entre ₡ 75000 y ₡ 100000</td>\n",
              "      <td>PRIVADO</td>\n",
              "      <td>1988-04-29</td>\n",
              "      <td>NaN</td>\n",
              "      <td>CARMEN CENTRAL SAN JOSE</td>\n",
              "      <td>MASC</td>\n",
              "      <td>CARTAGO EL GUARCO EL TEJAR</td>\n",
              "      <td>0</td>\n",
              "      <td>0</td>\n",
              "      <td>0.0</td>\n",
              "      <td>NaT</td>\n",
              "      <td>0</td>\n",
              "      <td>0.0</td>\n",
              "      <td>0</td>\n",
              "      <td>0.0</td>\n",
              "      <td>0</td>\n",
              "      <td>10</td>\n",
              "      <td>0</td>\n",
              "      <td>0</td>\n",
              "      <td>0</td>\n",
              "      <td>0</td>\n",
              "    </tr>\n",
              "    <tr>\n",
              "      <td>4</td>\n",
              "      <td>5</td>\n",
              "      <td>1386.95</td>\n",
              "      <td>Inactiva</td>\n",
              "      <td>Tarjetas</td>\n",
              "      <td>A-PROMERICA</td>\n",
              "      <td>Propia</td>\n",
              "      <td>Contacto sin Promesa</td>\n",
              "      <td>2021-06-10 11:28:00</td>\n",
              "      <td>NaT</td>\n",
              "      <td>1386.95</td>\n",
              "      <td>78</td>\n",
              "      <td>2674.74</td>\n",
              "      <td>Entre ₡ 650000 y ₡ 675000</td>\n",
              "      <td>PRIVADO</td>\n",
              "      <td>1976-04-06</td>\n",
              "      <td>NaN</td>\n",
              "      <td>MANAGUA NICARAGUA</td>\n",
              "      <td>MASC</td>\n",
              "      <td>SAN JOSE CENTRAL LA CARPIO</td>\n",
              "      <td>0</td>\n",
              "      <td>0</td>\n",
              "      <td>0.0</td>\n",
              "      <td>NaT</td>\n",
              "      <td>0</td>\n",
              "      <td>0.0</td>\n",
              "      <td>0</td>\n",
              "      <td>0.0</td>\n",
              "      <td>0</td>\n",
              "      <td>72</td>\n",
              "      <td>0</td>\n",
              "      <td>0</td>\n",
              "      <td>0</td>\n",
              "      <td>0</td>\n",
              "    </tr>\n",
              "  </tbody>\n",
              "</table>\n",
              "</div>"
            ],
            "text/plain": [
              "   puntero  monto_original estado_actual fuente_deuda ins_descripcion  \\\n",
              "0        1          968.91      Inactiva     Tarjetas            CITI   \n",
              "1        2          364.54      Inactiva    Sucredito    SERVIVALORES   \n",
              "2        3          688.49      Inactiva     Tarjetas            CITI   \n",
              "3        4          830.69      Inactiva     Tarjetas            CITI   \n",
              "4        5         1386.95      Inactiva     Tarjetas     A-PROMERICA   \n",
              "\n",
              "  tct_descripcion       rea_descripcion      ultima_gestion ultimo_pago  \\\n",
              "0          Propia    Contacto indirecto 2021-06-03 12:53:00         NaT   \n",
              "1          Propia  Contacto sin Promesa 2021-05-18 15:26:00         NaT   \n",
              "2          Propia    Contacto indirecto 2021-05-24 16:30:00         NaT   \n",
              "3          Propia    Contacto indirecto 2020-10-22 10:38:00         NaT   \n",
              "4          Propia  Contacto sin Promesa 2021-06-10 11:28:00         NaT   \n",
              "\n",
              "   saldo_capital  interes  cargos_pendientes    segundo_periodo_salario  \\\n",
              "0         968.91       19            2596.85  Entre ₡ 325000 y ₡ 350000   \n",
              "1         364.54        0            1689.66  Entre ₡ 475000 y ₡ 500000   \n",
              "2         688.48       82            1845.26  Entre ₡ 475000 y ₡ 500000   \n",
              "3         830.69       27            2226.38   Entre ₡ 75000 y ₡ 100000   \n",
              "4        1386.95       78            2674.74  Entre ₡ 650000 y ₡ 675000   \n",
              "\n",
              "      tipo fecha_nacimiento fecha_defuncion               lugarnacimiento  \\\n",
              "0  PRIVADO       1974-10-14             NaN     HOSPITAL CENTRAL SAN JOSE   \n",
              "1  PRIVADO       1989-04-11             NaN  SAN ISIDRO PEREZ ZELEDON SAN   \n",
              "2  PRIVADO       1980-09-15             NaN     HOSPITAL CENTRAL SAN JOSE   \n",
              "3  PRIVADO       1988-04-29             NaN       CARMEN CENTRAL SAN JOSE   \n",
              "4  PRIVADO       1976-04-06             NaN             MANAGUA NICARAGUA   \n",
              "\n",
              "   sexo                    ubicacionelectoral  propiedades  vehiculos  \\\n",
              "0  MASC           SAN JOSE GOICOECHEA CUADROS            0          0   \n",
              "1  MASC  PUNTARENAS BUENOS AIRES BUENOS AIRES            0          0   \n",
              "2   FEM    SAN JOSE DESAMPARADOS SAN JERONIMO            1          0   \n",
              "3  MASC            CARTAGO EL GUARCO EL TEJAR            0          0   \n",
              "4  MASC            SAN JOSE CENTRAL LA CARPIO            0          0   \n",
              "\n",
              "   retenciones_en_ppj ultima_retencion_en_ppj  derecho_propiedades  \\\n",
              "0                 0.0                     NaT                    0   \n",
              "1                 0.0                     NaT                    0   \n",
              "2                 0.0                     NaT                    1   \n",
              "3                 0.0                     NaT                    0   \n",
              "4                 0.0                     NaT                    0   \n",
              "\n",
              "   pagos_normales  q_pagos_normales_ult_anio  pagos_retenciones  \\\n",
              "0             0.0                          0                0.0   \n",
              "1             0.0                          0                0.0   \n",
              "2             0.0                          0                0.0   \n",
              "3             0.0                          0                0.0   \n",
              "4             0.0                          0                0.0   \n",
              "\n",
              "   q_pagos_reten_ult_anio  cantidad_gestiones  year  ultimo_pago_binario  \\\n",
              "0                       0                  33     0                    0   \n",
              "1                       0                  29     0                    0   \n",
              "2                       0                  16     0                    0   \n",
              "3                       0                  10     0                    0   \n",
              "4                       0                  72     0                    0   \n",
              "\n",
              "   retenciones_binario  pagos_normales_binario  \n",
              "0                    0                       0  \n",
              "1                    0                       0  \n",
              "2                    0                       0  \n",
              "3                    0                       0  \n",
              "4                    0                       0  "
            ]
          },
          "execution_count": 92,
          "metadata": {},
          "output_type": "execute_result"
        }
      ]
    },
    {
      "cell_type": "markdown",
      "metadata": {
        "id": "mTUIw8ltjvtT"
      },
      "source": [
        "Escalar\n",
        "PCA\n",
        "\n",
        "#hacer analisis sin PCA, que tan bien lo hace mi modelo\n",
        "\n",
        "PCA al empezar, luego de quitar columnas \n",
        "\n",
        "\n",
        "\n",
        "Modelos:\n",
        "    - probar todos, hacer matriz de confusion\n",
        "    - hacer cross validation\n",
        "    - ver accuracy\n",
        "    - Ver grid search \n",
        "si esta listo antes de reunion enviar correo\n",
        "\n",
        "paquete en python muestra desbalanceada\n",
        "\n",
        "SMOTE\n",
        "ver si ampliar muestra (oversampling o undersampling)\n",
        "\n",
        "red neuronal por amor al arte (muestra )"
      ]
    },
    {
      "cell_type": "markdown",
      "metadata": {
        "id": "_3QYqUn2jvtU"
      },
      "source": [
        "### Miercoles, 25 de agosto / 18h"
      ]
    }
  ]
}